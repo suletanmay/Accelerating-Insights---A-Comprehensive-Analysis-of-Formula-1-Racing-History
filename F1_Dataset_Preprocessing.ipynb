{
 "cells": [
  {
   "cell_type": "markdown",
   "id": "2e52062d",
   "metadata": {
    "papermill": {
     "duration": 0.033026,
     "end_time": "2024-02-17T21:58:05.895533",
     "exception": false,
     "start_time": "2024-02-17T21:58:05.862507",
     "status": "completed"
    },
    "tags": []
   },
   "source": [
    "# Initial Data Cleaning"
   ]
  },
  {
   "cell_type": "code",
   "execution_count": 1,
   "id": "56b628cd",
   "metadata": {
    "execution": {
     "iopub.execute_input": "2024-02-17T21:58:05.960130Z",
     "iopub.status.busy": "2024-02-17T21:58:05.959480Z",
     "iopub.status.idle": "2024-02-17T21:58:06.940373Z",
     "shell.execute_reply": "2024-02-17T21:58:06.938810Z"
    },
    "papermill": {
     "duration": 1.015635,
     "end_time": "2024-02-17T21:58:06.942916",
     "exception": false,
     "start_time": "2024-02-17T21:58:05.927281",
     "status": "completed"
    },
    "tags": []
   },
   "outputs": [
    {
     "name": "stdout",
     "output_type": "stream",
     "text": [
      "/kaggle/input/formula-1-world-championship-1950-2020/races.csv\n",
      "/kaggle/input/formula-1-world-championship-1950-2020/constructor_results.csv\n",
      "/kaggle/input/formula-1-world-championship-1950-2020/drivers.csv\n",
      "/kaggle/input/formula-1-world-championship-1950-2020/constructors.csv\n",
      "/kaggle/input/formula-1-world-championship-1950-2020/lap_times.csv\n",
      "/kaggle/input/formula-1-world-championship-1950-2020/status.csv\n",
      "/kaggle/input/formula-1-world-championship-1950-2020/driver_standings.csv\n",
      "/kaggle/input/formula-1-world-championship-1950-2020/seasons.csv\n",
      "/kaggle/input/formula-1-world-championship-1950-2020/pit_stops.csv\n",
      "/kaggle/input/formula-1-world-championship-1950-2020/sprint_results.csv\n",
      "/kaggle/input/formula-1-world-championship-1950-2020/constructor_standings.csv\n",
      "/kaggle/input/formula-1-world-championship-1950-2020/results.csv\n",
      "/kaggle/input/formula-1-world-championship-1950-2020/circuits.csv\n",
      "/kaggle/input/formula-1-world-championship-1950-2020/qualifying.csv\n"
     ]
    }
   ],
   "source": [
    "# This Python 3 environment comes with many helpful analytics libraries installed\n",
    "# It is defined by the kaggle/python Docker image: https://github.com/kaggle/docker-python\n",
    "# For example, here's several helpful packages to load\n",
    "\n",
    "import numpy as np # linear algebra\n",
    "import pandas as pd # data processing, CSV file I/O (e.g. pd.read_csv)\n",
    "\n",
    "# Input data files are available in the read-only \"../input/\" directory\n",
    "# For example, running this (by clicking run or pressing Shift+Enter) will list all files under the input directory\n",
    "\n",
    "import os\n",
    "for dirname, _, filenames in os.walk('/kaggle/input'):\n",
    "    for filename in filenames:\n",
    "        print(os.path.join(dirname, filename))\n",
    "\n",
    "# You can write up to 20GB to the current directory (/kaggle/working/) that gets preserved as output when you create a version using \"Save & Run All\" \n",
    "# You can also write temporary files to /kaggle/temp/, but they won't be saved outside of the current session"
   ]
  },
  {
   "cell_type": "code",
   "execution_count": 2,
   "id": "2ed7ad24",
   "metadata": {
    "execution": {
     "iopub.execute_input": "2024-02-17T21:58:07.006292Z",
     "iopub.status.busy": "2024-02-17T21:58:07.005429Z",
     "iopub.status.idle": "2024-02-17T21:58:07.639300Z",
     "shell.execute_reply": "2024-02-17T21:58:07.637751Z"
    },
    "papermill": {
     "duration": 0.667341,
     "end_time": "2024-02-17T21:58:07.641766",
     "exception": false,
     "start_time": "2024-02-17T21:58:06.974425",
     "status": "completed"
    },
    "tags": []
   },
   "outputs": [],
   "source": [
    "# Load each file into a dataframe\n",
    "df_list = []\n",
    "for dirname, _, filenames in os.walk('/kaggle/input'):\n",
    "    for filename in filenames:\n",
    "        if filename.endswith('.csv'):  # Assuming the files are CSV files\n",
    "            df = pd.read_csv(os.path.join(dirname, filename))\n",
    "            df_list.append(df)\n",
    "\n",
    "# Now df_list contains all 14 files as dataframes\n"
   ]
  },
  {
   "cell_type": "code",
   "execution_count": 3,
   "id": "5c8d23e6",
   "metadata": {
    "execution": {
     "iopub.execute_input": "2024-02-17T21:58:07.703786Z",
     "iopub.status.busy": "2024-02-17T21:58:07.703364Z",
     "iopub.status.idle": "2024-02-17T21:58:08.087819Z",
     "shell.execute_reply": "2024-02-17T21:58:08.086746Z"
    },
    "papermill": {
     "duration": 0.417784,
     "end_time": "2024-02-17T21:58:08.090054",
     "exception": false,
     "start_time": "2024-02-17T21:58:07.672270",
     "status": "completed"
    },
    "tags": []
   },
   "outputs": [
    {
     "name": "stdout",
     "output_type": "stream",
     "text": [
      "/kaggle/input/formula-1-world-championship-1950-2020/races.csv\n",
      "/kaggle/input/formula-1-world-championship-1950-2020/constructor_results.csv\n",
      "/kaggle/input/formula-1-world-championship-1950-2020/drivers.csv\n",
      "/kaggle/input/formula-1-world-championship-1950-2020/constructors.csv\n",
      "/kaggle/input/formula-1-world-championship-1950-2020/lap_times.csv\n",
      "/kaggle/input/formula-1-world-championship-1950-2020/status.csv\n",
      "/kaggle/input/formula-1-world-championship-1950-2020/driver_standings.csv\n",
      "/kaggle/input/formula-1-world-championship-1950-2020/seasons.csv\n",
      "/kaggle/input/formula-1-world-championship-1950-2020/pit_stops.csv\n",
      "/kaggle/input/formula-1-world-championship-1950-2020/sprint_results.csv\n",
      "/kaggle/input/formula-1-world-championship-1950-2020/constructor_standings.csv\n",
      "/kaggle/input/formula-1-world-championship-1950-2020/results.csv\n",
      "/kaggle/input/formula-1-world-championship-1950-2020/circuits.csv\n",
      "/kaggle/input/formula-1-world-championship-1950-2020/qualifying.csv\n"
     ]
    }
   ],
   "source": [
    "import pandas as pd\n",
    "import os\n",
    "\n",
    "# List all files in the input directory\n",
    "for dirname, _, filenames in os.walk('/kaggle/input'):\n",
    "    for filename in filenames:\n",
    "        print(os.path.join(dirname, filename))\n",
    "\n",
    "# Load each file into a corresponding dataframe\n",
    "df1 = None\n",
    "df2 = None\n",
    "df3 = None\n",
    "df4 = None\n",
    "df5 = None\n",
    "df6 = None\n",
    "df7 = None\n",
    "df8 = None\n",
    "df9 = None\n",
    "df10 = None\n",
    "df11 = None\n",
    "df12 = None\n",
    "df13 = None\n",
    "df14 = None\n",
    "\n",
    "for dirname, _, filenames in os.walk('/kaggle/input'):\n",
    "    for filename in filenames:\n",
    "        if filename.endswith('.csv'):  # Assuming the files are CSV files\n",
    "            df = pd.read_csv(os.path.join(dirname, filename))\n",
    "            if filename == 'circuits.csv':\n",
    "                df1 = df\n",
    "            elif filename == 'constructor_results.csv':\n",
    "                df2 = df\n",
    "            elif filename == 'constructor_standings.csv':\n",
    "                df3 = df\n",
    "            elif filename == 'constructors.csv':\n",
    "                df4 = df\n",
    "            elif filename == 'driver_standings.csv':\n",
    "                df5 = df\n",
    "            elif filename == 'drivers.csv':\n",
    "                df6 = df\n",
    "            elif filename == 'lap_times.csv':\n",
    "                df7 = df\n",
    "            elif filename == 'pit_stops.csv':\n",
    "                df8 = df\n",
    "            elif filename == 'qualifying.csv':\n",
    "                df9 = df\n",
    "            elif filename == 'races.csv':\n",
    "                df10 = df\n",
    "            elif filename == 'results.csv':\n",
    "                df11 = df\n",
    "            elif filename == 'seasons.csv':\n",
    "                df12 = df\n",
    "            elif filename == 'sprint_results.csv':\n",
    "                df13 = df\n",
    "            elif filename == 'status.csv':\n",
    "                df14 = df\n",
    "\n",
    "# Now df1, df2, ..., df14 contain the data from each file in the dataset\n"
   ]
  },
  {
   "cell_type": "code",
   "execution_count": 4,
   "id": "b92790fd",
   "metadata": {
    "execution": {
     "iopub.execute_input": "2024-02-17T21:58:08.153160Z",
     "iopub.status.busy": "2024-02-17T21:58:08.152489Z",
     "iopub.status.idle": "2024-02-17T21:58:08.157039Z",
     "shell.execute_reply": "2024-02-17T21:58:08.156330Z"
    },
    "papermill": {
     "duration": 0.038749,
     "end_time": "2024-02-17T21:58:08.159361",
     "exception": false,
     "start_time": "2024-02-17T21:58:08.120612",
     "status": "completed"
    },
    "tags": []
   },
   "outputs": [],
   "source": [
    "import matplotlib.pyplot as plt\n",
    "%matplotlib inline"
   ]
  },
  {
   "cell_type": "code",
   "execution_count": 5,
   "id": "f5e7b6d6",
   "metadata": {
    "execution": {
     "iopub.execute_input": "2024-02-17T21:58:08.221063Z",
     "iopub.status.busy": "2024-02-17T21:58:08.220695Z",
     "iopub.status.idle": "2024-02-17T21:58:08.225797Z",
     "shell.execute_reply": "2024-02-17T21:58:08.224071Z"
    },
    "papermill": {
     "duration": 0.038793,
     "end_time": "2024-02-17T21:58:08.228233",
     "exception": false,
     "start_time": "2024-02-17T21:58:08.189440",
     "status": "completed"
    },
    "tags": []
   },
   "outputs": [],
   "source": [
    "#File 1) circuits.csv"
   ]
  },
  {
   "cell_type": "code",
   "execution_count": 6,
   "id": "cd9a53f8",
   "metadata": {
    "execution": {
     "iopub.execute_input": "2024-02-17T21:58:08.347874Z",
     "iopub.status.busy": "2024-02-17T21:58:08.347575Z",
     "iopub.status.idle": "2024-02-17T21:58:08.380474Z",
     "shell.execute_reply": "2024-02-17T21:58:08.378893Z"
    },
    "papermill": {
     "duration": 0.067374,
     "end_time": "2024-02-17T21:58:08.383432",
     "exception": false,
     "start_time": "2024-02-17T21:58:08.316058",
     "status": "completed"
    },
    "tags": []
   },
   "outputs": [
    {
     "name": "stdout",
     "output_type": "stream",
     "text": [
      "<class 'pandas.core.frame.DataFrame'>\n",
      "RangeIndex: 77 entries, 0 to 76\n",
      "Data columns (total 9 columns):\n",
      " #   Column      Non-Null Count  Dtype  \n",
      "---  ------      --------------  -----  \n",
      " 0   circuitId   77 non-null     int64  \n",
      " 1   circuitRef  77 non-null     object \n",
      " 2   name        77 non-null     object \n",
      " 3   location    77 non-null     object \n",
      " 4   country     77 non-null     object \n",
      " 5   lat         77 non-null     float64\n",
      " 6   lng         77 non-null     float64\n",
      " 7   alt         77 non-null     object \n",
      " 8   url         77 non-null     object \n",
      "dtypes: float64(2), int64(1), object(6)\n",
      "memory usage: 5.5+ KB\n"
     ]
    }
   ],
   "source": [
    "df1.info()"
   ]
  },
  {
   "cell_type": "code",
   "execution_count": 7,
   "id": "2aa6f130",
   "metadata": {
    "execution": {
     "iopub.execute_input": "2024-02-17T21:58:08.445841Z",
     "iopub.status.busy": "2024-02-17T21:58:08.445472Z",
     "iopub.status.idle": "2024-02-17T21:58:08.450206Z",
     "shell.execute_reply": "2024-02-17T21:58:08.448532Z"
    },
    "papermill": {
     "duration": 0.03845,
     "end_time": "2024-02-17T21:58:08.452690",
     "exception": false,
     "start_time": "2024-02-17T21:58:08.414240",
     "status": "completed"
    },
    "tags": []
   },
   "outputs": [],
   "source": [
    "#Observations:\n",
    "#There have been 77 Formula 1 circuits till date\n",
    "#No missing values observed"
   ]
  },
  {
   "cell_type": "code",
   "execution_count": 8,
   "id": "49a15f80",
   "metadata": {
    "execution": {
     "iopub.execute_input": "2024-02-17T21:58:08.515300Z",
     "iopub.status.busy": "2024-02-17T21:58:08.514652Z",
     "iopub.status.idle": "2024-02-17T21:58:08.534701Z",
     "shell.execute_reply": "2024-02-17T21:58:08.533351Z"
    },
    "papermill": {
     "duration": 0.053991,
     "end_time": "2024-02-17T21:58:08.537179",
     "exception": false,
     "start_time": "2024-02-17T21:58:08.483188",
     "status": "completed"
    },
    "tags": []
   },
   "outputs": [
    {
     "data": {
      "text/html": [
       "<div>\n",
       "<style scoped>\n",
       "    .dataframe tbody tr th:only-of-type {\n",
       "        vertical-align: middle;\n",
       "    }\n",
       "\n",
       "    .dataframe tbody tr th {\n",
       "        vertical-align: top;\n",
       "    }\n",
       "\n",
       "    .dataframe thead th {\n",
       "        text-align: right;\n",
       "    }\n",
       "</style>\n",
       "<table border=\"1\" class=\"dataframe\">\n",
       "  <thead>\n",
       "    <tr style=\"text-align: right;\">\n",
       "      <th></th>\n",
       "      <th>circuitId</th>\n",
       "      <th>circuitRef</th>\n",
       "      <th>name</th>\n",
       "      <th>location</th>\n",
       "      <th>country</th>\n",
       "      <th>lat</th>\n",
       "      <th>lng</th>\n",
       "      <th>alt</th>\n",
       "      <th>url</th>\n",
       "    </tr>\n",
       "  </thead>\n",
       "  <tbody>\n",
       "    <tr>\n",
       "      <th>0</th>\n",
       "      <td>1</td>\n",
       "      <td>albert_park</td>\n",
       "      <td>Albert Park Grand Prix Circuit</td>\n",
       "      <td>Melbourne</td>\n",
       "      <td>Australia</td>\n",
       "      <td>-37.84970</td>\n",
       "      <td>144.968</td>\n",
       "      <td>10</td>\n",
       "      <td>http://en.wikipedia.org/wiki/Melbourne_Grand_P...</td>\n",
       "    </tr>\n",
       "    <tr>\n",
       "      <th>1</th>\n",
       "      <td>2</td>\n",
       "      <td>sepang</td>\n",
       "      <td>Sepang International Circuit</td>\n",
       "      <td>Kuala Lumpur</td>\n",
       "      <td>Malaysia</td>\n",
       "      <td>2.76083</td>\n",
       "      <td>101.738</td>\n",
       "      <td>18</td>\n",
       "      <td>http://en.wikipedia.org/wiki/Sepang_Internatio...</td>\n",
       "    </tr>\n",
       "  </tbody>\n",
       "</table>\n",
       "</div>"
      ],
      "text/plain": [
       "   circuitId   circuitRef                            name      location  \\\n",
       "0          1  albert_park  Albert Park Grand Prix Circuit     Melbourne   \n",
       "1          2       sepang    Sepang International Circuit  Kuala Lumpur   \n",
       "\n",
       "     country       lat      lng alt  \\\n",
       "0  Australia -37.84970  144.968  10   \n",
       "1   Malaysia   2.76083  101.738  18   \n",
       "\n",
       "                                                 url  \n",
       "0  http://en.wikipedia.org/wiki/Melbourne_Grand_P...  \n",
       "1  http://en.wikipedia.org/wiki/Sepang_Internatio...  "
      ]
     },
     "execution_count": 8,
     "metadata": {},
     "output_type": "execute_result"
    }
   ],
   "source": [
    "df1.head(2)"
   ]
  },
  {
   "cell_type": "code",
   "execution_count": 9,
   "id": "32f73dfd",
   "metadata": {
    "execution": {
     "iopub.execute_input": "2024-02-17T21:58:08.599153Z",
     "iopub.status.busy": "2024-02-17T21:58:08.598820Z",
     "iopub.status.idle": "2024-02-17T21:58:08.607941Z",
     "shell.execute_reply": "2024-02-17T21:58:08.607051Z"
    },
    "papermill": {
     "duration": 0.04281,
     "end_time": "2024-02-17T21:58:08.610228",
     "exception": false,
     "start_time": "2024-02-17T21:58:08.567418",
     "status": "completed"
    },
    "tags": []
   },
   "outputs": [],
   "source": [
    "#Dropping unnecessary columns\n",
    "\n",
    "df1.drop(columns=['circuitRef', 'lat', 'lng', 'alt', 'url'], inplace=True)"
   ]
  },
  {
   "cell_type": "code",
   "execution_count": 10,
   "id": "2c9dd5e9",
   "metadata": {
    "execution": {
     "iopub.execute_input": "2024-02-17T21:58:08.672949Z",
     "iopub.status.busy": "2024-02-17T21:58:08.672555Z",
     "iopub.status.idle": "2024-02-17T21:58:08.681625Z",
     "shell.execute_reply": "2024-02-17T21:58:08.680898Z"
    },
    "papermill": {
     "duration": 0.042555,
     "end_time": "2024-02-17T21:58:08.683372",
     "exception": false,
     "start_time": "2024-02-17T21:58:08.640817",
     "status": "completed"
    },
    "tags": []
   },
   "outputs": [
    {
     "data": {
      "text/html": [
       "<div>\n",
       "<style scoped>\n",
       "    .dataframe tbody tr th:only-of-type {\n",
       "        vertical-align: middle;\n",
       "    }\n",
       "\n",
       "    .dataframe tbody tr th {\n",
       "        vertical-align: top;\n",
       "    }\n",
       "\n",
       "    .dataframe thead th {\n",
       "        text-align: right;\n",
       "    }\n",
       "</style>\n",
       "<table border=\"1\" class=\"dataframe\">\n",
       "  <thead>\n",
       "    <tr style=\"text-align: right;\">\n",
       "      <th></th>\n",
       "      <th>circuitId</th>\n",
       "      <th>name</th>\n",
       "      <th>location</th>\n",
       "      <th>country</th>\n",
       "    </tr>\n",
       "  </thead>\n",
       "  <tbody>\n",
       "    <tr>\n",
       "      <th>0</th>\n",
       "      <td>1</td>\n",
       "      <td>Albert Park Grand Prix Circuit</td>\n",
       "      <td>Melbourne</td>\n",
       "      <td>Australia</td>\n",
       "    </tr>\n",
       "    <tr>\n",
       "      <th>1</th>\n",
       "      <td>2</td>\n",
       "      <td>Sepang International Circuit</td>\n",
       "      <td>Kuala Lumpur</td>\n",
       "      <td>Malaysia</td>\n",
       "    </tr>\n",
       "  </tbody>\n",
       "</table>\n",
       "</div>"
      ],
      "text/plain": [
       "   circuitId                            name      location    country\n",
       "0          1  Albert Park Grand Prix Circuit     Melbourne  Australia\n",
       "1          2    Sepang International Circuit  Kuala Lumpur   Malaysia"
      ]
     },
     "execution_count": 10,
     "metadata": {},
     "output_type": "execute_result"
    }
   ],
   "source": [
    "df1.head(2)"
   ]
  },
  {
   "cell_type": "code",
   "execution_count": 11,
   "id": "aedcf718",
   "metadata": {
    "execution": {
     "iopub.execute_input": "2024-02-17T21:58:08.747992Z",
     "iopub.status.busy": "2024-02-17T21:58:08.747636Z",
     "iopub.status.idle": "2024-02-17T21:58:08.759818Z",
     "shell.execute_reply": "2024-02-17T21:58:08.758260Z"
    },
    "papermill": {
     "duration": 0.047781,
     "end_time": "2024-02-17T21:58:08.762357",
     "exception": false,
     "start_time": "2024-02-17T21:58:08.714576",
     "status": "completed"
    },
    "tags": []
   },
   "outputs": [
    {
     "data": {
      "text/html": [
       "<div>\n",
       "<style scoped>\n",
       "    .dataframe tbody tr th:only-of-type {\n",
       "        vertical-align: middle;\n",
       "    }\n",
       "\n",
       "    .dataframe tbody tr th {\n",
       "        vertical-align: top;\n",
       "    }\n",
       "\n",
       "    .dataframe thead th {\n",
       "        text-align: right;\n",
       "    }\n",
       "</style>\n",
       "<table border=\"1\" class=\"dataframe\">\n",
       "  <thead>\n",
       "    <tr style=\"text-align: right;\">\n",
       "      <th></th>\n",
       "      <th>circuitId</th>\n",
       "      <th>circuit_name</th>\n",
       "      <th>location</th>\n",
       "      <th>country</th>\n",
       "    </tr>\n",
       "  </thead>\n",
       "  <tbody>\n",
       "    <tr>\n",
       "      <th>0</th>\n",
       "      <td>1</td>\n",
       "      <td>Albert Park Grand Prix Circuit</td>\n",
       "      <td>Melbourne</td>\n",
       "      <td>Australia</td>\n",
       "    </tr>\n",
       "    <tr>\n",
       "      <th>1</th>\n",
       "      <td>2</td>\n",
       "      <td>Sepang International Circuit</td>\n",
       "      <td>Kuala Lumpur</td>\n",
       "      <td>Malaysia</td>\n",
       "    </tr>\n",
       "    <tr>\n",
       "      <th>2</th>\n",
       "      <td>3</td>\n",
       "      <td>Bahrain International Circuit</td>\n",
       "      <td>Sakhir</td>\n",
       "      <td>Bahrain</td>\n",
       "    </tr>\n",
       "    <tr>\n",
       "      <th>3</th>\n",
       "      <td>4</td>\n",
       "      <td>Circuit de Barcelona-Catalunya</td>\n",
       "      <td>Montmeló</td>\n",
       "      <td>Spain</td>\n",
       "    </tr>\n",
       "    <tr>\n",
       "      <th>4</th>\n",
       "      <td>5</td>\n",
       "      <td>Istanbul Park</td>\n",
       "      <td>Istanbul</td>\n",
       "      <td>Turkey</td>\n",
       "    </tr>\n",
       "    <tr>\n",
       "      <th>...</th>\n",
       "      <td>...</td>\n",
       "      <td>...</td>\n",
       "      <td>...</td>\n",
       "      <td>...</td>\n",
       "    </tr>\n",
       "    <tr>\n",
       "      <th>72</th>\n",
       "      <td>75</td>\n",
       "      <td>Autódromo Internacional do Algarve</td>\n",
       "      <td>Portimão</td>\n",
       "      <td>Portugal</td>\n",
       "    </tr>\n",
       "    <tr>\n",
       "      <th>73</th>\n",
       "      <td>76</td>\n",
       "      <td>Autodromo Internazionale del Mugello</td>\n",
       "      <td>Mugello</td>\n",
       "      <td>Italy</td>\n",
       "    </tr>\n",
       "    <tr>\n",
       "      <th>74</th>\n",
       "      <td>77</td>\n",
       "      <td>Jeddah Corniche Circuit</td>\n",
       "      <td>Jeddah</td>\n",
       "      <td>Saudi Arabia</td>\n",
       "    </tr>\n",
       "    <tr>\n",
       "      <th>75</th>\n",
       "      <td>78</td>\n",
       "      <td>Losail International Circuit</td>\n",
       "      <td>Al Daayen</td>\n",
       "      <td>Qatar</td>\n",
       "    </tr>\n",
       "    <tr>\n",
       "      <th>76</th>\n",
       "      <td>79</td>\n",
       "      <td>Miami International Autodrome</td>\n",
       "      <td>Miami</td>\n",
       "      <td>USA</td>\n",
       "    </tr>\n",
       "  </tbody>\n",
       "</table>\n",
       "<p>77 rows × 4 columns</p>\n",
       "</div>"
      ],
      "text/plain": [
       "    circuitId                          circuit_name      location  \\\n",
       "0           1        Albert Park Grand Prix Circuit     Melbourne   \n",
       "1           2          Sepang International Circuit  Kuala Lumpur   \n",
       "2           3         Bahrain International Circuit        Sakhir   \n",
       "3           4        Circuit de Barcelona-Catalunya      Montmeló   \n",
       "4           5                         Istanbul Park      Istanbul   \n",
       "..        ...                                   ...           ...   \n",
       "72         75    Autódromo Internacional do Algarve      Portimão   \n",
       "73         76  Autodromo Internazionale del Mugello       Mugello   \n",
       "74         77               Jeddah Corniche Circuit        Jeddah   \n",
       "75         78          Losail International Circuit     Al Daayen   \n",
       "76         79         Miami International Autodrome         Miami   \n",
       "\n",
       "         country  \n",
       "0      Australia  \n",
       "1       Malaysia  \n",
       "2        Bahrain  \n",
       "3          Spain  \n",
       "4         Turkey  \n",
       "..           ...  \n",
       "72      Portugal  \n",
       "73         Italy  \n",
       "74  Saudi Arabia  \n",
       "75         Qatar  \n",
       "76           USA  \n",
       "\n",
       "[77 rows x 4 columns]"
      ]
     },
     "execution_count": 11,
     "metadata": {},
     "output_type": "execute_result"
    }
   ],
   "source": [
    "df1.rename(columns = {'name': 'circuit_name'})"
   ]
  },
  {
   "cell_type": "code",
   "execution_count": 12,
   "id": "efac836a",
   "metadata": {
    "execution": {
     "iopub.execute_input": "2024-02-17T21:58:08.827495Z",
     "iopub.status.busy": "2024-02-17T21:58:08.827129Z",
     "iopub.status.idle": "2024-02-17T21:58:08.836419Z",
     "shell.execute_reply": "2024-02-17T21:58:08.835406Z"
    },
    "papermill": {
     "duration": 0.044519,
     "end_time": "2024-02-17T21:58:08.838176",
     "exception": false,
     "start_time": "2024-02-17T21:58:08.793657",
     "status": "completed"
    },
    "tags": []
   },
   "outputs": [
    {
     "data": {
      "text/plain": [
       "array([ 1,  2,  3,  4,  5,  6,  7,  8,  9, 10, 11, 12, 13, 14, 15, 16, 17,\n",
       "       18, 19, 20, 21, 22, 80, 24, 25, 26, 27, 28, 29, 30, 31, 32, 33, 34,\n",
       "       35, 36, 37, 38, 39, 40, 41, 42, 43, 44, 45, 46, 47, 48, 49, 50, 51,\n",
       "       52, 53, 54, 55, 56, 57, 58, 59, 60, 61, 62, 63, 64, 65, 66, 67, 68,\n",
       "       69, 70, 71, 73, 75, 76, 77, 78, 79])"
      ]
     },
     "execution_count": 12,
     "metadata": {},
     "output_type": "execute_result"
    }
   ],
   "source": [
    "df1['circuitId'].unique()"
   ]
  },
  {
   "cell_type": "code",
   "execution_count": 13,
   "id": "d25b9e74",
   "metadata": {
    "execution": {
     "iopub.execute_input": "2024-02-17T21:58:08.904637Z",
     "iopub.status.busy": "2024-02-17T21:58:08.904292Z",
     "iopub.status.idle": "2024-02-17T21:58:08.908706Z",
     "shell.execute_reply": "2024-02-17T21:58:08.907336Z"
    },
    "papermill": {
     "duration": 0.041468,
     "end_time": "2024-02-17T21:58:08.910755",
     "exception": false,
     "start_time": "2024-02-17T21:58:08.869287",
     "status": "completed"
    },
    "tags": []
   },
   "outputs": [],
   "source": [
    "#File 2) constructor_results"
   ]
  },
  {
   "cell_type": "code",
   "execution_count": 14,
   "id": "504532fe",
   "metadata": {
    "execution": {
     "iopub.execute_input": "2024-02-17T21:58:08.974167Z",
     "iopub.status.busy": "2024-02-17T21:58:08.973163Z",
     "iopub.status.idle": "2024-02-17T21:58:08.983409Z",
     "shell.execute_reply": "2024-02-17T21:58:08.982212Z"
    },
    "papermill": {
     "duration": 0.044157,
     "end_time": "2024-02-17T21:58:08.985459",
     "exception": false,
     "start_time": "2024-02-17T21:58:08.941302",
     "status": "completed"
    },
    "tags": []
   },
   "outputs": [
    {
     "data": {
      "text/html": [
       "<div>\n",
       "<style scoped>\n",
       "    .dataframe tbody tr th:only-of-type {\n",
       "        vertical-align: middle;\n",
       "    }\n",
       "\n",
       "    .dataframe tbody tr th {\n",
       "        vertical-align: top;\n",
       "    }\n",
       "\n",
       "    .dataframe thead th {\n",
       "        text-align: right;\n",
       "    }\n",
       "</style>\n",
       "<table border=\"1\" class=\"dataframe\">\n",
       "  <thead>\n",
       "    <tr style=\"text-align: right;\">\n",
       "      <th></th>\n",
       "      <th>constructorResultsId</th>\n",
       "      <th>raceId</th>\n",
       "      <th>constructorId</th>\n",
       "      <th>points</th>\n",
       "      <th>status</th>\n",
       "    </tr>\n",
       "  </thead>\n",
       "  <tbody>\n",
       "    <tr>\n",
       "      <th>0</th>\n",
       "      <td>1</td>\n",
       "      <td>18</td>\n",
       "      <td>1</td>\n",
       "      <td>14.0</td>\n",
       "      <td>\\N</td>\n",
       "    </tr>\n",
       "    <tr>\n",
       "      <th>1</th>\n",
       "      <td>2</td>\n",
       "      <td>18</td>\n",
       "      <td>2</td>\n",
       "      <td>8.0</td>\n",
       "      <td>\\N</td>\n",
       "    </tr>\n",
       "    <tr>\n",
       "      <th>2</th>\n",
       "      <td>3</td>\n",
       "      <td>18</td>\n",
       "      <td>3</td>\n",
       "      <td>9.0</td>\n",
       "      <td>\\N</td>\n",
       "    </tr>\n",
       "    <tr>\n",
       "      <th>3</th>\n",
       "      <td>4</td>\n",
       "      <td>18</td>\n",
       "      <td>4</td>\n",
       "      <td>5.0</td>\n",
       "      <td>\\N</td>\n",
       "    </tr>\n",
       "    <tr>\n",
       "      <th>4</th>\n",
       "      <td>5</td>\n",
       "      <td>18</td>\n",
       "      <td>5</td>\n",
       "      <td>2.0</td>\n",
       "      <td>\\N</td>\n",
       "    </tr>\n",
       "  </tbody>\n",
       "</table>\n",
       "</div>"
      ],
      "text/plain": [
       "   constructorResultsId  raceId  constructorId  points status\n",
       "0                     1      18              1    14.0     \\N\n",
       "1                     2      18              2     8.0     \\N\n",
       "2                     3      18              3     9.0     \\N\n",
       "3                     4      18              4     5.0     \\N\n",
       "4                     5      18              5     2.0     \\N"
      ]
     },
     "execution_count": 14,
     "metadata": {},
     "output_type": "execute_result"
    }
   ],
   "source": [
    "df2.head(5)"
   ]
  },
  {
   "cell_type": "code",
   "execution_count": 15,
   "id": "e64025a8",
   "metadata": {
    "execution": {
     "iopub.execute_input": "2024-02-17T21:58:09.050956Z",
     "iopub.status.busy": "2024-02-17T21:58:09.050548Z",
     "iopub.status.idle": "2024-02-17T21:58:09.062479Z",
     "shell.execute_reply": "2024-02-17T21:58:09.060689Z"
    },
    "papermill": {
     "duration": 0.047516,
     "end_time": "2024-02-17T21:58:09.064613",
     "exception": false,
     "start_time": "2024-02-17T21:58:09.017097",
     "status": "completed"
    },
    "tags": []
   },
   "outputs": [
    {
     "name": "stdout",
     "output_type": "stream",
     "text": [
      "<class 'pandas.core.frame.DataFrame'>\n",
      "RangeIndex: 12290 entries, 0 to 12289\n",
      "Data columns (total 5 columns):\n",
      " #   Column                Non-Null Count  Dtype  \n",
      "---  ------                --------------  -----  \n",
      " 0   constructorResultsId  12290 non-null  int64  \n",
      " 1   raceId                12290 non-null  int64  \n",
      " 2   constructorId         12290 non-null  int64  \n",
      " 3   points                12290 non-null  float64\n",
      " 4   status                12290 non-null  object \n",
      "dtypes: float64(1), int64(3), object(1)\n",
      "memory usage: 480.2+ KB\n"
     ]
    }
   ],
   "source": [
    "df2.info()"
   ]
  },
  {
   "cell_type": "code",
   "execution_count": 16,
   "id": "b8d849ae",
   "metadata": {
    "execution": {
     "iopub.execute_input": "2024-02-17T21:58:09.129517Z",
     "iopub.status.busy": "2024-02-17T21:58:09.128105Z",
     "iopub.status.idle": "2024-02-17T21:58:09.135501Z",
     "shell.execute_reply": "2024-02-17T21:58:09.134502Z"
    },
    "papermill": {
     "duration": 0.041836,
     "end_time": "2024-02-17T21:58:09.137297",
     "exception": false,
     "start_time": "2024-02-17T21:58:09.095461",
     "status": "completed"
    },
    "tags": []
   },
   "outputs": [
    {
     "data": {
      "text/plain": [
       "(12290, 5)"
      ]
     },
     "execution_count": 16,
     "metadata": {},
     "output_type": "execute_result"
    }
   ],
   "source": [
    "df2.shape"
   ]
  },
  {
   "cell_type": "code",
   "execution_count": 17,
   "id": "4deaa38d",
   "metadata": {
    "execution": {
     "iopub.execute_input": "2024-02-17T21:58:09.206543Z",
     "iopub.status.busy": "2024-02-17T21:58:09.205881Z",
     "iopub.status.idle": "2024-02-17T21:58:09.209889Z",
     "shell.execute_reply": "2024-02-17T21:58:09.209036Z"
    },
    "papermill": {
     "duration": 0.042802,
     "end_time": "2024-02-17T21:58:09.212573",
     "exception": false,
     "start_time": "2024-02-17T21:58:09.169771",
     "status": "completed"
    },
    "tags": []
   },
   "outputs": [],
   "source": [
    "#Observations:\n",
    "#No Null values seen\n",
    "#All columns seem important for analysis\n",
    "#So I'll proceed to the next file"
   ]
  },
  {
   "cell_type": "code",
   "execution_count": 18,
   "id": "2e8ae23d",
   "metadata": {
    "execution": {
     "iopub.execute_input": "2024-02-17T21:58:09.277730Z",
     "iopub.status.busy": "2024-02-17T21:58:09.277388Z",
     "iopub.status.idle": "2024-02-17T21:58:09.282023Z",
     "shell.execute_reply": "2024-02-17T21:58:09.280728Z"
    },
    "papermill": {
     "duration": 0.039452,
     "end_time": "2024-02-17T21:58:09.283953",
     "exception": false,
     "start_time": "2024-02-17T21:58:09.244501",
     "status": "completed"
    },
    "tags": []
   },
   "outputs": [],
   "source": [
    "#File 3) constructor_standings"
   ]
  },
  {
   "cell_type": "code",
   "execution_count": 19,
   "id": "8b8bc5b9",
   "metadata": {
    "execution": {
     "iopub.execute_input": "2024-02-17T21:58:09.349361Z",
     "iopub.status.busy": "2024-02-17T21:58:09.349006Z",
     "iopub.status.idle": "2024-02-17T21:58:09.356080Z",
     "shell.execute_reply": "2024-02-17T21:58:09.354742Z"
    },
    "papermill": {
     "duration": 0.043388,
     "end_time": "2024-02-17T21:58:09.358758",
     "exception": false,
     "start_time": "2024-02-17T21:58:09.315370",
     "status": "completed"
    },
    "tags": []
   },
   "outputs": [
    {
     "data": {
      "text/plain": [
       "(13051, 7)"
      ]
     },
     "execution_count": 19,
     "metadata": {},
     "output_type": "execute_result"
    }
   ],
   "source": [
    "df3.shape"
   ]
  },
  {
   "cell_type": "code",
   "execution_count": 20,
   "id": "dd997d9f",
   "metadata": {
    "execution": {
     "iopub.execute_input": "2024-02-17T21:58:09.425117Z",
     "iopub.status.busy": "2024-02-17T21:58:09.424707Z",
     "iopub.status.idle": "2024-02-17T21:58:09.436354Z",
     "shell.execute_reply": "2024-02-17T21:58:09.435468Z"
    },
    "papermill": {
     "duration": 0.048682,
     "end_time": "2024-02-17T21:58:09.439477",
     "exception": false,
     "start_time": "2024-02-17T21:58:09.390795",
     "status": "completed"
    },
    "tags": []
   },
   "outputs": [
    {
     "name": "stdout",
     "output_type": "stream",
     "text": [
      "<class 'pandas.core.frame.DataFrame'>\n",
      "RangeIndex: 13051 entries, 0 to 13050\n",
      "Data columns (total 7 columns):\n",
      " #   Column                  Non-Null Count  Dtype  \n",
      "---  ------                  --------------  -----  \n",
      " 0   constructorStandingsId  13051 non-null  int64  \n",
      " 1   raceId                  13051 non-null  int64  \n",
      " 2   constructorId           13051 non-null  int64  \n",
      " 3   points                  13051 non-null  float64\n",
      " 4   position                13051 non-null  int64  \n",
      " 5   positionText            13051 non-null  object \n",
      " 6   wins                    13051 non-null  int64  \n",
      "dtypes: float64(1), int64(5), object(1)\n",
      "memory usage: 713.9+ KB\n"
     ]
    }
   ],
   "source": [
    "df3.info()"
   ]
  },
  {
   "cell_type": "code",
   "execution_count": 21,
   "id": "03d246a9",
   "metadata": {
    "execution": {
     "iopub.execute_input": "2024-02-17T21:58:09.508177Z",
     "iopub.status.busy": "2024-02-17T21:58:09.507806Z",
     "iopub.status.idle": "2024-02-17T21:58:09.519636Z",
     "shell.execute_reply": "2024-02-17T21:58:09.518670Z"
    },
    "papermill": {
     "duration": 0.047739,
     "end_time": "2024-02-17T21:58:09.521377",
     "exception": false,
     "start_time": "2024-02-17T21:58:09.473638",
     "status": "completed"
    },
    "tags": []
   },
   "outputs": [
    {
     "data": {
      "text/html": [
       "<div>\n",
       "<style scoped>\n",
       "    .dataframe tbody tr th:only-of-type {\n",
       "        vertical-align: middle;\n",
       "    }\n",
       "\n",
       "    .dataframe tbody tr th {\n",
       "        vertical-align: top;\n",
       "    }\n",
       "\n",
       "    .dataframe thead th {\n",
       "        text-align: right;\n",
       "    }\n",
       "</style>\n",
       "<table border=\"1\" class=\"dataframe\">\n",
       "  <thead>\n",
       "    <tr style=\"text-align: right;\">\n",
       "      <th></th>\n",
       "      <th>constructorStandingsId</th>\n",
       "      <th>raceId</th>\n",
       "      <th>constructorId</th>\n",
       "      <th>points</th>\n",
       "      <th>position</th>\n",
       "      <th>positionText</th>\n",
       "      <th>wins</th>\n",
       "    </tr>\n",
       "  </thead>\n",
       "  <tbody>\n",
       "    <tr>\n",
       "      <th>0</th>\n",
       "      <td>1</td>\n",
       "      <td>18</td>\n",
       "      <td>1</td>\n",
       "      <td>14.0</td>\n",
       "      <td>1</td>\n",
       "      <td>1</td>\n",
       "      <td>1</td>\n",
       "    </tr>\n",
       "    <tr>\n",
       "      <th>1</th>\n",
       "      <td>2</td>\n",
       "      <td>18</td>\n",
       "      <td>2</td>\n",
       "      <td>8.0</td>\n",
       "      <td>3</td>\n",
       "      <td>3</td>\n",
       "      <td>0</td>\n",
       "    </tr>\n",
       "    <tr>\n",
       "      <th>2</th>\n",
       "      <td>3</td>\n",
       "      <td>18</td>\n",
       "      <td>3</td>\n",
       "      <td>9.0</td>\n",
       "      <td>2</td>\n",
       "      <td>2</td>\n",
       "      <td>0</td>\n",
       "    </tr>\n",
       "    <tr>\n",
       "      <th>3</th>\n",
       "      <td>4</td>\n",
       "      <td>18</td>\n",
       "      <td>4</td>\n",
       "      <td>5.0</td>\n",
       "      <td>4</td>\n",
       "      <td>4</td>\n",
       "      <td>0</td>\n",
       "    </tr>\n",
       "    <tr>\n",
       "      <th>4</th>\n",
       "      <td>5</td>\n",
       "      <td>18</td>\n",
       "      <td>5</td>\n",
       "      <td>2.0</td>\n",
       "      <td>5</td>\n",
       "      <td>5</td>\n",
       "      <td>0</td>\n",
       "    </tr>\n",
       "  </tbody>\n",
       "</table>\n",
       "</div>"
      ],
      "text/plain": [
       "   constructorStandingsId  raceId  constructorId  points  position  \\\n",
       "0                       1      18              1    14.0         1   \n",
       "1                       2      18              2     8.0         3   \n",
       "2                       3      18              3     9.0         2   \n",
       "3                       4      18              4     5.0         4   \n",
       "4                       5      18              5     2.0         5   \n",
       "\n",
       "  positionText  wins  \n",
       "0            1     1  \n",
       "1            3     0  \n",
       "2            2     0  \n",
       "3            4     0  \n",
       "4            5     0  "
      ]
     },
     "execution_count": 21,
     "metadata": {},
     "output_type": "execute_result"
    }
   ],
   "source": [
    "df3.head()"
   ]
  },
  {
   "cell_type": "code",
   "execution_count": 22,
   "id": "19641212",
   "metadata": {
    "execution": {
     "iopub.execute_input": "2024-02-17T21:58:09.587865Z",
     "iopub.status.busy": "2024-02-17T21:58:09.587508Z",
     "iopub.status.idle": "2024-02-17T21:58:09.592324Z",
     "shell.execute_reply": "2024-02-17T21:58:09.591329Z"
    },
    "papermill": {
     "duration": 0.040617,
     "end_time": "2024-02-17T21:58:09.594307",
     "exception": false,
     "start_time": "2024-02-17T21:58:09.553690",
     "status": "completed"
    },
    "tags": []
   },
   "outputs": [],
   "source": [
    "#Observations:\n",
    "#No null values seen."
   ]
  },
  {
   "cell_type": "code",
   "execution_count": 23,
   "id": "0514da70",
   "metadata": {
    "execution": {
     "iopub.execute_input": "2024-02-17T21:58:09.659825Z",
     "iopub.status.busy": "2024-02-17T21:58:09.659502Z",
     "iopub.status.idle": "2024-02-17T21:58:09.665739Z",
     "shell.execute_reply": "2024-02-17T21:58:09.664616Z"
    },
    "papermill": {
     "duration": 0.04257,
     "end_time": "2024-02-17T21:58:09.668676",
     "exception": false,
     "start_time": "2024-02-17T21:58:09.626106",
     "status": "completed"
    },
    "tags": []
   },
   "outputs": [
    {
     "data": {
      "text/plain": [
       "array([ 1,  3,  2,  4,  5,  6,  8,  7,  9, 10, 11, 12, 13, 14, 15, 18, 17,\n",
       "       16, 19, 20, 21, 22])"
      ]
     },
     "execution_count": 23,
     "metadata": {},
     "output_type": "execute_result"
    }
   ],
   "source": [
    "df3['position'].unique()"
   ]
  },
  {
   "cell_type": "code",
   "execution_count": 24,
   "id": "c61f7f0d",
   "metadata": {
    "execution": {
     "iopub.execute_input": "2024-02-17T21:58:09.734103Z",
     "iopub.status.busy": "2024-02-17T21:58:09.733729Z",
     "iopub.status.idle": "2024-02-17T21:58:09.743231Z",
     "shell.execute_reply": "2024-02-17T21:58:09.742121Z"
    },
    "papermill": {
     "duration": 0.044519,
     "end_time": "2024-02-17T21:58:09.745095",
     "exception": false,
     "start_time": "2024-02-17T21:58:09.700576",
     "status": "completed"
    },
    "tags": []
   },
   "outputs": [
    {
     "data": {
      "text/plain": [
       "array(['1', '3', '2', '4', '5', '6', '8', '7', '9', '10', '11', 'E', '12',\n",
       "       '13', '14', '15', '18', '17', '16', '19', '20', '21', '22'],\n",
       "      dtype=object)"
      ]
     },
     "execution_count": 24,
     "metadata": {},
     "output_type": "execute_result"
    }
   ],
   "source": [
    "df3['positionText'].unique()"
   ]
  },
  {
   "cell_type": "code",
   "execution_count": 25,
   "id": "0227980d",
   "metadata": {
    "execution": {
     "iopub.execute_input": "2024-02-17T21:58:09.812569Z",
     "iopub.status.busy": "2024-02-17T21:58:09.812228Z",
     "iopub.status.idle": "2024-02-17T21:58:09.827821Z",
     "shell.execute_reply": "2024-02-17T21:58:09.826092Z"
    },
    "papermill": {
     "duration": 0.051919,
     "end_time": "2024-02-17T21:58:09.830584",
     "exception": false,
     "start_time": "2024-02-17T21:58:09.778665",
     "status": "completed"
    },
    "tags": []
   },
   "outputs": [
    {
     "data": {
      "text/html": [
       "<div>\n",
       "<style scoped>\n",
       "    .dataframe tbody tr th:only-of-type {\n",
       "        vertical-align: middle;\n",
       "    }\n",
       "\n",
       "    .dataframe tbody tr th {\n",
       "        vertical-align: top;\n",
       "    }\n",
       "\n",
       "    .dataframe thead th {\n",
       "        text-align: right;\n",
       "    }\n",
       "</style>\n",
       "<table border=\"1\" class=\"dataframe\">\n",
       "  <thead>\n",
       "    <tr style=\"text-align: right;\">\n",
       "      <th></th>\n",
       "      <th>constructorStandingsId</th>\n",
       "      <th>raceId</th>\n",
       "      <th>constructorId</th>\n",
       "      <th>points</th>\n",
       "      <th>position</th>\n",
       "      <th>positionText</th>\n",
       "      <th>wins</th>\n",
       "    </tr>\n",
       "  </thead>\n",
       "  <tbody>\n",
       "    <tr>\n",
       "      <th>217</th>\n",
       "      <td>25756</td>\n",
       "      <td>38</td>\n",
       "      <td>1</td>\n",
       "      <td>44.0</td>\n",
       "      <td>11</td>\n",
       "      <td>E</td>\n",
       "      <td>1</td>\n",
       "    </tr>\n",
       "    <tr>\n",
       "      <th>227</th>\n",
       "      <td>25767</td>\n",
       "      <td>39</td>\n",
       "      <td>1</td>\n",
       "      <td>58.0</td>\n",
       "      <td>11</td>\n",
       "      <td>E</td>\n",
       "      <td>1</td>\n",
       "    </tr>\n",
       "  </tbody>\n",
       "</table>\n",
       "</div>"
      ],
      "text/plain": [
       "     constructorStandingsId  raceId  constructorId  points  position  \\\n",
       "217                   25756      38              1    44.0        11   \n",
       "227                   25767      39              1    58.0        11   \n",
       "\n",
       "    positionText  wins  \n",
       "217            E     1  \n",
       "227            E     1  "
      ]
     },
     "execution_count": 25,
     "metadata": {},
     "output_type": "execute_result"
    }
   ],
   "source": [
    "filt=(df3['positionText']=='E')\n",
    "df3[filt].head(2)"
   ]
  },
  {
   "cell_type": "code",
   "execution_count": 26,
   "id": "6325823e",
   "metadata": {
    "execution": {
     "iopub.execute_input": "2024-02-17T21:58:09.899190Z",
     "iopub.status.busy": "2024-02-17T21:58:09.898828Z",
     "iopub.status.idle": "2024-02-17T21:58:09.903291Z",
     "shell.execute_reply": "2024-02-17T21:58:09.902366Z"
    },
    "papermill": {
     "duration": 0.040975,
     "end_time": "2024-02-17T21:58:09.904947",
     "exception": false,
     "start_time": "2024-02-17T21:58:09.863972",
     "status": "completed"
    },
    "tags": []
   },
   "outputs": [],
   "source": [
    "#Could not figure out what 'E' in the positionText stood for\n",
    "#Anyways dropping the column"
   ]
  },
  {
   "cell_type": "code",
   "execution_count": 27,
   "id": "66ce05e2",
   "metadata": {
    "execution": {
     "iopub.execute_input": "2024-02-17T21:58:09.972652Z",
     "iopub.status.busy": "2024-02-17T21:58:09.972322Z",
     "iopub.status.idle": "2024-02-17T21:58:09.977321Z",
     "shell.execute_reply": "2024-02-17T21:58:09.976411Z"
    },
    "papermill": {
     "duration": 0.042374,
     "end_time": "2024-02-17T21:58:09.979812",
     "exception": false,
     "start_time": "2024-02-17T21:58:09.937438",
     "status": "completed"
    },
    "tags": []
   },
   "outputs": [],
   "source": [
    "df3.drop(columns=['positionText'], inplace=True)"
   ]
  },
  {
   "cell_type": "code",
   "execution_count": 28,
   "id": "f27951fe",
   "metadata": {
    "execution": {
     "iopub.execute_input": "2024-02-17T21:58:10.045538Z",
     "iopub.status.busy": "2024-02-17T21:58:10.045205Z",
     "iopub.status.idle": "2024-02-17T21:58:10.055370Z",
     "shell.execute_reply": "2024-02-17T21:58:10.054456Z"
    },
    "papermill": {
     "duration": 0.045467,
     "end_time": "2024-02-17T21:58:10.057082",
     "exception": false,
     "start_time": "2024-02-17T21:58:10.011615",
     "status": "completed"
    },
    "tags": []
   },
   "outputs": [
    {
     "data": {
      "text/html": [
       "<div>\n",
       "<style scoped>\n",
       "    .dataframe tbody tr th:only-of-type {\n",
       "        vertical-align: middle;\n",
       "    }\n",
       "\n",
       "    .dataframe tbody tr th {\n",
       "        vertical-align: top;\n",
       "    }\n",
       "\n",
       "    .dataframe thead th {\n",
       "        text-align: right;\n",
       "    }\n",
       "</style>\n",
       "<table border=\"1\" class=\"dataframe\">\n",
       "  <thead>\n",
       "    <tr style=\"text-align: right;\">\n",
       "      <th></th>\n",
       "      <th>constructorStandingsId</th>\n",
       "      <th>raceId</th>\n",
       "      <th>constructorId</th>\n",
       "      <th>points</th>\n",
       "      <th>position</th>\n",
       "      <th>wins</th>\n",
       "    </tr>\n",
       "  </thead>\n",
       "  <tbody>\n",
       "    <tr>\n",
       "      <th>0</th>\n",
       "      <td>1</td>\n",
       "      <td>18</td>\n",
       "      <td>1</td>\n",
       "      <td>14.0</td>\n",
       "      <td>1</td>\n",
       "      <td>1</td>\n",
       "    </tr>\n",
       "    <tr>\n",
       "      <th>1</th>\n",
       "      <td>2</td>\n",
       "      <td>18</td>\n",
       "      <td>2</td>\n",
       "      <td>8.0</td>\n",
       "      <td>3</td>\n",
       "      <td>0</td>\n",
       "    </tr>\n",
       "  </tbody>\n",
       "</table>\n",
       "</div>"
      ],
      "text/plain": [
       "   constructorStandingsId  raceId  constructorId  points  position  wins\n",
       "0                       1      18              1    14.0         1     1\n",
       "1                       2      18              2     8.0         3     0"
      ]
     },
     "execution_count": 28,
     "metadata": {},
     "output_type": "execute_result"
    }
   ],
   "source": [
    "df3.head(2)"
   ]
  },
  {
   "cell_type": "code",
   "execution_count": 29,
   "id": "326242a6",
   "metadata": {
    "execution": {
     "iopub.execute_input": "2024-02-17T21:58:10.121779Z",
     "iopub.status.busy": "2024-02-17T21:58:10.120728Z",
     "iopub.status.idle": "2024-02-17T21:58:10.125120Z",
     "shell.execute_reply": "2024-02-17T21:58:10.124117Z"
    },
    "papermill": {
     "duration": 0.03876,
     "end_time": "2024-02-17T21:58:10.127340",
     "exception": false,
     "start_time": "2024-02-17T21:58:10.088580",
     "status": "completed"
    },
    "tags": []
   },
   "outputs": [],
   "source": [
    "#File 4) constructors.csv"
   ]
  },
  {
   "cell_type": "code",
   "execution_count": 30,
   "id": "3ad68e39",
   "metadata": {
    "execution": {
     "iopub.execute_input": "2024-02-17T21:58:10.194823Z",
     "iopub.status.busy": "2024-02-17T21:58:10.193720Z",
     "iopub.status.idle": "2024-02-17T21:58:10.203111Z",
     "shell.execute_reply": "2024-02-17T21:58:10.202424Z"
    },
    "papermill": {
     "duration": 0.045002,
     "end_time": "2024-02-17T21:58:10.205058",
     "exception": false,
     "start_time": "2024-02-17T21:58:10.160056",
     "status": "completed"
    },
    "tags": []
   },
   "outputs": [
    {
     "name": "stdout",
     "output_type": "stream",
     "text": [
      "<class 'pandas.core.frame.DataFrame'>\n",
      "RangeIndex: 211 entries, 0 to 210\n",
      "Data columns (total 5 columns):\n",
      " #   Column          Non-Null Count  Dtype \n",
      "---  ------          --------------  ----- \n",
      " 0   constructorId   211 non-null    int64 \n",
      " 1   constructorRef  211 non-null    object\n",
      " 2   name            211 non-null    object\n",
      " 3   nationality     211 non-null    object\n",
      " 4   url             211 non-null    object\n",
      "dtypes: int64(1), object(4)\n",
      "memory usage: 8.4+ KB\n"
     ]
    }
   ],
   "source": [
    "df4.info()"
   ]
  },
  {
   "cell_type": "code",
   "execution_count": 31,
   "id": "6cd6ab33",
   "metadata": {
    "execution": {
     "iopub.execute_input": "2024-02-17T21:58:10.271289Z",
     "iopub.status.busy": "2024-02-17T21:58:10.270946Z",
     "iopub.status.idle": "2024-02-17T21:58:10.275311Z",
     "shell.execute_reply": "2024-02-17T21:58:10.273887Z"
    },
    "papermill": {
     "duration": 0.040662,
     "end_time": "2024-02-17T21:58:10.277715",
     "exception": false,
     "start_time": "2024-02-17T21:58:10.237053",
     "status": "completed"
    },
    "tags": []
   },
   "outputs": [],
   "source": [
    "#observations:\n",
    "#No null values seen."
   ]
  },
  {
   "cell_type": "code",
   "execution_count": 32,
   "id": "c632d2c7",
   "metadata": {
    "execution": {
     "iopub.execute_input": "2024-02-17T21:58:10.344601Z",
     "iopub.status.busy": "2024-02-17T21:58:10.344247Z",
     "iopub.status.idle": "2024-02-17T21:58:10.353460Z",
     "shell.execute_reply": "2024-02-17T21:58:10.352683Z"
    },
    "papermill": {
     "duration": 0.044794,
     "end_time": "2024-02-17T21:58:10.355703",
     "exception": false,
     "start_time": "2024-02-17T21:58:10.310909",
     "status": "completed"
    },
    "tags": []
   },
   "outputs": [
    {
     "data": {
      "text/html": [
       "<div>\n",
       "<style scoped>\n",
       "    .dataframe tbody tr th:only-of-type {\n",
       "        vertical-align: middle;\n",
       "    }\n",
       "\n",
       "    .dataframe tbody tr th {\n",
       "        vertical-align: top;\n",
       "    }\n",
       "\n",
       "    .dataframe thead th {\n",
       "        text-align: right;\n",
       "    }\n",
       "</style>\n",
       "<table border=\"1\" class=\"dataframe\">\n",
       "  <thead>\n",
       "    <tr style=\"text-align: right;\">\n",
       "      <th></th>\n",
       "      <th>constructorId</th>\n",
       "      <th>constructorRef</th>\n",
       "      <th>name</th>\n",
       "      <th>nationality</th>\n",
       "      <th>url</th>\n",
       "    </tr>\n",
       "  </thead>\n",
       "  <tbody>\n",
       "    <tr>\n",
       "      <th>0</th>\n",
       "      <td>1</td>\n",
       "      <td>mclaren</td>\n",
       "      <td>McLaren</td>\n",
       "      <td>British</td>\n",
       "      <td>http://en.wikipedia.org/wiki/McLaren</td>\n",
       "    </tr>\n",
       "    <tr>\n",
       "      <th>1</th>\n",
       "      <td>2</td>\n",
       "      <td>bmw_sauber</td>\n",
       "      <td>BMW Sauber</td>\n",
       "      <td>German</td>\n",
       "      <td>http://en.wikipedia.org/wiki/BMW_Sauber</td>\n",
       "    </tr>\n",
       "  </tbody>\n",
       "</table>\n",
       "</div>"
      ],
      "text/plain": [
       "   constructorId constructorRef        name nationality  \\\n",
       "0              1        mclaren     McLaren     British   \n",
       "1              2     bmw_sauber  BMW Sauber      German   \n",
       "\n",
       "                                       url  \n",
       "0     http://en.wikipedia.org/wiki/McLaren  \n",
       "1  http://en.wikipedia.org/wiki/BMW_Sauber  "
      ]
     },
     "execution_count": 32,
     "metadata": {},
     "output_type": "execute_result"
    }
   ],
   "source": [
    "df4.head(2)"
   ]
  },
  {
   "cell_type": "code",
   "execution_count": 33,
   "id": "4c1f57c4",
   "metadata": {
    "execution": {
     "iopub.execute_input": "2024-02-17T21:58:10.421927Z",
     "iopub.status.busy": "2024-02-17T21:58:10.421624Z",
     "iopub.status.idle": "2024-02-17T21:58:10.426560Z",
     "shell.execute_reply": "2024-02-17T21:58:10.425349Z"
    },
    "papermill": {
     "duration": 0.040602,
     "end_time": "2024-02-17T21:58:10.428863",
     "exception": false,
     "start_time": "2024-02-17T21:58:10.388261",
     "status": "completed"
    },
    "tags": []
   },
   "outputs": [],
   "source": [
    "df4.drop(columns={'constructorRef', 'url'}, inplace=True)"
   ]
  },
  {
   "cell_type": "code",
   "execution_count": 34,
   "id": "f4b60fef",
   "metadata": {
    "execution": {
     "iopub.execute_input": "2024-02-17T21:58:10.496139Z",
     "iopub.status.busy": "2024-02-17T21:58:10.495275Z",
     "iopub.status.idle": "2024-02-17T21:58:10.503696Z",
     "shell.execute_reply": "2024-02-17T21:58:10.502512Z"
    },
    "papermill": {
     "duration": 0.04532,
     "end_time": "2024-02-17T21:58:10.506073",
     "exception": false,
     "start_time": "2024-02-17T21:58:10.460753",
     "status": "completed"
    },
    "tags": []
   },
   "outputs": [
    {
     "data": {
      "text/html": [
       "<div>\n",
       "<style scoped>\n",
       "    .dataframe tbody tr th:only-of-type {\n",
       "        vertical-align: middle;\n",
       "    }\n",
       "\n",
       "    .dataframe tbody tr th {\n",
       "        vertical-align: top;\n",
       "    }\n",
       "\n",
       "    .dataframe thead th {\n",
       "        text-align: right;\n",
       "    }\n",
       "</style>\n",
       "<table border=\"1\" class=\"dataframe\">\n",
       "  <thead>\n",
       "    <tr style=\"text-align: right;\">\n",
       "      <th></th>\n",
       "      <th>constructorId</th>\n",
       "      <th>name</th>\n",
       "      <th>nationality</th>\n",
       "    </tr>\n",
       "  </thead>\n",
       "  <tbody>\n",
       "    <tr>\n",
       "      <th>0</th>\n",
       "      <td>1</td>\n",
       "      <td>McLaren</td>\n",
       "      <td>British</td>\n",
       "    </tr>\n",
       "    <tr>\n",
       "      <th>1</th>\n",
       "      <td>2</td>\n",
       "      <td>BMW Sauber</td>\n",
       "      <td>German</td>\n",
       "    </tr>\n",
       "  </tbody>\n",
       "</table>\n",
       "</div>"
      ],
      "text/plain": [
       "   constructorId        name nationality\n",
       "0              1     McLaren     British\n",
       "1              2  BMW Sauber      German"
      ]
     },
     "execution_count": 34,
     "metadata": {},
     "output_type": "execute_result"
    }
   ],
   "source": [
    "df4.head(2)"
   ]
  },
  {
   "cell_type": "code",
   "execution_count": 35,
   "id": "60b4baa2",
   "metadata": {
    "execution": {
     "iopub.execute_input": "2024-02-17T21:58:10.572945Z",
     "iopub.status.busy": "2024-02-17T21:58:10.572039Z",
     "iopub.status.idle": "2024-02-17T21:58:10.576320Z",
     "shell.execute_reply": "2024-02-17T21:58:10.575398Z"
    },
    "papermill": {
     "duration": 0.040391,
     "end_time": "2024-02-17T21:58:10.578773",
     "exception": false,
     "start_time": "2024-02-17T21:58:10.538382",
     "status": "completed"
    },
    "tags": []
   },
   "outputs": [],
   "source": [
    "#File 5) driver_standings.csv"
   ]
  },
  {
   "cell_type": "code",
   "execution_count": 36,
   "id": "382c1b1d",
   "metadata": {
    "execution": {
     "iopub.execute_input": "2024-02-17T21:58:10.646206Z",
     "iopub.status.busy": "2024-02-17T21:58:10.645643Z",
     "iopub.status.idle": "2024-02-17T21:58:10.656468Z",
     "shell.execute_reply": "2024-02-17T21:58:10.654861Z"
    },
    "papermill": {
     "duration": 0.046852,
     "end_time": "2024-02-17T21:58:10.658424",
     "exception": false,
     "start_time": "2024-02-17T21:58:10.611572",
     "status": "completed"
    },
    "tags": []
   },
   "outputs": [
    {
     "name": "stdout",
     "output_type": "stream",
     "text": [
      "<class 'pandas.core.frame.DataFrame'>\n",
      "RangeIndex: 34124 entries, 0 to 34123\n",
      "Data columns (total 7 columns):\n",
      " #   Column             Non-Null Count  Dtype  \n",
      "---  ------             --------------  -----  \n",
      " 0   driverStandingsId  34124 non-null  int64  \n",
      " 1   raceId             34124 non-null  int64  \n",
      " 2   driverId           34124 non-null  int64  \n",
      " 3   points             34124 non-null  float64\n",
      " 4   position           34124 non-null  int64  \n",
      " 5   positionText       34124 non-null  object \n",
      " 6   wins               34124 non-null  int64  \n",
      "dtypes: float64(1), int64(5), object(1)\n",
      "memory usage: 1.8+ MB\n"
     ]
    }
   ],
   "source": [
    "df5.info()"
   ]
  },
  {
   "cell_type": "code",
   "execution_count": 37,
   "id": "6660edb8",
   "metadata": {
    "execution": {
     "iopub.execute_input": "2024-02-17T21:58:10.723860Z",
     "iopub.status.busy": "2024-02-17T21:58:10.722966Z",
     "iopub.status.idle": "2024-02-17T21:58:10.727558Z",
     "shell.execute_reply": "2024-02-17T21:58:10.726398Z"
    },
    "papermill": {
     "duration": 0.039099,
     "end_time": "2024-02-17T21:58:10.729342",
     "exception": false,
     "start_time": "2024-02-17T21:58:10.690243",
     "status": "completed"
    },
    "tags": []
   },
   "outputs": [],
   "source": [
    "#Observations:\n",
    "#No null values seen"
   ]
  },
  {
   "cell_type": "code",
   "execution_count": 38,
   "id": "ee3bf116",
   "metadata": {
    "execution": {
     "iopub.execute_input": "2024-02-17T21:58:10.794672Z",
     "iopub.status.busy": "2024-02-17T21:58:10.794348Z",
     "iopub.status.idle": "2024-02-17T21:58:10.805829Z",
     "shell.execute_reply": "2024-02-17T21:58:10.804526Z"
    },
    "papermill": {
     "duration": 0.046904,
     "end_time": "2024-02-17T21:58:10.808327",
     "exception": false,
     "start_time": "2024-02-17T21:58:10.761423",
     "status": "completed"
    },
    "tags": []
   },
   "outputs": [
    {
     "data": {
      "text/html": [
       "<div>\n",
       "<style scoped>\n",
       "    .dataframe tbody tr th:only-of-type {\n",
       "        vertical-align: middle;\n",
       "    }\n",
       "\n",
       "    .dataframe tbody tr th {\n",
       "        vertical-align: top;\n",
       "    }\n",
       "\n",
       "    .dataframe thead th {\n",
       "        text-align: right;\n",
       "    }\n",
       "</style>\n",
       "<table border=\"1\" class=\"dataframe\">\n",
       "  <thead>\n",
       "    <tr style=\"text-align: right;\">\n",
       "      <th></th>\n",
       "      <th>driverStandingsId</th>\n",
       "      <th>raceId</th>\n",
       "      <th>driverId</th>\n",
       "      <th>points</th>\n",
       "      <th>position</th>\n",
       "      <th>positionText</th>\n",
       "      <th>wins</th>\n",
       "    </tr>\n",
       "  </thead>\n",
       "  <tbody>\n",
       "    <tr>\n",
       "      <th>0</th>\n",
       "      <td>1</td>\n",
       "      <td>18</td>\n",
       "      <td>1</td>\n",
       "      <td>10.0</td>\n",
       "      <td>1</td>\n",
       "      <td>1</td>\n",
       "      <td>1</td>\n",
       "    </tr>\n",
       "    <tr>\n",
       "      <th>1</th>\n",
       "      <td>2</td>\n",
       "      <td>18</td>\n",
       "      <td>2</td>\n",
       "      <td>8.0</td>\n",
       "      <td>2</td>\n",
       "      <td>2</td>\n",
       "      <td>0</td>\n",
       "    </tr>\n",
       "  </tbody>\n",
       "</table>\n",
       "</div>"
      ],
      "text/plain": [
       "   driverStandingsId  raceId  driverId  points  position positionText  wins\n",
       "0                  1      18         1    10.0         1            1     1\n",
       "1                  2      18         2     8.0         2            2     0"
      ]
     },
     "execution_count": 38,
     "metadata": {},
     "output_type": "execute_result"
    }
   ],
   "source": [
    "df5.head(2)"
   ]
  },
  {
   "cell_type": "code",
   "execution_count": 39,
   "id": "2cca8732",
   "metadata": {
    "execution": {
     "iopub.execute_input": "2024-02-17T21:58:10.876595Z",
     "iopub.status.busy": "2024-02-17T21:58:10.876274Z",
     "iopub.status.idle": "2024-02-17T21:58:10.883934Z",
     "shell.execute_reply": "2024-02-17T21:58:10.883154Z"
    },
    "papermill": {
     "duration": 0.043854,
     "end_time": "2024-02-17T21:58:10.885746",
     "exception": false,
     "start_time": "2024-02-17T21:58:10.841892",
     "status": "completed"
    },
    "tags": []
   },
   "outputs": [
    {
     "data": {
      "text/plain": [
       "array(['1', '2', '3', '4', '5', '6', '7', '8', '9', '10', '11', '12',\n",
       "       '13', '14', '15', '16', '17', '18', '19', '20', '21', '22', '23',\n",
       "       '24', '25', '27', '26', 'D', '28', '29', '30', '31', '33', '32',\n",
       "       '34', '36', '35', '38', '39', '37', '45', '41', '46', '42', '40',\n",
       "       '43', '44', '47', '49', '48', '51', '50', '52', '53', '55', '54',\n",
       "       '57', '56', '58', '59', '61', '60', '62', '66', '65', '63', '64',\n",
       "       '69', '68', '67', '73', '72', '71', '70', '75', '74', '77', '76',\n",
       "       '78', '83', '81', '80', '88', '87', '84', '82', '86', '85', '79',\n",
       "       '91', '90', '89', '92', '93', '94', '95', '96', '97', '98', '103',\n",
       "       '102', '101', '99', '100', '104', '108', '107', '105', '106'],\n",
       "      dtype=object)"
      ]
     },
     "execution_count": 39,
     "metadata": {},
     "output_type": "execute_result"
    }
   ],
   "source": [
    "df5['positionText'].unique()"
   ]
  },
  {
   "cell_type": "code",
   "execution_count": 40,
   "id": "30ce51fe",
   "metadata": {
    "execution": {
     "iopub.execute_input": "2024-02-17T21:58:10.954962Z",
     "iopub.status.busy": "2024-02-17T21:58:10.954561Z",
     "iopub.status.idle": "2024-02-17T21:58:10.963335Z",
     "shell.execute_reply": "2024-02-17T21:58:10.962033Z"
    },
    "papermill": {
     "duration": 0.044935,
     "end_time": "2024-02-17T21:58:10.965048",
     "exception": false,
     "start_time": "2024-02-17T21:58:10.920113",
     "status": "completed"
    },
    "tags": []
   },
   "outputs": [
    {
     "data": {
      "text/plain": [
       "array([  1,   2,   3,   4,   5,   6,   7,   8,   9,  10,  11,  12,  13,\n",
       "        14,  15,  16,  17,  18,  19,  20,  21,  22,  23,  24,  25,  27,\n",
       "        26,  28,  29,  30,  31,  33,  32,  34,  36,  35,  38,  39,  37,\n",
       "        45,  41,  46,  42,  40,  43,  44,  47,  49,  48,  51,  50,  52,\n",
       "        53,  55,  54,  57,  56,  58,  59,  61,  60,  62,  66,  65,  63,\n",
       "        64,  69,  68,  67,  73,  72,  71,  70,  75,  74,  77,  76,  78,\n",
       "        83,  81,  80,  88,  87,  84,  82,  86,  85,  79,  91,  90,  89,\n",
       "        92,  93,  94,  95,  96,  97,  98, 103, 102, 101,  99, 100, 104,\n",
       "       108, 107, 105, 106])"
      ]
     },
     "execution_count": 40,
     "metadata": {},
     "output_type": "execute_result"
    }
   ],
   "source": [
    "df5['position'].unique()"
   ]
  },
  {
   "cell_type": "code",
   "execution_count": 41,
   "id": "af4161db",
   "metadata": {
    "execution": {
     "iopub.execute_input": "2024-02-17T21:58:11.035141Z",
     "iopub.status.busy": "2024-02-17T21:58:11.034635Z",
     "iopub.status.idle": "2024-02-17T21:58:11.039515Z",
     "shell.execute_reply": "2024-02-17T21:58:11.038788Z"
    },
    "papermill": {
     "duration": 0.040706,
     "end_time": "2024-02-17T21:58:11.041742",
     "exception": false,
     "start_time": "2024-02-17T21:58:11.001036",
     "status": "completed"
    },
    "tags": []
   },
   "outputs": [],
   "source": [
    "df5.drop(columns={'positionText'}, inplace=True)"
   ]
  },
  {
   "cell_type": "code",
   "execution_count": 42,
   "id": "b00962e2",
   "metadata": {
    "execution": {
     "iopub.execute_input": "2024-02-17T21:58:11.108771Z",
     "iopub.status.busy": "2024-02-17T21:58:11.108266Z",
     "iopub.status.idle": "2024-02-17T21:58:11.117335Z",
     "shell.execute_reply": "2024-02-17T21:58:11.116134Z"
    },
    "papermill": {
     "duration": 0.044633,
     "end_time": "2024-02-17T21:58:11.119161",
     "exception": false,
     "start_time": "2024-02-17T21:58:11.074528",
     "status": "completed"
    },
    "tags": []
   },
   "outputs": [
    {
     "data": {
      "text/html": [
       "<div>\n",
       "<style scoped>\n",
       "    .dataframe tbody tr th:only-of-type {\n",
       "        vertical-align: middle;\n",
       "    }\n",
       "\n",
       "    .dataframe tbody tr th {\n",
       "        vertical-align: top;\n",
       "    }\n",
       "\n",
       "    .dataframe thead th {\n",
       "        text-align: right;\n",
       "    }\n",
       "</style>\n",
       "<table border=\"1\" class=\"dataframe\">\n",
       "  <thead>\n",
       "    <tr style=\"text-align: right;\">\n",
       "      <th></th>\n",
       "      <th>driverStandingsId</th>\n",
       "      <th>raceId</th>\n",
       "      <th>driverId</th>\n",
       "      <th>points</th>\n",
       "      <th>position</th>\n",
       "      <th>wins</th>\n",
       "    </tr>\n",
       "  </thead>\n",
       "  <tbody>\n",
       "    <tr>\n",
       "      <th>0</th>\n",
       "      <td>1</td>\n",
       "      <td>18</td>\n",
       "      <td>1</td>\n",
       "      <td>10.0</td>\n",
       "      <td>1</td>\n",
       "      <td>1</td>\n",
       "    </tr>\n",
       "    <tr>\n",
       "      <th>1</th>\n",
       "      <td>2</td>\n",
       "      <td>18</td>\n",
       "      <td>2</td>\n",
       "      <td>8.0</td>\n",
       "      <td>2</td>\n",
       "      <td>0</td>\n",
       "    </tr>\n",
       "  </tbody>\n",
       "</table>\n",
       "</div>"
      ],
      "text/plain": [
       "   driverStandingsId  raceId  driverId  points  position  wins\n",
       "0                  1      18         1    10.0         1     1\n",
       "1                  2      18         2     8.0         2     0"
      ]
     },
     "execution_count": 42,
     "metadata": {},
     "output_type": "execute_result"
    }
   ],
   "source": [
    "df5.head(2)"
   ]
  },
  {
   "cell_type": "code",
   "execution_count": 43,
   "id": "c6b3590c",
   "metadata": {
    "execution": {
     "iopub.execute_input": "2024-02-17T21:58:11.188902Z",
     "iopub.status.busy": "2024-02-17T21:58:11.188416Z",
     "iopub.status.idle": "2024-02-17T21:58:11.191770Z",
     "shell.execute_reply": "2024-02-17T21:58:11.191116Z"
    },
    "papermill": {
     "duration": 0.041652,
     "end_time": "2024-02-17T21:58:11.193345",
     "exception": false,
     "start_time": "2024-02-17T21:58:11.151693",
     "status": "completed"
    },
    "tags": []
   },
   "outputs": [],
   "source": [
    "#File 6) drivers.csv"
   ]
  },
  {
   "cell_type": "code",
   "execution_count": 44,
   "id": "8276d6e3",
   "metadata": {
    "execution": {
     "iopub.execute_input": "2024-02-17T21:58:11.260228Z",
     "iopub.status.busy": "2024-02-17T21:58:11.259700Z",
     "iopub.status.idle": "2024-02-17T21:58:11.267806Z",
     "shell.execute_reply": "2024-02-17T21:58:11.267259Z"
    },
    "papermill": {
     "duration": 0.044695,
     "end_time": "2024-02-17T21:58:11.270325",
     "exception": false,
     "start_time": "2024-02-17T21:58:11.225630",
     "status": "completed"
    },
    "tags": []
   },
   "outputs": [
    {
     "name": "stdout",
     "output_type": "stream",
     "text": [
      "<class 'pandas.core.frame.DataFrame'>\n",
      "RangeIndex: 857 entries, 0 to 856\n",
      "Data columns (total 9 columns):\n",
      " #   Column       Non-Null Count  Dtype \n",
      "---  ------       --------------  ----- \n",
      " 0   driverId     857 non-null    int64 \n",
      " 1   driverRef    857 non-null    object\n",
      " 2   number       857 non-null    object\n",
      " 3   code         857 non-null    object\n",
      " 4   forename     857 non-null    object\n",
      " 5   surname      857 non-null    object\n",
      " 6   dob          857 non-null    object\n",
      " 7   nationality  857 non-null    object\n",
      " 8   url          857 non-null    object\n",
      "dtypes: int64(1), object(8)\n",
      "memory usage: 60.4+ KB\n"
     ]
    }
   ],
   "source": [
    "df6.info()"
   ]
  },
  {
   "cell_type": "code",
   "execution_count": 45,
   "id": "d28dea10",
   "metadata": {
    "execution": {
     "iopub.execute_input": "2024-02-17T21:58:11.338593Z",
     "iopub.status.busy": "2024-02-17T21:58:11.338115Z",
     "iopub.status.idle": "2024-02-17T21:58:11.342597Z",
     "shell.execute_reply": "2024-02-17T21:58:11.341449Z"
    },
    "papermill": {
     "duration": 0.041497,
     "end_time": "2024-02-17T21:58:11.344863",
     "exception": false,
     "start_time": "2024-02-17T21:58:11.303366",
     "status": "completed"
    },
    "tags": []
   },
   "outputs": [],
   "source": [
    "#Observations:\n",
    "#No null values seen"
   ]
  },
  {
   "cell_type": "code",
   "execution_count": 46,
   "id": "860f8bdf",
   "metadata": {
    "execution": {
     "iopub.execute_input": "2024-02-17T21:58:11.414530Z",
     "iopub.status.busy": "2024-02-17T21:58:11.413926Z",
     "iopub.status.idle": "2024-02-17T21:58:11.418596Z",
     "shell.execute_reply": "2024-02-17T21:58:11.418019Z"
    },
    "papermill": {
     "duration": 0.040709,
     "end_time": "2024-02-17T21:58:11.420228",
     "exception": false,
     "start_time": "2024-02-17T21:58:11.379519",
     "status": "completed"
    },
    "tags": []
   },
   "outputs": [
    {
     "data": {
      "text/plain": [
       "(857, 9)"
      ]
     },
     "execution_count": 46,
     "metadata": {},
     "output_type": "execute_result"
    }
   ],
   "source": [
    "df6.shape"
   ]
  },
  {
   "cell_type": "code",
   "execution_count": 47,
   "id": "b8f54f16",
   "metadata": {
    "execution": {
     "iopub.execute_input": "2024-02-17T21:58:11.488117Z",
     "iopub.status.busy": "2024-02-17T21:58:11.487513Z",
     "iopub.status.idle": "2024-02-17T21:58:11.498593Z",
     "shell.execute_reply": "2024-02-17T21:58:11.497665Z"
    },
    "papermill": {
     "duration": 0.046752,
     "end_time": "2024-02-17T21:58:11.500215",
     "exception": false,
     "start_time": "2024-02-17T21:58:11.453463",
     "status": "completed"
    },
    "tags": []
   },
   "outputs": [
    {
     "data": {
      "text/html": [
       "<div>\n",
       "<style scoped>\n",
       "    .dataframe tbody tr th:only-of-type {\n",
       "        vertical-align: middle;\n",
       "    }\n",
       "\n",
       "    .dataframe tbody tr th {\n",
       "        vertical-align: top;\n",
       "    }\n",
       "\n",
       "    .dataframe thead th {\n",
       "        text-align: right;\n",
       "    }\n",
       "</style>\n",
       "<table border=\"1\" class=\"dataframe\">\n",
       "  <thead>\n",
       "    <tr style=\"text-align: right;\">\n",
       "      <th></th>\n",
       "      <th>driverId</th>\n",
       "      <th>driverRef</th>\n",
       "      <th>number</th>\n",
       "      <th>code</th>\n",
       "      <th>forename</th>\n",
       "      <th>surname</th>\n",
       "      <th>dob</th>\n",
       "      <th>nationality</th>\n",
       "      <th>url</th>\n",
       "    </tr>\n",
       "  </thead>\n",
       "  <tbody>\n",
       "    <tr>\n",
       "      <th>0</th>\n",
       "      <td>1</td>\n",
       "      <td>hamilton</td>\n",
       "      <td>44</td>\n",
       "      <td>HAM</td>\n",
       "      <td>Lewis</td>\n",
       "      <td>Hamilton</td>\n",
       "      <td>1985-01-07</td>\n",
       "      <td>British</td>\n",
       "      <td>http://en.wikipedia.org/wiki/Lewis_Hamilton</td>\n",
       "    </tr>\n",
       "    <tr>\n",
       "      <th>1</th>\n",
       "      <td>2</td>\n",
       "      <td>heidfeld</td>\n",
       "      <td>\\N</td>\n",
       "      <td>HEI</td>\n",
       "      <td>Nick</td>\n",
       "      <td>Heidfeld</td>\n",
       "      <td>1977-05-10</td>\n",
       "      <td>German</td>\n",
       "      <td>http://en.wikipedia.org/wiki/Nick_Heidfeld</td>\n",
       "    </tr>\n",
       "    <tr>\n",
       "      <th>2</th>\n",
       "      <td>3</td>\n",
       "      <td>rosberg</td>\n",
       "      <td>6</td>\n",
       "      <td>ROS</td>\n",
       "      <td>Nico</td>\n",
       "      <td>Rosberg</td>\n",
       "      <td>1985-06-27</td>\n",
       "      <td>German</td>\n",
       "      <td>http://en.wikipedia.org/wiki/Nico_Rosberg</td>\n",
       "    </tr>\n",
       "    <tr>\n",
       "      <th>3</th>\n",
       "      <td>4</td>\n",
       "      <td>alonso</td>\n",
       "      <td>14</td>\n",
       "      <td>ALO</td>\n",
       "      <td>Fernando</td>\n",
       "      <td>Alonso</td>\n",
       "      <td>1981-07-29</td>\n",
       "      <td>Spanish</td>\n",
       "      <td>http://en.wikipedia.org/wiki/Fernando_Alonso</td>\n",
       "    </tr>\n",
       "    <tr>\n",
       "      <th>4</th>\n",
       "      <td>5</td>\n",
       "      <td>kovalainen</td>\n",
       "      <td>\\N</td>\n",
       "      <td>KOV</td>\n",
       "      <td>Heikki</td>\n",
       "      <td>Kovalainen</td>\n",
       "      <td>1981-10-19</td>\n",
       "      <td>Finnish</td>\n",
       "      <td>http://en.wikipedia.org/wiki/Heikki_Kovalainen</td>\n",
       "    </tr>\n",
       "  </tbody>\n",
       "</table>\n",
       "</div>"
      ],
      "text/plain": [
       "   driverId   driverRef number code  forename     surname         dob  \\\n",
       "0         1    hamilton     44  HAM     Lewis    Hamilton  1985-01-07   \n",
       "1         2    heidfeld     \\N  HEI      Nick    Heidfeld  1977-05-10   \n",
       "2         3     rosberg      6  ROS      Nico     Rosberg  1985-06-27   \n",
       "3         4      alonso     14  ALO  Fernando      Alonso  1981-07-29   \n",
       "4         5  kovalainen     \\N  KOV    Heikki  Kovalainen  1981-10-19   \n",
       "\n",
       "  nationality                                             url  \n",
       "0     British     http://en.wikipedia.org/wiki/Lewis_Hamilton  \n",
       "1      German      http://en.wikipedia.org/wiki/Nick_Heidfeld  \n",
       "2      German       http://en.wikipedia.org/wiki/Nico_Rosberg  \n",
       "3     Spanish    http://en.wikipedia.org/wiki/Fernando_Alonso  \n",
       "4     Finnish  http://en.wikipedia.org/wiki/Heikki_Kovalainen  "
      ]
     },
     "execution_count": 47,
     "metadata": {},
     "output_type": "execute_result"
    }
   ],
   "source": [
    "df6.head()"
   ]
  },
  {
   "cell_type": "code",
   "execution_count": 48,
   "id": "93ab456b",
   "metadata": {
    "execution": {
     "iopub.execute_input": "2024-02-17T21:58:11.570272Z",
     "iopub.status.busy": "2024-02-17T21:58:11.569354Z",
     "iopub.status.idle": "2024-02-17T21:58:11.580188Z",
     "shell.execute_reply": "2024-02-17T21:58:11.579361Z"
    },
    "papermill": {
     "duration": 0.04877,
     "end_time": "2024-02-17T21:58:11.582169",
     "exception": false,
     "start_time": "2024-02-17T21:58:11.533399",
     "status": "completed"
    },
    "tags": []
   },
   "outputs": [
    {
     "data": {
      "text/html": [
       "<div>\n",
       "<style scoped>\n",
       "    .dataframe tbody tr th:only-of-type {\n",
       "        vertical-align: middle;\n",
       "    }\n",
       "\n",
       "    .dataframe tbody tr th {\n",
       "        vertical-align: top;\n",
       "    }\n",
       "\n",
       "    .dataframe thead th {\n",
       "        text-align: right;\n",
       "    }\n",
       "</style>\n",
       "<table border=\"1\" class=\"dataframe\">\n",
       "  <thead>\n",
       "    <tr style=\"text-align: right;\">\n",
       "      <th></th>\n",
       "      <th>driverId</th>\n",
       "      <th>code</th>\n",
       "      <th>forename</th>\n",
       "      <th>surname</th>\n",
       "      <th>dob</th>\n",
       "      <th>nationality</th>\n",
       "    </tr>\n",
       "  </thead>\n",
       "  <tbody>\n",
       "    <tr>\n",
       "      <th>0</th>\n",
       "      <td>1</td>\n",
       "      <td>HAM</td>\n",
       "      <td>Lewis</td>\n",
       "      <td>Hamilton</td>\n",
       "      <td>1985-01-07</td>\n",
       "      <td>British</td>\n",
       "    </tr>\n",
       "    <tr>\n",
       "      <th>1</th>\n",
       "      <td>2</td>\n",
       "      <td>HEI</td>\n",
       "      <td>Nick</td>\n",
       "      <td>Heidfeld</td>\n",
       "      <td>1977-05-10</td>\n",
       "      <td>German</td>\n",
       "    </tr>\n",
       "  </tbody>\n",
       "</table>\n",
       "</div>"
      ],
      "text/plain": [
       "   driverId code forename   surname         dob nationality\n",
       "0         1  HAM    Lewis  Hamilton  1985-01-07     British\n",
       "1         2  HEI     Nick  Heidfeld  1977-05-10      German"
      ]
     },
     "execution_count": 48,
     "metadata": {},
     "output_type": "execute_result"
    }
   ],
   "source": [
    "#We already have driver forename and surame, thus dropping driverRef\n",
    "#Driver code will be useful in plotting graphs\n",
    "df6.drop(columns={'driverRef', 'number', 'url'}, inplace=True)\n",
    "df6.head(2)"
   ]
  },
  {
   "cell_type": "code",
   "execution_count": 49,
   "id": "af0d825e",
   "metadata": {
    "execution": {
     "iopub.execute_input": "2024-02-17T21:58:11.652502Z",
     "iopub.status.busy": "2024-02-17T21:58:11.652165Z",
     "iopub.status.idle": "2024-02-17T21:58:11.660759Z",
     "shell.execute_reply": "2024-02-17T21:58:11.659840Z"
    },
    "papermill": {
     "duration": 0.046165,
     "end_time": "2024-02-17T21:58:11.662487",
     "exception": false,
     "start_time": "2024-02-17T21:58:11.616322",
     "status": "completed"
    },
    "tags": []
   },
   "outputs": [],
   "source": [
    "#changig dob from string to Date-Time format\n",
    "#Note: Not calculating driver age yet, will do once all season info is available\n",
    "\n",
    "df6['dob'] = pd.to_datetime(df6['dob'], format='%Y-%m-%d')"
   ]
  },
  {
   "cell_type": "code",
   "execution_count": 50,
   "id": "f3d6570e",
   "metadata": {
    "execution": {
     "iopub.execute_input": "2024-02-17T21:58:11.733338Z",
     "iopub.status.busy": "2024-02-17T21:58:11.732958Z",
     "iopub.status.idle": "2024-02-17T21:58:11.746363Z",
     "shell.execute_reply": "2024-02-17T21:58:11.745123Z"
    },
    "papermill": {
     "duration": 0.050944,
     "end_time": "2024-02-17T21:58:11.748424",
     "exception": false,
     "start_time": "2024-02-17T21:58:11.697480",
     "status": "completed"
    },
    "tags": []
   },
   "outputs": [
    {
     "data": {
      "text/html": [
       "<div>\n",
       "<style scoped>\n",
       "    .dataframe tbody tr th:only-of-type {\n",
       "        vertical-align: middle;\n",
       "    }\n",
       "\n",
       "    .dataframe tbody tr th {\n",
       "        vertical-align: top;\n",
       "    }\n",
       "\n",
       "    .dataframe thead th {\n",
       "        text-align: right;\n",
       "    }\n",
       "</style>\n",
       "<table border=\"1\" class=\"dataframe\">\n",
       "  <thead>\n",
       "    <tr style=\"text-align: right;\">\n",
       "      <th></th>\n",
       "      <th>driverId</th>\n",
       "      <th>code</th>\n",
       "      <th>forename</th>\n",
       "      <th>surname</th>\n",
       "      <th>dob</th>\n",
       "      <th>nationality</th>\n",
       "    </tr>\n",
       "  </thead>\n",
       "  <tbody>\n",
       "    <tr>\n",
       "      <th>0</th>\n",
       "      <td>1</td>\n",
       "      <td>HAM</td>\n",
       "      <td>Lewis</td>\n",
       "      <td>Hamilton</td>\n",
       "      <td>1985-01-07</td>\n",
       "      <td>British</td>\n",
       "    </tr>\n",
       "    <tr>\n",
       "      <th>1</th>\n",
       "      <td>2</td>\n",
       "      <td>HEI</td>\n",
       "      <td>Nick</td>\n",
       "      <td>Heidfeld</td>\n",
       "      <td>1977-05-10</td>\n",
       "      <td>German</td>\n",
       "    </tr>\n",
       "  </tbody>\n",
       "</table>\n",
       "</div>"
      ],
      "text/plain": [
       "   driverId code forename   surname        dob nationality\n",
       "0         1  HAM    Lewis  Hamilton 1985-01-07     British\n",
       "1         2  HEI     Nick  Heidfeld 1977-05-10      German"
      ]
     },
     "execution_count": 50,
     "metadata": {},
     "output_type": "execute_result"
    }
   ],
   "source": [
    "df6.head(2)"
   ]
  },
  {
   "cell_type": "code",
   "execution_count": 51,
   "id": "fbc45c81",
   "metadata": {
    "execution": {
     "iopub.execute_input": "2024-02-17T21:58:11.819656Z",
     "iopub.status.busy": "2024-02-17T21:58:11.818467Z",
     "iopub.status.idle": "2024-02-17T21:58:11.828791Z",
     "shell.execute_reply": "2024-02-17T21:58:11.827917Z"
    },
    "papermill": {
     "duration": 0.047896,
     "end_time": "2024-02-17T21:58:11.830738",
     "exception": false,
     "start_time": "2024-02-17T21:58:11.782842",
     "status": "completed"
    },
    "tags": []
   },
   "outputs": [
    {
     "name": "stdout",
     "output_type": "stream",
     "text": [
      "<class 'pandas.core.frame.DataFrame'>\n",
      "RangeIndex: 857 entries, 0 to 856\n",
      "Data columns (total 6 columns):\n",
      " #   Column       Non-Null Count  Dtype         \n",
      "---  ------       --------------  -----         \n",
      " 0   driverId     857 non-null    int64         \n",
      " 1   code         857 non-null    object        \n",
      " 2   forename     857 non-null    object        \n",
      " 3   surname      857 non-null    object        \n",
      " 4   dob          857 non-null    datetime64[ns]\n",
      " 5   nationality  857 non-null    object        \n",
      "dtypes: datetime64[ns](1), int64(1), object(4)\n",
      "memory usage: 40.3+ KB\n"
     ]
    }
   ],
   "source": [
    "df6.info()"
   ]
  },
  {
   "cell_type": "code",
   "execution_count": 52,
   "id": "6b9b0923",
   "metadata": {
    "execution": {
     "iopub.execute_input": "2024-02-17T21:58:11.908947Z",
     "iopub.status.busy": "2024-02-17T21:58:11.907928Z",
     "iopub.status.idle": "2024-02-17T21:58:11.914077Z",
     "shell.execute_reply": "2024-02-17T21:58:11.912864Z"
    },
    "papermill": {
     "duration": 0.050519,
     "end_time": "2024-02-17T21:58:11.916686",
     "exception": false,
     "start_time": "2024-02-17T21:58:11.866167",
     "status": "completed"
    },
    "tags": []
   },
   "outputs": [],
   "source": [
    "#File 7) lap_times.csv"
   ]
  },
  {
   "cell_type": "code",
   "execution_count": 53,
   "id": "b09fcd16",
   "metadata": {
    "execution": {
     "iopub.execute_input": "2024-02-17T21:58:11.996572Z",
     "iopub.status.busy": "2024-02-17T21:58:11.996208Z",
     "iopub.status.idle": "2024-02-17T21:58:12.033203Z",
     "shell.execute_reply": "2024-02-17T21:58:12.032299Z"
    },
    "papermill": {
     "duration": 0.08348,
     "end_time": "2024-02-17T21:58:12.035116",
     "exception": false,
     "start_time": "2024-02-17T21:58:11.951636",
     "status": "completed"
    },
    "tags": []
   },
   "outputs": [
    {
     "name": "stdout",
     "output_type": "stream",
     "text": [
      "<class 'pandas.core.frame.DataFrame'>\n",
      "RangeIndex: 551742 entries, 0 to 551741\n",
      "Data columns (total 6 columns):\n",
      " #   Column        Non-Null Count   Dtype \n",
      "---  ------        --------------   ----- \n",
      " 0   raceId        551742 non-null  int64 \n",
      " 1   driverId      551742 non-null  int64 \n",
      " 2   lap           551742 non-null  int64 \n",
      " 3   position      551742 non-null  int64 \n",
      " 4   time          551742 non-null  object\n",
      " 5   milliseconds  551742 non-null  int64 \n",
      "dtypes: int64(5), object(1)\n",
      "memory usage: 25.3+ MB\n"
     ]
    }
   ],
   "source": [
    "df7.info()"
   ]
  },
  {
   "cell_type": "code",
   "execution_count": 54,
   "id": "f514516e",
   "metadata": {
    "execution": {
     "iopub.execute_input": "2024-02-17T21:58:12.109699Z",
     "iopub.status.busy": "2024-02-17T21:58:12.108729Z",
     "iopub.status.idle": "2024-02-17T21:58:12.118499Z",
     "shell.execute_reply": "2024-02-17T21:58:12.117887Z"
    },
    "papermill": {
     "duration": 0.050752,
     "end_time": "2024-02-17T21:58:12.120046",
     "exception": false,
     "start_time": "2024-02-17T21:58:12.069294",
     "status": "completed"
    },
    "tags": []
   },
   "outputs": [
    {
     "data": {
      "text/html": [
       "<div>\n",
       "<style scoped>\n",
       "    .dataframe tbody tr th:only-of-type {\n",
       "        vertical-align: middle;\n",
       "    }\n",
       "\n",
       "    .dataframe tbody tr th {\n",
       "        vertical-align: top;\n",
       "    }\n",
       "\n",
       "    .dataframe thead th {\n",
       "        text-align: right;\n",
       "    }\n",
       "</style>\n",
       "<table border=\"1\" class=\"dataframe\">\n",
       "  <thead>\n",
       "    <tr style=\"text-align: right;\">\n",
       "      <th></th>\n",
       "      <th>raceId</th>\n",
       "      <th>driverId</th>\n",
       "      <th>lap</th>\n",
       "      <th>position</th>\n",
       "      <th>time</th>\n",
       "      <th>milliseconds</th>\n",
       "    </tr>\n",
       "  </thead>\n",
       "  <tbody>\n",
       "    <tr>\n",
       "      <th>0</th>\n",
       "      <td>841</td>\n",
       "      <td>20</td>\n",
       "      <td>1</td>\n",
       "      <td>1</td>\n",
       "      <td>1:38.109</td>\n",
       "      <td>98109</td>\n",
       "    </tr>\n",
       "    <tr>\n",
       "      <th>1</th>\n",
       "      <td>841</td>\n",
       "      <td>20</td>\n",
       "      <td>2</td>\n",
       "      <td>1</td>\n",
       "      <td>1:33.006</td>\n",
       "      <td>93006</td>\n",
       "    </tr>\n",
       "    <tr>\n",
       "      <th>2</th>\n",
       "      <td>841</td>\n",
       "      <td>20</td>\n",
       "      <td>3</td>\n",
       "      <td>1</td>\n",
       "      <td>1:32.713</td>\n",
       "      <td>92713</td>\n",
       "    </tr>\n",
       "    <tr>\n",
       "      <th>3</th>\n",
       "      <td>841</td>\n",
       "      <td>20</td>\n",
       "      <td>4</td>\n",
       "      <td>1</td>\n",
       "      <td>1:32.803</td>\n",
       "      <td>92803</td>\n",
       "    </tr>\n",
       "    <tr>\n",
       "      <th>4</th>\n",
       "      <td>841</td>\n",
       "      <td>20</td>\n",
       "      <td>5</td>\n",
       "      <td>1</td>\n",
       "      <td>1:32.342</td>\n",
       "      <td>92342</td>\n",
       "    </tr>\n",
       "  </tbody>\n",
       "</table>\n",
       "</div>"
      ],
      "text/plain": [
       "   raceId  driverId  lap  position      time  milliseconds\n",
       "0     841        20    1         1  1:38.109         98109\n",
       "1     841        20    2         1  1:33.006         93006\n",
       "2     841        20    3         1  1:32.713         92713\n",
       "3     841        20    4         1  1:32.803         92803\n",
       "4     841        20    5         1  1:32.342         92342"
      ]
     },
     "execution_count": 54,
     "metadata": {},
     "output_type": "execute_result"
    }
   ],
   "source": [
    "#No null values seen\n",
    "df7.head()"
   ]
  },
  {
   "cell_type": "code",
   "execution_count": 55,
   "id": "9cef45c4",
   "metadata": {
    "execution": {
     "iopub.execute_input": "2024-02-17T21:58:12.199461Z",
     "iopub.status.busy": "2024-02-17T21:58:12.199122Z",
     "iopub.status.idle": "2024-02-17T21:58:12.214615Z",
     "shell.execute_reply": "2024-02-17T21:58:12.213590Z"
    },
    "papermill": {
     "duration": 0.055103,
     "end_time": "2024-02-17T21:58:12.216433",
     "exception": false,
     "start_time": "2024-02-17T21:58:12.161330",
     "status": "completed"
    },
    "tags": []
   },
   "outputs": [
    {
     "data": {
      "text/plain": [
       "8372    7507547\n",
       "8020    7506656\n",
       "8426    7506243\n",
       "8621    7506095\n",
       "7916    7505152\n",
       "Name: milliseconds, dtype: int64"
      ]
     },
     "execution_count": 55,
     "metadata": {},
     "output_type": "execute_result"
    }
   ],
   "source": [
    "df7['milliseconds'].nlargest(5)"
   ]
  },
  {
   "cell_type": "code",
   "execution_count": 56,
   "id": "fac98041",
   "metadata": {
    "execution": {
     "iopub.execute_input": "2024-02-17T21:58:12.286163Z",
     "iopub.status.busy": "2024-02-17T21:58:12.285520Z",
     "iopub.status.idle": "2024-02-17T21:58:12.290514Z",
     "shell.execute_reply": "2024-02-17T21:58:12.289621Z"
    },
    "papermill": {
     "duration": 0.042933,
     "end_time": "2024-02-17T21:58:12.292653",
     "exception": false,
     "start_time": "2024-02-17T21:58:12.249720",
     "status": "completed"
    },
    "tags": []
   },
   "outputs": [],
   "source": [
    "#Not dropping milliseconds yet, might help in plotting graphs later\n",
    "#Time is a string, changing it to time format\n",
    "#Since some entries in the time columns are of the format='%H:%M:%S.%f' while some of format='%M:%S.%f' \n",
    "# I got an error while using df7['time'] = pd.to_datetime(df7['time'], format='%H:%M:%S.%f')"
   ]
  },
  {
   "cell_type": "code",
   "execution_count": 57,
   "id": "7c2191aa",
   "metadata": {
    "execution": {
     "iopub.execute_input": "2024-02-17T21:58:12.372465Z",
     "iopub.status.busy": "2024-02-17T21:58:12.371414Z",
     "iopub.status.idle": "2024-02-17T21:58:16.767203Z",
     "shell.execute_reply": "2024-02-17T21:58:16.765613Z"
    },
    "papermill": {
     "duration": 4.436447,
     "end_time": "2024-02-17T21:58:16.769660",
     "exception": false,
     "start_time": "2024-02-17T21:58:12.333213",
     "status": "completed"
    },
    "tags": []
   },
   "outputs": [],
   "source": [
    "#Converting milliseconds column to timedelta\n",
    "df7['time_delta'] = df7['milliseconds'].apply(lambda x: pd.to_timedelta(x, unit='ms'))"
   ]
  },
  {
   "cell_type": "code",
   "execution_count": 58,
   "id": "526b2aed",
   "metadata": {
    "execution": {
     "iopub.execute_input": "2024-02-17T21:58:16.842426Z",
     "iopub.status.busy": "2024-02-17T21:58:16.842110Z",
     "iopub.status.idle": "2024-02-17T21:58:16.878867Z",
     "shell.execute_reply": "2024-02-17T21:58:16.877821Z"
    },
    "papermill": {
     "duration": 0.075818,
     "end_time": "2024-02-17T21:58:16.880401",
     "exception": false,
     "start_time": "2024-02-17T21:58:16.804583",
     "status": "completed"
    },
    "tags": []
   },
   "outputs": [
    {
     "name": "stdout",
     "output_type": "stream",
     "text": [
      "<class 'pandas.core.frame.DataFrame'>\n",
      "RangeIndex: 551742 entries, 0 to 551741\n",
      "Data columns (total 7 columns):\n",
      " #   Column        Non-Null Count   Dtype          \n",
      "---  ------        --------------   -----          \n",
      " 0   raceId        551742 non-null  int64          \n",
      " 1   driverId      551742 non-null  int64          \n",
      " 2   lap           551742 non-null  int64          \n",
      " 3   position      551742 non-null  int64          \n",
      " 4   time          551742 non-null  object         \n",
      " 5   milliseconds  551742 non-null  int64          \n",
      " 6   time_delta    551742 non-null  timedelta64[ns]\n",
      "dtypes: int64(5), object(1), timedelta64[ns](1)\n",
      "memory usage: 29.5+ MB\n"
     ]
    }
   ],
   "source": [
    "df7.info()"
   ]
  },
  {
   "cell_type": "code",
   "execution_count": 59,
   "id": "4e1989c2",
   "metadata": {
    "execution": {
     "iopub.execute_input": "2024-02-17T21:58:16.949893Z",
     "iopub.status.busy": "2024-02-17T21:58:16.949595Z",
     "iopub.status.idle": "2024-02-17T21:58:16.960345Z",
     "shell.execute_reply": "2024-02-17T21:58:16.959307Z"
    },
    "papermill": {
     "duration": 0.047725,
     "end_time": "2024-02-17T21:58:16.962085",
     "exception": false,
     "start_time": "2024-02-17T21:58:16.914360",
     "status": "completed"
    },
    "tags": []
   },
   "outputs": [
    {
     "data": {
      "text/html": [
       "<div>\n",
       "<style scoped>\n",
       "    .dataframe tbody tr th:only-of-type {\n",
       "        vertical-align: middle;\n",
       "    }\n",
       "\n",
       "    .dataframe tbody tr th {\n",
       "        vertical-align: top;\n",
       "    }\n",
       "\n",
       "    .dataframe thead th {\n",
       "        text-align: right;\n",
       "    }\n",
       "</style>\n",
       "<table border=\"1\" class=\"dataframe\">\n",
       "  <thead>\n",
       "    <tr style=\"text-align: right;\">\n",
       "      <th></th>\n",
       "      <th>raceId</th>\n",
       "      <th>driverId</th>\n",
       "      <th>lap</th>\n",
       "      <th>position</th>\n",
       "      <th>time</th>\n",
       "      <th>milliseconds</th>\n",
       "      <th>time_delta</th>\n",
       "    </tr>\n",
       "  </thead>\n",
       "  <tbody>\n",
       "    <tr>\n",
       "      <th>0</th>\n",
       "      <td>841</td>\n",
       "      <td>20</td>\n",
       "      <td>1</td>\n",
       "      <td>1</td>\n",
       "      <td>1:38.109</td>\n",
       "      <td>98109</td>\n",
       "      <td>0 days 00:01:38.109000</td>\n",
       "    </tr>\n",
       "    <tr>\n",
       "      <th>1</th>\n",
       "      <td>841</td>\n",
       "      <td>20</td>\n",
       "      <td>2</td>\n",
       "      <td>1</td>\n",
       "      <td>1:33.006</td>\n",
       "      <td>93006</td>\n",
       "      <td>0 days 00:01:33.006000</td>\n",
       "    </tr>\n",
       "  </tbody>\n",
       "</table>\n",
       "</div>"
      ],
      "text/plain": [
       "   raceId  driverId  lap  position      time  milliseconds  \\\n",
       "0     841        20    1         1  1:38.109         98109   \n",
       "1     841        20    2         1  1:33.006         93006   \n",
       "\n",
       "              time_delta  \n",
       "0 0 days 00:01:38.109000  \n",
       "1 0 days 00:01:33.006000  "
      ]
     },
     "execution_count": 59,
     "metadata": {},
     "output_type": "execute_result"
    }
   ],
   "source": [
    "df7.head(2)"
   ]
  },
  {
   "cell_type": "code",
   "execution_count": 60,
   "id": "9c6f5e12",
   "metadata": {
    "execution": {
     "iopub.execute_input": "2024-02-17T21:58:17.030260Z",
     "iopub.status.busy": "2024-02-17T21:58:17.029922Z",
     "iopub.status.idle": "2024-02-17T21:58:17.036914Z",
     "shell.execute_reply": "2024-02-17T21:58:17.036038Z"
    },
    "papermill": {
     "duration": 0.04384,
     "end_time": "2024-02-17T21:58:17.039325",
     "exception": false,
     "start_time": "2024-02-17T21:58:16.995485",
     "status": "completed"
    },
    "tags": []
   },
   "outputs": [],
   "source": [
    "df7.drop(columns={'time'}, inplace=True)"
   ]
  },
  {
   "cell_type": "code",
   "execution_count": 61,
   "id": "1bfa3fb2",
   "metadata": {
    "execution": {
     "iopub.execute_input": "2024-02-17T21:58:17.110240Z",
     "iopub.status.busy": "2024-02-17T21:58:17.109913Z",
     "iopub.status.idle": "2024-02-17T21:58:17.114421Z",
     "shell.execute_reply": "2024-02-17T21:58:17.113370Z"
    },
    "papermill": {
     "duration": 0.041779,
     "end_time": "2024-02-17T21:58:17.116229",
     "exception": false,
     "start_time": "2024-02-17T21:58:17.074450",
     "status": "completed"
    },
    "tags": []
   },
   "outputs": [],
   "source": [
    "df7.rename(columns={'time_delta': 'time'}, inplace=True)"
   ]
  },
  {
   "cell_type": "code",
   "execution_count": 62,
   "id": "83550062",
   "metadata": {
    "execution": {
     "iopub.execute_input": "2024-02-17T21:58:17.187383Z",
     "iopub.status.busy": "2024-02-17T21:58:17.186542Z",
     "iopub.status.idle": "2024-02-17T21:58:17.201659Z",
     "shell.execute_reply": "2024-02-17T21:58:17.200565Z"
    },
    "papermill": {
     "duration": 0.052802,
     "end_time": "2024-02-17T21:58:17.203396",
     "exception": false,
     "start_time": "2024-02-17T21:58:17.150594",
     "status": "completed"
    },
    "tags": []
   },
   "outputs": [
    {
     "data": {
      "text/plain": [
       "8372   0 days 02:05:07.547000\n",
       "8020   0 days 02:05:06.656000\n",
       "8426   0 days 02:05:06.243000\n",
       "8621   0 days 02:05:06.095000\n",
       "7916   0 days 02:05:05.152000\n",
       "Name: time, dtype: timedelta64[ns]"
      ]
     },
     "execution_count": 62,
     "metadata": {},
     "output_type": "execute_result"
    }
   ],
   "source": [
    "df7['time'].nlargest()"
   ]
  },
  {
   "cell_type": "code",
   "execution_count": 63,
   "id": "cd18297a",
   "metadata": {
    "execution": {
     "iopub.execute_input": "2024-02-17T21:58:17.275047Z",
     "iopub.status.busy": "2024-02-17T21:58:17.273691Z",
     "iopub.status.idle": "2024-02-17T21:58:17.284632Z",
     "shell.execute_reply": "2024-02-17T21:58:17.283390Z"
    },
    "papermill": {
     "duration": 0.048598,
     "end_time": "2024-02-17T21:58:17.286203",
     "exception": false,
     "start_time": "2024-02-17T21:58:17.237605",
     "status": "completed"
    },
    "tags": []
   },
   "outputs": [
    {
     "data": {
      "text/html": [
       "<div>\n",
       "<style scoped>\n",
       "    .dataframe tbody tr th:only-of-type {\n",
       "        vertical-align: middle;\n",
       "    }\n",
       "\n",
       "    .dataframe tbody tr th {\n",
       "        vertical-align: top;\n",
       "    }\n",
       "\n",
       "    .dataframe thead th {\n",
       "        text-align: right;\n",
       "    }\n",
       "</style>\n",
       "<table border=\"1\" class=\"dataframe\">\n",
       "  <thead>\n",
       "    <tr style=\"text-align: right;\">\n",
       "      <th></th>\n",
       "      <th>raceId</th>\n",
       "      <th>driverId</th>\n",
       "      <th>lap</th>\n",
       "      <th>position</th>\n",
       "      <th>milliseconds</th>\n",
       "      <th>time</th>\n",
       "    </tr>\n",
       "  </thead>\n",
       "  <tbody>\n",
       "    <tr>\n",
       "      <th>0</th>\n",
       "      <td>841</td>\n",
       "      <td>20</td>\n",
       "      <td>1</td>\n",
       "      <td>1</td>\n",
       "      <td>98109</td>\n",
       "      <td>0 days 00:01:38.109000</td>\n",
       "    </tr>\n",
       "    <tr>\n",
       "      <th>1</th>\n",
       "      <td>841</td>\n",
       "      <td>20</td>\n",
       "      <td>2</td>\n",
       "      <td>1</td>\n",
       "      <td>93006</td>\n",
       "      <td>0 days 00:01:33.006000</td>\n",
       "    </tr>\n",
       "  </tbody>\n",
       "</table>\n",
       "</div>"
      ],
      "text/plain": [
       "   raceId  driverId  lap  position  milliseconds                   time\n",
       "0     841        20    1         1         98109 0 days 00:01:38.109000\n",
       "1     841        20    2         1         93006 0 days 00:01:33.006000"
      ]
     },
     "execution_count": 63,
     "metadata": {},
     "output_type": "execute_result"
    }
   ],
   "source": [
    "df7.head(2)"
   ]
  },
  {
   "cell_type": "code",
   "execution_count": 64,
   "id": "fc100a33",
   "metadata": {
    "execution": {
     "iopub.execute_input": "2024-02-17T21:58:17.367905Z",
     "iopub.status.busy": "2024-02-17T21:58:17.367541Z",
     "iopub.status.idle": "2024-02-17T21:58:17.371416Z",
     "shell.execute_reply": "2024-02-17T21:58:17.370545Z"
    },
    "papermill": {
     "duration": 0.052114,
     "end_time": "2024-02-17T21:58:17.373262",
     "exception": false,
     "start_time": "2024-02-17T21:58:17.321148",
     "status": "completed"
    },
    "tags": []
   },
   "outputs": [],
   "source": [
    "#File 8) pit_stops.csv"
   ]
  },
  {
   "cell_type": "code",
   "execution_count": 65,
   "id": "fcd409cd",
   "metadata": {
    "execution": {
     "iopub.execute_input": "2024-02-17T21:58:17.448488Z",
     "iopub.status.busy": "2024-02-17T21:58:17.448106Z",
     "iopub.status.idle": "2024-02-17T21:58:17.458847Z",
     "shell.execute_reply": "2024-02-17T21:58:17.457603Z"
    },
    "papermill": {
     "duration": 0.04958,
     "end_time": "2024-02-17T21:58:17.460820",
     "exception": false,
     "start_time": "2024-02-17T21:58:17.411240",
     "status": "completed"
    },
    "tags": []
   },
   "outputs": [
    {
     "name": "stdout",
     "output_type": "stream",
     "text": [
      "<class 'pandas.core.frame.DataFrame'>\n",
      "RangeIndex: 10089 entries, 0 to 10088\n",
      "Data columns (total 7 columns):\n",
      " #   Column        Non-Null Count  Dtype \n",
      "---  ------        --------------  ----- \n",
      " 0   raceId        10089 non-null  int64 \n",
      " 1   driverId      10089 non-null  int64 \n",
      " 2   stop          10089 non-null  int64 \n",
      " 3   lap           10089 non-null  int64 \n",
      " 4   time          10089 non-null  object\n",
      " 5   duration      10089 non-null  object\n",
      " 6   milliseconds  10089 non-null  int64 \n",
      "dtypes: int64(5), object(2)\n",
      "memory usage: 551.9+ KB\n"
     ]
    }
   ],
   "source": [
    "df8.info()"
   ]
  },
  {
   "cell_type": "code",
   "execution_count": 66,
   "id": "ce42a687",
   "metadata": {
    "execution": {
     "iopub.execute_input": "2024-02-17T21:58:17.539612Z",
     "iopub.status.busy": "2024-02-17T21:58:17.539040Z",
     "iopub.status.idle": "2024-02-17T21:58:17.549212Z",
     "shell.execute_reply": "2024-02-17T21:58:17.548355Z"
    },
    "papermill": {
     "duration": 0.053589,
     "end_time": "2024-02-17T21:58:17.550828",
     "exception": false,
     "start_time": "2024-02-17T21:58:17.497239",
     "status": "completed"
    },
    "tags": []
   },
   "outputs": [
    {
     "data": {
      "text/html": [
       "<div>\n",
       "<style scoped>\n",
       "    .dataframe tbody tr th:only-of-type {\n",
       "        vertical-align: middle;\n",
       "    }\n",
       "\n",
       "    .dataframe tbody tr th {\n",
       "        vertical-align: top;\n",
       "    }\n",
       "\n",
       "    .dataframe thead th {\n",
       "        text-align: right;\n",
       "    }\n",
       "</style>\n",
       "<table border=\"1\" class=\"dataframe\">\n",
       "  <thead>\n",
       "    <tr style=\"text-align: right;\">\n",
       "      <th></th>\n",
       "      <th>raceId</th>\n",
       "      <th>driverId</th>\n",
       "      <th>stop</th>\n",
       "      <th>lap</th>\n",
       "      <th>time</th>\n",
       "      <th>duration</th>\n",
       "      <th>milliseconds</th>\n",
       "    </tr>\n",
       "  </thead>\n",
       "  <tbody>\n",
       "    <tr>\n",
       "      <th>0</th>\n",
       "      <td>841</td>\n",
       "      <td>153</td>\n",
       "      <td>1</td>\n",
       "      <td>1</td>\n",
       "      <td>17:05:23</td>\n",
       "      <td>26.898</td>\n",
       "      <td>26898</td>\n",
       "    </tr>\n",
       "    <tr>\n",
       "      <th>1</th>\n",
       "      <td>841</td>\n",
       "      <td>30</td>\n",
       "      <td>1</td>\n",
       "      <td>1</td>\n",
       "      <td>17:05:52</td>\n",
       "      <td>25.021</td>\n",
       "      <td>25021</td>\n",
       "    </tr>\n",
       "    <tr>\n",
       "      <th>2</th>\n",
       "      <td>841</td>\n",
       "      <td>17</td>\n",
       "      <td>1</td>\n",
       "      <td>11</td>\n",
       "      <td>17:20:48</td>\n",
       "      <td>23.426</td>\n",
       "      <td>23426</td>\n",
       "    </tr>\n",
       "    <tr>\n",
       "      <th>3</th>\n",
       "      <td>841</td>\n",
       "      <td>4</td>\n",
       "      <td>1</td>\n",
       "      <td>12</td>\n",
       "      <td>17:22:34</td>\n",
       "      <td>23.251</td>\n",
       "      <td>23251</td>\n",
       "    </tr>\n",
       "    <tr>\n",
       "      <th>4</th>\n",
       "      <td>841</td>\n",
       "      <td>13</td>\n",
       "      <td>1</td>\n",
       "      <td>13</td>\n",
       "      <td>17:24:10</td>\n",
       "      <td>23.842</td>\n",
       "      <td>23842</td>\n",
       "    </tr>\n",
       "    <tr>\n",
       "      <th>5</th>\n",
       "      <td>841</td>\n",
       "      <td>22</td>\n",
       "      <td>1</td>\n",
       "      <td>13</td>\n",
       "      <td>17:24:29</td>\n",
       "      <td>23.643</td>\n",
       "      <td>23643</td>\n",
       "    </tr>\n",
       "    <tr>\n",
       "      <th>6</th>\n",
       "      <td>841</td>\n",
       "      <td>20</td>\n",
       "      <td>1</td>\n",
       "      <td>14</td>\n",
       "      <td>17:25:17</td>\n",
       "      <td>22.603</td>\n",
       "      <td>22603</td>\n",
       "    </tr>\n",
       "    <tr>\n",
       "      <th>7</th>\n",
       "      <td>841</td>\n",
       "      <td>814</td>\n",
       "      <td>1</td>\n",
       "      <td>14</td>\n",
       "      <td>17:26:03</td>\n",
       "      <td>24.863</td>\n",
       "      <td>24863</td>\n",
       "    </tr>\n",
       "    <tr>\n",
       "      <th>8</th>\n",
       "      <td>841</td>\n",
       "      <td>816</td>\n",
       "      <td>1</td>\n",
       "      <td>14</td>\n",
       "      <td>17:26:50</td>\n",
       "      <td>25.259</td>\n",
       "      <td>25259</td>\n",
       "    </tr>\n",
       "    <tr>\n",
       "      <th>9</th>\n",
       "      <td>841</td>\n",
       "      <td>67</td>\n",
       "      <td>1</td>\n",
       "      <td>15</td>\n",
       "      <td>17:27:34</td>\n",
       "      <td>25.342</td>\n",
       "      <td>25342</td>\n",
       "    </tr>\n",
       "  </tbody>\n",
       "</table>\n",
       "</div>"
      ],
      "text/plain": [
       "   raceId  driverId  stop  lap      time duration  milliseconds\n",
       "0     841       153     1    1  17:05:23   26.898         26898\n",
       "1     841        30     1    1  17:05:52   25.021         25021\n",
       "2     841        17     1   11  17:20:48   23.426         23426\n",
       "3     841         4     1   12  17:22:34   23.251         23251\n",
       "4     841        13     1   13  17:24:10   23.842         23842\n",
       "5     841        22     1   13  17:24:29   23.643         23643\n",
       "6     841        20     1   14  17:25:17   22.603         22603\n",
       "7     841       814     1   14  17:26:03   24.863         24863\n",
       "8     841       816     1   14  17:26:50   25.259         25259\n",
       "9     841        67     1   15  17:27:34   25.342         25342"
      ]
     },
     "execution_count": 66,
     "metadata": {},
     "output_type": "execute_result"
    }
   ],
   "source": [
    "df8.head(10)"
   ]
  },
  {
   "cell_type": "code",
   "execution_count": 67,
   "id": "8af6ecde",
   "metadata": {
    "execution": {
     "iopub.execute_input": "2024-02-17T21:58:17.622551Z",
     "iopub.status.busy": "2024-02-17T21:58:17.622234Z",
     "iopub.status.idle": "2024-02-17T21:58:17.625655Z",
     "shell.execute_reply": "2024-02-17T21:58:17.624786Z"
    },
    "papermill": {
     "duration": 0.041897,
     "end_time": "2024-02-17T21:58:17.627354",
     "exception": false,
     "start_time": "2024-02-17T21:58:17.585457",
     "status": "completed"
    },
    "tags": []
   },
   "outputs": [],
   "source": [
    "#Here, time denotes the time at which driver entered the pit\n",
    "#duration is the time lost in the pit lane\n",
    "#We can drop time & duration and convert milliseconds to time_delta (if required)"
   ]
  },
  {
   "cell_type": "code",
   "execution_count": 68,
   "id": "7d35a6b5",
   "metadata": {
    "execution": {
     "iopub.execute_input": "2024-02-17T21:58:17.700698Z",
     "iopub.status.busy": "2024-02-17T21:58:17.700381Z",
     "iopub.status.idle": "2024-02-17T21:58:17.705549Z",
     "shell.execute_reply": "2024-02-17T21:58:17.704485Z"
    },
    "papermill": {
     "duration": 0.042662,
     "end_time": "2024-02-17T21:58:17.707746",
     "exception": false,
     "start_time": "2024-02-17T21:58:17.665084",
     "status": "completed"
    },
    "tags": []
   },
   "outputs": [],
   "source": [
    "df8.drop(columns={'time', 'duration'}, inplace=True)"
   ]
  },
  {
   "cell_type": "code",
   "execution_count": 69,
   "id": "2ad8d652",
   "metadata": {
    "execution": {
     "iopub.execute_input": "2024-02-17T21:58:17.778726Z",
     "iopub.status.busy": "2024-02-17T21:58:17.777368Z",
     "iopub.status.idle": "2024-02-17T21:58:17.787229Z",
     "shell.execute_reply": "2024-02-17T21:58:17.786388Z"
    },
    "papermill": {
     "duration": 0.047214,
     "end_time": "2024-02-17T21:58:17.789148",
     "exception": false,
     "start_time": "2024-02-17T21:58:17.741934",
     "status": "completed"
    },
    "tags": []
   },
   "outputs": [
    {
     "data": {
      "text/plain": [
       "9156    3069017\n",
       "9155    3067301\n",
       "9157    3065174\n",
       "9154    3063613\n",
       "9152    3063314\n",
       "Name: milliseconds, dtype: int64"
      ]
     },
     "execution_count": 69,
     "metadata": {},
     "output_type": "execute_result"
    }
   ],
   "source": [
    "df8['milliseconds'].nlargest()"
   ]
  },
  {
   "cell_type": "code",
   "execution_count": 70,
   "id": "5d9c2da0",
   "metadata": {
    "execution": {
     "iopub.execute_input": "2024-02-17T21:58:17.861142Z",
     "iopub.status.busy": "2024-02-17T21:58:17.860334Z",
     "iopub.status.idle": "2024-02-17T21:58:17.864271Z",
     "shell.execute_reply": "2024-02-17T21:58:17.863639Z"
    },
    "papermill": {
     "duration": 0.042071,
     "end_time": "2024-02-17T21:58:17.866043",
     "exception": false,
     "start_time": "2024-02-17T21:58:17.823972",
     "status": "completed"
    },
    "tags": []
   },
   "outputs": [],
   "source": [
    "#Pretty large pit stops can be seen, indicating major repairs, or incidents"
   ]
  },
  {
   "cell_type": "code",
   "execution_count": 71,
   "id": "10c9b400",
   "metadata": {
    "execution": {
     "iopub.execute_input": "2024-02-17T21:58:17.940708Z",
     "iopub.status.busy": "2024-02-17T21:58:17.940182Z",
     "iopub.status.idle": "2024-02-17T21:58:17.948198Z",
     "shell.execute_reply": "2024-02-17T21:58:17.947412Z"
    },
    "papermill": {
     "duration": 0.048486,
     "end_time": "2024-02-17T21:58:17.949784",
     "exception": false,
     "start_time": "2024-02-17T21:58:17.901298",
     "status": "completed"
    },
    "tags": []
   },
   "outputs": [
    {
     "data": {
      "text/html": [
       "<div>\n",
       "<style scoped>\n",
       "    .dataframe tbody tr th:only-of-type {\n",
       "        vertical-align: middle;\n",
       "    }\n",
       "\n",
       "    .dataframe tbody tr th {\n",
       "        vertical-align: top;\n",
       "    }\n",
       "\n",
       "    .dataframe thead th {\n",
       "        text-align: right;\n",
       "    }\n",
       "</style>\n",
       "<table border=\"1\" class=\"dataframe\">\n",
       "  <thead>\n",
       "    <tr style=\"text-align: right;\">\n",
       "      <th></th>\n",
       "      <th>raceId</th>\n",
       "      <th>driverId</th>\n",
       "      <th>stop</th>\n",
       "      <th>lap</th>\n",
       "      <th>milliseconds</th>\n",
       "    </tr>\n",
       "  </thead>\n",
       "  <tbody>\n",
       "    <tr>\n",
       "      <th>0</th>\n",
       "      <td>841</td>\n",
       "      <td>153</td>\n",
       "      <td>1</td>\n",
       "      <td>1</td>\n",
       "      <td>26898</td>\n",
       "    </tr>\n",
       "    <tr>\n",
       "      <th>1</th>\n",
       "      <td>841</td>\n",
       "      <td>30</td>\n",
       "      <td>1</td>\n",
       "      <td>1</td>\n",
       "      <td>25021</td>\n",
       "    </tr>\n",
       "  </tbody>\n",
       "</table>\n",
       "</div>"
      ],
      "text/plain": [
       "   raceId  driverId  stop  lap  milliseconds\n",
       "0     841       153     1    1         26898\n",
       "1     841        30     1    1         25021"
      ]
     },
     "execution_count": 71,
     "metadata": {},
     "output_type": "execute_result"
    }
   ],
   "source": [
    "df8.head(2)"
   ]
  },
  {
   "cell_type": "code",
   "execution_count": 72,
   "id": "58c8e8a5",
   "metadata": {
    "execution": {
     "iopub.execute_input": "2024-02-17T21:58:18.021611Z",
     "iopub.status.busy": "2024-02-17T21:58:18.021079Z",
     "iopub.status.idle": "2024-02-17T21:58:18.024609Z",
     "shell.execute_reply": "2024-02-17T21:58:18.024041Z"
    },
    "papermill": {
     "duration": 0.041546,
     "end_time": "2024-02-17T21:58:18.026228",
     "exception": false,
     "start_time": "2024-02-17T21:58:17.984682",
     "status": "completed"
    },
    "tags": []
   },
   "outputs": [],
   "source": [
    "#File 9) qualifying.csv"
   ]
  },
  {
   "cell_type": "code",
   "execution_count": 73,
   "id": "d79f8d0f",
   "metadata": {
    "execution": {
     "iopub.execute_input": "2024-02-17T21:58:18.098632Z",
     "iopub.status.busy": "2024-02-17T21:58:18.098345Z",
     "iopub.status.idle": "2024-02-17T21:58:18.109924Z",
     "shell.execute_reply": "2024-02-17T21:58:18.108545Z"
    },
    "papermill": {
     "duration": 0.051234,
     "end_time": "2024-02-17T21:58:18.111942",
     "exception": false,
     "start_time": "2024-02-17T21:58:18.060708",
     "status": "completed"
    },
    "tags": []
   },
   "outputs": [
    {
     "name": "stdout",
     "output_type": "stream",
     "text": [
      "<class 'pandas.core.frame.DataFrame'>\n",
      "RangeIndex: 9815 entries, 0 to 9814\n",
      "Data columns (total 9 columns):\n",
      " #   Column         Non-Null Count  Dtype \n",
      "---  ------         --------------  ----- \n",
      " 0   qualifyId      9815 non-null   int64 \n",
      " 1   raceId         9815 non-null   int64 \n",
      " 2   driverId       9815 non-null   int64 \n",
      " 3   constructorId  9815 non-null   int64 \n",
      " 4   number         9815 non-null   int64 \n",
      " 5   position       9815 non-null   int64 \n",
      " 6   q1             9807 non-null   object\n",
      " 7   q2             9651 non-null   object\n",
      " 8   q3             9488 non-null   object\n",
      "dtypes: int64(6), object(3)\n",
      "memory usage: 690.2+ KB\n"
     ]
    }
   ],
   "source": [
    "df9.info()"
   ]
  },
  {
   "cell_type": "code",
   "execution_count": 74,
   "id": "a1739359",
   "metadata": {
    "execution": {
     "iopub.execute_input": "2024-02-17T21:58:18.183207Z",
     "iopub.status.busy": "2024-02-17T21:58:18.182725Z",
     "iopub.status.idle": "2024-02-17T21:58:18.191756Z",
     "shell.execute_reply": "2024-02-17T21:58:18.191176Z"
    },
    "papermill": {
     "duration": 0.047279,
     "end_time": "2024-02-17T21:58:18.193496",
     "exception": false,
     "start_time": "2024-02-17T21:58:18.146217",
     "status": "completed"
    },
    "tags": []
   },
   "outputs": [
    {
     "data": {
      "text/html": [
       "<div>\n",
       "<style scoped>\n",
       "    .dataframe tbody tr th:only-of-type {\n",
       "        vertical-align: middle;\n",
       "    }\n",
       "\n",
       "    .dataframe tbody tr th {\n",
       "        vertical-align: top;\n",
       "    }\n",
       "\n",
       "    .dataframe thead th {\n",
       "        text-align: right;\n",
       "    }\n",
       "</style>\n",
       "<table border=\"1\" class=\"dataframe\">\n",
       "  <thead>\n",
       "    <tr style=\"text-align: right;\">\n",
       "      <th></th>\n",
       "      <th>qualifyId</th>\n",
       "      <th>raceId</th>\n",
       "      <th>driverId</th>\n",
       "      <th>constructorId</th>\n",
       "      <th>number</th>\n",
       "      <th>position</th>\n",
       "      <th>q1</th>\n",
       "      <th>q2</th>\n",
       "      <th>q3</th>\n",
       "    </tr>\n",
       "  </thead>\n",
       "  <tbody>\n",
       "    <tr>\n",
       "      <th>0</th>\n",
       "      <td>1</td>\n",
       "      <td>18</td>\n",
       "      <td>1</td>\n",
       "      <td>1</td>\n",
       "      <td>22</td>\n",
       "      <td>1</td>\n",
       "      <td>1:26.572</td>\n",
       "      <td>1:25.187</td>\n",
       "      <td>1:26.714</td>\n",
       "    </tr>\n",
       "    <tr>\n",
       "      <th>1</th>\n",
       "      <td>2</td>\n",
       "      <td>18</td>\n",
       "      <td>9</td>\n",
       "      <td>2</td>\n",
       "      <td>4</td>\n",
       "      <td>2</td>\n",
       "      <td>1:26.103</td>\n",
       "      <td>1:25.315</td>\n",
       "      <td>1:26.869</td>\n",
       "    </tr>\n",
       "  </tbody>\n",
       "</table>\n",
       "</div>"
      ],
      "text/plain": [
       "   qualifyId  raceId  driverId  constructorId  number  position        q1  \\\n",
       "0          1      18         1              1      22         1  1:26.572   \n",
       "1          2      18         9              2       4         2  1:26.103   \n",
       "\n",
       "         q2        q3  \n",
       "0  1:25.187  1:26.714  \n",
       "1  1:25.315  1:26.869  "
      ]
     },
     "execution_count": 74,
     "metadata": {},
     "output_type": "execute_result"
    }
   ],
   "source": [
    "df9.head(2)"
   ]
  },
  {
   "cell_type": "code",
   "execution_count": 75,
   "id": "eff7d684",
   "metadata": {
    "execution": {
     "iopub.execute_input": "2024-02-17T21:58:18.267784Z",
     "iopub.status.busy": "2024-02-17T21:58:18.267272Z",
     "iopub.status.idle": "2024-02-17T21:58:18.275469Z",
     "shell.execute_reply": "2024-02-17T21:58:18.274799Z"
    },
    "papermill": {
     "duration": 0.04756,
     "end_time": "2024-02-17T21:58:18.277594",
     "exception": false,
     "start_time": "2024-02-17T21:58:18.230034",
     "status": "completed"
    },
    "tags": []
   },
   "outputs": [],
   "source": [
    "# Replace '\\N' with '0:00:000' in columns 'q1', 'q2', and 'q3' of the DataFrame\n",
    "df9[['q1', 'q2', 'q3']] = df9[['q1', 'q2', 'q3']].replace('\\\\N', '0:00.000')"
   ]
  },
  {
   "cell_type": "code",
   "execution_count": 76,
   "id": "b83ed810",
   "metadata": {
    "execution": {
     "iopub.execute_input": "2024-02-17T21:58:18.349622Z",
     "iopub.status.busy": "2024-02-17T21:58:18.349108Z",
     "iopub.status.idle": "2024-02-17T21:58:18.404315Z",
     "shell.execute_reply": "2024-02-17T21:58:18.403243Z"
    },
    "papermill": {
     "duration": 0.093907,
     "end_time": "2024-02-17T21:58:18.406646",
     "exception": false,
     "start_time": "2024-02-17T21:58:18.312739",
     "status": "completed"
    },
    "tags": []
   },
   "outputs": [],
   "source": [
    "#Converting q1, q2, q3 from string to tome format\n",
    "df9['q1'] = pd.to_datetime(df9['q1'], format='%M:%S.%f')\n",
    "df9['q2'] = pd.to_datetime(df9['q2'], format='%M:%S.%f')\n",
    "df9['q3'] = pd.to_datetime(df9['q3'], format='%M:%S.%f')"
   ]
  },
  {
   "cell_type": "code",
   "execution_count": 77,
   "id": "a17946dc",
   "metadata": {
    "execution": {
     "iopub.execute_input": "2024-02-17T21:58:18.479426Z",
     "iopub.status.busy": "2024-02-17T21:58:18.479113Z",
     "iopub.status.idle": "2024-02-17T21:58:18.489962Z",
     "shell.execute_reply": "2024-02-17T21:58:18.488695Z"
    },
    "papermill": {
     "duration": 0.049487,
     "end_time": "2024-02-17T21:58:18.491896",
     "exception": false,
     "start_time": "2024-02-17T21:58:18.442409",
     "status": "completed"
    },
    "tags": []
   },
   "outputs": [
    {
     "name": "stdout",
     "output_type": "stream",
     "text": [
      "<class 'pandas.core.frame.DataFrame'>\n",
      "RangeIndex: 9815 entries, 0 to 9814\n",
      "Data columns (total 9 columns):\n",
      " #   Column         Non-Null Count  Dtype         \n",
      "---  ------         --------------  -----         \n",
      " 0   qualifyId      9815 non-null   int64         \n",
      " 1   raceId         9815 non-null   int64         \n",
      " 2   driverId       9815 non-null   int64         \n",
      " 3   constructorId  9815 non-null   int64         \n",
      " 4   number         9815 non-null   int64         \n",
      " 5   position       9815 non-null   int64         \n",
      " 6   q1             9807 non-null   datetime64[ns]\n",
      " 7   q2             9651 non-null   datetime64[ns]\n",
      " 8   q3             9488 non-null   datetime64[ns]\n",
      "dtypes: datetime64[ns](3), int64(6)\n",
      "memory usage: 690.2 KB\n"
     ]
    }
   ],
   "source": [
    "df9.info()"
   ]
  },
  {
   "cell_type": "code",
   "execution_count": 78,
   "id": "87d1063d",
   "metadata": {
    "execution": {
     "iopub.execute_input": "2024-02-17T21:58:18.565282Z",
     "iopub.status.busy": "2024-02-17T21:58:18.564317Z",
     "iopub.status.idle": "2024-02-17T21:58:18.568506Z",
     "shell.execute_reply": "2024-02-17T21:58:18.567543Z"
    },
    "papermill": {
     "duration": 0.042998,
     "end_time": "2024-02-17T21:58:18.571046",
     "exception": false,
     "start_time": "2024-02-17T21:58:18.528048",
     "status": "completed"
    },
    "tags": []
   },
   "outputs": [],
   "source": [
    "#File 10) races.csv"
   ]
  },
  {
   "cell_type": "code",
   "execution_count": 79,
   "id": "f4e957c3",
   "metadata": {
    "execution": {
     "iopub.execute_input": "2024-02-17T21:58:18.644181Z",
     "iopub.status.busy": "2024-02-17T21:58:18.643327Z",
     "iopub.status.idle": "2024-02-17T21:58:18.658487Z",
     "shell.execute_reply": "2024-02-17T21:58:18.657516Z"
    },
    "papermill": {
     "duration": 0.05407,
     "end_time": "2024-02-17T21:58:18.660921",
     "exception": false,
     "start_time": "2024-02-17T21:58:18.606851",
     "status": "completed"
    },
    "tags": []
   },
   "outputs": [
    {
     "data": {
      "text/html": [
       "<div>\n",
       "<style scoped>\n",
       "    .dataframe tbody tr th:only-of-type {\n",
       "        vertical-align: middle;\n",
       "    }\n",
       "\n",
       "    .dataframe tbody tr th {\n",
       "        vertical-align: top;\n",
       "    }\n",
       "\n",
       "    .dataframe thead th {\n",
       "        text-align: right;\n",
       "    }\n",
       "</style>\n",
       "<table border=\"1\" class=\"dataframe\">\n",
       "  <thead>\n",
       "    <tr style=\"text-align: right;\">\n",
       "      <th></th>\n",
       "      <th>raceId</th>\n",
       "      <th>year</th>\n",
       "      <th>round</th>\n",
       "      <th>circuitId</th>\n",
       "      <th>name</th>\n",
       "      <th>date</th>\n",
       "      <th>time</th>\n",
       "      <th>url</th>\n",
       "      <th>fp1_date</th>\n",
       "      <th>fp1_time</th>\n",
       "      <th>fp2_date</th>\n",
       "      <th>fp2_time</th>\n",
       "      <th>fp3_date</th>\n",
       "      <th>fp3_time</th>\n",
       "      <th>quali_date</th>\n",
       "      <th>quali_time</th>\n",
       "      <th>sprint_date</th>\n",
       "      <th>sprint_time</th>\n",
       "    </tr>\n",
       "  </thead>\n",
       "  <tbody>\n",
       "    <tr>\n",
       "      <th>0</th>\n",
       "      <td>1</td>\n",
       "      <td>2009</td>\n",
       "      <td>1</td>\n",
       "      <td>1</td>\n",
       "      <td>Australian Grand Prix</td>\n",
       "      <td>2009-03-29</td>\n",
       "      <td>06:00:00</td>\n",
       "      <td>http://en.wikipedia.org/wiki/2009_Australian_G...</td>\n",
       "      <td>\\N</td>\n",
       "      <td>\\N</td>\n",
       "      <td>\\N</td>\n",
       "      <td>\\N</td>\n",
       "      <td>\\N</td>\n",
       "      <td>\\N</td>\n",
       "      <td>\\N</td>\n",
       "      <td>\\N</td>\n",
       "      <td>\\N</td>\n",
       "      <td>\\N</td>\n",
       "    </tr>\n",
       "    <tr>\n",
       "      <th>1</th>\n",
       "      <td>2</td>\n",
       "      <td>2009</td>\n",
       "      <td>2</td>\n",
       "      <td>2</td>\n",
       "      <td>Malaysian Grand Prix</td>\n",
       "      <td>2009-04-05</td>\n",
       "      <td>09:00:00</td>\n",
       "      <td>http://en.wikipedia.org/wiki/2009_Malaysian_Gr...</td>\n",
       "      <td>\\N</td>\n",
       "      <td>\\N</td>\n",
       "      <td>\\N</td>\n",
       "      <td>\\N</td>\n",
       "      <td>\\N</td>\n",
       "      <td>\\N</td>\n",
       "      <td>\\N</td>\n",
       "      <td>\\N</td>\n",
       "      <td>\\N</td>\n",
       "      <td>\\N</td>\n",
       "    </tr>\n",
       "  </tbody>\n",
       "</table>\n",
       "</div>"
      ],
      "text/plain": [
       "   raceId  year  round  circuitId                   name        date  \\\n",
       "0       1  2009      1          1  Australian Grand Prix  2009-03-29   \n",
       "1       2  2009      2          2   Malaysian Grand Prix  2009-04-05   \n",
       "\n",
       "       time                                                url fp1_date  \\\n",
       "0  06:00:00  http://en.wikipedia.org/wiki/2009_Australian_G...       \\N   \n",
       "1  09:00:00  http://en.wikipedia.org/wiki/2009_Malaysian_Gr...       \\N   \n",
       "\n",
       "  fp1_time fp2_date fp2_time fp3_date fp3_time quali_date quali_time  \\\n",
       "0       \\N       \\N       \\N       \\N       \\N         \\N         \\N   \n",
       "1       \\N       \\N       \\N       \\N       \\N         \\N         \\N   \n",
       "\n",
       "  sprint_date sprint_time  \n",
       "0          \\N          \\N  \n",
       "1          \\N          \\N  "
      ]
     },
     "execution_count": 79,
     "metadata": {},
     "output_type": "execute_result"
    }
   ],
   "source": [
    "df10.head(2)"
   ]
  },
  {
   "cell_type": "code",
   "execution_count": 80,
   "id": "65435000",
   "metadata": {
    "execution": {
     "iopub.execute_input": "2024-02-17T21:58:18.733953Z",
     "iopub.status.busy": "2024-02-17T21:58:18.733601Z",
     "iopub.status.idle": "2024-02-17T21:58:18.738817Z",
     "shell.execute_reply": "2024-02-17T21:58:18.737899Z"
    },
    "papermill": {
     "duration": 0.044631,
     "end_time": "2024-02-17T21:58:18.741215",
     "exception": false,
     "start_time": "2024-02-17T21:58:18.696584",
     "status": "completed"
    },
    "tags": []
   },
   "outputs": [],
   "source": [
    "#Slicing useful columns\n",
    "df10 = df10.iloc[:, 0:4]"
   ]
  },
  {
   "cell_type": "code",
   "execution_count": 81,
   "id": "b6f1c624",
   "metadata": {
    "execution": {
     "iopub.execute_input": "2024-02-17T21:58:18.815279Z",
     "iopub.status.busy": "2024-02-17T21:58:18.814167Z",
     "iopub.status.idle": "2024-02-17T21:58:18.823556Z",
     "shell.execute_reply": "2024-02-17T21:58:18.822171Z"
    },
    "papermill": {
     "duration": 0.048392,
     "end_time": "2024-02-17T21:58:18.825416",
     "exception": false,
     "start_time": "2024-02-17T21:58:18.777024",
     "status": "completed"
    },
    "tags": []
   },
   "outputs": [
    {
     "data": {
      "text/html": [
       "<div>\n",
       "<style scoped>\n",
       "    .dataframe tbody tr th:only-of-type {\n",
       "        vertical-align: middle;\n",
       "    }\n",
       "\n",
       "    .dataframe tbody tr th {\n",
       "        vertical-align: top;\n",
       "    }\n",
       "\n",
       "    .dataframe thead th {\n",
       "        text-align: right;\n",
       "    }\n",
       "</style>\n",
       "<table border=\"1\" class=\"dataframe\">\n",
       "  <thead>\n",
       "    <tr style=\"text-align: right;\">\n",
       "      <th></th>\n",
       "      <th>raceId</th>\n",
       "      <th>year</th>\n",
       "      <th>round</th>\n",
       "      <th>circuitId</th>\n",
       "    </tr>\n",
       "  </thead>\n",
       "  <tbody>\n",
       "    <tr>\n",
       "      <th>0</th>\n",
       "      <td>1</td>\n",
       "      <td>2009</td>\n",
       "      <td>1</td>\n",
       "      <td>1</td>\n",
       "    </tr>\n",
       "    <tr>\n",
       "      <th>1</th>\n",
       "      <td>2</td>\n",
       "      <td>2009</td>\n",
       "      <td>2</td>\n",
       "      <td>2</td>\n",
       "    </tr>\n",
       "  </tbody>\n",
       "</table>\n",
       "</div>"
      ],
      "text/plain": [
       "   raceId  year  round  circuitId\n",
       "0       1  2009      1          1\n",
       "1       2  2009      2          2"
      ]
     },
     "execution_count": 81,
     "metadata": {},
     "output_type": "execute_result"
    }
   ],
   "source": [
    "df10.head(2)"
   ]
  },
  {
   "cell_type": "code",
   "execution_count": 82,
   "id": "5d5c92aa",
   "metadata": {
    "execution": {
     "iopub.execute_input": "2024-02-17T21:58:18.900307Z",
     "iopub.status.busy": "2024-02-17T21:58:18.899188Z",
     "iopub.status.idle": "2024-02-17T21:58:18.903709Z",
     "shell.execute_reply": "2024-02-17T21:58:18.902708Z"
    },
    "papermill": {
     "duration": 0.043836,
     "end_time": "2024-02-17T21:58:18.905500",
     "exception": false,
     "start_time": "2024-02-17T21:58:18.861664",
     "status": "completed"
    },
    "tags": []
   },
   "outputs": [],
   "source": [
    "# File 11)"
   ]
  },
  {
   "cell_type": "code",
   "execution_count": 83,
   "id": "f04c222e",
   "metadata": {
    "execution": {
     "iopub.execute_input": "2024-02-17T21:58:18.981502Z",
     "iopub.status.busy": "2024-02-17T21:58:18.980543Z",
     "iopub.status.idle": "2024-02-17T21:58:18.999546Z",
     "shell.execute_reply": "2024-02-17T21:58:18.998145Z"
    },
    "papermill": {
     "duration": 0.057977,
     "end_time": "2024-02-17T21:58:19.001611",
     "exception": false,
     "start_time": "2024-02-17T21:58:18.943634",
     "status": "completed"
    },
    "tags": []
   },
   "outputs": [
    {
     "name": "stdout",
     "output_type": "stream",
     "text": [
      "<class 'pandas.core.frame.DataFrame'>\n",
      "RangeIndex: 26080 entries, 0 to 26079\n",
      "Data columns (total 18 columns):\n",
      " #   Column           Non-Null Count  Dtype  \n",
      "---  ------           --------------  -----  \n",
      " 0   resultId         26080 non-null  int64  \n",
      " 1   raceId           26080 non-null  int64  \n",
      " 2   driverId         26080 non-null  int64  \n",
      " 3   constructorId    26080 non-null  int64  \n",
      " 4   number           26080 non-null  object \n",
      " 5   grid             26080 non-null  int64  \n",
      " 6   position         26080 non-null  object \n",
      " 7   positionText     26080 non-null  object \n",
      " 8   positionOrder    26080 non-null  int64  \n",
      " 9   points           26080 non-null  float64\n",
      " 10  laps             26080 non-null  int64  \n",
      " 11  time             26080 non-null  object \n",
      " 12  milliseconds     26080 non-null  object \n",
      " 13  fastestLap       26080 non-null  object \n",
      " 14  rank             26080 non-null  object \n",
      " 15  fastestLapTime   26080 non-null  object \n",
      " 16  fastestLapSpeed  26080 non-null  object \n",
      " 17  statusId         26080 non-null  int64  \n",
      "dtypes: float64(1), int64(8), object(9)\n",
      "memory usage: 3.6+ MB\n"
     ]
    }
   ],
   "source": [
    "df11.info()"
   ]
  },
  {
   "cell_type": "code",
   "execution_count": 84,
   "id": "5e8f6a31",
   "metadata": {
    "execution": {
     "iopub.execute_input": "2024-02-17T21:58:19.074172Z",
     "iopub.status.busy": "2024-02-17T21:58:19.073851Z",
     "iopub.status.idle": "2024-02-17T21:58:19.090164Z",
     "shell.execute_reply": "2024-02-17T21:58:19.088961Z"
    },
    "papermill": {
     "duration": 0.055502,
     "end_time": "2024-02-17T21:58:19.092338",
     "exception": false,
     "start_time": "2024-02-17T21:58:19.036836",
     "status": "completed"
    },
    "tags": []
   },
   "outputs": [
    {
     "data": {
      "text/html": [
       "<div>\n",
       "<style scoped>\n",
       "    .dataframe tbody tr th:only-of-type {\n",
       "        vertical-align: middle;\n",
       "    }\n",
       "\n",
       "    .dataframe tbody tr th {\n",
       "        vertical-align: top;\n",
       "    }\n",
       "\n",
       "    .dataframe thead th {\n",
       "        text-align: right;\n",
       "    }\n",
       "</style>\n",
       "<table border=\"1\" class=\"dataframe\">\n",
       "  <thead>\n",
       "    <tr style=\"text-align: right;\">\n",
       "      <th></th>\n",
       "      <th>resultId</th>\n",
       "      <th>raceId</th>\n",
       "      <th>driverId</th>\n",
       "      <th>constructorId</th>\n",
       "      <th>number</th>\n",
       "      <th>grid</th>\n",
       "      <th>position</th>\n",
       "      <th>positionText</th>\n",
       "      <th>positionOrder</th>\n",
       "      <th>points</th>\n",
       "      <th>laps</th>\n",
       "      <th>time</th>\n",
       "      <th>milliseconds</th>\n",
       "      <th>fastestLap</th>\n",
       "      <th>rank</th>\n",
       "      <th>fastestLapTime</th>\n",
       "      <th>fastestLapSpeed</th>\n",
       "      <th>statusId</th>\n",
       "    </tr>\n",
       "  </thead>\n",
       "  <tbody>\n",
       "    <tr>\n",
       "      <th>0</th>\n",
       "      <td>1</td>\n",
       "      <td>18</td>\n",
       "      <td>1</td>\n",
       "      <td>1</td>\n",
       "      <td>22</td>\n",
       "      <td>1</td>\n",
       "      <td>1</td>\n",
       "      <td>1</td>\n",
       "      <td>1</td>\n",
       "      <td>10.0</td>\n",
       "      <td>58</td>\n",
       "      <td>1:34:50.616</td>\n",
       "      <td>5690616</td>\n",
       "      <td>39</td>\n",
       "      <td>2</td>\n",
       "      <td>1:27.452</td>\n",
       "      <td>218.300</td>\n",
       "      <td>1</td>\n",
       "    </tr>\n",
       "    <tr>\n",
       "      <th>1</th>\n",
       "      <td>2</td>\n",
       "      <td>18</td>\n",
       "      <td>2</td>\n",
       "      <td>2</td>\n",
       "      <td>3</td>\n",
       "      <td>5</td>\n",
       "      <td>2</td>\n",
       "      <td>2</td>\n",
       "      <td>2</td>\n",
       "      <td>8.0</td>\n",
       "      <td>58</td>\n",
       "      <td>+5.478</td>\n",
       "      <td>5696094</td>\n",
       "      <td>41</td>\n",
       "      <td>3</td>\n",
       "      <td>1:27.739</td>\n",
       "      <td>217.586</td>\n",
       "      <td>1</td>\n",
       "    </tr>\n",
       "    <tr>\n",
       "      <th>2</th>\n",
       "      <td>3</td>\n",
       "      <td>18</td>\n",
       "      <td>3</td>\n",
       "      <td>3</td>\n",
       "      <td>7</td>\n",
       "      <td>7</td>\n",
       "      <td>3</td>\n",
       "      <td>3</td>\n",
       "      <td>3</td>\n",
       "      <td>6.0</td>\n",
       "      <td>58</td>\n",
       "      <td>+8.163</td>\n",
       "      <td>5698779</td>\n",
       "      <td>41</td>\n",
       "      <td>5</td>\n",
       "      <td>1:28.090</td>\n",
       "      <td>216.719</td>\n",
       "      <td>1</td>\n",
       "    </tr>\n",
       "    <tr>\n",
       "      <th>3</th>\n",
       "      <td>4</td>\n",
       "      <td>18</td>\n",
       "      <td>4</td>\n",
       "      <td>4</td>\n",
       "      <td>5</td>\n",
       "      <td>11</td>\n",
       "      <td>4</td>\n",
       "      <td>4</td>\n",
       "      <td>4</td>\n",
       "      <td>5.0</td>\n",
       "      <td>58</td>\n",
       "      <td>+17.181</td>\n",
       "      <td>5707797</td>\n",
       "      <td>58</td>\n",
       "      <td>7</td>\n",
       "      <td>1:28.603</td>\n",
       "      <td>215.464</td>\n",
       "      <td>1</td>\n",
       "    </tr>\n",
       "    <tr>\n",
       "      <th>4</th>\n",
       "      <td>5</td>\n",
       "      <td>18</td>\n",
       "      <td>5</td>\n",
       "      <td>1</td>\n",
       "      <td>23</td>\n",
       "      <td>3</td>\n",
       "      <td>5</td>\n",
       "      <td>5</td>\n",
       "      <td>5</td>\n",
       "      <td>4.0</td>\n",
       "      <td>58</td>\n",
       "      <td>+18.014</td>\n",
       "      <td>5708630</td>\n",
       "      <td>43</td>\n",
       "      <td>1</td>\n",
       "      <td>1:27.418</td>\n",
       "      <td>218.385</td>\n",
       "      <td>1</td>\n",
       "    </tr>\n",
       "  </tbody>\n",
       "</table>\n",
       "</div>"
      ],
      "text/plain": [
       "   resultId  raceId  driverId  constructorId number  grid position  \\\n",
       "0         1      18         1              1     22     1        1   \n",
       "1         2      18         2              2      3     5        2   \n",
       "2         3      18         3              3      7     7        3   \n",
       "3         4      18         4              4      5    11        4   \n",
       "4         5      18         5              1     23     3        5   \n",
       "\n",
       "  positionText  positionOrder  points  laps         time milliseconds  \\\n",
       "0            1              1    10.0    58  1:34:50.616      5690616   \n",
       "1            2              2     8.0    58       +5.478      5696094   \n",
       "2            3              3     6.0    58       +8.163      5698779   \n",
       "3            4              4     5.0    58      +17.181      5707797   \n",
       "4            5              5     4.0    58      +18.014      5708630   \n",
       "\n",
       "  fastestLap rank fastestLapTime fastestLapSpeed  statusId  \n",
       "0         39    2       1:27.452         218.300         1  \n",
       "1         41    3       1:27.739         217.586         1  \n",
       "2         41    5       1:28.090         216.719         1  \n",
       "3         58    7       1:28.603         215.464         1  \n",
       "4         43    1       1:27.418         218.385         1  "
      ]
     },
     "execution_count": 84,
     "metadata": {},
     "output_type": "execute_result"
    }
   ],
   "source": [
    "df11.head()"
   ]
  },
  {
   "cell_type": "code",
   "execution_count": 85,
   "id": "146cc925",
   "metadata": {
    "execution": {
     "iopub.execute_input": "2024-02-17T21:58:19.167524Z",
     "iopub.status.busy": "2024-02-17T21:58:19.166900Z",
     "iopub.status.idle": "2024-02-17T21:58:19.173372Z",
     "shell.execute_reply": "2024-02-17T21:58:19.172645Z"
    },
    "papermill": {
     "duration": 0.046833,
     "end_time": "2024-02-17T21:58:19.175594",
     "exception": false,
     "start_time": "2024-02-17T21:58:19.128761",
     "status": "completed"
    },
    "tags": []
   },
   "outputs": [],
   "source": [
    "#Dropping position and positionText because positionOrder has all Integers\n",
    "#Dropping time, because handling milliseconds would be easier\n",
    "df11.drop(columns={'position', 'positionText', 'time', 'number'}, inplace=True)"
   ]
  },
  {
   "cell_type": "code",
   "execution_count": 86,
   "id": "08a85afe",
   "metadata": {
    "execution": {
     "iopub.execute_input": "2024-02-17T21:58:19.250822Z",
     "iopub.status.busy": "2024-02-17T21:58:19.250286Z",
     "iopub.status.idle": "2024-02-17T21:58:19.262357Z",
     "shell.execute_reply": "2024-02-17T21:58:19.261544Z"
    },
    "papermill": {
     "duration": 0.052165,
     "end_time": "2024-02-17T21:58:19.264692",
     "exception": false,
     "start_time": "2024-02-17T21:58:19.212527",
     "status": "completed"
    },
    "tags": []
   },
   "outputs": [
    {
     "data": {
      "text/html": [
       "<div>\n",
       "<style scoped>\n",
       "    .dataframe tbody tr th:only-of-type {\n",
       "        vertical-align: middle;\n",
       "    }\n",
       "\n",
       "    .dataframe tbody tr th {\n",
       "        vertical-align: top;\n",
       "    }\n",
       "\n",
       "    .dataframe thead th {\n",
       "        text-align: right;\n",
       "    }\n",
       "</style>\n",
       "<table border=\"1\" class=\"dataframe\">\n",
       "  <thead>\n",
       "    <tr style=\"text-align: right;\">\n",
       "      <th></th>\n",
       "      <th>resultId</th>\n",
       "      <th>raceId</th>\n",
       "      <th>driverId</th>\n",
       "      <th>constructorId</th>\n",
       "      <th>grid</th>\n",
       "      <th>positionOrder</th>\n",
       "      <th>points</th>\n",
       "      <th>laps</th>\n",
       "      <th>milliseconds</th>\n",
       "      <th>fastestLap</th>\n",
       "      <th>rank</th>\n",
       "      <th>fastestLapTime</th>\n",
       "      <th>fastestLapSpeed</th>\n",
       "      <th>statusId</th>\n",
       "    </tr>\n",
       "  </thead>\n",
       "  <tbody>\n",
       "    <tr>\n",
       "      <th>0</th>\n",
       "      <td>1</td>\n",
       "      <td>18</td>\n",
       "      <td>1</td>\n",
       "      <td>1</td>\n",
       "      <td>1</td>\n",
       "      <td>1</td>\n",
       "      <td>10.0</td>\n",
       "      <td>58</td>\n",
       "      <td>5690616</td>\n",
       "      <td>39</td>\n",
       "      <td>2</td>\n",
       "      <td>1:27.452</td>\n",
       "      <td>218.300</td>\n",
       "      <td>1</td>\n",
       "    </tr>\n",
       "    <tr>\n",
       "      <th>1</th>\n",
       "      <td>2</td>\n",
       "      <td>18</td>\n",
       "      <td>2</td>\n",
       "      <td>2</td>\n",
       "      <td>5</td>\n",
       "      <td>2</td>\n",
       "      <td>8.0</td>\n",
       "      <td>58</td>\n",
       "      <td>5696094</td>\n",
       "      <td>41</td>\n",
       "      <td>3</td>\n",
       "      <td>1:27.739</td>\n",
       "      <td>217.586</td>\n",
       "      <td>1</td>\n",
       "    </tr>\n",
       "  </tbody>\n",
       "</table>\n",
       "</div>"
      ],
      "text/plain": [
       "   resultId  raceId  driverId  constructorId  grid  positionOrder  points  \\\n",
       "0         1      18         1              1     1              1    10.0   \n",
       "1         2      18         2              2     5              2     8.0   \n",
       "\n",
       "   laps milliseconds fastestLap rank fastestLapTime fastestLapSpeed  statusId  \n",
       "0    58      5690616         39    2       1:27.452         218.300         1  \n",
       "1    58      5696094         41    3       1:27.739         217.586         1  "
      ]
     },
     "execution_count": 86,
     "metadata": {},
     "output_type": "execute_result"
    }
   ],
   "source": [
    "df11.head(2)"
   ]
  },
  {
   "cell_type": "code",
   "execution_count": 87,
   "id": "166d6500",
   "metadata": {
    "execution": {
     "iopub.execute_input": "2024-02-17T21:58:19.341947Z",
     "iopub.status.busy": "2024-02-17T21:58:19.341208Z",
     "iopub.status.idle": "2024-02-17T21:58:19.359358Z",
     "shell.execute_reply": "2024-02-17T21:58:19.358177Z"
    },
    "papermill": {
     "duration": 0.058943,
     "end_time": "2024-02-17T21:58:19.361636",
     "exception": false,
     "start_time": "2024-02-17T21:58:19.302693",
     "status": "completed"
    },
    "tags": []
   },
   "outputs": [],
   "source": [
    "#Handling Missing Values \n",
    "# Replace '\\N' with '0' in columns milliseconds, fastestLap, rank & fastestLapSpeed\n",
    "df11[['milliseconds', 'fastestLap', 'rank', 'fastestLapSpeed']] = df11[['milliseconds', 'fastestLap', 'rank', 'fastestLapSpeed']].replace('\\\\N', '0')"
   ]
  },
  {
   "cell_type": "code",
   "execution_count": 88,
   "id": "330b5ea8",
   "metadata": {
    "execution": {
     "iopub.execute_input": "2024-02-17T21:58:19.436817Z",
     "iopub.status.busy": "2024-02-17T21:58:19.436268Z",
     "iopub.status.idle": "2024-02-17T21:58:19.444842Z",
     "shell.execute_reply": "2024-02-17T21:58:19.443734Z"
    },
    "papermill": {
     "duration": 0.048264,
     "end_time": "2024-02-17T21:58:19.447170",
     "exception": false,
     "start_time": "2024-02-17T21:58:19.398906",
     "status": "completed"
    },
    "tags": []
   },
   "outputs": [],
   "source": [
    " # Replace '\\N' with '0:00.000' in column fastestLapTime\n",
    "df11[['fastestLapTime']] = df11[['fastestLapTime']].replace('\\\\N', '0:0.000')    "
   ]
  },
  {
   "cell_type": "code",
   "execution_count": 89,
   "id": "b5d9b94c",
   "metadata": {
    "execution": {
     "iopub.execute_input": "2024-02-17T21:58:19.522016Z",
     "iopub.status.busy": "2024-02-17T21:58:19.521381Z",
     "iopub.status.idle": "2024-02-17T21:58:19.533532Z",
     "shell.execute_reply": "2024-02-17T21:58:19.532523Z"
    },
    "papermill": {
     "duration": 0.052322,
     "end_time": "2024-02-17T21:58:19.535896",
     "exception": false,
     "start_time": "2024-02-17T21:58:19.483574",
     "status": "completed"
    },
    "tags": []
   },
   "outputs": [],
   "source": [
    "#Converting column milliseconds, fastestLap, rank from string to int format\n",
    "df11[['milliseconds', 'fastestLap', 'rank']] = df11[['milliseconds', 'fastestLap', 'rank']].astype(int)"
   ]
  },
  {
   "cell_type": "code",
   "execution_count": 90,
   "id": "14009f58",
   "metadata": {
    "execution": {
     "iopub.execute_input": "2024-02-17T21:58:19.612782Z",
     "iopub.status.busy": "2024-02-17T21:58:19.612192Z",
     "iopub.status.idle": "2024-02-17T21:58:19.619933Z",
     "shell.execute_reply": "2024-02-17T21:58:19.618828Z"
    },
    "papermill": {
     "duration": 0.049386,
     "end_time": "2024-02-17T21:58:19.622391",
     "exception": false,
     "start_time": "2024-02-17T21:58:19.573005",
     "status": "completed"
    },
    "tags": []
   },
   "outputs": [],
   "source": [
    "#Converting column fastestLapSpeed string to float format\n",
    "df11['fastestLapSpeed'] = df11['fastestLapSpeed'].astype(float)"
   ]
  },
  {
   "cell_type": "code",
   "execution_count": 91,
   "id": "fddcdd6b",
   "metadata": {
    "execution": {
     "iopub.execute_input": "2024-02-17T21:58:19.698132Z",
     "iopub.status.busy": "2024-02-17T21:58:19.697530Z",
     "iopub.status.idle": "2024-02-17T21:58:19.757748Z",
     "shell.execute_reply": "2024-02-17T21:58:19.756132Z"
    },
    "papermill": {
     "duration": 0.100492,
     "end_time": "2024-02-17T21:58:19.760256",
     "exception": false,
     "start_time": "2024-02-17T21:58:19.659764",
     "status": "completed"
    },
    "tags": []
   },
   "outputs": [],
   "source": [
    "#Converting column fastestLapTime from string to time format\n",
    "df11['fastestLapTime'] = pd.to_datetime(df11['fastestLapTime'], format='%M:%S.%f')"
   ]
  },
  {
   "cell_type": "code",
   "execution_count": 92,
   "id": "9eb1357b",
   "metadata": {
    "execution": {
     "iopub.execute_input": "2024-02-17T21:58:19.838489Z",
     "iopub.status.busy": "2024-02-17T21:58:19.838147Z",
     "iopub.status.idle": "2024-02-17T21:58:19.842688Z",
     "shell.execute_reply": "2024-02-17T21:58:19.841833Z"
    },
    "papermill": {
     "duration": 0.045926,
     "end_time": "2024-02-17T21:58:19.844964",
     "exception": false,
     "start_time": "2024-02-17T21:58:19.799038",
     "status": "completed"
    },
    "tags": []
   },
   "outputs": [],
   "source": [
    "df11.rename(columns={'rank':'fastestLapRank'}, inplace=True)"
   ]
  },
  {
   "cell_type": "code",
   "execution_count": 93,
   "id": "4f183f72",
   "metadata": {
    "execution": {
     "iopub.execute_input": "2024-02-17T21:58:19.921236Z",
     "iopub.status.busy": "2024-02-17T21:58:19.920814Z",
     "iopub.status.idle": "2024-02-17T21:58:19.936241Z",
     "shell.execute_reply": "2024-02-17T21:58:19.935054Z"
    },
    "papermill": {
     "duration": 0.055844,
     "end_time": "2024-02-17T21:58:19.938008",
     "exception": false,
     "start_time": "2024-02-17T21:58:19.882164",
     "status": "completed"
    },
    "tags": []
   },
   "outputs": [
    {
     "data": {
      "text/html": [
       "<div>\n",
       "<style scoped>\n",
       "    .dataframe tbody tr th:only-of-type {\n",
       "        vertical-align: middle;\n",
       "    }\n",
       "\n",
       "    .dataframe tbody tr th {\n",
       "        vertical-align: top;\n",
       "    }\n",
       "\n",
       "    .dataframe thead th {\n",
       "        text-align: right;\n",
       "    }\n",
       "</style>\n",
       "<table border=\"1\" class=\"dataframe\">\n",
       "  <thead>\n",
       "    <tr style=\"text-align: right;\">\n",
       "      <th></th>\n",
       "      <th>resultId</th>\n",
       "      <th>raceId</th>\n",
       "      <th>driverId</th>\n",
       "      <th>constructorId</th>\n",
       "      <th>grid</th>\n",
       "      <th>positionOrder</th>\n",
       "      <th>points</th>\n",
       "      <th>laps</th>\n",
       "      <th>milliseconds</th>\n",
       "      <th>fastestLap</th>\n",
       "      <th>fastestLapRank</th>\n",
       "      <th>fastestLapTime</th>\n",
       "      <th>fastestLapSpeed</th>\n",
       "      <th>statusId</th>\n",
       "    </tr>\n",
       "  </thead>\n",
       "  <tbody>\n",
       "    <tr>\n",
       "      <th>0</th>\n",
       "      <td>1</td>\n",
       "      <td>18</td>\n",
       "      <td>1</td>\n",
       "      <td>1</td>\n",
       "      <td>1</td>\n",
       "      <td>1</td>\n",
       "      <td>10.0</td>\n",
       "      <td>58</td>\n",
       "      <td>5690616</td>\n",
       "      <td>39</td>\n",
       "      <td>2</td>\n",
       "      <td>1900-01-01 00:01:27.452</td>\n",
       "      <td>218.300</td>\n",
       "      <td>1</td>\n",
       "    </tr>\n",
       "    <tr>\n",
       "      <th>1</th>\n",
       "      <td>2</td>\n",
       "      <td>18</td>\n",
       "      <td>2</td>\n",
       "      <td>2</td>\n",
       "      <td>5</td>\n",
       "      <td>2</td>\n",
       "      <td>8.0</td>\n",
       "      <td>58</td>\n",
       "      <td>5696094</td>\n",
       "      <td>41</td>\n",
       "      <td>3</td>\n",
       "      <td>1900-01-01 00:01:27.739</td>\n",
       "      <td>217.586</td>\n",
       "      <td>1</td>\n",
       "    </tr>\n",
       "  </tbody>\n",
       "</table>\n",
       "</div>"
      ],
      "text/plain": [
       "   resultId  raceId  driverId  constructorId  grid  positionOrder  points  \\\n",
       "0         1      18         1              1     1              1    10.0   \n",
       "1         2      18         2              2     5              2     8.0   \n",
       "\n",
       "   laps  milliseconds  fastestLap  fastestLapRank          fastestLapTime  \\\n",
       "0    58       5690616          39               2 1900-01-01 00:01:27.452   \n",
       "1    58       5696094          41               3 1900-01-01 00:01:27.739   \n",
       "\n",
       "   fastestLapSpeed  statusId  \n",
       "0          218.300         1  \n",
       "1          217.586         1  "
      ]
     },
     "execution_count": 93,
     "metadata": {},
     "output_type": "execute_result"
    }
   ],
   "source": [
    "df11.head(2)"
   ]
  },
  {
   "cell_type": "code",
   "execution_count": 94,
   "id": "e8969e4b",
   "metadata": {
    "execution": {
     "iopub.execute_input": "2024-02-17T21:58:20.016420Z",
     "iopub.status.busy": "2024-02-17T21:58:20.015700Z",
     "iopub.status.idle": "2024-02-17T21:58:20.138859Z",
     "shell.execute_reply": "2024-02-17T21:58:20.137442Z"
    },
    "papermill": {
     "duration": 0.166453,
     "end_time": "2024-02-17T21:58:20.141339",
     "exception": false,
     "start_time": "2024-02-17T21:58:19.974886",
     "status": "completed"
    },
    "tags": []
   },
   "outputs": [],
   "source": [
    "# Extract minute, seconds, and milliseconds\n",
    "df11['fastestLapTime'] = df11['fastestLapTime'].dt.strftime('%M:%S.%f').str.slice(0, -3)"
   ]
  },
  {
   "cell_type": "code",
   "execution_count": 95,
   "id": "82e10764",
   "metadata": {
    "execution": {
     "iopub.execute_input": "2024-02-17T21:58:20.216660Z",
     "iopub.status.busy": "2024-02-17T21:58:20.216333Z",
     "iopub.status.idle": "2024-02-17T21:58:20.231803Z",
     "shell.execute_reply": "2024-02-17T21:58:20.230588Z"
    },
    "papermill": {
     "duration": 0.055689,
     "end_time": "2024-02-17T21:58:20.234374",
     "exception": false,
     "start_time": "2024-02-17T21:58:20.178685",
     "status": "completed"
    },
    "tags": []
   },
   "outputs": [
    {
     "data": {
      "text/html": [
       "<div>\n",
       "<style scoped>\n",
       "    .dataframe tbody tr th:only-of-type {\n",
       "        vertical-align: middle;\n",
       "    }\n",
       "\n",
       "    .dataframe tbody tr th {\n",
       "        vertical-align: top;\n",
       "    }\n",
       "\n",
       "    .dataframe thead th {\n",
       "        text-align: right;\n",
       "    }\n",
       "</style>\n",
       "<table border=\"1\" class=\"dataframe\">\n",
       "  <thead>\n",
       "    <tr style=\"text-align: right;\">\n",
       "      <th></th>\n",
       "      <th>resultId</th>\n",
       "      <th>raceId</th>\n",
       "      <th>driverId</th>\n",
       "      <th>constructorId</th>\n",
       "      <th>grid</th>\n",
       "      <th>positionOrder</th>\n",
       "      <th>points</th>\n",
       "      <th>laps</th>\n",
       "      <th>milliseconds</th>\n",
       "      <th>fastestLap</th>\n",
       "      <th>fastestLapRank</th>\n",
       "      <th>fastestLapTime</th>\n",
       "      <th>fastestLapSpeed</th>\n",
       "      <th>statusId</th>\n",
       "    </tr>\n",
       "  </thead>\n",
       "  <tbody>\n",
       "    <tr>\n",
       "      <th>0</th>\n",
       "      <td>1</td>\n",
       "      <td>18</td>\n",
       "      <td>1</td>\n",
       "      <td>1</td>\n",
       "      <td>1</td>\n",
       "      <td>1</td>\n",
       "      <td>10.0</td>\n",
       "      <td>58</td>\n",
       "      <td>5690616</td>\n",
       "      <td>39</td>\n",
       "      <td>2</td>\n",
       "      <td>01:27.452</td>\n",
       "      <td>218.300</td>\n",
       "      <td>1</td>\n",
       "    </tr>\n",
       "    <tr>\n",
       "      <th>1</th>\n",
       "      <td>2</td>\n",
       "      <td>18</td>\n",
       "      <td>2</td>\n",
       "      <td>2</td>\n",
       "      <td>5</td>\n",
       "      <td>2</td>\n",
       "      <td>8.0</td>\n",
       "      <td>58</td>\n",
       "      <td>5696094</td>\n",
       "      <td>41</td>\n",
       "      <td>3</td>\n",
       "      <td>01:27.739</td>\n",
       "      <td>217.586</td>\n",
       "      <td>1</td>\n",
       "    </tr>\n",
       "  </tbody>\n",
       "</table>\n",
       "</div>"
      ],
      "text/plain": [
       "   resultId  raceId  driverId  constructorId  grid  positionOrder  points  \\\n",
       "0         1      18         1              1     1              1    10.0   \n",
       "1         2      18         2              2     5              2     8.0   \n",
       "\n",
       "   laps  milliseconds  fastestLap  fastestLapRank fastestLapTime  \\\n",
       "0    58       5690616          39               2      01:27.452   \n",
       "1    58       5696094          41               3      01:27.739   \n",
       "\n",
       "   fastestLapSpeed  statusId  \n",
       "0          218.300         1  \n",
       "1          217.586         1  "
      ]
     },
     "execution_count": 95,
     "metadata": {},
     "output_type": "execute_result"
    }
   ],
   "source": [
    "df11.head(2)"
   ]
  },
  {
   "cell_type": "code",
   "execution_count": 96,
   "id": "e70b2422",
   "metadata": {
    "execution": {
     "iopub.execute_input": "2024-02-17T21:58:20.308931Z",
     "iopub.status.busy": "2024-02-17T21:58:20.308617Z",
     "iopub.status.idle": "2024-02-17T21:58:20.313391Z",
     "shell.execute_reply": "2024-02-17T21:58:20.312131Z"
    },
    "papermill": {
     "duration": 0.044313,
     "end_time": "2024-02-17T21:58:20.315058",
     "exception": false,
     "start_time": "2024-02-17T21:58:20.270745",
     "status": "completed"
    },
    "tags": []
   },
   "outputs": [],
   "source": [
    "#File 12) seasons.csv"
   ]
  },
  {
   "cell_type": "code",
   "execution_count": 97,
   "id": "460bfda2",
   "metadata": {
    "execution": {
     "iopub.execute_input": "2024-02-17T21:58:20.391523Z",
     "iopub.status.busy": "2024-02-17T21:58:20.391232Z",
     "iopub.status.idle": "2024-02-17T21:58:20.402123Z",
     "shell.execute_reply": "2024-02-17T21:58:20.400915Z"
    },
    "papermill": {
     "duration": 0.053626,
     "end_time": "2024-02-17T21:58:20.404580",
     "exception": false,
     "start_time": "2024-02-17T21:58:20.350954",
     "status": "completed"
    },
    "tags": []
   },
   "outputs": [
    {
     "name": "stdout",
     "output_type": "stream",
     "text": [
      "<class 'pandas.core.frame.DataFrame'>\n",
      "RangeIndex: 74 entries, 0 to 73\n",
      "Data columns (total 2 columns):\n",
      " #   Column  Non-Null Count  Dtype \n",
      "---  ------  --------------  ----- \n",
      " 0   year    74 non-null     int64 \n",
      " 1   url     74 non-null     object\n",
      "dtypes: int64(1), object(1)\n",
      "memory usage: 1.3+ KB\n"
     ]
    }
   ],
   "source": [
    "df12.info()"
   ]
  },
  {
   "cell_type": "code",
   "execution_count": 98,
   "id": "e84240cb",
   "metadata": {
    "execution": {
     "iopub.execute_input": "2024-02-17T21:58:20.482502Z",
     "iopub.status.busy": "2024-02-17T21:58:20.482131Z",
     "iopub.status.idle": "2024-02-17T21:58:20.491512Z",
     "shell.execute_reply": "2024-02-17T21:58:20.490408Z"
    },
    "papermill": {
     "duration": 0.051009,
     "end_time": "2024-02-17T21:58:20.493720",
     "exception": false,
     "start_time": "2024-02-17T21:58:20.442711",
     "status": "completed"
    },
    "tags": []
   },
   "outputs": [
    {
     "data": {
      "text/html": [
       "<div>\n",
       "<style scoped>\n",
       "    .dataframe tbody tr th:only-of-type {\n",
       "        vertical-align: middle;\n",
       "    }\n",
       "\n",
       "    .dataframe tbody tr th {\n",
       "        vertical-align: top;\n",
       "    }\n",
       "\n",
       "    .dataframe thead th {\n",
       "        text-align: right;\n",
       "    }\n",
       "</style>\n",
       "<table border=\"1\" class=\"dataframe\">\n",
       "  <thead>\n",
       "    <tr style=\"text-align: right;\">\n",
       "      <th></th>\n",
       "      <th>year</th>\n",
       "      <th>url</th>\n",
       "    </tr>\n",
       "  </thead>\n",
       "  <tbody>\n",
       "    <tr>\n",
       "      <th>0</th>\n",
       "      <td>2009</td>\n",
       "      <td>http://en.wikipedia.org/wiki/2009_Formula_One_...</td>\n",
       "    </tr>\n",
       "    <tr>\n",
       "      <th>1</th>\n",
       "      <td>2008</td>\n",
       "      <td>http://en.wikipedia.org/wiki/2008_Formula_One_...</td>\n",
       "    </tr>\n",
       "  </tbody>\n",
       "</table>\n",
       "</div>"
      ],
      "text/plain": [
       "   year                                                url\n",
       "0  2009  http://en.wikipedia.org/wiki/2009_Formula_One_...\n",
       "1  2008  http://en.wikipedia.org/wiki/2008_Formula_One_..."
      ]
     },
     "execution_count": 98,
     "metadata": {},
     "output_type": "execute_result"
    }
   ],
   "source": [
    "df12.head(2)"
   ]
  },
  {
   "cell_type": "code",
   "execution_count": 99,
   "id": "4286300e",
   "metadata": {
    "execution": {
     "iopub.execute_input": "2024-02-17T21:58:20.570813Z",
     "iopub.status.busy": "2024-02-17T21:58:20.570481Z",
     "iopub.status.idle": "2024-02-17T21:58:20.574717Z",
     "shell.execute_reply": "2024-02-17T21:58:20.573871Z"
    },
    "papermill": {
     "duration": 0.044794,
     "end_time": "2024-02-17T21:58:20.576458",
     "exception": false,
     "start_time": "2024-02-17T21:58:20.531664",
     "status": "completed"
    },
    "tags": []
   },
   "outputs": [],
   "source": [
    "#This file is not useful in any analysis, hence moving on"
   ]
  },
  {
   "cell_type": "code",
   "execution_count": 100,
   "id": "29a22ec9",
   "metadata": {
    "execution": {
     "iopub.execute_input": "2024-02-17T21:58:20.649934Z",
     "iopub.status.busy": "2024-02-17T21:58:20.649595Z",
     "iopub.status.idle": "2024-02-17T21:58:20.654209Z",
     "shell.execute_reply": "2024-02-17T21:58:20.653124Z"
    },
    "papermill": {
     "duration": 0.043814,
     "end_time": "2024-02-17T21:58:20.656255",
     "exception": false,
     "start_time": "2024-02-17T21:58:20.612441",
     "status": "completed"
    },
    "tags": []
   },
   "outputs": [],
   "source": [
    "#File 13) sprint_results.csv"
   ]
  },
  {
   "cell_type": "code",
   "execution_count": 101,
   "id": "d28ca1c1",
   "metadata": {
    "execution": {
     "iopub.execute_input": "2024-02-17T21:58:20.733835Z",
     "iopub.status.busy": "2024-02-17T21:58:20.733485Z",
     "iopub.status.idle": "2024-02-17T21:58:20.743263Z",
     "shell.execute_reply": "2024-02-17T21:58:20.742563Z"
    },
    "papermill": {
     "duration": 0.050265,
     "end_time": "2024-02-17T21:58:20.745654",
     "exception": false,
     "start_time": "2024-02-17T21:58:20.695389",
     "status": "completed"
    },
    "tags": []
   },
   "outputs": [
    {
     "name": "stdout",
     "output_type": "stream",
     "text": [
      "<class 'pandas.core.frame.DataFrame'>\n",
      "RangeIndex: 180 entries, 0 to 179\n",
      "Data columns (total 16 columns):\n",
      " #   Column          Non-Null Count  Dtype \n",
      "---  ------          --------------  ----- \n",
      " 0   resultId        180 non-null    int64 \n",
      " 1   raceId          180 non-null    int64 \n",
      " 2   driverId        180 non-null    int64 \n",
      " 3   constructorId   180 non-null    int64 \n",
      " 4   number          180 non-null    int64 \n",
      " 5   grid            180 non-null    int64 \n",
      " 6   position        180 non-null    object\n",
      " 7   positionText    180 non-null    object\n",
      " 8   positionOrder   180 non-null    int64 \n",
      " 9   points          180 non-null    int64 \n",
      " 10  laps            180 non-null    int64 \n",
      " 11  time            180 non-null    object\n",
      " 12  milliseconds    180 non-null    object\n",
      " 13  fastestLap      180 non-null    object\n",
      " 14  fastestLapTime  180 non-null    object\n",
      " 15  statusId        180 non-null    int64 \n",
      "dtypes: int64(10), object(6)\n",
      "memory usage: 22.6+ KB\n"
     ]
    }
   ],
   "source": [
    "df13.info()"
   ]
  },
  {
   "cell_type": "code",
   "execution_count": 102,
   "id": "c475d342",
   "metadata": {
    "execution": {
     "iopub.execute_input": "2024-02-17T21:58:20.821929Z",
     "iopub.status.busy": "2024-02-17T21:58:20.821610Z",
     "iopub.status.idle": "2024-02-17T21:58:20.828569Z",
     "shell.execute_reply": "2024-02-17T21:58:20.826626Z"
    },
    "papermill": {
     "duration": 0.048052,
     "end_time": "2024-02-17T21:58:20.831241",
     "exception": false,
     "start_time": "2024-02-17T21:58:20.783189",
     "status": "completed"
    },
    "tags": []
   },
   "outputs": [],
   "source": [
    "#Almost all preprocessing steps are same as those for File 11: results.csv\n",
    "#Dropping useless columns\n",
    "df13.drop(columns={'number', 'position', 'positionText', 'time'}, inplace=True)"
   ]
  },
  {
   "cell_type": "code",
   "execution_count": 103,
   "id": "0fa037cb",
   "metadata": {
    "execution": {
     "iopub.execute_input": "2024-02-17T21:58:20.964503Z",
     "iopub.status.busy": "2024-02-17T21:58:20.964174Z",
     "iopub.status.idle": "2024-02-17T21:58:20.974972Z",
     "shell.execute_reply": "2024-02-17T21:58:20.974356Z"
    },
    "papermill": {
     "duration": 0.107658,
     "end_time": "2024-02-17T21:58:20.976749",
     "exception": false,
     "start_time": "2024-02-17T21:58:20.869091",
     "status": "completed"
    },
    "tags": []
   },
   "outputs": [
    {
     "data": {
      "text/html": [
       "<div>\n",
       "<style scoped>\n",
       "    .dataframe tbody tr th:only-of-type {\n",
       "        vertical-align: middle;\n",
       "    }\n",
       "\n",
       "    .dataframe tbody tr th {\n",
       "        vertical-align: top;\n",
       "    }\n",
       "\n",
       "    .dataframe thead th {\n",
       "        text-align: right;\n",
       "    }\n",
       "</style>\n",
       "<table border=\"1\" class=\"dataframe\">\n",
       "  <thead>\n",
       "    <tr style=\"text-align: right;\">\n",
       "      <th></th>\n",
       "      <th>resultId</th>\n",
       "      <th>raceId</th>\n",
       "      <th>driverId</th>\n",
       "      <th>constructorId</th>\n",
       "      <th>grid</th>\n",
       "      <th>positionOrder</th>\n",
       "      <th>points</th>\n",
       "      <th>laps</th>\n",
       "      <th>milliseconds</th>\n",
       "      <th>fastestLap</th>\n",
       "      <th>fastestLapTime</th>\n",
       "      <th>statusId</th>\n",
       "    </tr>\n",
       "  </thead>\n",
       "  <tbody>\n",
       "    <tr>\n",
       "      <th>0</th>\n",
       "      <td>1</td>\n",
       "      <td>1061</td>\n",
       "      <td>830</td>\n",
       "      <td>9</td>\n",
       "      <td>2</td>\n",
       "      <td>1</td>\n",
       "      <td>3</td>\n",
       "      <td>17</td>\n",
       "      <td>1538426</td>\n",
       "      <td>14</td>\n",
       "      <td>1:30.013</td>\n",
       "      <td>1</td>\n",
       "    </tr>\n",
       "    <tr>\n",
       "      <th>1</th>\n",
       "      <td>2</td>\n",
       "      <td>1061</td>\n",
       "      <td>1</td>\n",
       "      <td>131</td>\n",
       "      <td>1</td>\n",
       "      <td>2</td>\n",
       "      <td>2</td>\n",
       "      <td>17</td>\n",
       "      <td>1539856</td>\n",
       "      <td>17</td>\n",
       "      <td>1:29.937</td>\n",
       "      <td>1</td>\n",
       "    </tr>\n",
       "    <tr>\n",
       "      <th>2</th>\n",
       "      <td>3</td>\n",
       "      <td>1061</td>\n",
       "      <td>822</td>\n",
       "      <td>131</td>\n",
       "      <td>3</td>\n",
       "      <td>3</td>\n",
       "      <td>1</td>\n",
       "      <td>17</td>\n",
       "      <td>1545928</td>\n",
       "      <td>17</td>\n",
       "      <td>1:29.958</td>\n",
       "      <td>1</td>\n",
       "    </tr>\n",
       "    <tr>\n",
       "      <th>3</th>\n",
       "      <td>4</td>\n",
       "      <td>1061</td>\n",
       "      <td>844</td>\n",
       "      <td>6</td>\n",
       "      <td>4</td>\n",
       "      <td>4</td>\n",
       "      <td>0</td>\n",
       "      <td>17</td>\n",
       "      <td>1549704</td>\n",
       "      <td>16</td>\n",
       "      <td>1:30.163</td>\n",
       "      <td>1</td>\n",
       "    </tr>\n",
       "    <tr>\n",
       "      <th>4</th>\n",
       "      <td>5</td>\n",
       "      <td>1061</td>\n",
       "      <td>846</td>\n",
       "      <td>1</td>\n",
       "      <td>6</td>\n",
       "      <td>5</td>\n",
       "      <td>0</td>\n",
       "      <td>17</td>\n",
       "      <td>1562537</td>\n",
       "      <td>16</td>\n",
       "      <td>1:30.566</td>\n",
       "      <td>1</td>\n",
       "    </tr>\n",
       "  </tbody>\n",
       "</table>\n",
       "</div>"
      ],
      "text/plain": [
       "   resultId  raceId  driverId  constructorId  grid  positionOrder  points  \\\n",
       "0         1    1061       830              9     2              1       3   \n",
       "1         2    1061         1            131     1              2       2   \n",
       "2         3    1061       822            131     3              3       1   \n",
       "3         4    1061       844              6     4              4       0   \n",
       "4         5    1061       846              1     6              5       0   \n",
       "\n",
       "   laps milliseconds fastestLap fastestLapTime  statusId  \n",
       "0    17      1538426         14       1:30.013         1  \n",
       "1    17      1539856         17       1:29.937         1  \n",
       "2    17      1545928         17       1:29.958         1  \n",
       "3    17      1549704         16       1:30.163         1  \n",
       "4    17      1562537         16       1:30.566         1  "
      ]
     },
     "execution_count": 103,
     "metadata": {},
     "output_type": "execute_result"
    }
   ],
   "source": [
    "df13.head()"
   ]
  },
  {
   "cell_type": "code",
   "execution_count": 104,
   "id": "dcb303e3",
   "metadata": {
    "execution": {
     "iopub.execute_input": "2024-02-17T21:58:21.055854Z",
     "iopub.status.busy": "2024-02-17T21:58:21.055539Z",
     "iopub.status.idle": "2024-02-17T21:58:21.065837Z",
     "shell.execute_reply": "2024-02-17T21:58:21.064767Z"
    },
    "papermill": {
     "duration": 0.052032,
     "end_time": "2024-02-17T21:58:21.067557",
     "exception": false,
     "start_time": "2024-02-17T21:58:21.015525",
     "status": "completed"
    },
    "tags": []
   },
   "outputs": [],
   "source": [
    "#Handling Missing Values and Formatting the respective columns\n",
    "# Replace '\\N' with '0' in columns milliseconds & fastestLap\n",
    "df13[['milliseconds', 'fastestLap']] = df13[['milliseconds', 'fastestLap']].replace('\\\\N', '0')\n",
    " # Replace '\\N' with '0:00.000' in column fastestLapTime\n",
    "df13[['fastestLapTime']] = df13[['fastestLapTime']].replace('\\\\N', '0:0.000')   \n",
    "\n",
    "#Converting column milliseconds, fastestLap, rank from string to int format\n",
    "df13[['milliseconds', 'fastestLap']] = df13[['milliseconds', 'fastestLap']].astype(int)\n",
    "#Converting column fastestLapTime from string to time format\n",
    "df13['fastestLapTime'] = pd.to_datetime(df13['fastestLapTime'], format='%M:%S.%f')"
   ]
  },
  {
   "cell_type": "code",
   "execution_count": 105,
   "id": "e79e9746",
   "metadata": {
    "execution": {
     "iopub.execute_input": "2024-02-17T21:58:21.144676Z",
     "iopub.status.busy": "2024-02-17T21:58:21.143831Z",
     "iopub.status.idle": "2024-02-17T21:58:21.151622Z",
     "shell.execute_reply": "2024-02-17T21:58:21.150135Z"
    },
    "papermill": {
     "duration": 0.049477,
     "end_time": "2024-02-17T21:58:21.154020",
     "exception": false,
     "start_time": "2024-02-17T21:58:21.104543",
     "status": "completed"
    },
    "tags": []
   },
   "outputs": [
    {
     "data": {
      "text/plain": [
       "resultId                   int64\n",
       "raceId                     int64\n",
       "driverId                   int64\n",
       "constructorId              int64\n",
       "grid                       int64\n",
       "positionOrder              int64\n",
       "points                     int64\n",
       "laps                       int64\n",
       "milliseconds               int64\n",
       "fastestLap                 int64\n",
       "fastestLapTime    datetime64[ns]\n",
       "statusId                   int64\n",
       "dtype: object"
      ]
     },
     "execution_count": 105,
     "metadata": {},
     "output_type": "execute_result"
    }
   ],
   "source": [
    "df13.dtypes"
   ]
  },
  {
   "cell_type": "code",
   "execution_count": 106,
   "id": "4cac36c4",
   "metadata": {
    "execution": {
     "iopub.execute_input": "2024-02-17T21:58:21.230770Z",
     "iopub.status.busy": "2024-02-17T21:58:21.230455Z",
     "iopub.status.idle": "2024-02-17T21:58:21.237597Z",
     "shell.execute_reply": "2024-02-17T21:58:21.236548Z"
    },
    "papermill": {
     "duration": 0.047843,
     "end_time": "2024-02-17T21:58:21.239328",
     "exception": false,
     "start_time": "2024-02-17T21:58:21.191485",
     "status": "completed"
    },
    "tags": []
   },
   "outputs": [
    {
     "data": {
      "text/plain": [
       "array([1061, 1065, 1071, 1077, 1084, 1095, 1101, 1107, 1110])"
      ]
     },
     "execution_count": 106,
     "metadata": {},
     "output_type": "execute_result"
    }
   ],
   "source": [
    "df13['raceId'].unique()"
   ]
  },
  {
   "cell_type": "code",
   "execution_count": 107,
   "id": "1c474904",
   "metadata": {
    "execution": {
     "iopub.execute_input": "2024-02-17T21:58:21.315866Z",
     "iopub.status.busy": "2024-02-17T21:58:21.315567Z",
     "iopub.status.idle": "2024-02-17T21:58:21.328934Z",
     "shell.execute_reply": "2024-02-17T21:58:21.327881Z"
    },
    "papermill": {
     "duration": 0.055094,
     "end_time": "2024-02-17T21:58:21.331378",
     "exception": false,
     "start_time": "2024-02-17T21:58:21.276284",
     "status": "completed"
    },
    "tags": []
   },
   "outputs": [],
   "source": [
    "#Feature Engineering: Creating the 'fastestLapRank' column\n",
    "df13['fastestLapRank'] = df13.groupby('raceId')['fastestLapTime'].rank().astype(int)"
   ]
  },
  {
   "cell_type": "code",
   "execution_count": 108,
   "id": "cac47b06",
   "metadata": {
    "execution": {
     "iopub.execute_input": "2024-02-17T21:58:21.409094Z",
     "iopub.status.busy": "2024-02-17T21:58:21.408691Z",
     "iopub.status.idle": "2024-02-17T21:58:21.421073Z",
     "shell.execute_reply": "2024-02-17T21:58:21.419607Z"
    },
    "papermill": {
     "duration": 0.054478,
     "end_time": "2024-02-17T21:58:21.423110",
     "exception": false,
     "start_time": "2024-02-17T21:58:21.368632",
     "status": "completed"
    },
    "tags": []
   },
   "outputs": [
    {
     "data": {
      "text/html": [
       "<div>\n",
       "<style scoped>\n",
       "    .dataframe tbody tr th:only-of-type {\n",
       "        vertical-align: middle;\n",
       "    }\n",
       "\n",
       "    .dataframe tbody tr th {\n",
       "        vertical-align: top;\n",
       "    }\n",
       "\n",
       "    .dataframe thead th {\n",
       "        text-align: right;\n",
       "    }\n",
       "</style>\n",
       "<table border=\"1\" class=\"dataframe\">\n",
       "  <thead>\n",
       "    <tr style=\"text-align: right;\">\n",
       "      <th></th>\n",
       "      <th>resultId</th>\n",
       "      <th>raceId</th>\n",
       "      <th>driverId</th>\n",
       "      <th>constructorId</th>\n",
       "      <th>grid</th>\n",
       "      <th>positionOrder</th>\n",
       "      <th>points</th>\n",
       "      <th>laps</th>\n",
       "      <th>milliseconds</th>\n",
       "      <th>fastestLap</th>\n",
       "      <th>fastestLapTime</th>\n",
       "      <th>statusId</th>\n",
       "      <th>fastestLapRank</th>\n",
       "    </tr>\n",
       "  </thead>\n",
       "  <tbody>\n",
       "    <tr>\n",
       "      <th>0</th>\n",
       "      <td>1</td>\n",
       "      <td>1061</td>\n",
       "      <td>830</td>\n",
       "      <td>9</td>\n",
       "      <td>2</td>\n",
       "      <td>1</td>\n",
       "      <td>3</td>\n",
       "      <td>17</td>\n",
       "      <td>1538426</td>\n",
       "      <td>14</td>\n",
       "      <td>1900-01-01 00:01:30.013</td>\n",
       "      <td>1</td>\n",
       "      <td>3</td>\n",
       "    </tr>\n",
       "    <tr>\n",
       "      <th>1</th>\n",
       "      <td>2</td>\n",
       "      <td>1061</td>\n",
       "      <td>1</td>\n",
       "      <td>131</td>\n",
       "      <td>1</td>\n",
       "      <td>2</td>\n",
       "      <td>2</td>\n",
       "      <td>17</td>\n",
       "      <td>1539856</td>\n",
       "      <td>17</td>\n",
       "      <td>1900-01-01 00:01:29.937</td>\n",
       "      <td>1</td>\n",
       "      <td>1</td>\n",
       "    </tr>\n",
       "  </tbody>\n",
       "</table>\n",
       "</div>"
      ],
      "text/plain": [
       "   resultId  raceId  driverId  constructorId  grid  positionOrder  points  \\\n",
       "0         1    1061       830              9     2              1       3   \n",
       "1         2    1061         1            131     1              2       2   \n",
       "\n",
       "   laps  milliseconds  fastestLap          fastestLapTime  statusId  \\\n",
       "0    17       1538426          14 1900-01-01 00:01:30.013         1   \n",
       "1    17       1539856          17 1900-01-01 00:01:29.937         1   \n",
       "\n",
       "   fastestLapRank  \n",
       "0               3  \n",
       "1               1  "
      ]
     },
     "execution_count": 108,
     "metadata": {},
     "output_type": "execute_result"
    }
   ],
   "source": [
    "df13.head(2)"
   ]
  },
  {
   "cell_type": "code",
   "execution_count": 109,
   "id": "52de2b0f",
   "metadata": {
    "execution": {
     "iopub.execute_input": "2024-02-17T21:58:21.500460Z",
     "iopub.status.busy": "2024-02-17T21:58:21.499679Z",
     "iopub.status.idle": "2024-02-17T21:58:21.506646Z",
     "shell.execute_reply": "2024-02-17T21:58:21.505883Z"
    },
    "papermill": {
     "duration": 0.047802,
     "end_time": "2024-02-17T21:58:21.508369",
     "exception": false,
     "start_time": "2024-02-17T21:58:21.460567",
     "status": "completed"
    },
    "tags": []
   },
   "outputs": [],
   "source": [
    "# Extract minute, seconds, and milliseconds\n",
    "df13['fastestLapTime'] = df13['fastestLapTime'].dt.strftime('%M:%S.%f').str.slice(0, -3)"
   ]
  },
  {
   "cell_type": "code",
   "execution_count": 110,
   "id": "7e170ccb",
   "metadata": {
    "execution": {
     "iopub.execute_input": "2024-02-17T21:58:21.584829Z",
     "iopub.status.busy": "2024-02-17T21:58:21.584477Z",
     "iopub.status.idle": "2024-02-17T21:58:21.594787Z",
     "shell.execute_reply": "2024-02-17T21:58:21.594217Z"
    },
    "papermill": {
     "duration": 0.050852,
     "end_time": "2024-02-17T21:58:21.597003",
     "exception": false,
     "start_time": "2024-02-17T21:58:21.546151",
     "status": "completed"
    },
    "tags": []
   },
   "outputs": [
    {
     "data": {
      "text/html": [
       "<div>\n",
       "<style scoped>\n",
       "    .dataframe tbody tr th:only-of-type {\n",
       "        vertical-align: middle;\n",
       "    }\n",
       "\n",
       "    .dataframe tbody tr th {\n",
       "        vertical-align: top;\n",
       "    }\n",
       "\n",
       "    .dataframe thead th {\n",
       "        text-align: right;\n",
       "    }\n",
       "</style>\n",
       "<table border=\"1\" class=\"dataframe\">\n",
       "  <thead>\n",
       "    <tr style=\"text-align: right;\">\n",
       "      <th></th>\n",
       "      <th>resultId</th>\n",
       "      <th>raceId</th>\n",
       "      <th>driverId</th>\n",
       "      <th>constructorId</th>\n",
       "      <th>grid</th>\n",
       "      <th>positionOrder</th>\n",
       "      <th>points</th>\n",
       "      <th>laps</th>\n",
       "      <th>milliseconds</th>\n",
       "      <th>fastestLap</th>\n",
       "      <th>fastestLapTime</th>\n",
       "      <th>statusId</th>\n",
       "      <th>fastestLapRank</th>\n",
       "    </tr>\n",
       "  </thead>\n",
       "  <tbody>\n",
       "    <tr>\n",
       "      <th>0</th>\n",
       "      <td>1</td>\n",
       "      <td>1061</td>\n",
       "      <td>830</td>\n",
       "      <td>9</td>\n",
       "      <td>2</td>\n",
       "      <td>1</td>\n",
       "      <td>3</td>\n",
       "      <td>17</td>\n",
       "      <td>1538426</td>\n",
       "      <td>14</td>\n",
       "      <td>01:30.013</td>\n",
       "      <td>1</td>\n",
       "      <td>3</td>\n",
       "    </tr>\n",
       "    <tr>\n",
       "      <th>1</th>\n",
       "      <td>2</td>\n",
       "      <td>1061</td>\n",
       "      <td>1</td>\n",
       "      <td>131</td>\n",
       "      <td>1</td>\n",
       "      <td>2</td>\n",
       "      <td>2</td>\n",
       "      <td>17</td>\n",
       "      <td>1539856</td>\n",
       "      <td>17</td>\n",
       "      <td>01:29.937</td>\n",
       "      <td>1</td>\n",
       "      <td>1</td>\n",
       "    </tr>\n",
       "  </tbody>\n",
       "</table>\n",
       "</div>"
      ],
      "text/plain": [
       "   resultId  raceId  driverId  constructorId  grid  positionOrder  points  \\\n",
       "0         1    1061       830              9     2              1       3   \n",
       "1         2    1061         1            131     1              2       2   \n",
       "\n",
       "   laps  milliseconds  fastestLap fastestLapTime  statusId  fastestLapRank  \n",
       "0    17       1538426          14      01:30.013         1               3  \n",
       "1    17       1539856          17      01:29.937         1               1  "
      ]
     },
     "execution_count": 110,
     "metadata": {},
     "output_type": "execute_result"
    }
   ],
   "source": [
    "df13.head(2)"
   ]
  },
  {
   "cell_type": "code",
   "execution_count": 111,
   "id": "bd50c532",
   "metadata": {
    "execution": {
     "iopub.execute_input": "2024-02-17T21:58:21.674085Z",
     "iopub.status.busy": "2024-02-17T21:58:21.673308Z",
     "iopub.status.idle": "2024-02-17T21:58:21.677143Z",
     "shell.execute_reply": "2024-02-17T21:58:21.676326Z"
    },
    "papermill": {
     "duration": 0.044251,
     "end_time": "2024-02-17T21:58:21.678842",
     "exception": false,
     "start_time": "2024-02-17T21:58:21.634591",
     "status": "completed"
    },
    "tags": []
   },
   "outputs": [],
   "source": [
    "#File 14) status.csv"
   ]
  },
  {
   "cell_type": "code",
   "execution_count": 112,
   "id": "ee3c08e3",
   "metadata": {
    "execution": {
     "iopub.execute_input": "2024-02-17T21:58:21.755802Z",
     "iopub.status.busy": "2024-02-17T21:58:21.755452Z",
     "iopub.status.idle": "2024-02-17T21:58:21.763653Z",
     "shell.execute_reply": "2024-02-17T21:58:21.762734Z"
    },
    "papermill": {
     "duration": 0.048969,
     "end_time": "2024-02-17T21:58:21.765814",
     "exception": false,
     "start_time": "2024-02-17T21:58:21.716845",
     "status": "completed"
    },
    "tags": []
   },
   "outputs": [
    {
     "data": {
      "text/html": [
       "<div>\n",
       "<style scoped>\n",
       "    .dataframe tbody tr th:only-of-type {\n",
       "        vertical-align: middle;\n",
       "    }\n",
       "\n",
       "    .dataframe tbody tr th {\n",
       "        vertical-align: top;\n",
       "    }\n",
       "\n",
       "    .dataframe thead th {\n",
       "        text-align: right;\n",
       "    }\n",
       "</style>\n",
       "<table border=\"1\" class=\"dataframe\">\n",
       "  <thead>\n",
       "    <tr style=\"text-align: right;\">\n",
       "      <th></th>\n",
       "      <th>statusId</th>\n",
       "      <th>status</th>\n",
       "    </tr>\n",
       "  </thead>\n",
       "  <tbody>\n",
       "    <tr>\n",
       "      <th>0</th>\n",
       "      <td>1</td>\n",
       "      <td>Finished</td>\n",
       "    </tr>\n",
       "    <tr>\n",
       "      <th>1</th>\n",
       "      <td>2</td>\n",
       "      <td>Disqualified</td>\n",
       "    </tr>\n",
       "    <tr>\n",
       "      <th>2</th>\n",
       "      <td>3</td>\n",
       "      <td>Accident</td>\n",
       "    </tr>\n",
       "    <tr>\n",
       "      <th>3</th>\n",
       "      <td>4</td>\n",
       "      <td>Collision</td>\n",
       "    </tr>\n",
       "    <tr>\n",
       "      <th>4</th>\n",
       "      <td>5</td>\n",
       "      <td>Engine</td>\n",
       "    </tr>\n",
       "  </tbody>\n",
       "</table>\n",
       "</div>"
      ],
      "text/plain": [
       "   statusId        status\n",
       "0         1      Finished\n",
       "1         2  Disqualified\n",
       "2         3      Accident\n",
       "3         4     Collision\n",
       "4         5        Engine"
      ]
     },
     "execution_count": 112,
     "metadata": {},
     "output_type": "execute_result"
    }
   ],
   "source": [
    "df14.head()"
   ]
  },
  {
   "cell_type": "code",
   "execution_count": 113,
   "id": "a8a4287c",
   "metadata": {
    "execution": {
     "iopub.execute_input": "2024-02-17T21:58:21.854774Z",
     "iopub.status.busy": "2024-02-17T21:58:21.853945Z",
     "iopub.status.idle": "2024-02-17T21:58:21.858121Z",
     "shell.execute_reply": "2024-02-17T21:58:21.857059Z"
    },
    "papermill": {
     "duration": 0.052509,
     "end_time": "2024-02-17T21:58:21.860394",
     "exception": false,
     "start_time": "2024-02-17T21:58:21.807885",
     "status": "completed"
    },
    "tags": []
   },
   "outputs": [],
   "source": [
    "#This file has all the possible results for each car on the track\n",
    "#This is best left untouched"
   ]
  },
  {
   "cell_type": "markdown",
   "id": "fcb1de40",
   "metadata": {
    "papermill": {
     "duration": 0.04142,
     "end_time": "2024-02-17T21:58:21.942235",
     "exception": false,
     "start_time": "2024-02-17T21:58:21.900815",
     "status": "completed"
    },
    "tags": []
   },
   "source": [
    "# Data Cleaning - Part 2"
   ]
  },
  {
   "cell_type": "code",
   "execution_count": 114,
   "id": "437f2c3d",
   "metadata": {
    "execution": {
     "iopub.execute_input": "2024-02-17T21:58:22.034334Z",
     "iopub.status.busy": "2024-02-17T21:58:22.033654Z",
     "iopub.status.idle": "2024-02-17T21:58:22.042770Z",
     "shell.execute_reply": "2024-02-17T21:58:22.042148Z"
    },
    "papermill": {
     "duration": 0.056821,
     "end_time": "2024-02-17T21:58:22.044513",
     "exception": false,
     "start_time": "2024-02-17T21:58:21.987692",
     "status": "completed"
    },
    "tags": []
   },
   "outputs": [
    {
     "data": {
      "text/html": [
       "<div>\n",
       "<style scoped>\n",
       "    .dataframe tbody tr th:only-of-type {\n",
       "        vertical-align: middle;\n",
       "    }\n",
       "\n",
       "    .dataframe tbody tr th {\n",
       "        vertical-align: top;\n",
       "    }\n",
       "\n",
       "    .dataframe thead th {\n",
       "        text-align: right;\n",
       "    }\n",
       "</style>\n",
       "<table border=\"1\" class=\"dataframe\">\n",
       "  <thead>\n",
       "    <tr style=\"text-align: right;\">\n",
       "      <th></th>\n",
       "      <th>circuitId</th>\n",
       "      <th>name</th>\n",
       "      <th>location</th>\n",
       "      <th>country</th>\n",
       "    </tr>\n",
       "  </thead>\n",
       "  <tbody>\n",
       "    <tr>\n",
       "      <th>0</th>\n",
       "      <td>1</td>\n",
       "      <td>Albert Park Grand Prix Circuit</td>\n",
       "      <td>Melbourne</td>\n",
       "      <td>Australia</td>\n",
       "    </tr>\n",
       "    <tr>\n",
       "      <th>1</th>\n",
       "      <td>2</td>\n",
       "      <td>Sepang International Circuit</td>\n",
       "      <td>Kuala Lumpur</td>\n",
       "      <td>Malaysia</td>\n",
       "    </tr>\n",
       "    <tr>\n",
       "      <th>2</th>\n",
       "      <td>3</td>\n",
       "      <td>Bahrain International Circuit</td>\n",
       "      <td>Sakhir</td>\n",
       "      <td>Bahrain</td>\n",
       "    </tr>\n",
       "    <tr>\n",
       "      <th>3</th>\n",
       "      <td>4</td>\n",
       "      <td>Circuit de Barcelona-Catalunya</td>\n",
       "      <td>Montmeló</td>\n",
       "      <td>Spain</td>\n",
       "    </tr>\n",
       "    <tr>\n",
       "      <th>4</th>\n",
       "      <td>5</td>\n",
       "      <td>Istanbul Park</td>\n",
       "      <td>Istanbul</td>\n",
       "      <td>Turkey</td>\n",
       "    </tr>\n",
       "  </tbody>\n",
       "</table>\n",
       "</div>"
      ],
      "text/plain": [
       "   circuitId                            name      location    country\n",
       "0          1  Albert Park Grand Prix Circuit     Melbourne  Australia\n",
       "1          2    Sepang International Circuit  Kuala Lumpur   Malaysia\n",
       "2          3   Bahrain International Circuit        Sakhir    Bahrain\n",
       "3          4  Circuit de Barcelona-Catalunya      Montmeló      Spain\n",
       "4          5                   Istanbul Park      Istanbul     Turkey"
      ]
     },
     "execution_count": 114,
     "metadata": {},
     "output_type": "execute_result"
    }
   ],
   "source": [
    "df1.head()"
   ]
  },
  {
   "cell_type": "code",
   "execution_count": 115,
   "id": "234afbf6",
   "metadata": {
    "execution": {
     "iopub.execute_input": "2024-02-17T21:58:22.125143Z",
     "iopub.status.busy": "2024-02-17T21:58:22.124474Z",
     "iopub.status.idle": "2024-02-17T21:58:22.129629Z",
     "shell.execute_reply": "2024-02-17T21:58:22.128954Z"
    },
    "papermill": {
     "duration": 0.048239,
     "end_time": "2024-02-17T21:58:22.131893",
     "exception": false,
     "start_time": "2024-02-17T21:58:22.083654",
     "status": "completed"
    },
    "tags": []
   },
   "outputs": [],
   "source": [
    "df1.rename(columns={'name':'circuit_name', 'location':'circuit_location', 'country':'circuit_country'}, inplace=True)"
   ]
  },
  {
   "cell_type": "code",
   "execution_count": 116,
   "id": "dedfb175",
   "metadata": {
    "execution": {
     "iopub.execute_input": "2024-02-17T21:58:22.211661Z",
     "iopub.status.busy": "2024-02-17T21:58:22.211076Z",
     "iopub.status.idle": "2024-02-17T21:58:22.219759Z",
     "shell.execute_reply": "2024-02-17T21:58:22.219129Z"
    },
    "papermill": {
     "duration": 0.051164,
     "end_time": "2024-02-17T21:58:22.221942",
     "exception": false,
     "start_time": "2024-02-17T21:58:22.170778",
     "status": "completed"
    },
    "tags": []
   },
   "outputs": [
    {
     "data": {
      "text/html": [
       "<div>\n",
       "<style scoped>\n",
       "    .dataframe tbody tr th:only-of-type {\n",
       "        vertical-align: middle;\n",
       "    }\n",
       "\n",
       "    .dataframe tbody tr th {\n",
       "        vertical-align: top;\n",
       "    }\n",
       "\n",
       "    .dataframe thead th {\n",
       "        text-align: right;\n",
       "    }\n",
       "</style>\n",
       "<table border=\"1\" class=\"dataframe\">\n",
       "  <thead>\n",
       "    <tr style=\"text-align: right;\">\n",
       "      <th></th>\n",
       "      <th>circuitId</th>\n",
       "      <th>circuit_name</th>\n",
       "      <th>circuit_location</th>\n",
       "      <th>circuit_country</th>\n",
       "    </tr>\n",
       "  </thead>\n",
       "  <tbody>\n",
       "    <tr>\n",
       "      <th>0</th>\n",
       "      <td>1</td>\n",
       "      <td>Albert Park Grand Prix Circuit</td>\n",
       "      <td>Melbourne</td>\n",
       "      <td>Australia</td>\n",
       "    </tr>\n",
       "    <tr>\n",
       "      <th>1</th>\n",
       "      <td>2</td>\n",
       "      <td>Sepang International Circuit</td>\n",
       "      <td>Kuala Lumpur</td>\n",
       "      <td>Malaysia</td>\n",
       "    </tr>\n",
       "  </tbody>\n",
       "</table>\n",
       "</div>"
      ],
      "text/plain": [
       "   circuitId                    circuit_name circuit_location circuit_country\n",
       "0          1  Albert Park Grand Prix Circuit        Melbourne       Australia\n",
       "1          2    Sepang International Circuit     Kuala Lumpur        Malaysia"
      ]
     },
     "execution_count": 116,
     "metadata": {},
     "output_type": "execute_result"
    }
   ],
   "source": [
    "df1.head(2)"
   ]
  },
  {
   "cell_type": "code",
   "execution_count": 117,
   "id": "d7f41f2a",
   "metadata": {
    "execution": {
     "iopub.execute_input": "2024-02-17T21:58:22.301080Z",
     "iopub.status.busy": "2024-02-17T21:58:22.300434Z",
     "iopub.status.idle": "2024-02-17T21:58:22.310964Z",
     "shell.execute_reply": "2024-02-17T21:58:22.309616Z"
    },
    "papermill": {
     "duration": 0.052181,
     "end_time": "2024-02-17T21:58:22.313507",
     "exception": false,
     "start_time": "2024-02-17T21:58:22.261326",
     "status": "completed"
    },
    "tags": []
   },
   "outputs": [
    {
     "data": {
      "text/html": [
       "<div>\n",
       "<style scoped>\n",
       "    .dataframe tbody tr th:only-of-type {\n",
       "        vertical-align: middle;\n",
       "    }\n",
       "\n",
       "    .dataframe tbody tr th {\n",
       "        vertical-align: top;\n",
       "    }\n",
       "\n",
       "    .dataframe thead th {\n",
       "        text-align: right;\n",
       "    }\n",
       "</style>\n",
       "<table border=\"1\" class=\"dataframe\">\n",
       "  <thead>\n",
       "    <tr style=\"text-align: right;\">\n",
       "      <th></th>\n",
       "      <th>constructorResultsId</th>\n",
       "      <th>raceId</th>\n",
       "      <th>constructorId</th>\n",
       "      <th>points</th>\n",
       "      <th>status</th>\n",
       "    </tr>\n",
       "  </thead>\n",
       "  <tbody>\n",
       "    <tr>\n",
       "      <th>0</th>\n",
       "      <td>1</td>\n",
       "      <td>18</td>\n",
       "      <td>1</td>\n",
       "      <td>14.0</td>\n",
       "      <td>\\N</td>\n",
       "    </tr>\n",
       "    <tr>\n",
       "      <th>1</th>\n",
       "      <td>2</td>\n",
       "      <td>18</td>\n",
       "      <td>2</td>\n",
       "      <td>8.0</td>\n",
       "      <td>\\N</td>\n",
       "    </tr>\n",
       "    <tr>\n",
       "      <th>2</th>\n",
       "      <td>3</td>\n",
       "      <td>18</td>\n",
       "      <td>3</td>\n",
       "      <td>9.0</td>\n",
       "      <td>\\N</td>\n",
       "    </tr>\n",
       "    <tr>\n",
       "      <th>3</th>\n",
       "      <td>4</td>\n",
       "      <td>18</td>\n",
       "      <td>4</td>\n",
       "      <td>5.0</td>\n",
       "      <td>\\N</td>\n",
       "    </tr>\n",
       "    <tr>\n",
       "      <th>4</th>\n",
       "      <td>5</td>\n",
       "      <td>18</td>\n",
       "      <td>5</td>\n",
       "      <td>2.0</td>\n",
       "      <td>\\N</td>\n",
       "    </tr>\n",
       "  </tbody>\n",
       "</table>\n",
       "</div>"
      ],
      "text/plain": [
       "   constructorResultsId  raceId  constructorId  points status\n",
       "0                     1      18              1    14.0     \\N\n",
       "1                     2      18              2     8.0     \\N\n",
       "2                     3      18              3     9.0     \\N\n",
       "3                     4      18              4     5.0     \\N\n",
       "4                     5      18              5     2.0     \\N"
      ]
     },
     "execution_count": 117,
     "metadata": {},
     "output_type": "execute_result"
    }
   ],
   "source": [
    "df2.head()"
   ]
  },
  {
   "cell_type": "code",
   "execution_count": 118,
   "id": "10c1d52d",
   "metadata": {
    "execution": {
     "iopub.execute_input": "2024-02-17T21:58:22.390472Z",
     "iopub.status.busy": "2024-02-17T21:58:22.390113Z",
     "iopub.status.idle": "2024-02-17T21:58:22.398842Z",
     "shell.execute_reply": "2024-02-17T21:58:22.397478Z"
    },
    "papermill": {
     "duration": 0.049557,
     "end_time": "2024-02-17T21:58:22.401008",
     "exception": false,
     "start_time": "2024-02-17T21:58:22.351451",
     "status": "completed"
    },
    "tags": []
   },
   "outputs": [
    {
     "data": {
      "text/plain": [
       "status\n",
       "\\N    12273\n",
       "D        17\n",
       "Name: count, dtype: int64"
      ]
     },
     "execution_count": 118,
     "metadata": {},
     "output_type": "execute_result"
    }
   ],
   "source": [
    "df2['status'].value_counts()"
   ]
  },
  {
   "cell_type": "code",
   "execution_count": 119,
   "id": "94f524ec",
   "metadata": {
    "execution": {
     "iopub.execute_input": "2024-02-17T21:58:22.481559Z",
     "iopub.status.busy": "2024-02-17T21:58:22.481007Z",
     "iopub.status.idle": "2024-02-17T21:58:22.486657Z",
     "shell.execute_reply": "2024-02-17T21:58:22.485565Z"
    },
    "papermill": {
     "duration": 0.048247,
     "end_time": "2024-02-17T21:58:22.488594",
     "exception": false,
     "start_time": "2024-02-17T21:58:22.440347",
     "status": "completed"
    },
    "tags": []
   },
   "outputs": [],
   "source": [
    "df2.drop(columns={'status'}, inplace=True)"
   ]
  },
  {
   "cell_type": "code",
   "execution_count": 120,
   "id": "bb231319",
   "metadata": {
    "execution": {
     "iopub.execute_input": "2024-02-17T21:58:22.572594Z",
     "iopub.status.busy": "2024-02-17T21:58:22.572226Z",
     "iopub.status.idle": "2024-02-17T21:58:22.582417Z",
     "shell.execute_reply": "2024-02-17T21:58:22.581003Z"
    },
    "papermill": {
     "duration": 0.057449,
     "end_time": "2024-02-17T21:58:22.585061",
     "exception": false,
     "start_time": "2024-02-17T21:58:22.527612",
     "status": "completed"
    },
    "tags": []
   },
   "outputs": [
    {
     "data": {
      "text/html": [
       "<div>\n",
       "<style scoped>\n",
       "    .dataframe tbody tr th:only-of-type {\n",
       "        vertical-align: middle;\n",
       "    }\n",
       "\n",
       "    .dataframe tbody tr th {\n",
       "        vertical-align: top;\n",
       "    }\n",
       "\n",
       "    .dataframe thead th {\n",
       "        text-align: right;\n",
       "    }\n",
       "</style>\n",
       "<table border=\"1\" class=\"dataframe\">\n",
       "  <thead>\n",
       "    <tr style=\"text-align: right;\">\n",
       "      <th></th>\n",
       "      <th>constructorStandingsId</th>\n",
       "      <th>raceId</th>\n",
       "      <th>constructorId</th>\n",
       "      <th>points</th>\n",
       "      <th>position</th>\n",
       "      <th>wins</th>\n",
       "    </tr>\n",
       "  </thead>\n",
       "  <tbody>\n",
       "    <tr>\n",
       "      <th>0</th>\n",
       "      <td>1</td>\n",
       "      <td>18</td>\n",
       "      <td>1</td>\n",
       "      <td>14.0</td>\n",
       "      <td>1</td>\n",
       "      <td>1</td>\n",
       "    </tr>\n",
       "    <tr>\n",
       "      <th>1</th>\n",
       "      <td>2</td>\n",
       "      <td>18</td>\n",
       "      <td>2</td>\n",
       "      <td>8.0</td>\n",
       "      <td>3</td>\n",
       "      <td>0</td>\n",
       "    </tr>\n",
       "    <tr>\n",
       "      <th>2</th>\n",
       "      <td>3</td>\n",
       "      <td>18</td>\n",
       "      <td>3</td>\n",
       "      <td>9.0</td>\n",
       "      <td>2</td>\n",
       "      <td>0</td>\n",
       "    </tr>\n",
       "  </tbody>\n",
       "</table>\n",
       "</div>"
      ],
      "text/plain": [
       "   constructorStandingsId  raceId  constructorId  points  position  wins\n",
       "0                       1      18              1    14.0         1     1\n",
       "1                       2      18              2     8.0         3     0\n",
       "2                       3      18              3     9.0         2     0"
      ]
     },
     "execution_count": 120,
     "metadata": {},
     "output_type": "execute_result"
    }
   ],
   "source": [
    "df3.head(3)"
   ]
  },
  {
   "cell_type": "code",
   "execution_count": 121,
   "id": "f40f2ae6",
   "metadata": {
    "execution": {
     "iopub.execute_input": "2024-02-17T21:58:22.674507Z",
     "iopub.status.busy": "2024-02-17T21:58:22.673908Z",
     "iopub.status.idle": "2024-02-17T21:58:22.684587Z",
     "shell.execute_reply": "2024-02-17T21:58:22.683342Z"
    },
    "papermill": {
     "duration": 0.061258,
     "end_time": "2024-02-17T21:58:22.687106",
     "exception": false,
     "start_time": "2024-02-17T21:58:22.625848",
     "status": "completed"
    },
    "tags": []
   },
   "outputs": [
    {
     "data": {
      "text/html": [
       "<div>\n",
       "<style scoped>\n",
       "    .dataframe tbody tr th:only-of-type {\n",
       "        vertical-align: middle;\n",
       "    }\n",
       "\n",
       "    .dataframe tbody tr th {\n",
       "        vertical-align: top;\n",
       "    }\n",
       "\n",
       "    .dataframe thead th {\n",
       "        text-align: right;\n",
       "    }\n",
       "</style>\n",
       "<table border=\"1\" class=\"dataframe\">\n",
       "  <thead>\n",
       "    <tr style=\"text-align: right;\">\n",
       "      <th></th>\n",
       "      <th>driverStandingsId</th>\n",
       "      <th>raceId</th>\n",
       "      <th>driverId</th>\n",
       "      <th>points</th>\n",
       "      <th>position</th>\n",
       "      <th>wins</th>\n",
       "    </tr>\n",
       "  </thead>\n",
       "  <tbody>\n",
       "    <tr>\n",
       "      <th>0</th>\n",
       "      <td>1</td>\n",
       "      <td>18</td>\n",
       "      <td>1</td>\n",
       "      <td>10.0</td>\n",
       "      <td>1</td>\n",
       "      <td>1</td>\n",
       "    </tr>\n",
       "    <tr>\n",
       "      <th>1</th>\n",
       "      <td>2</td>\n",
       "      <td>18</td>\n",
       "      <td>2</td>\n",
       "      <td>8.0</td>\n",
       "      <td>2</td>\n",
       "      <td>0</td>\n",
       "    </tr>\n",
       "    <tr>\n",
       "      <th>2</th>\n",
       "      <td>3</td>\n",
       "      <td>18</td>\n",
       "      <td>3</td>\n",
       "      <td>6.0</td>\n",
       "      <td>3</td>\n",
       "      <td>0</td>\n",
       "    </tr>\n",
       "    <tr>\n",
       "      <th>3</th>\n",
       "      <td>4</td>\n",
       "      <td>18</td>\n",
       "      <td>4</td>\n",
       "      <td>5.0</td>\n",
       "      <td>4</td>\n",
       "      <td>0</td>\n",
       "    </tr>\n",
       "    <tr>\n",
       "      <th>4</th>\n",
       "      <td>5</td>\n",
       "      <td>18</td>\n",
       "      <td>5</td>\n",
       "      <td>4.0</td>\n",
       "      <td>5</td>\n",
       "      <td>0</td>\n",
       "    </tr>\n",
       "  </tbody>\n",
       "</table>\n",
       "</div>"
      ],
      "text/plain": [
       "   driverStandingsId  raceId  driverId  points  position  wins\n",
       "0                  1      18         1    10.0         1     1\n",
       "1                  2      18         2     8.0         2     0\n",
       "2                  3      18         3     6.0         3     0\n",
       "3                  4      18         4     5.0         4     0\n",
       "4                  5      18         5     4.0         5     0"
      ]
     },
     "execution_count": 121,
     "metadata": {},
     "output_type": "execute_result"
    }
   ],
   "source": [
    "df5.head()"
   ]
  },
  {
   "cell_type": "code",
   "execution_count": 122,
   "id": "b13b4c68",
   "metadata": {
    "execution": {
     "iopub.execute_input": "2024-02-17T21:58:22.768347Z",
     "iopub.status.busy": "2024-02-17T21:58:22.767791Z",
     "iopub.status.idle": "2024-02-17T21:58:22.771798Z",
     "shell.execute_reply": "2024-02-17T21:58:22.770436Z"
    },
    "papermill": {
     "duration": 0.047934,
     "end_time": "2024-02-17T21:58:22.774244",
     "exception": false,
     "start_time": "2024-02-17T21:58:22.726310",
     "status": "completed"
    },
    "tags": []
   },
   "outputs": [],
   "source": [
    "#Driver and Constructor nationalities are given as British for UK etc\n",
    "#So, for better analysis, I'll introduce a featues: driver_home and constructor_home"
   ]
  },
  {
   "cell_type": "code",
   "execution_count": 123,
   "id": "223740bc",
   "metadata": {
    "execution": {
     "iopub.execute_input": "2024-02-17T21:58:22.856164Z",
     "iopub.status.busy": "2024-02-17T21:58:22.855824Z",
     "iopub.status.idle": "2024-02-17T21:58:22.864833Z",
     "shell.execute_reply": "2024-02-17T21:58:22.863655Z"
    },
    "papermill": {
     "duration": 0.052582,
     "end_time": "2024-02-17T21:58:22.867296",
     "exception": false,
     "start_time": "2024-02-17T21:58:22.814714",
     "status": "completed"
    },
    "tags": []
   },
   "outputs": [
    {
     "data": {
      "text/html": [
       "<div>\n",
       "<style scoped>\n",
       "    .dataframe tbody tr th:only-of-type {\n",
       "        vertical-align: middle;\n",
       "    }\n",
       "\n",
       "    .dataframe tbody tr th {\n",
       "        vertical-align: top;\n",
       "    }\n",
       "\n",
       "    .dataframe thead th {\n",
       "        text-align: right;\n",
       "    }\n",
       "</style>\n",
       "<table border=\"1\" class=\"dataframe\">\n",
       "  <thead>\n",
       "    <tr style=\"text-align: right;\">\n",
       "      <th></th>\n",
       "      <th>constructorId</th>\n",
       "      <th>name</th>\n",
       "      <th>nationality</th>\n",
       "    </tr>\n",
       "  </thead>\n",
       "  <tbody>\n",
       "    <tr>\n",
       "      <th>0</th>\n",
       "      <td>1</td>\n",
       "      <td>McLaren</td>\n",
       "      <td>British</td>\n",
       "    </tr>\n",
       "    <tr>\n",
       "      <th>1</th>\n",
       "      <td>2</td>\n",
       "      <td>BMW Sauber</td>\n",
       "      <td>German</td>\n",
       "    </tr>\n",
       "  </tbody>\n",
       "</table>\n",
       "</div>"
      ],
      "text/plain": [
       "   constructorId        name nationality\n",
       "0              1     McLaren     British\n",
       "1              2  BMW Sauber      German"
      ]
     },
     "execution_count": 123,
     "metadata": {},
     "output_type": "execute_result"
    }
   ],
   "source": [
    "df4.head(2)"
   ]
  },
  {
   "cell_type": "code",
   "execution_count": 124,
   "id": "c79f5e16",
   "metadata": {
    "execution": {
     "iopub.execute_input": "2024-02-17T21:58:22.950157Z",
     "iopub.status.busy": "2024-02-17T21:58:22.949354Z",
     "iopub.status.idle": "2024-02-17T21:58:22.954067Z",
     "shell.execute_reply": "2024-02-17T21:58:22.953266Z"
    },
    "papermill": {
     "duration": 0.048063,
     "end_time": "2024-02-17T21:58:22.955873",
     "exception": false,
     "start_time": "2024-02-17T21:58:22.907810",
     "status": "completed"
    },
    "tags": []
   },
   "outputs": [],
   "source": [
    "df4.rename(columns={'name':'constructor_name', 'nationality':'constructor_nationality'}, inplace=True)"
   ]
  },
  {
   "cell_type": "code",
   "execution_count": 125,
   "id": "44cf485e",
   "metadata": {
    "execution": {
     "iopub.execute_input": "2024-02-17T21:58:23.036326Z",
     "iopub.status.busy": "2024-02-17T21:58:23.035956Z",
     "iopub.status.idle": "2024-02-17T21:58:23.042795Z",
     "shell.execute_reply": "2024-02-17T21:58:23.041876Z"
    },
    "papermill": {
     "duration": 0.050292,
     "end_time": "2024-02-17T21:58:23.045001",
     "exception": false,
     "start_time": "2024-02-17T21:58:22.994709",
     "status": "completed"
    },
    "tags": []
   },
   "outputs": [
    {
     "data": {
      "text/plain": [
       "array(['British', 'German', 'French', 'Italian', 'Japanese', 'Austrian',\n",
       "       'Indian', 'Dutch', 'Russian', 'Swiss', 'Irish', 'Hong Kong',\n",
       "       'Brazilian', 'Canadian', 'Mexican', 'American', 'Australian',\n",
       "       'New Zealander', 'South African', 'Rhodesian', 'Belgian',\n",
       "       'East German', 'Spanish', 'Malaysian'], dtype=object)"
      ]
     },
     "execution_count": 125,
     "metadata": {},
     "output_type": "execute_result"
    }
   ],
   "source": [
    "df4['constructor_nationality'].unique()"
   ]
  },
  {
   "cell_type": "code",
   "execution_count": 126,
   "id": "2263d952",
   "metadata": {
    "execution": {
     "iopub.execute_input": "2024-02-17T21:58:23.126519Z",
     "iopub.status.busy": "2024-02-17T21:58:23.126171Z",
     "iopub.status.idle": "2024-02-17T21:58:23.132890Z",
     "shell.execute_reply": "2024-02-17T21:58:23.131121Z"
    },
    "papermill": {
     "duration": 0.049352,
     "end_time": "2024-02-17T21:58:23.135044",
     "exception": false,
     "start_time": "2024-02-17T21:58:23.085692",
     "status": "completed"
    },
    "tags": []
   },
   "outputs": [],
   "source": [
    "#To make things easier, 'East German' : 'German' in constructor_nationality\n",
    "df4['constructor_nationality'] = df4['constructor_nationality'].replace('East German', 'German')"
   ]
  },
  {
   "cell_type": "code",
   "execution_count": 127,
   "id": "949ebbc4",
   "metadata": {
    "execution": {
     "iopub.execute_input": "2024-02-17T21:58:23.216648Z",
     "iopub.status.busy": "2024-02-17T21:58:23.216300Z",
     "iopub.status.idle": "2024-02-17T21:58:23.223937Z",
     "shell.execute_reply": "2024-02-17T21:58:23.222508Z"
    },
    "papermill": {
     "duration": 0.051976,
     "end_time": "2024-02-17T21:58:23.226685",
     "exception": false,
     "start_time": "2024-02-17T21:58:23.174709",
     "status": "completed"
    },
    "tags": []
   },
   "outputs": [
    {
     "data": {
      "text/plain": [
       "array(['British', 'German', 'French', 'Italian', 'Japanese', 'Austrian',\n",
       "       'Indian', 'Dutch', 'Russian', 'Swiss', 'Irish', 'Hong Kong',\n",
       "       'Brazilian', 'Canadian', 'Mexican', 'American', 'Australian',\n",
       "       'New Zealander', 'South African', 'Rhodesian', 'Belgian',\n",
       "       'Spanish', 'Malaysian'], dtype=object)"
      ]
     },
     "execution_count": 127,
     "metadata": {},
     "output_type": "execute_result"
    }
   ],
   "source": [
    "df4['constructor_nationality'].unique()"
   ]
  },
  {
   "cell_type": "code",
   "execution_count": 128,
   "id": "991d2c79",
   "metadata": {
    "execution": {
     "iopub.execute_input": "2024-02-17T21:58:23.309462Z",
     "iopub.status.busy": "2024-02-17T21:58:23.309118Z",
     "iopub.status.idle": "2024-02-17T21:58:23.321299Z",
     "shell.execute_reply": "2024-02-17T21:58:23.319661Z"
    },
    "papermill": {
     "duration": 0.058303,
     "end_time": "2024-02-17T21:58:23.323860",
     "exception": false,
     "start_time": "2024-02-17T21:58:23.265557",
     "status": "completed"
    },
    "tags": []
   },
   "outputs": [
    {
     "data": {
      "text/html": [
       "<div>\n",
       "<style scoped>\n",
       "    .dataframe tbody tr th:only-of-type {\n",
       "        vertical-align: middle;\n",
       "    }\n",
       "\n",
       "    .dataframe tbody tr th {\n",
       "        vertical-align: top;\n",
       "    }\n",
       "\n",
       "    .dataframe thead th {\n",
       "        text-align: right;\n",
       "    }\n",
       "</style>\n",
       "<table border=\"1\" class=\"dataframe\">\n",
       "  <thead>\n",
       "    <tr style=\"text-align: right;\">\n",
       "      <th></th>\n",
       "      <th>driverId</th>\n",
       "      <th>code</th>\n",
       "      <th>forename</th>\n",
       "      <th>surname</th>\n",
       "      <th>dob</th>\n",
       "      <th>nationality</th>\n",
       "    </tr>\n",
       "  </thead>\n",
       "  <tbody>\n",
       "    <tr>\n",
       "      <th>0</th>\n",
       "      <td>1</td>\n",
       "      <td>HAM</td>\n",
       "      <td>Lewis</td>\n",
       "      <td>Hamilton</td>\n",
       "      <td>1985-01-07</td>\n",
       "      <td>British</td>\n",
       "    </tr>\n",
       "    <tr>\n",
       "      <th>1</th>\n",
       "      <td>2</td>\n",
       "      <td>HEI</td>\n",
       "      <td>Nick</td>\n",
       "      <td>Heidfeld</td>\n",
       "      <td>1977-05-10</td>\n",
       "      <td>German</td>\n",
       "    </tr>\n",
       "  </tbody>\n",
       "</table>\n",
       "</div>"
      ],
      "text/plain": [
       "   driverId code forename   surname        dob nationality\n",
       "0         1  HAM    Lewis  Hamilton 1985-01-07     British\n",
       "1         2  HEI     Nick  Heidfeld 1977-05-10      German"
      ]
     },
     "execution_count": 128,
     "metadata": {},
     "output_type": "execute_result"
    }
   ],
   "source": [
    "df6.head(2)"
   ]
  },
  {
   "cell_type": "code",
   "execution_count": 129,
   "id": "43359483",
   "metadata": {
    "execution": {
     "iopub.execute_input": "2024-02-17T21:58:23.404779Z",
     "iopub.status.busy": "2024-02-17T21:58:23.404395Z",
     "iopub.status.idle": "2024-02-17T21:58:23.410444Z",
     "shell.execute_reply": "2024-02-17T21:58:23.409461Z"
    },
    "papermill": {
     "duration": 0.048337,
     "end_time": "2024-02-17T21:58:23.412280",
     "exception": false,
     "start_time": "2024-02-17T21:58:23.363943",
     "status": "completed"
    },
    "tags": []
   },
   "outputs": [],
   "source": [
    "df6.rename(columns={'code':'driver_code', 'forename':'driver_forename', 'surname':'driver_surname', 'dob':'driver_dob', 'nationality':'driver_nationality'}, inplace=True)"
   ]
  },
  {
   "cell_type": "code",
   "execution_count": 130,
   "id": "f2b2d0b6",
   "metadata": {
    "execution": {
     "iopub.execute_input": "2024-02-17T21:58:23.492143Z",
     "iopub.status.busy": "2024-02-17T21:58:23.491819Z",
     "iopub.status.idle": "2024-02-17T21:58:23.498586Z",
     "shell.execute_reply": "2024-02-17T21:58:23.497565Z"
    },
    "papermill": {
     "duration": 0.049105,
     "end_time": "2024-02-17T21:58:23.500488",
     "exception": false,
     "start_time": "2024-02-17T21:58:23.451383",
     "status": "completed"
    },
    "tags": []
   },
   "outputs": [
    {
     "data": {
      "text/plain": [
       "array(['British', 'German', 'Spanish', 'Finnish', 'Japanese', 'French',\n",
       "       'Polish', 'Brazilian', 'Italian', 'Australian', 'Austrian',\n",
       "       'American', 'Dutch', 'Colombian', 'Portuguese', 'Canadian',\n",
       "       'Indian', 'Hungarian', 'Irish', 'Danish', 'Argentine', 'Czech',\n",
       "       'Malaysian', 'Swiss', 'Belgian', 'Monegasque', 'Swedish',\n",
       "       'Venezuelan', 'New Zealander', 'Chilean', 'Mexican',\n",
       "       'South African', 'Liechtensteiner', 'Rhodesian',\n",
       "       'American-Italian', 'Uruguayan', 'Argentine-Italian', 'Thai',\n",
       "       'East German', 'Russian', 'Indonesian', 'Chinese'], dtype=object)"
      ]
     },
     "execution_count": 130,
     "metadata": {},
     "output_type": "execute_result"
    }
   ],
   "source": [
    "df6['driver_nationality'].unique()"
   ]
  },
  {
   "cell_type": "code",
   "execution_count": 131,
   "id": "c9fcb329",
   "metadata": {
    "execution": {
     "iopub.execute_input": "2024-02-17T21:58:23.580008Z",
     "iopub.status.busy": "2024-02-17T21:58:23.579590Z",
     "iopub.status.idle": "2024-02-17T21:58:23.588337Z",
     "shell.execute_reply": "2024-02-17T21:58:23.586619Z"
    },
    "papermill": {
     "duration": 0.051756,
     "end_time": "2024-02-17T21:58:23.590719",
     "exception": false,
     "start_time": "2024-02-17T21:58:23.538963",
     "status": "completed"
    },
    "tags": []
   },
   "outputs": [],
   "source": [
    "#'American-Italian': 'USA', 'Argentine-Italian': 'Argentina' in driver nationality \n",
    "df6['driver_nationality'] = df6['driver_nationality'].replace('East German', 'German')\n",
    "df6['driver_nationality'] = df6['driver_nationality'].replace('American-Italian', 'USA')\n",
    "df6['driver_nationality'] = df6['driver_nationality'].replace('Argentine-Italian', 'Argentina')"
   ]
  },
  {
   "cell_type": "code",
   "execution_count": 132,
   "id": "448d8442",
   "metadata": {
    "execution": {
     "iopub.execute_input": "2024-02-17T21:58:23.673184Z",
     "iopub.status.busy": "2024-02-17T21:58:23.672803Z",
     "iopub.status.idle": "2024-02-17T21:58:23.680871Z",
     "shell.execute_reply": "2024-02-17T21:58:23.679732Z"
    },
    "papermill": {
     "duration": 0.052259,
     "end_time": "2024-02-17T21:58:23.682847",
     "exception": false,
     "start_time": "2024-02-17T21:58:23.630588",
     "status": "completed"
    },
    "tags": []
   },
   "outputs": [
    {
     "data": {
      "text/plain": [
       "array(['British', 'German', 'Spanish', 'Finnish', 'Japanese', 'French',\n",
       "       'Polish', 'Brazilian', 'Italian', 'Australian', 'Austrian',\n",
       "       'American', 'Dutch', 'Colombian', 'Portuguese', 'Canadian',\n",
       "       'Indian', 'Hungarian', 'Irish', 'Danish', 'Argentine', 'Czech',\n",
       "       'Malaysian', 'Swiss', 'Belgian', 'Monegasque', 'Swedish',\n",
       "       'Venezuelan', 'New Zealander', 'Chilean', 'Mexican',\n",
       "       'South African', 'Liechtensteiner', 'Rhodesian', 'USA',\n",
       "       'Uruguayan', 'Argentina', 'Thai', 'Russian', 'Indonesian',\n",
       "       'Chinese'], dtype=object)"
      ]
     },
     "execution_count": 132,
     "metadata": {},
     "output_type": "execute_result"
    }
   ],
   "source": [
    "df6['driver_nationality'].unique()"
   ]
  },
  {
   "cell_type": "code",
   "execution_count": 133,
   "id": "6567a068",
   "metadata": {
    "execution": {
     "iopub.execute_input": "2024-02-17T21:58:23.765797Z",
     "iopub.status.busy": "2024-02-17T21:58:23.765466Z",
     "iopub.status.idle": "2024-02-17T21:58:23.772600Z",
     "shell.execute_reply": "2024-02-17T21:58:23.771281Z"
    },
    "papermill": {
     "duration": 0.05094,
     "end_time": "2024-02-17T21:58:23.775102",
     "exception": false,
     "start_time": "2024-02-17T21:58:23.724162",
     "status": "completed"
    },
    "tags": []
   },
   "outputs": [],
   "source": [
    "# Dictionary mapping countries to nationalities\n",
    "nationality_to_country = {\n",
    "    'British': 'UK',\n",
    "    'German': 'Germany',\n",
    "    'French': 'France',\n",
    "    'Italian': 'Italy',\n",
    "    'Japanese': 'Japan',\n",
    "    'Austrian': 'Austria',\n",
    "    'Indian': 'India',\n",
    "    'Dutch': 'Netherlands',\n",
    "    'Russian': 'Russia',\n",
    "    'Swiss': 'Switzerland',\n",
    "    'Irish': 'Ireland',\n",
    "    'Hong Kong': 'Hong Kong',\n",
    "    'Brazilian': 'Brazil',\n",
    "    'Canadian': 'Canada',\n",
    "    'Mexican': 'Mexico',\n",
    "    'American': 'USA',\n",
    "    'Australian': 'Australia',\n",
    "    'New Zealander': 'New Zealand',\n",
    "    'South African': 'South Africa',\n",
    "    'Rhodesian': 'Rhodesia',\n",
    "    'Belgian': 'Belgium',\n",
    "    'East German': 'East Germany',\n",
    "    'Spanish': 'Spain',\n",
    "    'Malaysian': 'Malaysia',\n",
    "    'Finnish': 'Finland',\n",
    "    'Polish': 'Poland',\n",
    "    'Colombian': 'Colombia',\n",
    "    'Portuguese': 'Portugal',\n",
    "    'Hungarian': 'Hungary',\n",
    "    'Danish': 'Denmark',\n",
    "    'Argentine': 'Argentina',\n",
    "    'Czech': 'Czech Republic',\n",
    "    'Monegasque': 'Monaco',\n",
    "    'Swedish': 'Sweden',\n",
    "    'Venezuelan': 'Venezuela',\n",
    "    'Chilean': 'Chile',\n",
    "    'Liechtensteiner': 'Liechtenstein',\n",
    "    'American-Italian': 'USA',\n",
    "    'Uruguayan': 'Uruguay',\n",
    "    'Argentine-Italian': 'Argentina',\n",
    "    'Thai': 'Thailand',\n",
    "    'Indonesian': 'Indonesia',\n",
    "    'Chinese': 'China'\n",
    "}"
   ]
  },
  {
   "cell_type": "code",
   "execution_count": 134,
   "id": "fbd1c238",
   "metadata": {
    "execution": {
     "iopub.execute_input": "2024-02-17T21:58:23.857758Z",
     "iopub.status.busy": "2024-02-17T21:58:23.857395Z",
     "iopub.status.idle": "2024-02-17T21:58:23.864105Z",
     "shell.execute_reply": "2024-02-17T21:58:23.862465Z"
    },
    "papermill": {
     "duration": 0.049713,
     "end_time": "2024-02-17T21:58:23.866415",
     "exception": false,
     "start_time": "2024-02-17T21:58:23.816702",
     "status": "completed"
    },
    "tags": []
   },
   "outputs": [],
   "source": [
    "# Create the new 'constructor_home' column\n",
    "df4['constructor_home'] = df4['constructor_nationality'].map(nationality_to_country)"
   ]
  },
  {
   "cell_type": "code",
   "execution_count": 135,
   "id": "f50b2ff1",
   "metadata": {
    "execution": {
     "iopub.execute_input": "2024-02-17T21:58:23.948242Z",
     "iopub.status.busy": "2024-02-17T21:58:23.947892Z",
     "iopub.status.idle": "2024-02-17T21:58:23.953712Z",
     "shell.execute_reply": "2024-02-17T21:58:23.952586Z"
    },
    "papermill": {
     "duration": 0.049111,
     "end_time": "2024-02-17T21:58:23.955475",
     "exception": false,
     "start_time": "2024-02-17T21:58:23.906364",
     "status": "completed"
    },
    "tags": []
   },
   "outputs": [],
   "source": [
    "# Create the new 'constructor_home' column\n",
    "df4['constructor_home'] = df4['constructor_nationality'].map(nationality_to_country)"
   ]
  },
  {
   "cell_type": "code",
   "execution_count": 136,
   "id": "f8e30e88",
   "metadata": {
    "execution": {
     "iopub.execute_input": "2024-02-17T21:58:24.035627Z",
     "iopub.status.busy": "2024-02-17T21:58:24.035280Z",
     "iopub.status.idle": "2024-02-17T21:58:24.045610Z",
     "shell.execute_reply": "2024-02-17T21:58:24.044365Z"
    },
    "papermill": {
     "duration": 0.052588,
     "end_time": "2024-02-17T21:58:24.047481",
     "exception": false,
     "start_time": "2024-02-17T21:58:23.994893",
     "status": "completed"
    },
    "tags": []
   },
   "outputs": [
    {
     "data": {
      "text/html": [
       "<div>\n",
       "<style scoped>\n",
       "    .dataframe tbody tr th:only-of-type {\n",
       "        vertical-align: middle;\n",
       "    }\n",
       "\n",
       "    .dataframe tbody tr th {\n",
       "        vertical-align: top;\n",
       "    }\n",
       "\n",
       "    .dataframe thead th {\n",
       "        text-align: right;\n",
       "    }\n",
       "</style>\n",
       "<table border=\"1\" class=\"dataframe\">\n",
       "  <thead>\n",
       "    <tr style=\"text-align: right;\">\n",
       "      <th></th>\n",
       "      <th>constructorId</th>\n",
       "      <th>constructor_name</th>\n",
       "      <th>constructor_nationality</th>\n",
       "      <th>constructor_home</th>\n",
       "    </tr>\n",
       "  </thead>\n",
       "  <tbody>\n",
       "    <tr>\n",
       "      <th>0</th>\n",
       "      <td>1</td>\n",
       "      <td>McLaren</td>\n",
       "      <td>British</td>\n",
       "      <td>UK</td>\n",
       "    </tr>\n",
       "    <tr>\n",
       "      <th>1</th>\n",
       "      <td>2</td>\n",
       "      <td>BMW Sauber</td>\n",
       "      <td>German</td>\n",
       "      <td>Germany</td>\n",
       "    </tr>\n",
       "  </tbody>\n",
       "</table>\n",
       "</div>"
      ],
      "text/plain": [
       "   constructorId constructor_name constructor_nationality constructor_home\n",
       "0              1          McLaren                 British               UK\n",
       "1              2       BMW Sauber                  German          Germany"
      ]
     },
     "execution_count": 136,
     "metadata": {},
     "output_type": "execute_result"
    }
   ],
   "source": [
    "df4.head(2)"
   ]
  },
  {
   "cell_type": "code",
   "execution_count": 137,
   "id": "b84825b3",
   "metadata": {
    "execution": {
     "iopub.execute_input": "2024-02-17T21:58:24.126773Z",
     "iopub.status.busy": "2024-02-17T21:58:24.126410Z",
     "iopub.status.idle": "2024-02-17T21:58:24.132179Z",
     "shell.execute_reply": "2024-02-17T21:58:24.130836Z"
    },
    "papermill": {
     "duration": 0.04752,
     "end_time": "2024-02-17T21:58:24.134231",
     "exception": false,
     "start_time": "2024-02-17T21:58:24.086711",
     "status": "completed"
    },
    "tags": []
   },
   "outputs": [],
   "source": [
    "# Create the new 'driver_home' column\n",
    "df6['driver_home'] = df6['driver_nationality'].map(nationality_to_country)"
   ]
  },
  {
   "cell_type": "code",
   "execution_count": 138,
   "id": "a29ceb3a",
   "metadata": {
    "execution": {
     "iopub.execute_input": "2024-02-17T21:58:24.216454Z",
     "iopub.status.busy": "2024-02-17T21:58:24.216032Z",
     "iopub.status.idle": "2024-02-17T21:58:24.228038Z",
     "shell.execute_reply": "2024-02-17T21:58:24.226261Z"
    },
    "papermill": {
     "duration": 0.055655,
     "end_time": "2024-02-17T21:58:24.229935",
     "exception": false,
     "start_time": "2024-02-17T21:58:24.174280",
     "status": "completed"
    },
    "tags": []
   },
   "outputs": [
    {
     "data": {
      "text/html": [
       "<div>\n",
       "<style scoped>\n",
       "    .dataframe tbody tr th:only-of-type {\n",
       "        vertical-align: middle;\n",
       "    }\n",
       "\n",
       "    .dataframe tbody tr th {\n",
       "        vertical-align: top;\n",
       "    }\n",
       "\n",
       "    .dataframe thead th {\n",
       "        text-align: right;\n",
       "    }\n",
       "</style>\n",
       "<table border=\"1\" class=\"dataframe\">\n",
       "  <thead>\n",
       "    <tr style=\"text-align: right;\">\n",
       "      <th></th>\n",
       "      <th>driverId</th>\n",
       "      <th>driver_code</th>\n",
       "      <th>driver_forename</th>\n",
       "      <th>driver_surname</th>\n",
       "      <th>driver_dob</th>\n",
       "      <th>driver_nationality</th>\n",
       "      <th>driver_home</th>\n",
       "    </tr>\n",
       "  </thead>\n",
       "  <tbody>\n",
       "    <tr>\n",
       "      <th>0</th>\n",
       "      <td>1</td>\n",
       "      <td>HAM</td>\n",
       "      <td>Lewis</td>\n",
       "      <td>Hamilton</td>\n",
       "      <td>1985-01-07</td>\n",
       "      <td>British</td>\n",
       "      <td>UK</td>\n",
       "    </tr>\n",
       "    <tr>\n",
       "      <th>1</th>\n",
       "      <td>2</td>\n",
       "      <td>HEI</td>\n",
       "      <td>Nick</td>\n",
       "      <td>Heidfeld</td>\n",
       "      <td>1977-05-10</td>\n",
       "      <td>German</td>\n",
       "      <td>Germany</td>\n",
       "    </tr>\n",
       "  </tbody>\n",
       "</table>\n",
       "</div>"
      ],
      "text/plain": [
       "   driverId driver_code driver_forename driver_surname driver_dob  \\\n",
       "0         1         HAM           Lewis       Hamilton 1985-01-07   \n",
       "1         2         HEI            Nick       Heidfeld 1977-05-10   \n",
       "\n",
       "  driver_nationality driver_home  \n",
       "0            British          UK  \n",
       "1             German     Germany  "
      ]
     },
     "execution_count": 138,
     "metadata": {},
     "output_type": "execute_result"
    }
   ],
   "source": [
    "df6.head(2)"
   ]
  },
  {
   "cell_type": "code",
   "execution_count": 139,
   "id": "837ae1a9",
   "metadata": {
    "execution": {
     "iopub.execute_input": "2024-02-17T21:58:24.311892Z",
     "iopub.status.busy": "2024-02-17T21:58:24.311544Z",
     "iopub.status.idle": "2024-02-17T21:58:24.320896Z",
     "shell.execute_reply": "2024-02-17T21:58:24.320053Z"
    },
    "papermill": {
     "duration": 0.053784,
     "end_time": "2024-02-17T21:58:24.323327",
     "exception": false,
     "start_time": "2024-02-17T21:58:24.269543",
     "status": "completed"
    },
    "tags": []
   },
   "outputs": [
    {
     "data": {
      "text/html": [
       "<div>\n",
       "<style scoped>\n",
       "    .dataframe tbody tr th:only-of-type {\n",
       "        vertical-align: middle;\n",
       "    }\n",
       "\n",
       "    .dataframe tbody tr th {\n",
       "        vertical-align: top;\n",
       "    }\n",
       "\n",
       "    .dataframe thead th {\n",
       "        text-align: right;\n",
       "    }\n",
       "</style>\n",
       "<table border=\"1\" class=\"dataframe\">\n",
       "  <thead>\n",
       "    <tr style=\"text-align: right;\">\n",
       "      <th></th>\n",
       "      <th>circuitId</th>\n",
       "      <th>circuit_name</th>\n",
       "      <th>circuit_location</th>\n",
       "      <th>circuit_country</th>\n",
       "    </tr>\n",
       "  </thead>\n",
       "  <tbody>\n",
       "    <tr>\n",
       "      <th>0</th>\n",
       "      <td>1</td>\n",
       "      <td>Albert Park Grand Prix Circuit</td>\n",
       "      <td>Melbourne</td>\n",
       "      <td>Australia</td>\n",
       "    </tr>\n",
       "    <tr>\n",
       "      <th>1</th>\n",
       "      <td>2</td>\n",
       "      <td>Sepang International Circuit</td>\n",
       "      <td>Kuala Lumpur</td>\n",
       "      <td>Malaysia</td>\n",
       "    </tr>\n",
       "  </tbody>\n",
       "</table>\n",
       "</div>"
      ],
      "text/plain": [
       "   circuitId                    circuit_name circuit_location circuit_country\n",
       "0          1  Albert Park Grand Prix Circuit        Melbourne       Australia\n",
       "1          2    Sepang International Circuit     Kuala Lumpur        Malaysia"
      ]
     },
     "execution_count": 139,
     "metadata": {},
     "output_type": "execute_result"
    }
   ],
   "source": [
    "df1.head(2)"
   ]
  },
  {
   "cell_type": "code",
   "execution_count": 140,
   "id": "4ea34924",
   "metadata": {
    "execution": {
     "iopub.execute_input": "2024-02-17T21:58:24.405290Z",
     "iopub.status.busy": "2024-02-17T21:58:24.404912Z",
     "iopub.status.idle": "2024-02-17T21:58:24.409886Z",
     "shell.execute_reply": "2024-02-17T21:58:24.409146Z"
    },
    "papermill": {
     "duration": 0.047483,
     "end_time": "2024-02-17T21:58:24.411580",
     "exception": false,
     "start_time": "2024-02-17T21:58:24.364097",
     "status": "completed"
    },
    "tags": []
   },
   "outputs": [],
   "source": [
    "#To make things easier, 'United States' : 'USA' in the'circuit_country' column\n",
    "df1['circuit_country'] = df1['circuit_country'].replace('United States', 'USA')"
   ]
  },
  {
   "cell_type": "code",
   "execution_count": 141,
   "id": "64b359c1",
   "metadata": {
    "execution": {
     "iopub.execute_input": "2024-02-17T21:58:24.494791Z",
     "iopub.status.busy": "2024-02-17T21:58:24.494401Z",
     "iopub.status.idle": "2024-02-17T21:58:24.501508Z",
     "shell.execute_reply": "2024-02-17T21:58:24.500482Z"
    },
    "papermill": {
     "duration": 0.050496,
     "end_time": "2024-02-17T21:58:24.503203",
     "exception": false,
     "start_time": "2024-02-17T21:58:24.452707",
     "status": "completed"
    },
    "tags": []
   },
   "outputs": [
    {
     "data": {
      "text/plain": [
       "array(['Australia', 'Malaysia', 'Bahrain', 'Spain', 'Turkey', 'Monaco',\n",
       "       'Canada', 'France', 'UK', 'Germany', 'Hungary', 'Belgium', 'Italy',\n",
       "       'Singapore', 'Japan', 'China', 'Brazil', 'USA', 'UAE', 'Argentina',\n",
       "       'Portugal', 'South Africa', 'Mexico', 'Korea', 'Netherlands',\n",
       "       'Sweden', 'Austria', 'Morocco', 'Switzerland', 'India', 'Russia',\n",
       "       'Azerbaijan', 'Saudi Arabia', 'Qatar'], dtype=object)"
      ]
     },
     "execution_count": 141,
     "metadata": {},
     "output_type": "execute_result"
    }
   ],
   "source": [
    "df1['circuit_country'].unique()"
   ]
  },
  {
   "cell_type": "code",
   "execution_count": 142,
   "id": "e491fac2",
   "metadata": {
    "execution": {
     "iopub.execute_input": "2024-02-17T21:58:24.587183Z",
     "iopub.status.busy": "2024-02-17T21:58:24.586807Z",
     "iopub.status.idle": "2024-02-17T21:58:24.593248Z",
     "shell.execute_reply": "2024-02-17T21:58:24.592124Z"
    },
    "papermill": {
     "duration": 0.051393,
     "end_time": "2024-02-17T21:58:24.595121",
     "exception": false,
     "start_time": "2024-02-17T21:58:24.543728",
     "status": "completed"
    },
    "tags": []
   },
   "outputs": [],
   "source": [
    "#Introducing circuit_nationality\n",
    "# Dictionary mapping countries to nationalities\n",
    "country_to_nationality = {\n",
    "    'Australia': 'Australian',\n",
    "    'Malaysia': 'Malaysian',\n",
    "    'Bahrain': 'Bahraini',\n",
    "    'Spain': 'Spanish',\n",
    "    'Turkey': 'Turkish',\n",
    "    'Monaco': 'Monegasque',\n",
    "    'Canada': 'Canadian',\n",
    "    'France': 'French',\n",
    "    'UK': 'British',\n",
    "    'Germany': 'German',\n",
    "    'Hungary': 'Hungarian',\n",
    "    'Belgium': 'Belgian',\n",
    "    'Italy': 'Italian',\n",
    "    'Singapore': 'Singaporean',\n",
    "    'Japan': 'Japanese',\n",
    "    'China': 'Chinese',\n",
    "    'Brazil': 'Brazilian',\n",
    "    'USA': 'American',\n",
    "    'UAE': 'Emirati',\n",
    "    'Argentina': 'Argentine',\n",
    "    'Portugal': 'Portuguese',\n",
    "    'South Africa': 'South African',\n",
    "    'Mexico': 'Mexican',\n",
    "    'Korea': 'South Korean',\n",
    "    'Netherlands': 'Dutch',\n",
    "    'Sweden': 'Swedish',\n",
    "    'Austria': 'Austrian',\n",
    "    'Morocco': 'Moroccan',\n",
    "    'Switzerland': 'Swiss',\n",
    "    'India': 'Indian',\n",
    "    'Russia': 'Russian',\n",
    "    'Azerbaijan': 'Azerbaijani',\n",
    "    'Saudi Arabia': 'Saudi Arabian',\n",
    "    'Qatar': 'Qatari'\n",
    "}"
   ]
  },
  {
   "cell_type": "code",
   "execution_count": 143,
   "id": "18df7022",
   "metadata": {
    "execution": {
     "iopub.execute_input": "2024-02-17T21:58:24.679442Z",
     "iopub.status.busy": "2024-02-17T21:58:24.679055Z",
     "iopub.status.idle": "2024-02-17T21:58:24.685159Z",
     "shell.execute_reply": "2024-02-17T21:58:24.684229Z"
    },
    "papermill": {
     "duration": 0.052598,
     "end_time": "2024-02-17T21:58:24.687703",
     "exception": false,
     "start_time": "2024-02-17T21:58:24.635105",
     "status": "completed"
    },
    "tags": []
   },
   "outputs": [],
   "source": [
    "# Create the new 'circuit_nationality' column\n",
    "df1['circuit_nationality'] = df1['circuit_country'].map(country_to_nationality)"
   ]
  },
  {
   "cell_type": "code",
   "execution_count": 144,
   "id": "2ae8eabb",
   "metadata": {
    "execution": {
     "iopub.execute_input": "2024-02-17T21:58:24.775788Z",
     "iopub.status.busy": "2024-02-17T21:58:24.774660Z",
     "iopub.status.idle": "2024-02-17T21:58:24.784515Z",
     "shell.execute_reply": "2024-02-17T21:58:24.783624Z"
    },
    "papermill": {
     "duration": 0.056717,
     "end_time": "2024-02-17T21:58:24.786191",
     "exception": false,
     "start_time": "2024-02-17T21:58:24.729474",
     "status": "completed"
    },
    "tags": []
   },
   "outputs": [
    {
     "data": {
      "text/html": [
       "<div>\n",
       "<style scoped>\n",
       "    .dataframe tbody tr th:only-of-type {\n",
       "        vertical-align: middle;\n",
       "    }\n",
       "\n",
       "    .dataframe tbody tr th {\n",
       "        vertical-align: top;\n",
       "    }\n",
       "\n",
       "    .dataframe thead th {\n",
       "        text-align: right;\n",
       "    }\n",
       "</style>\n",
       "<table border=\"1\" class=\"dataframe\">\n",
       "  <thead>\n",
       "    <tr style=\"text-align: right;\">\n",
       "      <th></th>\n",
       "      <th>circuitId</th>\n",
       "      <th>circuit_name</th>\n",
       "      <th>circuit_location</th>\n",
       "      <th>circuit_country</th>\n",
       "      <th>circuit_nationality</th>\n",
       "    </tr>\n",
       "  </thead>\n",
       "  <tbody>\n",
       "    <tr>\n",
       "      <th>0</th>\n",
       "      <td>1</td>\n",
       "      <td>Albert Park Grand Prix Circuit</td>\n",
       "      <td>Melbourne</td>\n",
       "      <td>Australia</td>\n",
       "      <td>Australian</td>\n",
       "    </tr>\n",
       "    <tr>\n",
       "      <th>1</th>\n",
       "      <td>2</td>\n",
       "      <td>Sepang International Circuit</td>\n",
       "      <td>Kuala Lumpur</td>\n",
       "      <td>Malaysia</td>\n",
       "      <td>Malaysian</td>\n",
       "    </tr>\n",
       "  </tbody>\n",
       "</table>\n",
       "</div>"
      ],
      "text/plain": [
       "   circuitId                    circuit_name circuit_location circuit_country  \\\n",
       "0          1  Albert Park Grand Prix Circuit        Melbourne       Australia   \n",
       "1          2    Sepang International Circuit     Kuala Lumpur        Malaysia   \n",
       "\n",
       "  circuit_nationality  \n",
       "0          Australian  \n",
       "1           Malaysian  "
      ]
     },
     "execution_count": 144,
     "metadata": {},
     "output_type": "execute_result"
    }
   ],
   "source": [
    "df1.head(2)"
   ]
  },
  {
   "cell_type": "code",
   "execution_count": 145,
   "id": "4c9cf2d1",
   "metadata": {
    "execution": {
     "iopub.execute_input": "2024-02-17T21:58:24.867764Z",
     "iopub.status.busy": "2024-02-17T21:58:24.866660Z",
     "iopub.status.idle": "2024-02-17T21:58:24.878092Z",
     "shell.execute_reply": "2024-02-17T21:58:24.876874Z"
    },
    "papermill": {
     "duration": 0.054424,
     "end_time": "2024-02-17T21:58:24.880091",
     "exception": false,
     "start_time": "2024-02-17T21:58:24.825667",
     "status": "completed"
    },
    "tags": []
   },
   "outputs": [
    {
     "data": {
      "text/html": [
       "<div>\n",
       "<style scoped>\n",
       "    .dataframe tbody tr th:only-of-type {\n",
       "        vertical-align: middle;\n",
       "    }\n",
       "\n",
       "    .dataframe tbody tr th {\n",
       "        vertical-align: top;\n",
       "    }\n",
       "\n",
       "    .dataframe thead th {\n",
       "        text-align: right;\n",
       "    }\n",
       "</style>\n",
       "<table border=\"1\" class=\"dataframe\">\n",
       "  <thead>\n",
       "    <tr style=\"text-align: right;\">\n",
       "      <th></th>\n",
       "      <th>raceId</th>\n",
       "      <th>driverId</th>\n",
       "      <th>lap</th>\n",
       "      <th>position</th>\n",
       "      <th>milliseconds</th>\n",
       "      <th>time</th>\n",
       "    </tr>\n",
       "  </thead>\n",
       "  <tbody>\n",
       "    <tr>\n",
       "      <th>0</th>\n",
       "      <td>841</td>\n",
       "      <td>20</td>\n",
       "      <td>1</td>\n",
       "      <td>1</td>\n",
       "      <td>98109</td>\n",
       "      <td>0 days 00:01:38.109000</td>\n",
       "    </tr>\n",
       "    <tr>\n",
       "      <th>1</th>\n",
       "      <td>841</td>\n",
       "      <td>20</td>\n",
       "      <td>2</td>\n",
       "      <td>1</td>\n",
       "      <td>93006</td>\n",
       "      <td>0 days 00:01:33.006000</td>\n",
       "    </tr>\n",
       "  </tbody>\n",
       "</table>\n",
       "</div>"
      ],
      "text/plain": [
       "   raceId  driverId  lap  position  milliseconds                   time\n",
       "0     841        20    1         1         98109 0 days 00:01:38.109000\n",
       "1     841        20    2         1         93006 0 days 00:01:33.006000"
      ]
     },
     "execution_count": 145,
     "metadata": {},
     "output_type": "execute_result"
    }
   ],
   "source": [
    "df7.head(2)"
   ]
  },
  {
   "cell_type": "code",
   "execution_count": 146,
   "id": "6494a960",
   "metadata": {
    "execution": {
     "iopub.execute_input": "2024-02-17T21:58:24.966477Z",
     "iopub.status.busy": "2024-02-17T21:58:24.965456Z",
     "iopub.status.idle": "2024-02-17T21:58:24.973653Z",
     "shell.execute_reply": "2024-02-17T21:58:24.972679Z"
    },
    "papermill": {
     "duration": 0.055551,
     "end_time": "2024-02-17T21:58:24.976097",
     "exception": false,
     "start_time": "2024-02-17T21:58:24.920546",
     "status": "completed"
    },
    "tags": []
   },
   "outputs": [],
   "source": [
    "df7.drop(columns='milliseconds', inplace=True)"
   ]
  },
  {
   "cell_type": "code",
   "execution_count": 147,
   "id": "9a1ce350",
   "metadata": {
    "execution": {
     "iopub.execute_input": "2024-02-17T21:58:25.060817Z",
     "iopub.status.busy": "2024-02-17T21:58:25.060448Z",
     "iopub.status.idle": "2024-02-17T21:58:25.065624Z",
     "shell.execute_reply": "2024-02-17T21:58:25.064288Z"
    },
    "papermill": {
     "duration": 0.051411,
     "end_time": "2024-02-17T21:58:25.068178",
     "exception": false,
     "start_time": "2024-02-17T21:58:25.016767",
     "status": "completed"
    },
    "tags": []
   },
   "outputs": [],
   "source": [
    "df7.rename(columns={'time':'lap_time'}, inplace=True)"
   ]
  },
  {
   "cell_type": "code",
   "execution_count": 148,
   "id": "4686a260",
   "metadata": {
    "execution": {
     "iopub.execute_input": "2024-02-17T21:58:25.154387Z",
     "iopub.status.busy": "2024-02-17T21:58:25.153786Z",
     "iopub.status.idle": "2024-02-17T21:58:25.164163Z",
     "shell.execute_reply": "2024-02-17T21:58:25.162810Z"
    },
    "papermill": {
     "duration": 0.056021,
     "end_time": "2024-02-17T21:58:25.166213",
     "exception": false,
     "start_time": "2024-02-17T21:58:25.110192",
     "status": "completed"
    },
    "tags": []
   },
   "outputs": [
    {
     "data": {
      "text/html": [
       "<div>\n",
       "<style scoped>\n",
       "    .dataframe tbody tr th:only-of-type {\n",
       "        vertical-align: middle;\n",
       "    }\n",
       "\n",
       "    .dataframe tbody tr th {\n",
       "        vertical-align: top;\n",
       "    }\n",
       "\n",
       "    .dataframe thead th {\n",
       "        text-align: right;\n",
       "    }\n",
       "</style>\n",
       "<table border=\"1\" class=\"dataframe\">\n",
       "  <thead>\n",
       "    <tr style=\"text-align: right;\">\n",
       "      <th></th>\n",
       "      <th>raceId</th>\n",
       "      <th>driverId</th>\n",
       "      <th>lap</th>\n",
       "      <th>position</th>\n",
       "      <th>lap_time</th>\n",
       "    </tr>\n",
       "  </thead>\n",
       "  <tbody>\n",
       "    <tr>\n",
       "      <th>0</th>\n",
       "      <td>841</td>\n",
       "      <td>20</td>\n",
       "      <td>1</td>\n",
       "      <td>1</td>\n",
       "      <td>0 days 00:01:38.109000</td>\n",
       "    </tr>\n",
       "    <tr>\n",
       "      <th>1</th>\n",
       "      <td>841</td>\n",
       "      <td>20</td>\n",
       "      <td>2</td>\n",
       "      <td>1</td>\n",
       "      <td>0 days 00:01:33.006000</td>\n",
       "    </tr>\n",
       "  </tbody>\n",
       "</table>\n",
       "</div>"
      ],
      "text/plain": [
       "   raceId  driverId  lap  position               lap_time\n",
       "0     841        20    1         1 0 days 00:01:38.109000\n",
       "1     841        20    2         1 0 days 00:01:33.006000"
      ]
     },
     "execution_count": 148,
     "metadata": {},
     "output_type": "execute_result"
    }
   ],
   "source": [
    "df7.head(2)"
   ]
  },
  {
   "cell_type": "code",
   "execution_count": 149,
   "id": "9bfc8a7a",
   "metadata": {
    "execution": {
     "iopub.execute_input": "2024-02-17T21:58:25.253331Z",
     "iopub.status.busy": "2024-02-17T21:58:25.252997Z",
     "iopub.status.idle": "2024-02-17T21:58:25.263479Z",
     "shell.execute_reply": "2024-02-17T21:58:25.262268Z"
    },
    "papermill": {
     "duration": 0.057015,
     "end_time": "2024-02-17T21:58:25.265835",
     "exception": false,
     "start_time": "2024-02-17T21:58:25.208820",
     "status": "completed"
    },
    "tags": []
   },
   "outputs": [
    {
     "data": {
      "text/html": [
       "<div>\n",
       "<style scoped>\n",
       "    .dataframe tbody tr th:only-of-type {\n",
       "        vertical-align: middle;\n",
       "    }\n",
       "\n",
       "    .dataframe tbody tr th {\n",
       "        vertical-align: top;\n",
       "    }\n",
       "\n",
       "    .dataframe thead th {\n",
       "        text-align: right;\n",
       "    }\n",
       "</style>\n",
       "<table border=\"1\" class=\"dataframe\">\n",
       "  <thead>\n",
       "    <tr style=\"text-align: right;\">\n",
       "      <th></th>\n",
       "      <th>raceId</th>\n",
       "      <th>driverId</th>\n",
       "      <th>stop</th>\n",
       "      <th>lap</th>\n",
       "      <th>milliseconds</th>\n",
       "    </tr>\n",
       "  </thead>\n",
       "  <tbody>\n",
       "    <tr>\n",
       "      <th>0</th>\n",
       "      <td>841</td>\n",
       "      <td>153</td>\n",
       "      <td>1</td>\n",
       "      <td>1</td>\n",
       "      <td>26898</td>\n",
       "    </tr>\n",
       "    <tr>\n",
       "      <th>1</th>\n",
       "      <td>841</td>\n",
       "      <td>30</td>\n",
       "      <td>1</td>\n",
       "      <td>1</td>\n",
       "      <td>25021</td>\n",
       "    </tr>\n",
       "  </tbody>\n",
       "</table>\n",
       "</div>"
      ],
      "text/plain": [
       "   raceId  driverId  stop  lap  milliseconds\n",
       "0     841       153     1    1         26898\n",
       "1     841        30     1    1         25021"
      ]
     },
     "execution_count": 149,
     "metadata": {},
     "output_type": "execute_result"
    }
   ],
   "source": [
    "df8.head(2)"
   ]
  },
  {
   "cell_type": "code",
   "execution_count": 150,
   "id": "316399d3",
   "metadata": {
    "execution": {
     "iopub.execute_input": "2024-02-17T21:58:25.354895Z",
     "iopub.status.busy": "2024-02-17T21:58:25.354345Z",
     "iopub.status.idle": "2024-02-17T21:58:25.368518Z",
     "shell.execute_reply": "2024-02-17T21:58:25.366556Z"
    },
    "papermill": {
     "duration": 0.06116,
     "end_time": "2024-02-17T21:58:25.371609",
     "exception": false,
     "start_time": "2024-02-17T21:58:25.310449",
     "status": "completed"
    },
    "tags": []
   },
   "outputs": [
    {
     "data": {
      "text/html": [
       "<div>\n",
       "<style scoped>\n",
       "    .dataframe tbody tr th:only-of-type {\n",
       "        vertical-align: middle;\n",
       "    }\n",
       "\n",
       "    .dataframe tbody tr th {\n",
       "        vertical-align: top;\n",
       "    }\n",
       "\n",
       "    .dataframe thead th {\n",
       "        text-align: right;\n",
       "    }\n",
       "</style>\n",
       "<table border=\"1\" class=\"dataframe\">\n",
       "  <thead>\n",
       "    <tr style=\"text-align: right;\">\n",
       "      <th></th>\n",
       "      <th>qualifyId</th>\n",
       "      <th>raceId</th>\n",
       "      <th>driverId</th>\n",
       "      <th>constructorId</th>\n",
       "      <th>number</th>\n",
       "      <th>position</th>\n",
       "      <th>q1</th>\n",
       "      <th>q2</th>\n",
       "      <th>q3</th>\n",
       "    </tr>\n",
       "  </thead>\n",
       "  <tbody>\n",
       "    <tr>\n",
       "      <th>0</th>\n",
       "      <td>1</td>\n",
       "      <td>18</td>\n",
       "      <td>1</td>\n",
       "      <td>1</td>\n",
       "      <td>22</td>\n",
       "      <td>1</td>\n",
       "      <td>1900-01-01 00:01:26.572</td>\n",
       "      <td>1900-01-01 00:01:25.187</td>\n",
       "      <td>1900-01-01 00:01:26.714</td>\n",
       "    </tr>\n",
       "    <tr>\n",
       "      <th>1</th>\n",
       "      <td>2</td>\n",
       "      <td>18</td>\n",
       "      <td>9</td>\n",
       "      <td>2</td>\n",
       "      <td>4</td>\n",
       "      <td>2</td>\n",
       "      <td>1900-01-01 00:01:26.103</td>\n",
       "      <td>1900-01-01 00:01:25.315</td>\n",
       "      <td>1900-01-01 00:01:26.869</td>\n",
       "    </tr>\n",
       "  </tbody>\n",
       "</table>\n",
       "</div>"
      ],
      "text/plain": [
       "   qualifyId  raceId  driverId  constructorId  number  position  \\\n",
       "0          1      18         1              1      22         1   \n",
       "1          2      18         9              2       4         2   \n",
       "\n",
       "                       q1                      q2                      q3  \n",
       "0 1900-01-01 00:01:26.572 1900-01-01 00:01:25.187 1900-01-01 00:01:26.714  \n",
       "1 1900-01-01 00:01:26.103 1900-01-01 00:01:25.315 1900-01-01 00:01:26.869  "
      ]
     },
     "execution_count": 150,
     "metadata": {},
     "output_type": "execute_result"
    }
   ],
   "source": [
    "df9.head(2)"
   ]
  },
  {
   "cell_type": "code",
   "execution_count": 151,
   "id": "59ed1840",
   "metadata": {
    "execution": {
     "iopub.execute_input": "2024-02-17T21:58:25.459722Z",
     "iopub.status.busy": "2024-02-17T21:58:25.459207Z",
     "iopub.status.idle": "2024-02-17T21:58:25.471672Z",
     "shell.execute_reply": "2024-02-17T21:58:25.470722Z"
    },
    "papermill": {
     "duration": 0.059253,
     "end_time": "2024-02-17T21:58:25.474130",
     "exception": false,
     "start_time": "2024-02-17T21:58:25.414877",
     "status": "completed"
    },
    "scrolled": true,
    "tags": []
   },
   "outputs": [],
   "source": [
    "# Remove days from the 'q1', 'q2', 'q3' columns\n",
    "df9['q1'] = df9['q1'] - df9['q1'].dt.floor('D')\n",
    "df9['q2'] = df9['q2'] - df9['q2'].dt.floor('D')\n",
    "df9['q3'] = df9['q3'] - df9['q3'].dt.floor('D')"
   ]
  },
  {
   "cell_type": "code",
   "execution_count": 152,
   "id": "edf9ba53",
   "metadata": {
    "execution": {
     "iopub.execute_input": "2024-02-17T21:58:25.558017Z",
     "iopub.status.busy": "2024-02-17T21:58:25.557611Z",
     "iopub.status.idle": "2024-02-17T21:58:25.570185Z",
     "shell.execute_reply": "2024-02-17T21:58:25.569212Z"
    },
    "papermill": {
     "duration": 0.057972,
     "end_time": "2024-02-17T21:58:25.573106",
     "exception": false,
     "start_time": "2024-02-17T21:58:25.515134",
     "status": "completed"
    },
    "tags": []
   },
   "outputs": [
    {
     "data": {
      "text/html": [
       "<div>\n",
       "<style scoped>\n",
       "    .dataframe tbody tr th:only-of-type {\n",
       "        vertical-align: middle;\n",
       "    }\n",
       "\n",
       "    .dataframe tbody tr th {\n",
       "        vertical-align: top;\n",
       "    }\n",
       "\n",
       "    .dataframe thead th {\n",
       "        text-align: right;\n",
       "    }\n",
       "</style>\n",
       "<table border=\"1\" class=\"dataframe\">\n",
       "  <thead>\n",
       "    <tr style=\"text-align: right;\">\n",
       "      <th></th>\n",
       "      <th>qualifyId</th>\n",
       "      <th>raceId</th>\n",
       "      <th>driverId</th>\n",
       "      <th>constructorId</th>\n",
       "      <th>number</th>\n",
       "      <th>position</th>\n",
       "      <th>q1</th>\n",
       "      <th>q2</th>\n",
       "      <th>q3</th>\n",
       "    </tr>\n",
       "  </thead>\n",
       "  <tbody>\n",
       "    <tr>\n",
       "      <th>0</th>\n",
       "      <td>1</td>\n",
       "      <td>18</td>\n",
       "      <td>1</td>\n",
       "      <td>1</td>\n",
       "      <td>22</td>\n",
       "      <td>1</td>\n",
       "      <td>0 days 00:01:26.572000</td>\n",
       "      <td>0 days 00:01:25.187000</td>\n",
       "      <td>0 days 00:01:26.714000</td>\n",
       "    </tr>\n",
       "    <tr>\n",
       "      <th>1</th>\n",
       "      <td>2</td>\n",
       "      <td>18</td>\n",
       "      <td>9</td>\n",
       "      <td>2</td>\n",
       "      <td>4</td>\n",
       "      <td>2</td>\n",
       "      <td>0 days 00:01:26.103000</td>\n",
       "      <td>0 days 00:01:25.315000</td>\n",
       "      <td>0 days 00:01:26.869000</td>\n",
       "    </tr>\n",
       "  </tbody>\n",
       "</table>\n",
       "</div>"
      ],
      "text/plain": [
       "   qualifyId  raceId  driverId  constructorId  number  position  \\\n",
       "0          1      18         1              1      22         1   \n",
       "1          2      18         9              2       4         2   \n",
       "\n",
       "                      q1                     q2                     q3  \n",
       "0 0 days 00:01:26.572000 0 days 00:01:25.187000 0 days 00:01:26.714000  \n",
       "1 0 days 00:01:26.103000 0 days 00:01:25.315000 0 days 00:01:26.869000  "
      ]
     },
     "execution_count": 152,
     "metadata": {},
     "output_type": "execute_result"
    }
   ],
   "source": [
    "df9.head(2)"
   ]
  },
  {
   "cell_type": "code",
   "execution_count": 153,
   "id": "0d7b25b3",
   "metadata": {
    "execution": {
     "iopub.execute_input": "2024-02-17T21:58:25.659166Z",
     "iopub.status.busy": "2024-02-17T21:58:25.658765Z",
     "iopub.status.idle": "2024-02-17T21:58:25.668322Z",
     "shell.execute_reply": "2024-02-17T21:58:25.667264Z"
    },
    "papermill": {
     "duration": 0.055466,
     "end_time": "2024-02-17T21:58:25.670579",
     "exception": false,
     "start_time": "2024-02-17T21:58:25.615113",
     "status": "completed"
    },
    "tags": []
   },
   "outputs": [
    {
     "data": {
      "text/html": [
       "<div>\n",
       "<style scoped>\n",
       "    .dataframe tbody tr th:only-of-type {\n",
       "        vertical-align: middle;\n",
       "    }\n",
       "\n",
       "    .dataframe tbody tr th {\n",
       "        vertical-align: top;\n",
       "    }\n",
       "\n",
       "    .dataframe thead th {\n",
       "        text-align: right;\n",
       "    }\n",
       "</style>\n",
       "<table border=\"1\" class=\"dataframe\">\n",
       "  <thead>\n",
       "    <tr style=\"text-align: right;\">\n",
       "      <th></th>\n",
       "      <th>raceId</th>\n",
       "      <th>year</th>\n",
       "      <th>round</th>\n",
       "      <th>circuitId</th>\n",
       "    </tr>\n",
       "  </thead>\n",
       "  <tbody>\n",
       "    <tr>\n",
       "      <th>0</th>\n",
       "      <td>1</td>\n",
       "      <td>2009</td>\n",
       "      <td>1</td>\n",
       "      <td>1</td>\n",
       "    </tr>\n",
       "    <tr>\n",
       "      <th>1</th>\n",
       "      <td>2</td>\n",
       "      <td>2009</td>\n",
       "      <td>2</td>\n",
       "      <td>2</td>\n",
       "    </tr>\n",
       "  </tbody>\n",
       "</table>\n",
       "</div>"
      ],
      "text/plain": [
       "   raceId  year  round  circuitId\n",
       "0       1  2009      1          1\n",
       "1       2  2009      2          2"
      ]
     },
     "execution_count": 153,
     "metadata": {},
     "output_type": "execute_result"
    }
   ],
   "source": [
    "df10.head(2)"
   ]
  },
  {
   "cell_type": "code",
   "execution_count": 154,
   "id": "77d35d8a",
   "metadata": {
    "execution": {
     "iopub.execute_input": "2024-02-17T21:58:25.756308Z",
     "iopub.status.busy": "2024-02-17T21:58:25.755946Z",
     "iopub.status.idle": "2024-02-17T21:58:25.770765Z",
     "shell.execute_reply": "2024-02-17T21:58:25.769948Z"
    },
    "papermill": {
     "duration": 0.059755,
     "end_time": "2024-02-17T21:58:25.772531",
     "exception": false,
     "start_time": "2024-02-17T21:58:25.712776",
     "status": "completed"
    },
    "tags": []
   },
   "outputs": [
    {
     "data": {
      "text/html": [
       "<div>\n",
       "<style scoped>\n",
       "    .dataframe tbody tr th:only-of-type {\n",
       "        vertical-align: middle;\n",
       "    }\n",
       "\n",
       "    .dataframe tbody tr th {\n",
       "        vertical-align: top;\n",
       "    }\n",
       "\n",
       "    .dataframe thead th {\n",
       "        text-align: right;\n",
       "    }\n",
       "</style>\n",
       "<table border=\"1\" class=\"dataframe\">\n",
       "  <thead>\n",
       "    <tr style=\"text-align: right;\">\n",
       "      <th></th>\n",
       "      <th>resultId</th>\n",
       "      <th>raceId</th>\n",
       "      <th>driverId</th>\n",
       "      <th>constructorId</th>\n",
       "      <th>grid</th>\n",
       "      <th>positionOrder</th>\n",
       "      <th>points</th>\n",
       "      <th>laps</th>\n",
       "      <th>milliseconds</th>\n",
       "      <th>fastestLap</th>\n",
       "      <th>fastestLapRank</th>\n",
       "      <th>fastestLapTime</th>\n",
       "      <th>fastestLapSpeed</th>\n",
       "      <th>statusId</th>\n",
       "    </tr>\n",
       "  </thead>\n",
       "  <tbody>\n",
       "    <tr>\n",
       "      <th>0</th>\n",
       "      <td>1</td>\n",
       "      <td>18</td>\n",
       "      <td>1</td>\n",
       "      <td>1</td>\n",
       "      <td>1</td>\n",
       "      <td>1</td>\n",
       "      <td>10.0</td>\n",
       "      <td>58</td>\n",
       "      <td>5690616</td>\n",
       "      <td>39</td>\n",
       "      <td>2</td>\n",
       "      <td>01:27.452</td>\n",
       "      <td>218.300</td>\n",
       "      <td>1</td>\n",
       "    </tr>\n",
       "    <tr>\n",
       "      <th>1</th>\n",
       "      <td>2</td>\n",
       "      <td>18</td>\n",
       "      <td>2</td>\n",
       "      <td>2</td>\n",
       "      <td>5</td>\n",
       "      <td>2</td>\n",
       "      <td>8.0</td>\n",
       "      <td>58</td>\n",
       "      <td>5696094</td>\n",
       "      <td>41</td>\n",
       "      <td>3</td>\n",
       "      <td>01:27.739</td>\n",
       "      <td>217.586</td>\n",
       "      <td>1</td>\n",
       "    </tr>\n",
       "  </tbody>\n",
       "</table>\n",
       "</div>"
      ],
      "text/plain": [
       "   resultId  raceId  driverId  constructorId  grid  positionOrder  points  \\\n",
       "0         1      18         1              1     1              1    10.0   \n",
       "1         2      18         2              2     5              2     8.0   \n",
       "\n",
       "   laps  milliseconds  fastestLap  fastestLapRank fastestLapTime  \\\n",
       "0    58       5690616          39               2      01:27.452   \n",
       "1    58       5696094          41               3      01:27.739   \n",
       "\n",
       "   fastestLapSpeed  statusId  \n",
       "0          218.300         1  \n",
       "1          217.586         1  "
      ]
     },
     "execution_count": 154,
     "metadata": {},
     "output_type": "execute_result"
    }
   ],
   "source": [
    "df11.head(2)"
   ]
  },
  {
   "cell_type": "code",
   "execution_count": 155,
   "id": "fb28a115",
   "metadata": {
    "execution": {
     "iopub.execute_input": "2024-02-17T21:58:25.858725Z",
     "iopub.status.busy": "2024-02-17T21:58:25.858180Z",
     "iopub.status.idle": "2024-02-17T21:58:25.872356Z",
     "shell.execute_reply": "2024-02-17T21:58:25.871177Z"
    },
    "papermill": {
     "duration": 0.060845,
     "end_time": "2024-02-17T21:58:25.874252",
     "exception": false,
     "start_time": "2024-02-17T21:58:25.813407",
     "status": "completed"
    },
    "tags": []
   },
   "outputs": [
    {
     "name": "stdout",
     "output_type": "stream",
     "text": [
      "<class 'pandas.core.frame.DataFrame'>\n",
      "RangeIndex: 26080 entries, 0 to 26079\n",
      "Data columns (total 14 columns):\n",
      " #   Column           Non-Null Count  Dtype  \n",
      "---  ------           --------------  -----  \n",
      " 0   resultId         26080 non-null  int64  \n",
      " 1   raceId           26080 non-null  int64  \n",
      " 2   driverId         26080 non-null  int64  \n",
      " 3   constructorId    26080 non-null  int64  \n",
      " 4   grid             26080 non-null  int64  \n",
      " 5   positionOrder    26080 non-null  int64  \n",
      " 6   points           26080 non-null  float64\n",
      " 7   laps             26080 non-null  int64  \n",
      " 8   milliseconds     26080 non-null  int64  \n",
      " 9   fastestLap       26080 non-null  int64  \n",
      " 10  fastestLapRank   26080 non-null  int64  \n",
      " 11  fastestLapTime   26080 non-null  object \n",
      " 12  fastestLapSpeed  26080 non-null  float64\n",
      " 13  statusId         26080 non-null  int64  \n",
      "dtypes: float64(2), int64(11), object(1)\n",
      "memory usage: 2.8+ MB\n"
     ]
    }
   ],
   "source": [
    "df11.info()"
   ]
  },
  {
   "cell_type": "code",
   "execution_count": 156,
   "id": "626d3dec",
   "metadata": {
    "execution": {
     "iopub.execute_input": "2024-02-17T21:58:25.963279Z",
     "iopub.status.busy": "2024-02-17T21:58:25.962653Z",
     "iopub.status.idle": "2024-02-17T21:58:26.002752Z",
     "shell.execute_reply": "2024-02-17T21:58:26.001421Z"
    },
    "papermill": {
     "duration": 0.088029,
     "end_time": "2024-02-17T21:58:26.005127",
     "exception": false,
     "start_time": "2024-02-17T21:58:25.917098",
     "status": "completed"
    },
    "tags": []
   },
   "outputs": [],
   "source": [
    "# Convert 'fastestLapTime' column to timedelta\n",
    "df11['fastestLapTime'] = pd.to_timedelta('00:' + df11['fastestLapTime'])"
   ]
  },
  {
   "cell_type": "code",
   "execution_count": 157,
   "id": "e9736b68",
   "metadata": {
    "execution": {
     "iopub.execute_input": "2024-02-17T21:58:26.091403Z",
     "iopub.status.busy": "2024-02-17T21:58:26.091106Z",
     "iopub.status.idle": "2024-02-17T21:58:26.098441Z",
     "shell.execute_reply": "2024-02-17T21:58:26.096562Z"
    },
    "papermill": {
     "duration": 0.053646,
     "end_time": "2024-02-17T21:58:26.101121",
     "exception": false,
     "start_time": "2024-02-17T21:58:26.047475",
     "status": "completed"
    },
    "tags": []
   },
   "outputs": [],
   "source": [
    "#dropping milliseconds\n",
    "df11.drop(columns={'milliseconds'}, inplace=True)"
   ]
  },
  {
   "cell_type": "code",
   "execution_count": 158,
   "id": "fe49a3cc",
   "metadata": {
    "execution": {
     "iopub.execute_input": "2024-02-17T21:58:26.183938Z",
     "iopub.status.busy": "2024-02-17T21:58:26.183581Z",
     "iopub.status.idle": "2024-02-17T21:58:26.188909Z",
     "shell.execute_reply": "2024-02-17T21:58:26.187623Z"
    },
    "papermill": {
     "duration": 0.050482,
     "end_time": "2024-02-17T21:58:26.191679",
     "exception": false,
     "start_time": "2024-02-17T21:58:26.141197",
     "status": "completed"
    },
    "tags": []
   },
   "outputs": [],
   "source": [
    "df11.rename(columns={'positionOrder':'position', 'grid':'grid_position'}, inplace=True)"
   ]
  },
  {
   "cell_type": "code",
   "execution_count": 159,
   "id": "eba4e848",
   "metadata": {
    "execution": {
     "iopub.execute_input": "2024-02-17T21:58:26.277410Z",
     "iopub.status.busy": "2024-02-17T21:58:26.277059Z",
     "iopub.status.idle": "2024-02-17T21:58:26.291703Z",
     "shell.execute_reply": "2024-02-17T21:58:26.290461Z"
    },
    "papermill": {
     "duration": 0.059692,
     "end_time": "2024-02-17T21:58:26.294357",
     "exception": false,
     "start_time": "2024-02-17T21:58:26.234665",
     "status": "completed"
    },
    "tags": []
   },
   "outputs": [
    {
     "data": {
      "text/html": [
       "<div>\n",
       "<style scoped>\n",
       "    .dataframe tbody tr th:only-of-type {\n",
       "        vertical-align: middle;\n",
       "    }\n",
       "\n",
       "    .dataframe tbody tr th {\n",
       "        vertical-align: top;\n",
       "    }\n",
       "\n",
       "    .dataframe thead th {\n",
       "        text-align: right;\n",
       "    }\n",
       "</style>\n",
       "<table border=\"1\" class=\"dataframe\">\n",
       "  <thead>\n",
       "    <tr style=\"text-align: right;\">\n",
       "      <th></th>\n",
       "      <th>resultId</th>\n",
       "      <th>raceId</th>\n",
       "      <th>driverId</th>\n",
       "      <th>constructorId</th>\n",
       "      <th>grid_position</th>\n",
       "      <th>position</th>\n",
       "      <th>points</th>\n",
       "      <th>laps</th>\n",
       "      <th>fastestLap</th>\n",
       "      <th>fastestLapRank</th>\n",
       "      <th>fastestLapTime</th>\n",
       "      <th>fastestLapSpeed</th>\n",
       "      <th>statusId</th>\n",
       "    </tr>\n",
       "  </thead>\n",
       "  <tbody>\n",
       "    <tr>\n",
       "      <th>0</th>\n",
       "      <td>1</td>\n",
       "      <td>18</td>\n",
       "      <td>1</td>\n",
       "      <td>1</td>\n",
       "      <td>1</td>\n",
       "      <td>1</td>\n",
       "      <td>10.0</td>\n",
       "      <td>58</td>\n",
       "      <td>39</td>\n",
       "      <td>2</td>\n",
       "      <td>0 days 00:01:27.452000</td>\n",
       "      <td>218.300</td>\n",
       "      <td>1</td>\n",
       "    </tr>\n",
       "    <tr>\n",
       "      <th>1</th>\n",
       "      <td>2</td>\n",
       "      <td>18</td>\n",
       "      <td>2</td>\n",
       "      <td>2</td>\n",
       "      <td>5</td>\n",
       "      <td>2</td>\n",
       "      <td>8.0</td>\n",
       "      <td>58</td>\n",
       "      <td>41</td>\n",
       "      <td>3</td>\n",
       "      <td>0 days 00:01:27.739000</td>\n",
       "      <td>217.586</td>\n",
       "      <td>1</td>\n",
       "    </tr>\n",
       "  </tbody>\n",
       "</table>\n",
       "</div>"
      ],
      "text/plain": [
       "   resultId  raceId  driverId  constructorId  grid_position  position  points  \\\n",
       "0         1      18         1              1              1         1    10.0   \n",
       "1         2      18         2              2              5         2     8.0   \n",
       "\n",
       "   laps  fastestLap  fastestLapRank         fastestLapTime  fastestLapSpeed  \\\n",
       "0    58          39               2 0 days 00:01:27.452000          218.300   \n",
       "1    58          41               3 0 days 00:01:27.739000          217.586   \n",
       "\n",
       "   statusId  \n",
       "0         1  \n",
       "1         1  "
      ]
     },
     "execution_count": 159,
     "metadata": {},
     "output_type": "execute_result"
    }
   ],
   "source": [
    "df11.head(2)"
   ]
  },
  {
   "cell_type": "code",
   "execution_count": 160,
   "id": "d201142e",
   "metadata": {
    "execution": {
     "iopub.execute_input": "2024-02-17T21:58:26.380281Z",
     "iopub.status.busy": "2024-02-17T21:58:26.379898Z",
     "iopub.status.idle": "2024-02-17T21:58:26.390943Z",
     "shell.execute_reply": "2024-02-17T21:58:26.389069Z"
    },
    "papermill": {
     "duration": 0.05679,
     "end_time": "2024-02-17T21:58:26.393260",
     "exception": false,
     "start_time": "2024-02-17T21:58:26.336470",
     "status": "completed"
    },
    "tags": []
   },
   "outputs": [
    {
     "data": {
      "text/html": [
       "<div>\n",
       "<style scoped>\n",
       "    .dataframe tbody tr th:only-of-type {\n",
       "        vertical-align: middle;\n",
       "    }\n",
       "\n",
       "    .dataframe tbody tr th {\n",
       "        vertical-align: top;\n",
       "    }\n",
       "\n",
       "    .dataframe thead th {\n",
       "        text-align: right;\n",
       "    }\n",
       "</style>\n",
       "<table border=\"1\" class=\"dataframe\">\n",
       "  <thead>\n",
       "    <tr style=\"text-align: right;\">\n",
       "      <th></th>\n",
       "      <th>year</th>\n",
       "      <th>url</th>\n",
       "    </tr>\n",
       "  </thead>\n",
       "  <tbody>\n",
       "    <tr>\n",
       "      <th>0</th>\n",
       "      <td>2009</td>\n",
       "      <td>http://en.wikipedia.org/wiki/2009_Formula_One_...</td>\n",
       "    </tr>\n",
       "    <tr>\n",
       "      <th>1</th>\n",
       "      <td>2008</td>\n",
       "      <td>http://en.wikipedia.org/wiki/2008_Formula_One_...</td>\n",
       "    </tr>\n",
       "  </tbody>\n",
       "</table>\n",
       "</div>"
      ],
      "text/plain": [
       "   year                                                url\n",
       "0  2009  http://en.wikipedia.org/wiki/2009_Formula_One_...\n",
       "1  2008  http://en.wikipedia.org/wiki/2008_Formula_One_..."
      ]
     },
     "execution_count": 160,
     "metadata": {},
     "output_type": "execute_result"
    }
   ],
   "source": [
    "df12.head(2)"
   ]
  },
  {
   "cell_type": "code",
   "execution_count": 161,
   "id": "e8a90579",
   "metadata": {
    "execution": {
     "iopub.execute_input": "2024-02-17T21:58:26.480428Z",
     "iopub.status.busy": "2024-02-17T21:58:26.480082Z",
     "iopub.status.idle": "2024-02-17T21:58:26.491935Z",
     "shell.execute_reply": "2024-02-17T21:58:26.491017Z"
    },
    "papermill": {
     "duration": 0.05754,
     "end_time": "2024-02-17T21:58:26.493682",
     "exception": false,
     "start_time": "2024-02-17T21:58:26.436142",
     "status": "completed"
    },
    "tags": []
   },
   "outputs": [
    {
     "data": {
      "text/html": [
       "<div>\n",
       "<style scoped>\n",
       "    .dataframe tbody tr th:only-of-type {\n",
       "        vertical-align: middle;\n",
       "    }\n",
       "\n",
       "    .dataframe tbody tr th {\n",
       "        vertical-align: top;\n",
       "    }\n",
       "\n",
       "    .dataframe thead th {\n",
       "        text-align: right;\n",
       "    }\n",
       "</style>\n",
       "<table border=\"1\" class=\"dataframe\">\n",
       "  <thead>\n",
       "    <tr style=\"text-align: right;\">\n",
       "      <th></th>\n",
       "      <th>resultId</th>\n",
       "      <th>raceId</th>\n",
       "      <th>driverId</th>\n",
       "      <th>constructorId</th>\n",
       "      <th>grid</th>\n",
       "      <th>positionOrder</th>\n",
       "      <th>points</th>\n",
       "      <th>laps</th>\n",
       "      <th>milliseconds</th>\n",
       "      <th>fastestLap</th>\n",
       "      <th>fastestLapTime</th>\n",
       "      <th>statusId</th>\n",
       "      <th>fastestLapRank</th>\n",
       "    </tr>\n",
       "  </thead>\n",
       "  <tbody>\n",
       "    <tr>\n",
       "      <th>0</th>\n",
       "      <td>1</td>\n",
       "      <td>1061</td>\n",
       "      <td>830</td>\n",
       "      <td>9</td>\n",
       "      <td>2</td>\n",
       "      <td>1</td>\n",
       "      <td>3</td>\n",
       "      <td>17</td>\n",
       "      <td>1538426</td>\n",
       "      <td>14</td>\n",
       "      <td>01:30.013</td>\n",
       "      <td>1</td>\n",
       "      <td>3</td>\n",
       "    </tr>\n",
       "    <tr>\n",
       "      <th>1</th>\n",
       "      <td>2</td>\n",
       "      <td>1061</td>\n",
       "      <td>1</td>\n",
       "      <td>131</td>\n",
       "      <td>1</td>\n",
       "      <td>2</td>\n",
       "      <td>2</td>\n",
       "      <td>17</td>\n",
       "      <td>1539856</td>\n",
       "      <td>17</td>\n",
       "      <td>01:29.937</td>\n",
       "      <td>1</td>\n",
       "      <td>1</td>\n",
       "    </tr>\n",
       "  </tbody>\n",
       "</table>\n",
       "</div>"
      ],
      "text/plain": [
       "   resultId  raceId  driverId  constructorId  grid  positionOrder  points  \\\n",
       "0         1    1061       830              9     2              1       3   \n",
       "1         2    1061         1            131     1              2       2   \n",
       "\n",
       "   laps  milliseconds  fastestLap fastestLapTime  statusId  fastestLapRank  \n",
       "0    17       1538426          14      01:30.013         1               3  \n",
       "1    17       1539856          17      01:29.937         1               1  "
      ]
     },
     "execution_count": 161,
     "metadata": {},
     "output_type": "execute_result"
    }
   ],
   "source": [
    "df13.head(2)"
   ]
  },
  {
   "cell_type": "code",
   "execution_count": 162,
   "id": "5b43b147",
   "metadata": {
    "execution": {
     "iopub.execute_input": "2024-02-17T21:58:26.580192Z",
     "iopub.status.busy": "2024-02-17T21:58:26.579872Z",
     "iopub.status.idle": "2024-02-17T21:58:26.589265Z",
     "shell.execute_reply": "2024-02-17T21:58:26.588093Z"
    },
    "papermill": {
     "duration": 0.055007,
     "end_time": "2024-02-17T21:58:26.591098",
     "exception": false,
     "start_time": "2024-02-17T21:58:26.536091",
     "status": "completed"
    },
    "tags": []
   },
   "outputs": [
    {
     "name": "stdout",
     "output_type": "stream",
     "text": [
      "<class 'pandas.core.frame.DataFrame'>\n",
      "RangeIndex: 180 entries, 0 to 179\n",
      "Data columns (total 13 columns):\n",
      " #   Column          Non-Null Count  Dtype \n",
      "---  ------          --------------  ----- \n",
      " 0   resultId        180 non-null    int64 \n",
      " 1   raceId          180 non-null    int64 \n",
      " 2   driverId        180 non-null    int64 \n",
      " 3   constructorId   180 non-null    int64 \n",
      " 4   grid            180 non-null    int64 \n",
      " 5   positionOrder   180 non-null    int64 \n",
      " 6   points          180 non-null    int64 \n",
      " 7   laps            180 non-null    int64 \n",
      " 8   milliseconds    180 non-null    int64 \n",
      " 9   fastestLap      180 non-null    int64 \n",
      " 10  fastestLapTime  180 non-null    object\n",
      " 11  statusId        180 non-null    int64 \n",
      " 12  fastestLapRank  180 non-null    int64 \n",
      "dtypes: int64(12), object(1)\n",
      "memory usage: 18.4+ KB\n"
     ]
    }
   ],
   "source": [
    "df13.info()"
   ]
  },
  {
   "cell_type": "code",
   "execution_count": 163,
   "id": "ee5ad004",
   "metadata": {
    "execution": {
     "iopub.execute_input": "2024-02-17T21:58:26.677528Z",
     "iopub.status.busy": "2024-02-17T21:58:26.677206Z",
     "iopub.status.idle": "2024-02-17T21:58:26.686017Z",
     "shell.execute_reply": "2024-02-17T21:58:26.683950Z"
    },
    "papermill": {
     "duration": 0.056062,
     "end_time": "2024-02-17T21:58:26.688440",
     "exception": false,
     "start_time": "2024-02-17T21:58:26.632378",
     "status": "completed"
    },
    "tags": []
   },
   "outputs": [],
   "source": [
    "# Convert 'fastestLapTime' column to timedelta\n",
    "df13['fastestLapTime'] = pd.to_timedelta('00:' + df13['fastestLapTime'])\n",
    "#dropping milliseconds\n",
    "df13.drop(columns={'milliseconds'}, inplace=True)\n",
    "df13.rename(columns={'positionOrder':'position', 'grid':'grid_position'}, inplace=True)"
   ]
  },
  {
   "cell_type": "code",
   "execution_count": 164,
   "id": "4e32262c",
   "metadata": {
    "execution": {
     "iopub.execute_input": "2024-02-17T21:58:26.773530Z",
     "iopub.status.busy": "2024-02-17T21:58:26.773232Z",
     "iopub.status.idle": "2024-02-17T21:58:26.786202Z",
     "shell.execute_reply": "2024-02-17T21:58:26.785361Z"
    },
    "papermill": {
     "duration": 0.058666,
     "end_time": "2024-02-17T21:58:26.788736",
     "exception": false,
     "start_time": "2024-02-17T21:58:26.730070",
     "status": "completed"
    },
    "tags": []
   },
   "outputs": [
    {
     "data": {
      "text/html": [
       "<div>\n",
       "<style scoped>\n",
       "    .dataframe tbody tr th:only-of-type {\n",
       "        vertical-align: middle;\n",
       "    }\n",
       "\n",
       "    .dataframe tbody tr th {\n",
       "        vertical-align: top;\n",
       "    }\n",
       "\n",
       "    .dataframe thead th {\n",
       "        text-align: right;\n",
       "    }\n",
       "</style>\n",
       "<table border=\"1\" class=\"dataframe\">\n",
       "  <thead>\n",
       "    <tr style=\"text-align: right;\">\n",
       "      <th></th>\n",
       "      <th>resultId</th>\n",
       "      <th>raceId</th>\n",
       "      <th>driverId</th>\n",
       "      <th>constructorId</th>\n",
       "      <th>grid_position</th>\n",
       "      <th>position</th>\n",
       "      <th>points</th>\n",
       "      <th>laps</th>\n",
       "      <th>fastestLap</th>\n",
       "      <th>fastestLapTime</th>\n",
       "      <th>statusId</th>\n",
       "      <th>fastestLapRank</th>\n",
       "    </tr>\n",
       "  </thead>\n",
       "  <tbody>\n",
       "    <tr>\n",
       "      <th>0</th>\n",
       "      <td>1</td>\n",
       "      <td>1061</td>\n",
       "      <td>830</td>\n",
       "      <td>9</td>\n",
       "      <td>2</td>\n",
       "      <td>1</td>\n",
       "      <td>3</td>\n",
       "      <td>17</td>\n",
       "      <td>14</td>\n",
       "      <td>0 days 00:01:30.013000</td>\n",
       "      <td>1</td>\n",
       "      <td>3</td>\n",
       "    </tr>\n",
       "    <tr>\n",
       "      <th>1</th>\n",
       "      <td>2</td>\n",
       "      <td>1061</td>\n",
       "      <td>1</td>\n",
       "      <td>131</td>\n",
       "      <td>1</td>\n",
       "      <td>2</td>\n",
       "      <td>2</td>\n",
       "      <td>17</td>\n",
       "      <td>17</td>\n",
       "      <td>0 days 00:01:29.937000</td>\n",
       "      <td>1</td>\n",
       "      <td>1</td>\n",
       "    </tr>\n",
       "  </tbody>\n",
       "</table>\n",
       "</div>"
      ],
      "text/plain": [
       "   resultId  raceId  driverId  constructorId  grid_position  position  points  \\\n",
       "0         1    1061       830              9              2         1       3   \n",
       "1         2    1061         1            131              1         2       2   \n",
       "\n",
       "   laps  fastestLap         fastestLapTime  statusId  fastestLapRank  \n",
       "0    17          14 0 days 00:01:30.013000         1               3  \n",
       "1    17          17 0 days 00:01:29.937000         1               1  "
      ]
     },
     "execution_count": 164,
     "metadata": {},
     "output_type": "execute_result"
    }
   ],
   "source": [
    "df13.head(2)"
   ]
  },
  {
   "cell_type": "code",
   "execution_count": 165,
   "id": "7a930077",
   "metadata": {
    "execution": {
     "iopub.execute_input": "2024-02-17T21:58:26.879230Z",
     "iopub.status.busy": "2024-02-17T21:58:26.878816Z",
     "iopub.status.idle": "2024-02-17T21:58:26.887946Z",
     "shell.execute_reply": "2024-02-17T21:58:26.886269Z"
    },
    "papermill": {
     "duration": 0.057555,
     "end_time": "2024-02-17T21:58:26.890061",
     "exception": false,
     "start_time": "2024-02-17T21:58:26.832506",
     "status": "completed"
    },
    "tags": []
   },
   "outputs": [
    {
     "data": {
      "text/html": [
       "<div>\n",
       "<style scoped>\n",
       "    .dataframe tbody tr th:only-of-type {\n",
       "        vertical-align: middle;\n",
       "    }\n",
       "\n",
       "    .dataframe tbody tr th {\n",
       "        vertical-align: top;\n",
       "    }\n",
       "\n",
       "    .dataframe thead th {\n",
       "        text-align: right;\n",
       "    }\n",
       "</style>\n",
       "<table border=\"1\" class=\"dataframe\">\n",
       "  <thead>\n",
       "    <tr style=\"text-align: right;\">\n",
       "      <th></th>\n",
       "      <th>statusId</th>\n",
       "      <th>status</th>\n",
       "    </tr>\n",
       "  </thead>\n",
       "  <tbody>\n",
       "    <tr>\n",
       "      <th>0</th>\n",
       "      <td>1</td>\n",
       "      <td>Finished</td>\n",
       "    </tr>\n",
       "    <tr>\n",
       "      <th>1</th>\n",
       "      <td>2</td>\n",
       "      <td>Disqualified</td>\n",
       "    </tr>\n",
       "    <tr>\n",
       "      <th>2</th>\n",
       "      <td>3</td>\n",
       "      <td>Accident</td>\n",
       "    </tr>\n",
       "    <tr>\n",
       "      <th>3</th>\n",
       "      <td>4</td>\n",
       "      <td>Collision</td>\n",
       "    </tr>\n",
       "    <tr>\n",
       "      <th>4</th>\n",
       "      <td>5</td>\n",
       "      <td>Engine</td>\n",
       "    </tr>\n",
       "  </tbody>\n",
       "</table>\n",
       "</div>"
      ],
      "text/plain": [
       "   statusId        status\n",
       "0         1      Finished\n",
       "1         2  Disqualified\n",
       "2         3      Accident\n",
       "3         4     Collision\n",
       "4         5        Engine"
      ]
     },
     "execution_count": 165,
     "metadata": {},
     "output_type": "execute_result"
    }
   ],
   "source": [
    "df14.head()"
   ]
  },
  {
   "cell_type": "markdown",
   "id": "70f32a3e",
   "metadata": {
    "papermill": {
     "duration": 0.044693,
     "end_time": "2024-02-17T21:58:26.978214",
     "exception": false,
     "start_time": "2024-02-17T21:58:26.933521",
     "status": "completed"
    },
    "tags": []
   },
   "source": [
    "# Dataset is Cleaned!!!"
   ]
  },
  {
   "cell_type": "markdown",
   "id": "f44cf422",
   "metadata": {
    "papermill": {
     "duration": 0.042887,
     "end_time": "2024-02-17T21:58:27.064453",
     "exception": false,
     "start_time": "2024-02-17T21:58:27.021566",
     "status": "completed"
    },
    "tags": []
   },
   "source": [
    "## You can now use this cleaned dataset to make your own insights!\n",
    "## Othewise, heres a link to this cleaned dataset: \n",
    "### https://www.kaggle.com/datasets/suletanmay/formula-1-dataset-1950-2023-cleaned?rvi=1"
   ]
  },
  {
   "cell_type": "code",
   "execution_count": null,
   "id": "a9859478",
   "metadata": {
    "papermill": {
     "duration": 0.042321,
     "end_time": "2024-02-17T21:58:27.149331",
     "exception": false,
     "start_time": "2024-02-17T21:58:27.107010",
     "status": "completed"
    },
    "tags": []
   },
   "outputs": [],
   "source": []
  }
 ],
 "metadata": {
  "kaggle": {
   "accelerator": "none",
   "dataSources": [
    {
     "datasetId": 468218,
     "sourceId": 6358464,
     "sourceType": "datasetVersion"
    }
   ],
   "dockerImageVersionId": 30646,
   "isGpuEnabled": false,
   "isInternetEnabled": true,
   "language": "python",
   "sourceType": "notebook"
  },
  "kernelspec": {
   "display_name": "Python 3",
   "language": "python",
   "name": "python3"
  },
  "language_info": {
   "codemirror_mode": {
    "name": "ipython",
    "version": 3
   },
   "file_extension": ".py",
   "mimetype": "text/x-python",
   "name": "python",
   "nbconvert_exporter": "python",
   "pygments_lexer": "ipython3",
   "version": "3.10.13"
  },
  "papermill": {
   "default_parameters": {},
   "duration": 24.257225,
   "end_time": "2024-02-17T21:58:27.611633",
   "environment_variables": {},
   "exception": null,
   "input_path": "__notebook__.ipynb",
   "output_path": "__notebook__.ipynb",
   "parameters": {},
   "start_time": "2024-02-17T21:58:03.354408",
   "version": "2.5.0"
  }
 },
 "nbformat": 4,
 "nbformat_minor": 5
}
