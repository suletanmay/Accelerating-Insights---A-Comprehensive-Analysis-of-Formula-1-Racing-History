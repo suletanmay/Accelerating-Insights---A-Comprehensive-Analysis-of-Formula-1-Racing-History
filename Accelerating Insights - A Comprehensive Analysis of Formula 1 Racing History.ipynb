{
 "cells": [
  {
   "cell_type": "markdown",
   "id": "702b77ff",
   "metadata": {},
   "source": [
    "# Data Cleaning - Part 1"
   ]
  },
  {
   "cell_type": "code",
   "execution_count": 16,
   "id": "b7eba01d",
   "metadata": {},
   "outputs": [],
   "source": [
    "import pandas as pd\n",
    "import numpy as np\n",
    "import matplotlib.pyplot as plt\n",
    "%matplotlib inline"
   ]
  },
  {
   "cell_type": "code",
   "execution_count": 17,
   "id": "b119907f",
   "metadata": {},
   "outputs": [],
   "source": [
    "#File 1) circuits.csv\n",
    "df1 = pd.read_csv(r\"C:\\Users\\sulet\\Desktop\\F1_History\\circuits.csv\")"
   ]
  },
  {
   "cell_type": "code",
   "execution_count": 18,
   "id": "0ce8116d",
   "metadata": {},
   "outputs": [
    {
     "name": "stdout",
     "output_type": "stream",
     "text": [
      "<class 'pandas.core.frame.DataFrame'>\n",
      "RangeIndex: 77 entries, 0 to 76\n",
      "Data columns (total 9 columns):\n",
      " #   Column      Non-Null Count  Dtype  \n",
      "---  ------      --------------  -----  \n",
      " 0   circuitId   77 non-null     int64  \n",
      " 1   circuitRef  77 non-null     object \n",
      " 2   name        77 non-null     object \n",
      " 3   location    77 non-null     object \n",
      " 4   country     77 non-null     object \n",
      " 5   lat         77 non-null     float64\n",
      " 6   lng         77 non-null     float64\n",
      " 7   alt         77 non-null     object \n",
      " 8   url         77 non-null     object \n",
      "dtypes: float64(2), int64(1), object(6)\n",
      "memory usage: 5.5+ KB\n"
     ]
    }
   ],
   "source": [
    "df1.info()"
   ]
  },
  {
   "cell_type": "code",
   "execution_count": 19,
   "id": "8e2464ac",
   "metadata": {},
   "outputs": [],
   "source": [
    "#Observations:\n",
    "#There have been 77 Formula 1 circuits till date\n",
    "#No missing values observed"
   ]
  },
  {
   "cell_type": "code",
   "execution_count": 20,
   "id": "a52c2b3a",
   "metadata": {},
   "outputs": [
    {
     "data": {
      "text/html": [
       "<div>\n",
       "<style scoped>\n",
       "    .dataframe tbody tr th:only-of-type {\n",
       "        vertical-align: middle;\n",
       "    }\n",
       "\n",
       "    .dataframe tbody tr th {\n",
       "        vertical-align: top;\n",
       "    }\n",
       "\n",
       "    .dataframe thead th {\n",
       "        text-align: right;\n",
       "    }\n",
       "</style>\n",
       "<table border=\"1\" class=\"dataframe\">\n",
       "  <thead>\n",
       "    <tr style=\"text-align: right;\">\n",
       "      <th></th>\n",
       "      <th>circuitId</th>\n",
       "      <th>circuitRef</th>\n",
       "      <th>name</th>\n",
       "      <th>location</th>\n",
       "      <th>country</th>\n",
       "      <th>lat</th>\n",
       "      <th>lng</th>\n",
       "      <th>alt</th>\n",
       "      <th>url</th>\n",
       "    </tr>\n",
       "  </thead>\n",
       "  <tbody>\n",
       "    <tr>\n",
       "      <th>0</th>\n",
       "      <td>1</td>\n",
       "      <td>albert_park</td>\n",
       "      <td>Albert Park Grand Prix Circuit</td>\n",
       "      <td>Melbourne</td>\n",
       "      <td>Australia</td>\n",
       "      <td>-37.84970</td>\n",
       "      <td>144.968</td>\n",
       "      <td>10</td>\n",
       "      <td>http://en.wikipedia.org/wiki/Melbourne_Grand_P...</td>\n",
       "    </tr>\n",
       "    <tr>\n",
       "      <th>1</th>\n",
       "      <td>2</td>\n",
       "      <td>sepang</td>\n",
       "      <td>Sepang International Circuit</td>\n",
       "      <td>Kuala Lumpur</td>\n",
       "      <td>Malaysia</td>\n",
       "      <td>2.76083</td>\n",
       "      <td>101.738</td>\n",
       "      <td>18</td>\n",
       "      <td>http://en.wikipedia.org/wiki/Sepang_Internatio...</td>\n",
       "    </tr>\n",
       "  </tbody>\n",
       "</table>\n",
       "</div>"
      ],
      "text/plain": [
       "   circuitId   circuitRef                            name      location  \\\n",
       "0          1  albert_park  Albert Park Grand Prix Circuit     Melbourne   \n",
       "1          2       sepang    Sepang International Circuit  Kuala Lumpur   \n",
       "\n",
       "     country       lat      lng alt  \\\n",
       "0  Australia -37.84970  144.968  10   \n",
       "1   Malaysia   2.76083  101.738  18   \n",
       "\n",
       "                                                 url  \n",
       "0  http://en.wikipedia.org/wiki/Melbourne_Grand_P...  \n",
       "1  http://en.wikipedia.org/wiki/Sepang_Internatio...  "
      ]
     },
     "execution_count": 20,
     "metadata": {},
     "output_type": "execute_result"
    }
   ],
   "source": [
    "df1.head(2)"
   ]
  },
  {
   "cell_type": "code",
   "execution_count": 21,
   "id": "9be758ac",
   "metadata": {},
   "outputs": [],
   "source": [
    "#Dropping unnecessary columns\n",
    "\n",
    "df1.drop(columns=['circuitRef', 'lat', 'lng', 'alt', 'url'], inplace=True)"
   ]
  },
  {
   "cell_type": "code",
   "execution_count": 22,
   "id": "91d9af6f",
   "metadata": {},
   "outputs": [
    {
     "data": {
      "text/html": [
       "<div>\n",
       "<style scoped>\n",
       "    .dataframe tbody tr th:only-of-type {\n",
       "        vertical-align: middle;\n",
       "    }\n",
       "\n",
       "    .dataframe tbody tr th {\n",
       "        vertical-align: top;\n",
       "    }\n",
       "\n",
       "    .dataframe thead th {\n",
       "        text-align: right;\n",
       "    }\n",
       "</style>\n",
       "<table border=\"1\" class=\"dataframe\">\n",
       "  <thead>\n",
       "    <tr style=\"text-align: right;\">\n",
       "      <th></th>\n",
       "      <th>circuitId</th>\n",
       "      <th>name</th>\n",
       "      <th>location</th>\n",
       "      <th>country</th>\n",
       "    </tr>\n",
       "  </thead>\n",
       "  <tbody>\n",
       "    <tr>\n",
       "      <th>0</th>\n",
       "      <td>1</td>\n",
       "      <td>Albert Park Grand Prix Circuit</td>\n",
       "      <td>Melbourne</td>\n",
       "      <td>Australia</td>\n",
       "    </tr>\n",
       "    <tr>\n",
       "      <th>1</th>\n",
       "      <td>2</td>\n",
       "      <td>Sepang International Circuit</td>\n",
       "      <td>Kuala Lumpur</td>\n",
       "      <td>Malaysia</td>\n",
       "    </tr>\n",
       "  </tbody>\n",
       "</table>\n",
       "</div>"
      ],
      "text/plain": [
       "   circuitId                            name      location    country\n",
       "0          1  Albert Park Grand Prix Circuit     Melbourne  Australia\n",
       "1          2    Sepang International Circuit  Kuala Lumpur   Malaysia"
      ]
     },
     "execution_count": 22,
     "metadata": {},
     "output_type": "execute_result"
    }
   ],
   "source": [
    "df1.head(2)"
   ]
  },
  {
   "cell_type": "code",
   "execution_count": 23,
   "id": "f3d1f977",
   "metadata": {},
   "outputs": [
    {
     "data": {
      "text/html": [
       "<div>\n",
       "<style scoped>\n",
       "    .dataframe tbody tr th:only-of-type {\n",
       "        vertical-align: middle;\n",
       "    }\n",
       "\n",
       "    .dataframe tbody tr th {\n",
       "        vertical-align: top;\n",
       "    }\n",
       "\n",
       "    .dataframe thead th {\n",
       "        text-align: right;\n",
       "    }\n",
       "</style>\n",
       "<table border=\"1\" class=\"dataframe\">\n",
       "  <thead>\n",
       "    <tr style=\"text-align: right;\">\n",
       "      <th></th>\n",
       "      <th>circuitId</th>\n",
       "      <th>circuit_name</th>\n",
       "      <th>location</th>\n",
       "      <th>country</th>\n",
       "    </tr>\n",
       "  </thead>\n",
       "  <tbody>\n",
       "    <tr>\n",
       "      <th>0</th>\n",
       "      <td>1</td>\n",
       "      <td>Albert Park Grand Prix Circuit</td>\n",
       "      <td>Melbourne</td>\n",
       "      <td>Australia</td>\n",
       "    </tr>\n",
       "    <tr>\n",
       "      <th>1</th>\n",
       "      <td>2</td>\n",
       "      <td>Sepang International Circuit</td>\n",
       "      <td>Kuala Lumpur</td>\n",
       "      <td>Malaysia</td>\n",
       "    </tr>\n",
       "    <tr>\n",
       "      <th>2</th>\n",
       "      <td>3</td>\n",
       "      <td>Bahrain International Circuit</td>\n",
       "      <td>Sakhir</td>\n",
       "      <td>Bahrain</td>\n",
       "    </tr>\n",
       "    <tr>\n",
       "      <th>3</th>\n",
       "      <td>4</td>\n",
       "      <td>Circuit de Barcelona-Catalunya</td>\n",
       "      <td>Montmeló</td>\n",
       "      <td>Spain</td>\n",
       "    </tr>\n",
       "    <tr>\n",
       "      <th>4</th>\n",
       "      <td>5</td>\n",
       "      <td>Istanbul Park</td>\n",
       "      <td>Istanbul</td>\n",
       "      <td>Turkey</td>\n",
       "    </tr>\n",
       "    <tr>\n",
       "      <th>...</th>\n",
       "      <td>...</td>\n",
       "      <td>...</td>\n",
       "      <td>...</td>\n",
       "      <td>...</td>\n",
       "    </tr>\n",
       "    <tr>\n",
       "      <th>72</th>\n",
       "      <td>75</td>\n",
       "      <td>Autódromo Internacional do Algarve</td>\n",
       "      <td>Portimão</td>\n",
       "      <td>Portugal</td>\n",
       "    </tr>\n",
       "    <tr>\n",
       "      <th>73</th>\n",
       "      <td>76</td>\n",
       "      <td>Autodromo Internazionale del Mugello</td>\n",
       "      <td>Mugello</td>\n",
       "      <td>Italy</td>\n",
       "    </tr>\n",
       "    <tr>\n",
       "      <th>74</th>\n",
       "      <td>77</td>\n",
       "      <td>Jeddah Corniche Circuit</td>\n",
       "      <td>Jeddah</td>\n",
       "      <td>Saudi Arabia</td>\n",
       "    </tr>\n",
       "    <tr>\n",
       "      <th>75</th>\n",
       "      <td>78</td>\n",
       "      <td>Losail International Circuit</td>\n",
       "      <td>Al Daayen</td>\n",
       "      <td>Qatar</td>\n",
       "    </tr>\n",
       "    <tr>\n",
       "      <th>76</th>\n",
       "      <td>79</td>\n",
       "      <td>Miami International Autodrome</td>\n",
       "      <td>Miami</td>\n",
       "      <td>USA</td>\n",
       "    </tr>\n",
       "  </tbody>\n",
       "</table>\n",
       "<p>77 rows × 4 columns</p>\n",
       "</div>"
      ],
      "text/plain": [
       "    circuitId                          circuit_name      location  \\\n",
       "0           1        Albert Park Grand Prix Circuit     Melbourne   \n",
       "1           2          Sepang International Circuit  Kuala Lumpur   \n",
       "2           3         Bahrain International Circuit        Sakhir   \n",
       "3           4        Circuit de Barcelona-Catalunya      Montmeló   \n",
       "4           5                         Istanbul Park      Istanbul   \n",
       "..        ...                                   ...           ...   \n",
       "72         75    Autódromo Internacional do Algarve      Portimão   \n",
       "73         76  Autodromo Internazionale del Mugello       Mugello   \n",
       "74         77               Jeddah Corniche Circuit        Jeddah   \n",
       "75         78          Losail International Circuit     Al Daayen   \n",
       "76         79         Miami International Autodrome         Miami   \n",
       "\n",
       "         country  \n",
       "0      Australia  \n",
       "1       Malaysia  \n",
       "2        Bahrain  \n",
       "3          Spain  \n",
       "4         Turkey  \n",
       "..           ...  \n",
       "72      Portugal  \n",
       "73         Italy  \n",
       "74  Saudi Arabia  \n",
       "75         Qatar  \n",
       "76           USA  \n",
       "\n",
       "[77 rows x 4 columns]"
      ]
     },
     "execution_count": 23,
     "metadata": {},
     "output_type": "execute_result"
    }
   ],
   "source": [
    "df1.rename(columns = {'name': 'circuit_name'})"
   ]
  },
  {
   "cell_type": "code",
   "execution_count": 24,
   "id": "1819ff1e",
   "metadata": {},
   "outputs": [
    {
     "data": {
      "text/plain": [
       "array([ 1,  2,  3,  4,  5,  6,  7,  8,  9, 10, 11, 12, 13, 14, 15, 16, 17,\n",
       "       18, 19, 20, 21, 22, 80, 24, 25, 26, 27, 28, 29, 30, 31, 32, 33, 34,\n",
       "       35, 36, 37, 38, 39, 40, 41, 42, 43, 44, 45, 46, 47, 48, 49, 50, 51,\n",
       "       52, 53, 54, 55, 56, 57, 58, 59, 60, 61, 62, 63, 64, 65, 66, 67, 68,\n",
       "       69, 70, 71, 73, 75, 76, 77, 78, 79], dtype=int64)"
      ]
     },
     "execution_count": 24,
     "metadata": {},
     "output_type": "execute_result"
    }
   ],
   "source": [
    "df1['circuitId'].unique()"
   ]
  },
  {
   "cell_type": "code",
   "execution_count": 25,
   "id": "a2a8a4fb",
   "metadata": {},
   "outputs": [],
   "source": [
    "#File 2) constructor_results\n",
    "df2 = pd.read_csv(r\"C:\\Users\\sulet\\Desktop\\F1_History\\constructor_results.csv\")"
   ]
  },
  {
   "cell_type": "code",
   "execution_count": 26,
   "id": "a9b03884",
   "metadata": {},
   "outputs": [
    {
     "data": {
      "text/html": [
       "<div>\n",
       "<style scoped>\n",
       "    .dataframe tbody tr th:only-of-type {\n",
       "        vertical-align: middle;\n",
       "    }\n",
       "\n",
       "    .dataframe tbody tr th {\n",
       "        vertical-align: top;\n",
       "    }\n",
       "\n",
       "    .dataframe thead th {\n",
       "        text-align: right;\n",
       "    }\n",
       "</style>\n",
       "<table border=\"1\" class=\"dataframe\">\n",
       "  <thead>\n",
       "    <tr style=\"text-align: right;\">\n",
       "      <th></th>\n",
       "      <th>constructorResultsId</th>\n",
       "      <th>raceId</th>\n",
       "      <th>constructorId</th>\n",
       "      <th>points</th>\n",
       "      <th>status</th>\n",
       "    </tr>\n",
       "  </thead>\n",
       "  <tbody>\n",
       "    <tr>\n",
       "      <th>0</th>\n",
       "      <td>1</td>\n",
       "      <td>18</td>\n",
       "      <td>1</td>\n",
       "      <td>14.0</td>\n",
       "      <td>\\N</td>\n",
       "    </tr>\n",
       "    <tr>\n",
       "      <th>1</th>\n",
       "      <td>2</td>\n",
       "      <td>18</td>\n",
       "      <td>2</td>\n",
       "      <td>8.0</td>\n",
       "      <td>\\N</td>\n",
       "    </tr>\n",
       "    <tr>\n",
       "      <th>2</th>\n",
       "      <td>3</td>\n",
       "      <td>18</td>\n",
       "      <td>3</td>\n",
       "      <td>9.0</td>\n",
       "      <td>\\N</td>\n",
       "    </tr>\n",
       "    <tr>\n",
       "      <th>3</th>\n",
       "      <td>4</td>\n",
       "      <td>18</td>\n",
       "      <td>4</td>\n",
       "      <td>5.0</td>\n",
       "      <td>\\N</td>\n",
       "    </tr>\n",
       "    <tr>\n",
       "      <th>4</th>\n",
       "      <td>5</td>\n",
       "      <td>18</td>\n",
       "      <td>5</td>\n",
       "      <td>2.0</td>\n",
       "      <td>\\N</td>\n",
       "    </tr>\n",
       "  </tbody>\n",
       "</table>\n",
       "</div>"
      ],
      "text/plain": [
       "   constructorResultsId  raceId  constructorId  points status\n",
       "0                     1      18              1    14.0     \\N\n",
       "1                     2      18              2     8.0     \\N\n",
       "2                     3      18              3     9.0     \\N\n",
       "3                     4      18              4     5.0     \\N\n",
       "4                     5      18              5     2.0     \\N"
      ]
     },
     "execution_count": 26,
     "metadata": {},
     "output_type": "execute_result"
    }
   ],
   "source": [
    "df2.head(5)"
   ]
  },
  {
   "cell_type": "code",
   "execution_count": 27,
   "id": "6bee1597",
   "metadata": {},
   "outputs": [
    {
     "name": "stdout",
     "output_type": "stream",
     "text": [
      "<class 'pandas.core.frame.DataFrame'>\n",
      "RangeIndex: 12290 entries, 0 to 12289\n",
      "Data columns (total 5 columns):\n",
      " #   Column                Non-Null Count  Dtype  \n",
      "---  ------                --------------  -----  \n",
      " 0   constructorResultsId  12290 non-null  int64  \n",
      " 1   raceId                12290 non-null  int64  \n",
      " 2   constructorId         12290 non-null  int64  \n",
      " 3   points                12290 non-null  float64\n",
      " 4   status                12290 non-null  object \n",
      "dtypes: float64(1), int64(3), object(1)\n",
      "memory usage: 480.2+ KB\n"
     ]
    }
   ],
   "source": [
    "df2.info()"
   ]
  },
  {
   "cell_type": "code",
   "execution_count": 28,
   "id": "3a40411f",
   "metadata": {},
   "outputs": [
    {
     "data": {
      "text/plain": [
       "(12290, 5)"
      ]
     },
     "execution_count": 28,
     "metadata": {},
     "output_type": "execute_result"
    }
   ],
   "source": [
    "df2.shape"
   ]
  },
  {
   "cell_type": "code",
   "execution_count": 29,
   "id": "5fdb4e91",
   "metadata": {},
   "outputs": [],
   "source": [
    "#Observations:\n",
    "#No Null values seen\n",
    "#All columns seem important for analysis\n",
    "#So I'll proceed to the next file"
   ]
  },
  {
   "cell_type": "code",
   "execution_count": 30,
   "id": "1a2e0b27",
   "metadata": {},
   "outputs": [],
   "source": [
    "#File 3) constructor_standings\n",
    "df3 = pd.read_csv(r\"C:\\Users\\sulet\\Desktop\\F1_History\\constructor_standings.csv\")"
   ]
  },
  {
   "cell_type": "code",
   "execution_count": 31,
   "id": "2a3064fb",
   "metadata": {},
   "outputs": [
    {
     "data": {
      "text/plain": [
       "(13051, 7)"
      ]
     },
     "execution_count": 31,
     "metadata": {},
     "output_type": "execute_result"
    }
   ],
   "source": [
    "df3.shape"
   ]
  },
  {
   "cell_type": "code",
   "execution_count": 32,
   "id": "aa66d3b0",
   "metadata": {},
   "outputs": [
    {
     "name": "stdout",
     "output_type": "stream",
     "text": [
      "<class 'pandas.core.frame.DataFrame'>\n",
      "RangeIndex: 13051 entries, 0 to 13050\n",
      "Data columns (total 7 columns):\n",
      " #   Column                  Non-Null Count  Dtype  \n",
      "---  ------                  --------------  -----  \n",
      " 0   constructorStandingsId  13051 non-null  int64  \n",
      " 1   raceId                  13051 non-null  int64  \n",
      " 2   constructorId           13051 non-null  int64  \n",
      " 3   points                  13051 non-null  float64\n",
      " 4   position                13051 non-null  int64  \n",
      " 5   positionText            13051 non-null  object \n",
      " 6   wins                    13051 non-null  int64  \n",
      "dtypes: float64(1), int64(5), object(1)\n",
      "memory usage: 713.9+ KB\n"
     ]
    }
   ],
   "source": [
    "df3.info()"
   ]
  },
  {
   "cell_type": "code",
   "execution_count": 33,
   "id": "75c0526e",
   "metadata": {},
   "outputs": [
    {
     "data": {
      "text/html": [
       "<div>\n",
       "<style scoped>\n",
       "    .dataframe tbody tr th:only-of-type {\n",
       "        vertical-align: middle;\n",
       "    }\n",
       "\n",
       "    .dataframe tbody tr th {\n",
       "        vertical-align: top;\n",
       "    }\n",
       "\n",
       "    .dataframe thead th {\n",
       "        text-align: right;\n",
       "    }\n",
       "</style>\n",
       "<table border=\"1\" class=\"dataframe\">\n",
       "  <thead>\n",
       "    <tr style=\"text-align: right;\">\n",
       "      <th></th>\n",
       "      <th>constructorStandingsId</th>\n",
       "      <th>raceId</th>\n",
       "      <th>constructorId</th>\n",
       "      <th>points</th>\n",
       "      <th>position</th>\n",
       "      <th>positionText</th>\n",
       "      <th>wins</th>\n",
       "    </tr>\n",
       "  </thead>\n",
       "  <tbody>\n",
       "    <tr>\n",
       "      <th>0</th>\n",
       "      <td>1</td>\n",
       "      <td>18</td>\n",
       "      <td>1</td>\n",
       "      <td>14.0</td>\n",
       "      <td>1</td>\n",
       "      <td>1</td>\n",
       "      <td>1</td>\n",
       "    </tr>\n",
       "    <tr>\n",
       "      <th>1</th>\n",
       "      <td>2</td>\n",
       "      <td>18</td>\n",
       "      <td>2</td>\n",
       "      <td>8.0</td>\n",
       "      <td>3</td>\n",
       "      <td>3</td>\n",
       "      <td>0</td>\n",
       "    </tr>\n",
       "    <tr>\n",
       "      <th>2</th>\n",
       "      <td>3</td>\n",
       "      <td>18</td>\n",
       "      <td>3</td>\n",
       "      <td>9.0</td>\n",
       "      <td>2</td>\n",
       "      <td>2</td>\n",
       "      <td>0</td>\n",
       "    </tr>\n",
       "    <tr>\n",
       "      <th>3</th>\n",
       "      <td>4</td>\n",
       "      <td>18</td>\n",
       "      <td>4</td>\n",
       "      <td>5.0</td>\n",
       "      <td>4</td>\n",
       "      <td>4</td>\n",
       "      <td>0</td>\n",
       "    </tr>\n",
       "    <tr>\n",
       "      <th>4</th>\n",
       "      <td>5</td>\n",
       "      <td>18</td>\n",
       "      <td>5</td>\n",
       "      <td>2.0</td>\n",
       "      <td>5</td>\n",
       "      <td>5</td>\n",
       "      <td>0</td>\n",
       "    </tr>\n",
       "  </tbody>\n",
       "</table>\n",
       "</div>"
      ],
      "text/plain": [
       "   constructorStandingsId  raceId  constructorId  points  position  \\\n",
       "0                       1      18              1    14.0         1   \n",
       "1                       2      18              2     8.0         3   \n",
       "2                       3      18              3     9.0         2   \n",
       "3                       4      18              4     5.0         4   \n",
       "4                       5      18              5     2.0         5   \n",
       "\n",
       "  positionText  wins  \n",
       "0            1     1  \n",
       "1            3     0  \n",
       "2            2     0  \n",
       "3            4     0  \n",
       "4            5     0  "
      ]
     },
     "execution_count": 33,
     "metadata": {},
     "output_type": "execute_result"
    }
   ],
   "source": [
    "df3.head()"
   ]
  },
  {
   "cell_type": "code",
   "execution_count": 34,
   "id": "be9ce4f3",
   "metadata": {},
   "outputs": [],
   "source": [
    "#Observations:\n",
    "#No null values seen."
   ]
  },
  {
   "cell_type": "code",
   "execution_count": 35,
   "id": "c03b51ad",
   "metadata": {},
   "outputs": [
    {
     "data": {
      "text/plain": [
       "array([ 1,  3,  2,  4,  5,  6,  8,  7,  9, 10, 11, 12, 13, 14, 15, 18, 17,\n",
       "       16, 19, 20, 21, 22], dtype=int64)"
      ]
     },
     "execution_count": 35,
     "metadata": {},
     "output_type": "execute_result"
    }
   ],
   "source": [
    "df3['position'].unique()"
   ]
  },
  {
   "cell_type": "code",
   "execution_count": 36,
   "id": "7e911640",
   "metadata": {},
   "outputs": [
    {
     "data": {
      "text/plain": [
       "array(['1', '3', '2', '4', '5', '6', '8', '7', '9', '10', '11', 'E', '12',\n",
       "       '13', '14', '15', '18', '17', '16', '19', '20', '21', '22'],\n",
       "      dtype=object)"
      ]
     },
     "execution_count": 36,
     "metadata": {},
     "output_type": "execute_result"
    }
   ],
   "source": [
    "df3['positionText'].unique()"
   ]
  },
  {
   "cell_type": "code",
   "execution_count": 37,
   "id": "490b37bb",
   "metadata": {},
   "outputs": [
    {
     "data": {
      "text/html": [
       "<div>\n",
       "<style scoped>\n",
       "    .dataframe tbody tr th:only-of-type {\n",
       "        vertical-align: middle;\n",
       "    }\n",
       "\n",
       "    .dataframe tbody tr th {\n",
       "        vertical-align: top;\n",
       "    }\n",
       "\n",
       "    .dataframe thead th {\n",
       "        text-align: right;\n",
       "    }\n",
       "</style>\n",
       "<table border=\"1\" class=\"dataframe\">\n",
       "  <thead>\n",
       "    <tr style=\"text-align: right;\">\n",
       "      <th></th>\n",
       "      <th>constructorStandingsId</th>\n",
       "      <th>raceId</th>\n",
       "      <th>constructorId</th>\n",
       "      <th>points</th>\n",
       "      <th>position</th>\n",
       "      <th>positionText</th>\n",
       "      <th>wins</th>\n",
       "    </tr>\n",
       "  </thead>\n",
       "  <tbody>\n",
       "    <tr>\n",
       "      <th>217</th>\n",
       "      <td>25756</td>\n",
       "      <td>38</td>\n",
       "      <td>1</td>\n",
       "      <td>44.0</td>\n",
       "      <td>11</td>\n",
       "      <td>E</td>\n",
       "      <td>1</td>\n",
       "    </tr>\n",
       "    <tr>\n",
       "      <th>227</th>\n",
       "      <td>25767</td>\n",
       "      <td>39</td>\n",
       "      <td>1</td>\n",
       "      <td>58.0</td>\n",
       "      <td>11</td>\n",
       "      <td>E</td>\n",
       "      <td>1</td>\n",
       "    </tr>\n",
       "  </tbody>\n",
       "</table>\n",
       "</div>"
      ],
      "text/plain": [
       "     constructorStandingsId  raceId  constructorId  points  position  \\\n",
       "217                   25756      38              1    44.0        11   \n",
       "227                   25767      39              1    58.0        11   \n",
       "\n",
       "    positionText  wins  \n",
       "217            E     1  \n",
       "227            E     1  "
      ]
     },
     "execution_count": 37,
     "metadata": {},
     "output_type": "execute_result"
    }
   ],
   "source": [
    "filt=(df3['positionText']=='E')\n",
    "df3[filt].head(2)"
   ]
  },
  {
   "cell_type": "code",
   "execution_count": 38,
   "id": "4dc96a59",
   "metadata": {},
   "outputs": [],
   "source": [
    "#Could not figure out what 'E' in the positionText stood for\n",
    "#Anyways dropping the column"
   ]
  },
  {
   "cell_type": "code",
   "execution_count": 39,
   "id": "1a724cfd",
   "metadata": {},
   "outputs": [],
   "source": [
    "df3.drop(columns=['positionText'], inplace=True)"
   ]
  },
  {
   "cell_type": "code",
   "execution_count": 40,
   "id": "b6b301a7",
   "metadata": {},
   "outputs": [
    {
     "data": {
      "text/html": [
       "<div>\n",
       "<style scoped>\n",
       "    .dataframe tbody tr th:only-of-type {\n",
       "        vertical-align: middle;\n",
       "    }\n",
       "\n",
       "    .dataframe tbody tr th {\n",
       "        vertical-align: top;\n",
       "    }\n",
       "\n",
       "    .dataframe thead th {\n",
       "        text-align: right;\n",
       "    }\n",
       "</style>\n",
       "<table border=\"1\" class=\"dataframe\">\n",
       "  <thead>\n",
       "    <tr style=\"text-align: right;\">\n",
       "      <th></th>\n",
       "      <th>constructorStandingsId</th>\n",
       "      <th>raceId</th>\n",
       "      <th>constructorId</th>\n",
       "      <th>points</th>\n",
       "      <th>position</th>\n",
       "      <th>wins</th>\n",
       "    </tr>\n",
       "  </thead>\n",
       "  <tbody>\n",
       "    <tr>\n",
       "      <th>0</th>\n",
       "      <td>1</td>\n",
       "      <td>18</td>\n",
       "      <td>1</td>\n",
       "      <td>14.0</td>\n",
       "      <td>1</td>\n",
       "      <td>1</td>\n",
       "    </tr>\n",
       "    <tr>\n",
       "      <th>1</th>\n",
       "      <td>2</td>\n",
       "      <td>18</td>\n",
       "      <td>2</td>\n",
       "      <td>8.0</td>\n",
       "      <td>3</td>\n",
       "      <td>0</td>\n",
       "    </tr>\n",
       "  </tbody>\n",
       "</table>\n",
       "</div>"
      ],
      "text/plain": [
       "   constructorStandingsId  raceId  constructorId  points  position  wins\n",
       "0                       1      18              1    14.0         1     1\n",
       "1                       2      18              2     8.0         3     0"
      ]
     },
     "execution_count": 40,
     "metadata": {},
     "output_type": "execute_result"
    }
   ],
   "source": [
    "df3.head(2)"
   ]
  },
  {
   "cell_type": "code",
   "execution_count": 41,
   "id": "770a15e9",
   "metadata": {},
   "outputs": [],
   "source": [
    "#File 4) constructors.csv\n",
    "df4 = pd.read_csv(r\"C:\\Users\\sulet\\Desktop\\F1_History\\constructors.csv\")"
   ]
  },
  {
   "cell_type": "code",
   "execution_count": 42,
   "id": "cdd1bb6a",
   "metadata": {},
   "outputs": [
    {
     "name": "stdout",
     "output_type": "stream",
     "text": [
      "<class 'pandas.core.frame.DataFrame'>\n",
      "RangeIndex: 211 entries, 0 to 210\n",
      "Data columns (total 5 columns):\n",
      " #   Column          Non-Null Count  Dtype \n",
      "---  ------          --------------  ----- \n",
      " 0   constructorId   211 non-null    int64 \n",
      " 1   constructorRef  211 non-null    object\n",
      " 2   name            211 non-null    object\n",
      " 3   nationality     211 non-null    object\n",
      " 4   url             211 non-null    object\n",
      "dtypes: int64(1), object(4)\n",
      "memory usage: 8.4+ KB\n"
     ]
    }
   ],
   "source": [
    "df4.info()"
   ]
  },
  {
   "cell_type": "code",
   "execution_count": 43,
   "id": "bd950b7b",
   "metadata": {},
   "outputs": [],
   "source": [
    "#observations:\n",
    "#No null values seen."
   ]
  },
  {
   "cell_type": "code",
   "execution_count": 44,
   "id": "3504fdbf",
   "metadata": {},
   "outputs": [
    {
     "data": {
      "text/html": [
       "<div>\n",
       "<style scoped>\n",
       "    .dataframe tbody tr th:only-of-type {\n",
       "        vertical-align: middle;\n",
       "    }\n",
       "\n",
       "    .dataframe tbody tr th {\n",
       "        vertical-align: top;\n",
       "    }\n",
       "\n",
       "    .dataframe thead th {\n",
       "        text-align: right;\n",
       "    }\n",
       "</style>\n",
       "<table border=\"1\" class=\"dataframe\">\n",
       "  <thead>\n",
       "    <tr style=\"text-align: right;\">\n",
       "      <th></th>\n",
       "      <th>constructorId</th>\n",
       "      <th>constructorRef</th>\n",
       "      <th>name</th>\n",
       "      <th>nationality</th>\n",
       "      <th>url</th>\n",
       "    </tr>\n",
       "  </thead>\n",
       "  <tbody>\n",
       "    <tr>\n",
       "      <th>0</th>\n",
       "      <td>1</td>\n",
       "      <td>mclaren</td>\n",
       "      <td>McLaren</td>\n",
       "      <td>British</td>\n",
       "      <td>http://en.wikipedia.org/wiki/McLaren</td>\n",
       "    </tr>\n",
       "    <tr>\n",
       "      <th>1</th>\n",
       "      <td>2</td>\n",
       "      <td>bmw_sauber</td>\n",
       "      <td>BMW Sauber</td>\n",
       "      <td>German</td>\n",
       "      <td>http://en.wikipedia.org/wiki/BMW_Sauber</td>\n",
       "    </tr>\n",
       "  </tbody>\n",
       "</table>\n",
       "</div>"
      ],
      "text/plain": [
       "   constructorId constructorRef        name nationality  \\\n",
       "0              1        mclaren     McLaren     British   \n",
       "1              2     bmw_sauber  BMW Sauber      German   \n",
       "\n",
       "                                       url  \n",
       "0     http://en.wikipedia.org/wiki/McLaren  \n",
       "1  http://en.wikipedia.org/wiki/BMW_Sauber  "
      ]
     },
     "execution_count": 44,
     "metadata": {},
     "output_type": "execute_result"
    }
   ],
   "source": [
    "df4.head(2)"
   ]
  },
  {
   "cell_type": "code",
   "execution_count": 45,
   "id": "47218190",
   "metadata": {},
   "outputs": [],
   "source": [
    "df4.drop(columns={'constructorRef', 'url'}, inplace=True)"
   ]
  },
  {
   "cell_type": "code",
   "execution_count": 46,
   "id": "509cd42d",
   "metadata": {},
   "outputs": [
    {
     "data": {
      "text/html": [
       "<div>\n",
       "<style scoped>\n",
       "    .dataframe tbody tr th:only-of-type {\n",
       "        vertical-align: middle;\n",
       "    }\n",
       "\n",
       "    .dataframe tbody tr th {\n",
       "        vertical-align: top;\n",
       "    }\n",
       "\n",
       "    .dataframe thead th {\n",
       "        text-align: right;\n",
       "    }\n",
       "</style>\n",
       "<table border=\"1\" class=\"dataframe\">\n",
       "  <thead>\n",
       "    <tr style=\"text-align: right;\">\n",
       "      <th></th>\n",
       "      <th>constructorId</th>\n",
       "      <th>name</th>\n",
       "      <th>nationality</th>\n",
       "    </tr>\n",
       "  </thead>\n",
       "  <tbody>\n",
       "    <tr>\n",
       "      <th>0</th>\n",
       "      <td>1</td>\n",
       "      <td>McLaren</td>\n",
       "      <td>British</td>\n",
       "    </tr>\n",
       "    <tr>\n",
       "      <th>1</th>\n",
       "      <td>2</td>\n",
       "      <td>BMW Sauber</td>\n",
       "      <td>German</td>\n",
       "    </tr>\n",
       "  </tbody>\n",
       "</table>\n",
       "</div>"
      ],
      "text/plain": [
       "   constructorId        name nationality\n",
       "0              1     McLaren     British\n",
       "1              2  BMW Sauber      German"
      ]
     },
     "execution_count": 46,
     "metadata": {},
     "output_type": "execute_result"
    }
   ],
   "source": [
    "df4.head(2)"
   ]
  },
  {
   "cell_type": "code",
   "execution_count": 47,
   "id": "ed210ca2",
   "metadata": {},
   "outputs": [],
   "source": [
    "#File 5) driver_standings.csv\n",
    "df5 = pd.read_csv(r\"C:\\Users\\sulet\\Desktop\\F1_History\\driver_standings.csv\")"
   ]
  },
  {
   "cell_type": "code",
   "execution_count": 48,
   "id": "cfab5ccc",
   "metadata": {},
   "outputs": [
    {
     "name": "stdout",
     "output_type": "stream",
     "text": [
      "<class 'pandas.core.frame.DataFrame'>\n",
      "RangeIndex: 34124 entries, 0 to 34123\n",
      "Data columns (total 7 columns):\n",
      " #   Column             Non-Null Count  Dtype  \n",
      "---  ------             --------------  -----  \n",
      " 0   driverStandingsId  34124 non-null  int64  \n",
      " 1   raceId             34124 non-null  int64  \n",
      " 2   driverId           34124 non-null  int64  \n",
      " 3   points             34124 non-null  float64\n",
      " 4   position           34124 non-null  int64  \n",
      " 5   positionText       34124 non-null  object \n",
      " 6   wins               34124 non-null  int64  \n",
      "dtypes: float64(1), int64(5), object(1)\n",
      "memory usage: 1.8+ MB\n"
     ]
    }
   ],
   "source": [
    "df5.info()"
   ]
  },
  {
   "cell_type": "code",
   "execution_count": 49,
   "id": "9c7041a3",
   "metadata": {},
   "outputs": [],
   "source": [
    "#Observations:\n",
    "#No null values seen"
   ]
  },
  {
   "cell_type": "code",
   "execution_count": 50,
   "id": "85a14eaa",
   "metadata": {},
   "outputs": [
    {
     "data": {
      "text/html": [
       "<div>\n",
       "<style scoped>\n",
       "    .dataframe tbody tr th:only-of-type {\n",
       "        vertical-align: middle;\n",
       "    }\n",
       "\n",
       "    .dataframe tbody tr th {\n",
       "        vertical-align: top;\n",
       "    }\n",
       "\n",
       "    .dataframe thead th {\n",
       "        text-align: right;\n",
       "    }\n",
       "</style>\n",
       "<table border=\"1\" class=\"dataframe\">\n",
       "  <thead>\n",
       "    <tr style=\"text-align: right;\">\n",
       "      <th></th>\n",
       "      <th>driverStandingsId</th>\n",
       "      <th>raceId</th>\n",
       "      <th>driverId</th>\n",
       "      <th>points</th>\n",
       "      <th>position</th>\n",
       "      <th>positionText</th>\n",
       "      <th>wins</th>\n",
       "    </tr>\n",
       "  </thead>\n",
       "  <tbody>\n",
       "    <tr>\n",
       "      <th>0</th>\n",
       "      <td>1</td>\n",
       "      <td>18</td>\n",
       "      <td>1</td>\n",
       "      <td>10.0</td>\n",
       "      <td>1</td>\n",
       "      <td>1</td>\n",
       "      <td>1</td>\n",
       "    </tr>\n",
       "    <tr>\n",
       "      <th>1</th>\n",
       "      <td>2</td>\n",
       "      <td>18</td>\n",
       "      <td>2</td>\n",
       "      <td>8.0</td>\n",
       "      <td>2</td>\n",
       "      <td>2</td>\n",
       "      <td>0</td>\n",
       "    </tr>\n",
       "  </tbody>\n",
       "</table>\n",
       "</div>"
      ],
      "text/plain": [
       "   driverStandingsId  raceId  driverId  points  position positionText  wins\n",
       "0                  1      18         1    10.0         1            1     1\n",
       "1                  2      18         2     8.0         2            2     0"
      ]
     },
     "execution_count": 50,
     "metadata": {},
     "output_type": "execute_result"
    }
   ],
   "source": [
    "df5.head(2)"
   ]
  },
  {
   "cell_type": "code",
   "execution_count": 51,
   "id": "28d6aed1",
   "metadata": {},
   "outputs": [
    {
     "data": {
      "text/plain": [
       "array(['1', '2', '3', '4', '5', '6', '7', '8', '9', '10', '11', '12',\n",
       "       '13', '14', '15', '16', '17', '18', '19', '20', '21', '22', '23',\n",
       "       '24', '25', '27', '26', 'D', '28', '29', '30', '31', '33', '32',\n",
       "       '34', '36', '35', '38', '39', '37', '45', '41', '46', '42', '40',\n",
       "       '43', '44', '47', '49', '48', '51', '50', '52', '53', '55', '54',\n",
       "       '57', '56', '58', '59', '61', '60', '62', '66', '65', '63', '64',\n",
       "       '69', '68', '67', '73', '72', '71', '70', '75', '74', '77', '76',\n",
       "       '78', '83', '81', '80', '88', '87', '84', '82', '86', '85', '79',\n",
       "       '91', '90', '89', '92', '93', '94', '95', '96', '97', '98', '103',\n",
       "       '102', '101', '99', '100', '104', '108', '107', '105', '106'],\n",
       "      dtype=object)"
      ]
     },
     "execution_count": 51,
     "metadata": {},
     "output_type": "execute_result"
    }
   ],
   "source": [
    "df5['positionText'].unique()"
   ]
  },
  {
   "cell_type": "code",
   "execution_count": 52,
   "id": "b078e9b7",
   "metadata": {},
   "outputs": [
    {
     "data": {
      "text/plain": [
       "array([  1,   2,   3,   4,   5,   6,   7,   8,   9,  10,  11,  12,  13,\n",
       "        14,  15,  16,  17,  18,  19,  20,  21,  22,  23,  24,  25,  27,\n",
       "        26,  28,  29,  30,  31,  33,  32,  34,  36,  35,  38,  39,  37,\n",
       "        45,  41,  46,  42,  40,  43,  44,  47,  49,  48,  51,  50,  52,\n",
       "        53,  55,  54,  57,  56,  58,  59,  61,  60,  62,  66,  65,  63,\n",
       "        64,  69,  68,  67,  73,  72,  71,  70,  75,  74,  77,  76,  78,\n",
       "        83,  81,  80,  88,  87,  84,  82,  86,  85,  79,  91,  90,  89,\n",
       "        92,  93,  94,  95,  96,  97,  98, 103, 102, 101,  99, 100, 104,\n",
       "       108, 107, 105, 106], dtype=int64)"
      ]
     },
     "execution_count": 52,
     "metadata": {},
     "output_type": "execute_result"
    }
   ],
   "source": [
    "df5['position'].unique()"
   ]
  },
  {
   "cell_type": "code",
   "execution_count": 53,
   "id": "081e608e",
   "metadata": {},
   "outputs": [],
   "source": [
    "df5.drop(columns={'positionText'}, inplace=True)"
   ]
  },
  {
   "cell_type": "code",
   "execution_count": 54,
   "id": "f2e0da3a",
   "metadata": {},
   "outputs": [
    {
     "data": {
      "text/html": [
       "<div>\n",
       "<style scoped>\n",
       "    .dataframe tbody tr th:only-of-type {\n",
       "        vertical-align: middle;\n",
       "    }\n",
       "\n",
       "    .dataframe tbody tr th {\n",
       "        vertical-align: top;\n",
       "    }\n",
       "\n",
       "    .dataframe thead th {\n",
       "        text-align: right;\n",
       "    }\n",
       "</style>\n",
       "<table border=\"1\" class=\"dataframe\">\n",
       "  <thead>\n",
       "    <tr style=\"text-align: right;\">\n",
       "      <th></th>\n",
       "      <th>driverStandingsId</th>\n",
       "      <th>raceId</th>\n",
       "      <th>driverId</th>\n",
       "      <th>points</th>\n",
       "      <th>position</th>\n",
       "      <th>wins</th>\n",
       "    </tr>\n",
       "  </thead>\n",
       "  <tbody>\n",
       "    <tr>\n",
       "      <th>0</th>\n",
       "      <td>1</td>\n",
       "      <td>18</td>\n",
       "      <td>1</td>\n",
       "      <td>10.0</td>\n",
       "      <td>1</td>\n",
       "      <td>1</td>\n",
       "    </tr>\n",
       "    <tr>\n",
       "      <th>1</th>\n",
       "      <td>2</td>\n",
       "      <td>18</td>\n",
       "      <td>2</td>\n",
       "      <td>8.0</td>\n",
       "      <td>2</td>\n",
       "      <td>0</td>\n",
       "    </tr>\n",
       "  </tbody>\n",
       "</table>\n",
       "</div>"
      ],
      "text/plain": [
       "   driverStandingsId  raceId  driverId  points  position  wins\n",
       "0                  1      18         1    10.0         1     1\n",
       "1                  2      18         2     8.0         2     0"
      ]
     },
     "execution_count": 54,
     "metadata": {},
     "output_type": "execute_result"
    }
   ],
   "source": [
    "df5.head(2)"
   ]
  },
  {
   "cell_type": "code",
   "execution_count": 55,
   "id": "c8567235",
   "metadata": {},
   "outputs": [],
   "source": [
    "#File 6) drivers.csv\n",
    "df6 = pd.read_csv(r\"C:\\Users\\sulet\\Desktop\\F1_History\\drivers.csv\")"
   ]
  },
  {
   "cell_type": "code",
   "execution_count": 56,
   "id": "5b72feaa",
   "metadata": {},
   "outputs": [
    {
     "name": "stdout",
     "output_type": "stream",
     "text": [
      "<class 'pandas.core.frame.DataFrame'>\n",
      "RangeIndex: 857 entries, 0 to 856\n",
      "Data columns (total 9 columns):\n",
      " #   Column       Non-Null Count  Dtype \n",
      "---  ------       --------------  ----- \n",
      " 0   driverId     857 non-null    int64 \n",
      " 1   driverRef    857 non-null    object\n",
      " 2   number       857 non-null    object\n",
      " 3   code         857 non-null    object\n",
      " 4   forename     857 non-null    object\n",
      " 5   surname      857 non-null    object\n",
      " 6   dob          857 non-null    object\n",
      " 7   nationality  857 non-null    object\n",
      " 8   url          857 non-null    object\n",
      "dtypes: int64(1), object(8)\n",
      "memory usage: 60.4+ KB\n"
     ]
    }
   ],
   "source": [
    "df6.info()"
   ]
  },
  {
   "cell_type": "code",
   "execution_count": 57,
   "id": "7d4a9762",
   "metadata": {},
   "outputs": [],
   "source": [
    "#Observations:\n",
    "#No null values seen"
   ]
  },
  {
   "cell_type": "code",
   "execution_count": 58,
   "id": "8cd0c51f",
   "metadata": {},
   "outputs": [
    {
     "data": {
      "text/plain": [
       "(857, 9)"
      ]
     },
     "execution_count": 58,
     "metadata": {},
     "output_type": "execute_result"
    }
   ],
   "source": [
    "df6.shape"
   ]
  },
  {
   "cell_type": "code",
   "execution_count": 59,
   "id": "23903c41",
   "metadata": {},
   "outputs": [
    {
     "data": {
      "text/html": [
       "<div>\n",
       "<style scoped>\n",
       "    .dataframe tbody tr th:only-of-type {\n",
       "        vertical-align: middle;\n",
       "    }\n",
       "\n",
       "    .dataframe tbody tr th {\n",
       "        vertical-align: top;\n",
       "    }\n",
       "\n",
       "    .dataframe thead th {\n",
       "        text-align: right;\n",
       "    }\n",
       "</style>\n",
       "<table border=\"1\" class=\"dataframe\">\n",
       "  <thead>\n",
       "    <tr style=\"text-align: right;\">\n",
       "      <th></th>\n",
       "      <th>driverId</th>\n",
       "      <th>driverRef</th>\n",
       "      <th>number</th>\n",
       "      <th>code</th>\n",
       "      <th>forename</th>\n",
       "      <th>surname</th>\n",
       "      <th>dob</th>\n",
       "      <th>nationality</th>\n",
       "      <th>url</th>\n",
       "    </tr>\n",
       "  </thead>\n",
       "  <tbody>\n",
       "    <tr>\n",
       "      <th>0</th>\n",
       "      <td>1</td>\n",
       "      <td>hamilton</td>\n",
       "      <td>44</td>\n",
       "      <td>HAM</td>\n",
       "      <td>Lewis</td>\n",
       "      <td>Hamilton</td>\n",
       "      <td>1985-01-07</td>\n",
       "      <td>British</td>\n",
       "      <td>http://en.wikipedia.org/wiki/Lewis_Hamilton</td>\n",
       "    </tr>\n",
       "    <tr>\n",
       "      <th>1</th>\n",
       "      <td>2</td>\n",
       "      <td>heidfeld</td>\n",
       "      <td>\\N</td>\n",
       "      <td>HEI</td>\n",
       "      <td>Nick</td>\n",
       "      <td>Heidfeld</td>\n",
       "      <td>1977-05-10</td>\n",
       "      <td>German</td>\n",
       "      <td>http://en.wikipedia.org/wiki/Nick_Heidfeld</td>\n",
       "    </tr>\n",
       "    <tr>\n",
       "      <th>2</th>\n",
       "      <td>3</td>\n",
       "      <td>rosberg</td>\n",
       "      <td>6</td>\n",
       "      <td>ROS</td>\n",
       "      <td>Nico</td>\n",
       "      <td>Rosberg</td>\n",
       "      <td>1985-06-27</td>\n",
       "      <td>German</td>\n",
       "      <td>http://en.wikipedia.org/wiki/Nico_Rosberg</td>\n",
       "    </tr>\n",
       "    <tr>\n",
       "      <th>3</th>\n",
       "      <td>4</td>\n",
       "      <td>alonso</td>\n",
       "      <td>14</td>\n",
       "      <td>ALO</td>\n",
       "      <td>Fernando</td>\n",
       "      <td>Alonso</td>\n",
       "      <td>1981-07-29</td>\n",
       "      <td>Spanish</td>\n",
       "      <td>http://en.wikipedia.org/wiki/Fernando_Alonso</td>\n",
       "    </tr>\n",
       "    <tr>\n",
       "      <th>4</th>\n",
       "      <td>5</td>\n",
       "      <td>kovalainen</td>\n",
       "      <td>\\N</td>\n",
       "      <td>KOV</td>\n",
       "      <td>Heikki</td>\n",
       "      <td>Kovalainen</td>\n",
       "      <td>1981-10-19</td>\n",
       "      <td>Finnish</td>\n",
       "      <td>http://en.wikipedia.org/wiki/Heikki_Kovalainen</td>\n",
       "    </tr>\n",
       "  </tbody>\n",
       "</table>\n",
       "</div>"
      ],
      "text/plain": [
       "   driverId   driverRef number code  forename     surname         dob  \\\n",
       "0         1    hamilton     44  HAM     Lewis    Hamilton  1985-01-07   \n",
       "1         2    heidfeld     \\N  HEI      Nick    Heidfeld  1977-05-10   \n",
       "2         3     rosberg      6  ROS      Nico     Rosberg  1985-06-27   \n",
       "3         4      alonso     14  ALO  Fernando      Alonso  1981-07-29   \n",
       "4         5  kovalainen     \\N  KOV    Heikki  Kovalainen  1981-10-19   \n",
       "\n",
       "  nationality                                             url  \n",
       "0     British     http://en.wikipedia.org/wiki/Lewis_Hamilton  \n",
       "1      German      http://en.wikipedia.org/wiki/Nick_Heidfeld  \n",
       "2      German       http://en.wikipedia.org/wiki/Nico_Rosberg  \n",
       "3     Spanish    http://en.wikipedia.org/wiki/Fernando_Alonso  \n",
       "4     Finnish  http://en.wikipedia.org/wiki/Heikki_Kovalainen  "
      ]
     },
     "execution_count": 59,
     "metadata": {},
     "output_type": "execute_result"
    }
   ],
   "source": [
    "df6.head()"
   ]
  },
  {
   "cell_type": "code",
   "execution_count": 60,
   "id": "444801ca",
   "metadata": {},
   "outputs": [
    {
     "data": {
      "text/html": [
       "<div>\n",
       "<style scoped>\n",
       "    .dataframe tbody tr th:only-of-type {\n",
       "        vertical-align: middle;\n",
       "    }\n",
       "\n",
       "    .dataframe tbody tr th {\n",
       "        vertical-align: top;\n",
       "    }\n",
       "\n",
       "    .dataframe thead th {\n",
       "        text-align: right;\n",
       "    }\n",
       "</style>\n",
       "<table border=\"1\" class=\"dataframe\">\n",
       "  <thead>\n",
       "    <tr style=\"text-align: right;\">\n",
       "      <th></th>\n",
       "      <th>driverId</th>\n",
       "      <th>code</th>\n",
       "      <th>forename</th>\n",
       "      <th>surname</th>\n",
       "      <th>dob</th>\n",
       "      <th>nationality</th>\n",
       "    </tr>\n",
       "  </thead>\n",
       "  <tbody>\n",
       "    <tr>\n",
       "      <th>0</th>\n",
       "      <td>1</td>\n",
       "      <td>HAM</td>\n",
       "      <td>Lewis</td>\n",
       "      <td>Hamilton</td>\n",
       "      <td>1985-01-07</td>\n",
       "      <td>British</td>\n",
       "    </tr>\n",
       "    <tr>\n",
       "      <th>1</th>\n",
       "      <td>2</td>\n",
       "      <td>HEI</td>\n",
       "      <td>Nick</td>\n",
       "      <td>Heidfeld</td>\n",
       "      <td>1977-05-10</td>\n",
       "      <td>German</td>\n",
       "    </tr>\n",
       "  </tbody>\n",
       "</table>\n",
       "</div>"
      ],
      "text/plain": [
       "   driverId code forename   surname         dob nationality\n",
       "0         1  HAM    Lewis  Hamilton  1985-01-07     British\n",
       "1         2  HEI     Nick  Heidfeld  1977-05-10      German"
      ]
     },
     "execution_count": 60,
     "metadata": {},
     "output_type": "execute_result"
    }
   ],
   "source": [
    "#We already have driver forename and surame, thus dropping driverRef\n",
    "#Driver code will be useful in plotting graphs\n",
    "df6.drop(columns={'driverRef', 'number', 'url'}, inplace=True)\n",
    "df6.head(2)"
   ]
  },
  {
   "cell_type": "code",
   "execution_count": 61,
   "id": "db933a45",
   "metadata": {},
   "outputs": [],
   "source": [
    "#changig dob from string to Date-Time format\n",
    "#Note: Not calculating driver age yet, will do once all season info is available\n",
    "\n",
    "df6['dob'] = pd.to_datetime(df6['dob'], format='%Y-%m-%d')"
   ]
  },
  {
   "cell_type": "code",
   "execution_count": 62,
   "id": "5ca87a11",
   "metadata": {},
   "outputs": [
    {
     "data": {
      "text/html": [
       "<div>\n",
       "<style scoped>\n",
       "    .dataframe tbody tr th:only-of-type {\n",
       "        vertical-align: middle;\n",
       "    }\n",
       "\n",
       "    .dataframe tbody tr th {\n",
       "        vertical-align: top;\n",
       "    }\n",
       "\n",
       "    .dataframe thead th {\n",
       "        text-align: right;\n",
       "    }\n",
       "</style>\n",
       "<table border=\"1\" class=\"dataframe\">\n",
       "  <thead>\n",
       "    <tr style=\"text-align: right;\">\n",
       "      <th></th>\n",
       "      <th>driverId</th>\n",
       "      <th>code</th>\n",
       "      <th>forename</th>\n",
       "      <th>surname</th>\n",
       "      <th>dob</th>\n",
       "      <th>nationality</th>\n",
       "    </tr>\n",
       "  </thead>\n",
       "  <tbody>\n",
       "    <tr>\n",
       "      <th>0</th>\n",
       "      <td>1</td>\n",
       "      <td>HAM</td>\n",
       "      <td>Lewis</td>\n",
       "      <td>Hamilton</td>\n",
       "      <td>1985-01-07</td>\n",
       "      <td>British</td>\n",
       "    </tr>\n",
       "    <tr>\n",
       "      <th>1</th>\n",
       "      <td>2</td>\n",
       "      <td>HEI</td>\n",
       "      <td>Nick</td>\n",
       "      <td>Heidfeld</td>\n",
       "      <td>1977-05-10</td>\n",
       "      <td>German</td>\n",
       "    </tr>\n",
       "  </tbody>\n",
       "</table>\n",
       "</div>"
      ],
      "text/plain": [
       "   driverId code forename   surname        dob nationality\n",
       "0         1  HAM    Lewis  Hamilton 1985-01-07     British\n",
       "1         2  HEI     Nick  Heidfeld 1977-05-10      German"
      ]
     },
     "execution_count": 62,
     "metadata": {},
     "output_type": "execute_result"
    }
   ],
   "source": [
    "df6.head(2)"
   ]
  },
  {
   "cell_type": "code",
   "execution_count": 63,
   "id": "aa71df8e",
   "metadata": {},
   "outputs": [
    {
     "name": "stdout",
     "output_type": "stream",
     "text": [
      "<class 'pandas.core.frame.DataFrame'>\n",
      "RangeIndex: 857 entries, 0 to 856\n",
      "Data columns (total 6 columns):\n",
      " #   Column       Non-Null Count  Dtype         \n",
      "---  ------       --------------  -----         \n",
      " 0   driverId     857 non-null    int64         \n",
      " 1   code         857 non-null    object        \n",
      " 2   forename     857 non-null    object        \n",
      " 3   surname      857 non-null    object        \n",
      " 4   dob          857 non-null    datetime64[ns]\n",
      " 5   nationality  857 non-null    object        \n",
      "dtypes: datetime64[ns](1), int64(1), object(4)\n",
      "memory usage: 40.3+ KB\n"
     ]
    }
   ],
   "source": [
    "df6.info()"
   ]
  },
  {
   "cell_type": "code",
   "execution_count": 64,
   "id": "63de6c36",
   "metadata": {},
   "outputs": [],
   "source": [
    "#File 7) lap_times.csv\n",
    "df7 = pd.read_csv(r\"C:\\Users\\sulet\\Desktop\\F1_History\\lap_times.csv\")"
   ]
  },
  {
   "cell_type": "code",
   "execution_count": 65,
   "id": "5472faa0",
   "metadata": {},
   "outputs": [
    {
     "name": "stdout",
     "output_type": "stream",
     "text": [
      "<class 'pandas.core.frame.DataFrame'>\n",
      "RangeIndex: 551742 entries, 0 to 551741\n",
      "Data columns (total 6 columns):\n",
      " #   Column        Non-Null Count   Dtype \n",
      "---  ------        --------------   ----- \n",
      " 0   raceId        551742 non-null  int64 \n",
      " 1   driverId      551742 non-null  int64 \n",
      " 2   lap           551742 non-null  int64 \n",
      " 3   position      551742 non-null  int64 \n",
      " 4   time          551742 non-null  object\n",
      " 5   milliseconds  551742 non-null  int64 \n",
      "dtypes: int64(5), object(1)\n",
      "memory usage: 25.3+ MB\n"
     ]
    }
   ],
   "source": [
    "df7.info()"
   ]
  },
  {
   "cell_type": "code",
   "execution_count": 66,
   "id": "07e8cc6b",
   "metadata": {},
   "outputs": [
    {
     "data": {
      "text/html": [
       "<div>\n",
       "<style scoped>\n",
       "    .dataframe tbody tr th:only-of-type {\n",
       "        vertical-align: middle;\n",
       "    }\n",
       "\n",
       "    .dataframe tbody tr th {\n",
       "        vertical-align: top;\n",
       "    }\n",
       "\n",
       "    .dataframe thead th {\n",
       "        text-align: right;\n",
       "    }\n",
       "</style>\n",
       "<table border=\"1\" class=\"dataframe\">\n",
       "  <thead>\n",
       "    <tr style=\"text-align: right;\">\n",
       "      <th></th>\n",
       "      <th>raceId</th>\n",
       "      <th>driverId</th>\n",
       "      <th>lap</th>\n",
       "      <th>position</th>\n",
       "      <th>time</th>\n",
       "      <th>milliseconds</th>\n",
       "    </tr>\n",
       "  </thead>\n",
       "  <tbody>\n",
       "    <tr>\n",
       "      <th>0</th>\n",
       "      <td>841</td>\n",
       "      <td>20</td>\n",
       "      <td>1</td>\n",
       "      <td>1</td>\n",
       "      <td>1:38.109</td>\n",
       "      <td>98109</td>\n",
       "    </tr>\n",
       "    <tr>\n",
       "      <th>1</th>\n",
       "      <td>841</td>\n",
       "      <td>20</td>\n",
       "      <td>2</td>\n",
       "      <td>1</td>\n",
       "      <td>1:33.006</td>\n",
       "      <td>93006</td>\n",
       "    </tr>\n",
       "    <tr>\n",
       "      <th>2</th>\n",
       "      <td>841</td>\n",
       "      <td>20</td>\n",
       "      <td>3</td>\n",
       "      <td>1</td>\n",
       "      <td>1:32.713</td>\n",
       "      <td>92713</td>\n",
       "    </tr>\n",
       "    <tr>\n",
       "      <th>3</th>\n",
       "      <td>841</td>\n",
       "      <td>20</td>\n",
       "      <td>4</td>\n",
       "      <td>1</td>\n",
       "      <td>1:32.803</td>\n",
       "      <td>92803</td>\n",
       "    </tr>\n",
       "    <tr>\n",
       "      <th>4</th>\n",
       "      <td>841</td>\n",
       "      <td>20</td>\n",
       "      <td>5</td>\n",
       "      <td>1</td>\n",
       "      <td>1:32.342</td>\n",
       "      <td>92342</td>\n",
       "    </tr>\n",
       "  </tbody>\n",
       "</table>\n",
       "</div>"
      ],
      "text/plain": [
       "   raceId  driverId  lap  position      time  milliseconds\n",
       "0     841        20    1         1  1:38.109         98109\n",
       "1     841        20    2         1  1:33.006         93006\n",
       "2     841        20    3         1  1:32.713         92713\n",
       "3     841        20    4         1  1:32.803         92803\n",
       "4     841        20    5         1  1:32.342         92342"
      ]
     },
     "execution_count": 66,
     "metadata": {},
     "output_type": "execute_result"
    }
   ],
   "source": [
    "#No null values seen\n",
    "df7.head()"
   ]
  },
  {
   "cell_type": "code",
   "execution_count": 67,
   "id": "d913aba9",
   "metadata": {},
   "outputs": [
    {
     "data": {
      "text/plain": [
       "8372    7507547\n",
       "8020    7506656\n",
       "8426    7506243\n",
       "8621    7506095\n",
       "7916    7505152\n",
       "Name: milliseconds, dtype: int64"
      ]
     },
     "execution_count": 67,
     "metadata": {},
     "output_type": "execute_result"
    }
   ],
   "source": [
    "df7['milliseconds'].nlargest(5)"
   ]
  },
  {
   "cell_type": "code",
   "execution_count": 68,
   "id": "91ba36e6",
   "metadata": {},
   "outputs": [],
   "source": [
    "#Not dropping milliseconds yet, might help in plotting graphs later\n",
    "#Time is a string, changing it to time format\n",
    "#Since some entries in the time columns are of the format='%H:%M:%S.%f' while some of format='%M:%S.%f' \n",
    "# I got an error while using df7['time'] = pd.to_datetime(df7['time'], format='%H:%M:%S.%f')"
   ]
  },
  {
   "cell_type": "code",
   "execution_count": 69,
   "id": "954e6363",
   "metadata": {},
   "outputs": [],
   "source": [
    "#Converting milliseconds column to timedelta\n",
    "df7['time_delta'] = df7['milliseconds'].apply(lambda x: pd.to_timedelta(x, unit='ms'))"
   ]
  },
  {
   "cell_type": "code",
   "execution_count": 70,
   "id": "79152f3e",
   "metadata": {},
   "outputs": [
    {
     "name": "stdout",
     "output_type": "stream",
     "text": [
      "<class 'pandas.core.frame.DataFrame'>\n",
      "RangeIndex: 551742 entries, 0 to 551741\n",
      "Data columns (total 7 columns):\n",
      " #   Column        Non-Null Count   Dtype          \n",
      "---  ------        --------------   -----          \n",
      " 0   raceId        551742 non-null  int64          \n",
      " 1   driverId      551742 non-null  int64          \n",
      " 2   lap           551742 non-null  int64          \n",
      " 3   position      551742 non-null  int64          \n",
      " 4   time          551742 non-null  object         \n",
      " 5   milliseconds  551742 non-null  int64          \n",
      " 6   time_delta    551742 non-null  timedelta64[ns]\n",
      "dtypes: int64(5), object(1), timedelta64[ns](1)\n",
      "memory usage: 29.5+ MB\n"
     ]
    }
   ],
   "source": [
    "df7.info()"
   ]
  },
  {
   "cell_type": "code",
   "execution_count": 71,
   "id": "8029c465",
   "metadata": {},
   "outputs": [
    {
     "data": {
      "text/html": [
       "<div>\n",
       "<style scoped>\n",
       "    .dataframe tbody tr th:only-of-type {\n",
       "        vertical-align: middle;\n",
       "    }\n",
       "\n",
       "    .dataframe tbody tr th {\n",
       "        vertical-align: top;\n",
       "    }\n",
       "\n",
       "    .dataframe thead th {\n",
       "        text-align: right;\n",
       "    }\n",
       "</style>\n",
       "<table border=\"1\" class=\"dataframe\">\n",
       "  <thead>\n",
       "    <tr style=\"text-align: right;\">\n",
       "      <th></th>\n",
       "      <th>raceId</th>\n",
       "      <th>driverId</th>\n",
       "      <th>lap</th>\n",
       "      <th>position</th>\n",
       "      <th>time</th>\n",
       "      <th>milliseconds</th>\n",
       "      <th>time_delta</th>\n",
       "    </tr>\n",
       "  </thead>\n",
       "  <tbody>\n",
       "    <tr>\n",
       "      <th>0</th>\n",
       "      <td>841</td>\n",
       "      <td>20</td>\n",
       "      <td>1</td>\n",
       "      <td>1</td>\n",
       "      <td>1:38.109</td>\n",
       "      <td>98109</td>\n",
       "      <td>0 days 00:01:38.109000</td>\n",
       "    </tr>\n",
       "    <tr>\n",
       "      <th>1</th>\n",
       "      <td>841</td>\n",
       "      <td>20</td>\n",
       "      <td>2</td>\n",
       "      <td>1</td>\n",
       "      <td>1:33.006</td>\n",
       "      <td>93006</td>\n",
       "      <td>0 days 00:01:33.006000</td>\n",
       "    </tr>\n",
       "  </tbody>\n",
       "</table>\n",
       "</div>"
      ],
      "text/plain": [
       "   raceId  driverId  lap  position      time  milliseconds  \\\n",
       "0     841        20    1         1  1:38.109         98109   \n",
       "1     841        20    2         1  1:33.006         93006   \n",
       "\n",
       "              time_delta  \n",
       "0 0 days 00:01:38.109000  \n",
       "1 0 days 00:01:33.006000  "
      ]
     },
     "execution_count": 71,
     "metadata": {},
     "output_type": "execute_result"
    }
   ],
   "source": [
    "df7.head(2)"
   ]
  },
  {
   "cell_type": "code",
   "execution_count": 72,
   "id": "211e8492",
   "metadata": {},
   "outputs": [],
   "source": [
    "df7.drop(columns={'time'}, inplace=True)"
   ]
  },
  {
   "cell_type": "code",
   "execution_count": 73,
   "id": "e768b4d9",
   "metadata": {},
   "outputs": [],
   "source": [
    "df7.rename(columns={'time_delta': 'time'}, inplace=True)"
   ]
  },
  {
   "cell_type": "code",
   "execution_count": 74,
   "id": "fa324865",
   "metadata": {},
   "outputs": [
    {
     "data": {
      "text/plain": [
       "8372   0 days 02:05:07.547000\n",
       "8020   0 days 02:05:06.656000\n",
       "8426   0 days 02:05:06.243000\n",
       "8621   0 days 02:05:06.095000\n",
       "7916   0 days 02:05:05.152000\n",
       "Name: time, dtype: timedelta64[ns]"
      ]
     },
     "execution_count": 74,
     "metadata": {},
     "output_type": "execute_result"
    }
   ],
   "source": [
    "df7['time'].nlargest()"
   ]
  },
  {
   "cell_type": "code",
   "execution_count": 75,
   "id": "93b27fa4",
   "metadata": {},
   "outputs": [
    {
     "data": {
      "text/html": [
       "<div>\n",
       "<style scoped>\n",
       "    .dataframe tbody tr th:only-of-type {\n",
       "        vertical-align: middle;\n",
       "    }\n",
       "\n",
       "    .dataframe tbody tr th {\n",
       "        vertical-align: top;\n",
       "    }\n",
       "\n",
       "    .dataframe thead th {\n",
       "        text-align: right;\n",
       "    }\n",
       "</style>\n",
       "<table border=\"1\" class=\"dataframe\">\n",
       "  <thead>\n",
       "    <tr style=\"text-align: right;\">\n",
       "      <th></th>\n",
       "      <th>raceId</th>\n",
       "      <th>driverId</th>\n",
       "      <th>lap</th>\n",
       "      <th>position</th>\n",
       "      <th>milliseconds</th>\n",
       "      <th>time</th>\n",
       "    </tr>\n",
       "  </thead>\n",
       "  <tbody>\n",
       "    <tr>\n",
       "      <th>0</th>\n",
       "      <td>841</td>\n",
       "      <td>20</td>\n",
       "      <td>1</td>\n",
       "      <td>1</td>\n",
       "      <td>98109</td>\n",
       "      <td>0 days 00:01:38.109000</td>\n",
       "    </tr>\n",
       "    <tr>\n",
       "      <th>1</th>\n",
       "      <td>841</td>\n",
       "      <td>20</td>\n",
       "      <td>2</td>\n",
       "      <td>1</td>\n",
       "      <td>93006</td>\n",
       "      <td>0 days 00:01:33.006000</td>\n",
       "    </tr>\n",
       "  </tbody>\n",
       "</table>\n",
       "</div>"
      ],
      "text/plain": [
       "   raceId  driverId  lap  position  milliseconds                   time\n",
       "0     841        20    1         1         98109 0 days 00:01:38.109000\n",
       "1     841        20    2         1         93006 0 days 00:01:33.006000"
      ]
     },
     "execution_count": 75,
     "metadata": {},
     "output_type": "execute_result"
    }
   ],
   "source": [
    "df7.head(2)"
   ]
  },
  {
   "cell_type": "code",
   "execution_count": 76,
   "id": "fd62d077",
   "metadata": {},
   "outputs": [],
   "source": [
    "#File 8) pit_stops.csv\n",
    "df8=pd.read_csv(r\"C:\\Users\\sulet\\Desktop\\F1_History\\pit_stops.csv\")"
   ]
  },
  {
   "cell_type": "code",
   "execution_count": 77,
   "id": "f5a3fb95",
   "metadata": {},
   "outputs": [
    {
     "name": "stdout",
     "output_type": "stream",
     "text": [
      "<class 'pandas.core.frame.DataFrame'>\n",
      "RangeIndex: 10089 entries, 0 to 10088\n",
      "Data columns (total 7 columns):\n",
      " #   Column        Non-Null Count  Dtype \n",
      "---  ------        --------------  ----- \n",
      " 0   raceId        10089 non-null  int64 \n",
      " 1   driverId      10089 non-null  int64 \n",
      " 2   stop          10089 non-null  int64 \n",
      " 3   lap           10089 non-null  int64 \n",
      " 4   time          10089 non-null  object\n",
      " 5   duration      10089 non-null  object\n",
      " 6   milliseconds  10089 non-null  int64 \n",
      "dtypes: int64(5), object(2)\n",
      "memory usage: 551.9+ KB\n"
     ]
    }
   ],
   "source": [
    "df8.info()"
   ]
  },
  {
   "cell_type": "code",
   "execution_count": 78,
   "id": "60160a8e",
   "metadata": {},
   "outputs": [
    {
     "data": {
      "text/html": [
       "<div>\n",
       "<style scoped>\n",
       "    .dataframe tbody tr th:only-of-type {\n",
       "        vertical-align: middle;\n",
       "    }\n",
       "\n",
       "    .dataframe tbody tr th {\n",
       "        vertical-align: top;\n",
       "    }\n",
       "\n",
       "    .dataframe thead th {\n",
       "        text-align: right;\n",
       "    }\n",
       "</style>\n",
       "<table border=\"1\" class=\"dataframe\">\n",
       "  <thead>\n",
       "    <tr style=\"text-align: right;\">\n",
       "      <th></th>\n",
       "      <th>raceId</th>\n",
       "      <th>driverId</th>\n",
       "      <th>stop</th>\n",
       "      <th>lap</th>\n",
       "      <th>time</th>\n",
       "      <th>duration</th>\n",
       "      <th>milliseconds</th>\n",
       "    </tr>\n",
       "  </thead>\n",
       "  <tbody>\n",
       "    <tr>\n",
       "      <th>0</th>\n",
       "      <td>841</td>\n",
       "      <td>153</td>\n",
       "      <td>1</td>\n",
       "      <td>1</td>\n",
       "      <td>17:05:23</td>\n",
       "      <td>26.898</td>\n",
       "      <td>26898</td>\n",
       "    </tr>\n",
       "    <tr>\n",
       "      <th>1</th>\n",
       "      <td>841</td>\n",
       "      <td>30</td>\n",
       "      <td>1</td>\n",
       "      <td>1</td>\n",
       "      <td>17:05:52</td>\n",
       "      <td>25.021</td>\n",
       "      <td>25021</td>\n",
       "    </tr>\n",
       "    <tr>\n",
       "      <th>2</th>\n",
       "      <td>841</td>\n",
       "      <td>17</td>\n",
       "      <td>1</td>\n",
       "      <td>11</td>\n",
       "      <td>17:20:48</td>\n",
       "      <td>23.426</td>\n",
       "      <td>23426</td>\n",
       "    </tr>\n",
       "    <tr>\n",
       "      <th>3</th>\n",
       "      <td>841</td>\n",
       "      <td>4</td>\n",
       "      <td>1</td>\n",
       "      <td>12</td>\n",
       "      <td>17:22:34</td>\n",
       "      <td>23.251</td>\n",
       "      <td>23251</td>\n",
       "    </tr>\n",
       "    <tr>\n",
       "      <th>4</th>\n",
       "      <td>841</td>\n",
       "      <td>13</td>\n",
       "      <td>1</td>\n",
       "      <td>13</td>\n",
       "      <td>17:24:10</td>\n",
       "      <td>23.842</td>\n",
       "      <td>23842</td>\n",
       "    </tr>\n",
       "    <tr>\n",
       "      <th>5</th>\n",
       "      <td>841</td>\n",
       "      <td>22</td>\n",
       "      <td>1</td>\n",
       "      <td>13</td>\n",
       "      <td>17:24:29</td>\n",
       "      <td>23.643</td>\n",
       "      <td>23643</td>\n",
       "    </tr>\n",
       "    <tr>\n",
       "      <th>6</th>\n",
       "      <td>841</td>\n",
       "      <td>20</td>\n",
       "      <td>1</td>\n",
       "      <td>14</td>\n",
       "      <td>17:25:17</td>\n",
       "      <td>22.603</td>\n",
       "      <td>22603</td>\n",
       "    </tr>\n",
       "    <tr>\n",
       "      <th>7</th>\n",
       "      <td>841</td>\n",
       "      <td>814</td>\n",
       "      <td>1</td>\n",
       "      <td>14</td>\n",
       "      <td>17:26:03</td>\n",
       "      <td>24.863</td>\n",
       "      <td>24863</td>\n",
       "    </tr>\n",
       "    <tr>\n",
       "      <th>8</th>\n",
       "      <td>841</td>\n",
       "      <td>816</td>\n",
       "      <td>1</td>\n",
       "      <td>14</td>\n",
       "      <td>17:26:50</td>\n",
       "      <td>25.259</td>\n",
       "      <td>25259</td>\n",
       "    </tr>\n",
       "    <tr>\n",
       "      <th>9</th>\n",
       "      <td>841</td>\n",
       "      <td>67</td>\n",
       "      <td>1</td>\n",
       "      <td>15</td>\n",
       "      <td>17:27:34</td>\n",
       "      <td>25.342</td>\n",
       "      <td>25342</td>\n",
       "    </tr>\n",
       "  </tbody>\n",
       "</table>\n",
       "</div>"
      ],
      "text/plain": [
       "   raceId  driverId  stop  lap      time duration  milliseconds\n",
       "0     841       153     1    1  17:05:23   26.898         26898\n",
       "1     841        30     1    1  17:05:52   25.021         25021\n",
       "2     841        17     1   11  17:20:48   23.426         23426\n",
       "3     841         4     1   12  17:22:34   23.251         23251\n",
       "4     841        13     1   13  17:24:10   23.842         23842\n",
       "5     841        22     1   13  17:24:29   23.643         23643\n",
       "6     841        20     1   14  17:25:17   22.603         22603\n",
       "7     841       814     1   14  17:26:03   24.863         24863\n",
       "8     841       816     1   14  17:26:50   25.259         25259\n",
       "9     841        67     1   15  17:27:34   25.342         25342"
      ]
     },
     "execution_count": 78,
     "metadata": {},
     "output_type": "execute_result"
    }
   ],
   "source": [
    "df8.head(10)"
   ]
  },
  {
   "cell_type": "code",
   "execution_count": 79,
   "id": "aa1ed900",
   "metadata": {},
   "outputs": [],
   "source": [
    "#Here, time denotes the time at which driver entered the pit\n",
    "#duration is the time lost in the pit lane\n",
    "#We can drop time & duration and convert milliseconds to time_delta (if required)"
   ]
  },
  {
   "cell_type": "code",
   "execution_count": 80,
   "id": "9f113545",
   "metadata": {},
   "outputs": [],
   "source": [
    "df8.drop(columns={'time', 'duration'}, inplace=True)"
   ]
  },
  {
   "cell_type": "code",
   "execution_count": 81,
   "id": "8bf026e2",
   "metadata": {},
   "outputs": [
    {
     "data": {
      "text/plain": [
       "9156    3069017\n",
       "9155    3067301\n",
       "9157    3065174\n",
       "9154    3063613\n",
       "9152    3063314\n",
       "Name: milliseconds, dtype: int64"
      ]
     },
     "execution_count": 81,
     "metadata": {},
     "output_type": "execute_result"
    }
   ],
   "source": [
    "df8['milliseconds'].nlargest()"
   ]
  },
  {
   "cell_type": "code",
   "execution_count": 82,
   "id": "185e6424",
   "metadata": {},
   "outputs": [],
   "source": [
    "#Pretty large pit stops can be seen, indicating major repairs, or incidents"
   ]
  },
  {
   "cell_type": "code",
   "execution_count": 83,
   "id": "914ced06",
   "metadata": {},
   "outputs": [
    {
     "data": {
      "text/html": [
       "<div>\n",
       "<style scoped>\n",
       "    .dataframe tbody tr th:only-of-type {\n",
       "        vertical-align: middle;\n",
       "    }\n",
       "\n",
       "    .dataframe tbody tr th {\n",
       "        vertical-align: top;\n",
       "    }\n",
       "\n",
       "    .dataframe thead th {\n",
       "        text-align: right;\n",
       "    }\n",
       "</style>\n",
       "<table border=\"1\" class=\"dataframe\">\n",
       "  <thead>\n",
       "    <tr style=\"text-align: right;\">\n",
       "      <th></th>\n",
       "      <th>raceId</th>\n",
       "      <th>driverId</th>\n",
       "      <th>stop</th>\n",
       "      <th>lap</th>\n",
       "      <th>milliseconds</th>\n",
       "    </tr>\n",
       "  </thead>\n",
       "  <tbody>\n",
       "    <tr>\n",
       "      <th>0</th>\n",
       "      <td>841</td>\n",
       "      <td>153</td>\n",
       "      <td>1</td>\n",
       "      <td>1</td>\n",
       "      <td>26898</td>\n",
       "    </tr>\n",
       "    <tr>\n",
       "      <th>1</th>\n",
       "      <td>841</td>\n",
       "      <td>30</td>\n",
       "      <td>1</td>\n",
       "      <td>1</td>\n",
       "      <td>25021</td>\n",
       "    </tr>\n",
       "  </tbody>\n",
       "</table>\n",
       "</div>"
      ],
      "text/plain": [
       "   raceId  driverId  stop  lap  milliseconds\n",
       "0     841       153     1    1         26898\n",
       "1     841        30     1    1         25021"
      ]
     },
     "execution_count": 83,
     "metadata": {},
     "output_type": "execute_result"
    }
   ],
   "source": [
    "df8.head(2)"
   ]
  },
  {
   "cell_type": "code",
   "execution_count": 84,
   "id": "a95fc7ac",
   "metadata": {},
   "outputs": [],
   "source": [
    "#File 9) qualifying.csv\n",
    "df9=pd.read_csv(r\"C:\\Users\\sulet\\Desktop\\F1_History\\qualifying.csv\")"
   ]
  },
  {
   "cell_type": "code",
   "execution_count": 85,
   "id": "e5e4dc7a",
   "metadata": {},
   "outputs": [
    {
     "name": "stdout",
     "output_type": "stream",
     "text": [
      "<class 'pandas.core.frame.DataFrame'>\n",
      "RangeIndex: 9815 entries, 0 to 9814\n",
      "Data columns (total 9 columns):\n",
      " #   Column         Non-Null Count  Dtype \n",
      "---  ------         --------------  ----- \n",
      " 0   qualifyId      9815 non-null   int64 \n",
      " 1   raceId         9815 non-null   int64 \n",
      " 2   driverId       9815 non-null   int64 \n",
      " 3   constructorId  9815 non-null   int64 \n",
      " 4   number         9815 non-null   int64 \n",
      " 5   position       9815 non-null   int64 \n",
      " 6   q1             9807 non-null   object\n",
      " 7   q2             9651 non-null   object\n",
      " 8   q3             9488 non-null   object\n",
      "dtypes: int64(6), object(3)\n",
      "memory usage: 690.2+ KB\n"
     ]
    }
   ],
   "source": [
    "df9.info()"
   ]
  },
  {
   "cell_type": "code",
   "execution_count": 86,
   "id": "43e25843",
   "metadata": {},
   "outputs": [
    {
     "data": {
      "text/html": [
       "<div>\n",
       "<style scoped>\n",
       "    .dataframe tbody tr th:only-of-type {\n",
       "        vertical-align: middle;\n",
       "    }\n",
       "\n",
       "    .dataframe tbody tr th {\n",
       "        vertical-align: top;\n",
       "    }\n",
       "\n",
       "    .dataframe thead th {\n",
       "        text-align: right;\n",
       "    }\n",
       "</style>\n",
       "<table border=\"1\" class=\"dataframe\">\n",
       "  <thead>\n",
       "    <tr style=\"text-align: right;\">\n",
       "      <th></th>\n",
       "      <th>qualifyId</th>\n",
       "      <th>raceId</th>\n",
       "      <th>driverId</th>\n",
       "      <th>constructorId</th>\n",
       "      <th>number</th>\n",
       "      <th>position</th>\n",
       "      <th>q1</th>\n",
       "      <th>q2</th>\n",
       "      <th>q3</th>\n",
       "    </tr>\n",
       "  </thead>\n",
       "  <tbody>\n",
       "    <tr>\n",
       "      <th>0</th>\n",
       "      <td>1</td>\n",
       "      <td>18</td>\n",
       "      <td>1</td>\n",
       "      <td>1</td>\n",
       "      <td>22</td>\n",
       "      <td>1</td>\n",
       "      <td>1:26.572</td>\n",
       "      <td>1:25.187</td>\n",
       "      <td>1:26.714</td>\n",
       "    </tr>\n",
       "    <tr>\n",
       "      <th>1</th>\n",
       "      <td>2</td>\n",
       "      <td>18</td>\n",
       "      <td>9</td>\n",
       "      <td>2</td>\n",
       "      <td>4</td>\n",
       "      <td>2</td>\n",
       "      <td>1:26.103</td>\n",
       "      <td>1:25.315</td>\n",
       "      <td>1:26.869</td>\n",
       "    </tr>\n",
       "  </tbody>\n",
       "</table>\n",
       "</div>"
      ],
      "text/plain": [
       "   qualifyId  raceId  driverId  constructorId  number  position        q1  \\\n",
       "0          1      18         1              1      22         1  1:26.572   \n",
       "1          2      18         9              2       4         2  1:26.103   \n",
       "\n",
       "         q2        q3  \n",
       "0  1:25.187  1:26.714  \n",
       "1  1:25.315  1:26.869  "
      ]
     },
     "execution_count": 86,
     "metadata": {},
     "output_type": "execute_result"
    }
   ],
   "source": [
    "df9.head(2)"
   ]
  },
  {
   "cell_type": "code",
   "execution_count": 87,
   "id": "85f14ada",
   "metadata": {},
   "outputs": [],
   "source": [
    "# Replace '\\N' with '0:00:000' in columns 'q1', 'q2', and 'q3' of the DataFrame\n",
    "df9[['q1', 'q2', 'q3']] = df9[['q1', 'q2', 'q3']].replace('\\\\N', '0:00.000')"
   ]
  },
  {
   "cell_type": "code",
   "execution_count": 88,
   "id": "0519d4c6",
   "metadata": {},
   "outputs": [],
   "source": [
    "#Converting q1, q2, q3 from string to tome format\n",
    "df9['q1'] = pd.to_datetime(df9['q1'], format='%M:%S.%f')\n",
    "df9['q2'] = pd.to_datetime(df9['q2'], format='%M:%S.%f')\n",
    "df9['q3'] = pd.to_datetime(df9['q3'], format='%M:%S.%f')"
   ]
  },
  {
   "cell_type": "code",
   "execution_count": 89,
   "id": "f74f191a",
   "metadata": {},
   "outputs": [
    {
     "name": "stdout",
     "output_type": "stream",
     "text": [
      "<class 'pandas.core.frame.DataFrame'>\n",
      "RangeIndex: 9815 entries, 0 to 9814\n",
      "Data columns (total 9 columns):\n",
      " #   Column         Non-Null Count  Dtype         \n",
      "---  ------         --------------  -----         \n",
      " 0   qualifyId      9815 non-null   int64         \n",
      " 1   raceId         9815 non-null   int64         \n",
      " 2   driverId       9815 non-null   int64         \n",
      " 3   constructorId  9815 non-null   int64         \n",
      " 4   number         9815 non-null   int64         \n",
      " 5   position       9815 non-null   int64         \n",
      " 6   q1             9807 non-null   datetime64[ns]\n",
      " 7   q2             9651 non-null   datetime64[ns]\n",
      " 8   q3             9488 non-null   datetime64[ns]\n",
      "dtypes: datetime64[ns](3), int64(6)\n",
      "memory usage: 690.2 KB\n"
     ]
    }
   ],
   "source": [
    "df9.info()"
   ]
  },
  {
   "cell_type": "code",
   "execution_count": 90,
   "id": "6f46c077",
   "metadata": {},
   "outputs": [],
   "source": [
    "#File 10) races.csv\n",
    "df10=pd.read_csv(r\"C:\\Users\\sulet\\Desktop\\F1_History\\races.csv\")"
   ]
  },
  {
   "cell_type": "code",
   "execution_count": 91,
   "id": "f4e0dde0",
   "metadata": {},
   "outputs": [
    {
     "data": {
      "text/html": [
       "<div>\n",
       "<style scoped>\n",
       "    .dataframe tbody tr th:only-of-type {\n",
       "        vertical-align: middle;\n",
       "    }\n",
       "\n",
       "    .dataframe tbody tr th {\n",
       "        vertical-align: top;\n",
       "    }\n",
       "\n",
       "    .dataframe thead th {\n",
       "        text-align: right;\n",
       "    }\n",
       "</style>\n",
       "<table border=\"1\" class=\"dataframe\">\n",
       "  <thead>\n",
       "    <tr style=\"text-align: right;\">\n",
       "      <th></th>\n",
       "      <th>raceId</th>\n",
       "      <th>year</th>\n",
       "      <th>round</th>\n",
       "      <th>circuitId</th>\n",
       "      <th>name</th>\n",
       "      <th>date</th>\n",
       "      <th>time</th>\n",
       "      <th>url</th>\n",
       "      <th>fp1_date</th>\n",
       "      <th>fp1_time</th>\n",
       "      <th>fp2_date</th>\n",
       "      <th>fp2_time</th>\n",
       "      <th>fp3_date</th>\n",
       "      <th>fp3_time</th>\n",
       "      <th>quali_date</th>\n",
       "      <th>quali_time</th>\n",
       "      <th>sprint_date</th>\n",
       "      <th>sprint_time</th>\n",
       "    </tr>\n",
       "  </thead>\n",
       "  <tbody>\n",
       "    <tr>\n",
       "      <th>0</th>\n",
       "      <td>1</td>\n",
       "      <td>2009</td>\n",
       "      <td>1</td>\n",
       "      <td>1</td>\n",
       "      <td>Australian Grand Prix</td>\n",
       "      <td>2009-03-29</td>\n",
       "      <td>06:00:00</td>\n",
       "      <td>http://en.wikipedia.org/wiki/2009_Australian_G...</td>\n",
       "      <td>\\N</td>\n",
       "      <td>\\N</td>\n",
       "      <td>\\N</td>\n",
       "      <td>\\N</td>\n",
       "      <td>\\N</td>\n",
       "      <td>\\N</td>\n",
       "      <td>\\N</td>\n",
       "      <td>\\N</td>\n",
       "      <td>\\N</td>\n",
       "      <td>\\N</td>\n",
       "    </tr>\n",
       "    <tr>\n",
       "      <th>1</th>\n",
       "      <td>2</td>\n",
       "      <td>2009</td>\n",
       "      <td>2</td>\n",
       "      <td>2</td>\n",
       "      <td>Malaysian Grand Prix</td>\n",
       "      <td>2009-04-05</td>\n",
       "      <td>09:00:00</td>\n",
       "      <td>http://en.wikipedia.org/wiki/2009_Malaysian_Gr...</td>\n",
       "      <td>\\N</td>\n",
       "      <td>\\N</td>\n",
       "      <td>\\N</td>\n",
       "      <td>\\N</td>\n",
       "      <td>\\N</td>\n",
       "      <td>\\N</td>\n",
       "      <td>\\N</td>\n",
       "      <td>\\N</td>\n",
       "      <td>\\N</td>\n",
       "      <td>\\N</td>\n",
       "    </tr>\n",
       "  </tbody>\n",
       "</table>\n",
       "</div>"
      ],
      "text/plain": [
       "   raceId  year  round  circuitId                   name        date  \\\n",
       "0       1  2009      1          1  Australian Grand Prix  2009-03-29   \n",
       "1       2  2009      2          2   Malaysian Grand Prix  2009-04-05   \n",
       "\n",
       "       time                                                url fp1_date  \\\n",
       "0  06:00:00  http://en.wikipedia.org/wiki/2009_Australian_G...       \\N   \n",
       "1  09:00:00  http://en.wikipedia.org/wiki/2009_Malaysian_Gr...       \\N   \n",
       "\n",
       "  fp1_time fp2_date fp2_time fp3_date fp3_time quali_date quali_time  \\\n",
       "0       \\N       \\N       \\N       \\N       \\N         \\N         \\N   \n",
       "1       \\N       \\N       \\N       \\N       \\N         \\N         \\N   \n",
       "\n",
       "  sprint_date sprint_time  \n",
       "0          \\N          \\N  \n",
       "1          \\N          \\N  "
      ]
     },
     "execution_count": 91,
     "metadata": {},
     "output_type": "execute_result"
    }
   ],
   "source": [
    "df10.head(2)"
   ]
  },
  {
   "cell_type": "code",
   "execution_count": 92,
   "id": "eead2099",
   "metadata": {},
   "outputs": [],
   "source": [
    "#Slicing useful columns\n",
    "df10 = df10.iloc[:, 0:4]"
   ]
  },
  {
   "cell_type": "code",
   "execution_count": 93,
   "id": "57ee0150",
   "metadata": {},
   "outputs": [
    {
     "data": {
      "text/html": [
       "<div>\n",
       "<style scoped>\n",
       "    .dataframe tbody tr th:only-of-type {\n",
       "        vertical-align: middle;\n",
       "    }\n",
       "\n",
       "    .dataframe tbody tr th {\n",
       "        vertical-align: top;\n",
       "    }\n",
       "\n",
       "    .dataframe thead th {\n",
       "        text-align: right;\n",
       "    }\n",
       "</style>\n",
       "<table border=\"1\" class=\"dataframe\">\n",
       "  <thead>\n",
       "    <tr style=\"text-align: right;\">\n",
       "      <th></th>\n",
       "      <th>raceId</th>\n",
       "      <th>year</th>\n",
       "      <th>round</th>\n",
       "      <th>circuitId</th>\n",
       "    </tr>\n",
       "  </thead>\n",
       "  <tbody>\n",
       "    <tr>\n",
       "      <th>0</th>\n",
       "      <td>1</td>\n",
       "      <td>2009</td>\n",
       "      <td>1</td>\n",
       "      <td>1</td>\n",
       "    </tr>\n",
       "    <tr>\n",
       "      <th>1</th>\n",
       "      <td>2</td>\n",
       "      <td>2009</td>\n",
       "      <td>2</td>\n",
       "      <td>2</td>\n",
       "    </tr>\n",
       "  </tbody>\n",
       "</table>\n",
       "</div>"
      ],
      "text/plain": [
       "   raceId  year  round  circuitId\n",
       "0       1  2009      1          1\n",
       "1       2  2009      2          2"
      ]
     },
     "execution_count": 93,
     "metadata": {},
     "output_type": "execute_result"
    }
   ],
   "source": [
    "df10.head(2)"
   ]
  },
  {
   "cell_type": "code",
   "execution_count": 94,
   "id": "01e8edf3",
   "metadata": {},
   "outputs": [],
   "source": [
    "# File 11)\n",
    "df11=pd.read_csv(r\"C:\\Users\\sulet\\Desktop\\F1_History\\results.csv\")"
   ]
  },
  {
   "cell_type": "code",
   "execution_count": 95,
   "id": "bd026112",
   "metadata": {},
   "outputs": [
    {
     "name": "stdout",
     "output_type": "stream",
     "text": [
      "<class 'pandas.core.frame.DataFrame'>\n",
      "RangeIndex: 26080 entries, 0 to 26079\n",
      "Data columns (total 18 columns):\n",
      " #   Column           Non-Null Count  Dtype  \n",
      "---  ------           --------------  -----  \n",
      " 0   resultId         26080 non-null  int64  \n",
      " 1   raceId           26080 non-null  int64  \n",
      " 2   driverId         26080 non-null  int64  \n",
      " 3   constructorId    26080 non-null  int64  \n",
      " 4   number           26080 non-null  object \n",
      " 5   grid             26080 non-null  int64  \n",
      " 6   position         26080 non-null  object \n",
      " 7   positionText     26080 non-null  object \n",
      " 8   positionOrder    26080 non-null  int64  \n",
      " 9   points           26080 non-null  float64\n",
      " 10  laps             26080 non-null  int64  \n",
      " 11  time             26080 non-null  object \n",
      " 12  milliseconds     26080 non-null  object \n",
      " 13  fastestLap       26080 non-null  object \n",
      " 14  rank             26080 non-null  object \n",
      " 15  fastestLapTime   26080 non-null  object \n",
      " 16  fastestLapSpeed  26080 non-null  object \n",
      " 17  statusId         26080 non-null  int64  \n",
      "dtypes: float64(1), int64(8), object(9)\n",
      "memory usage: 3.6+ MB\n"
     ]
    }
   ],
   "source": [
    "df11.info()"
   ]
  },
  {
   "cell_type": "code",
   "execution_count": 96,
   "id": "6ecff94b",
   "metadata": {},
   "outputs": [
    {
     "data": {
      "text/html": [
       "<div>\n",
       "<style scoped>\n",
       "    .dataframe tbody tr th:only-of-type {\n",
       "        vertical-align: middle;\n",
       "    }\n",
       "\n",
       "    .dataframe tbody tr th {\n",
       "        vertical-align: top;\n",
       "    }\n",
       "\n",
       "    .dataframe thead th {\n",
       "        text-align: right;\n",
       "    }\n",
       "</style>\n",
       "<table border=\"1\" class=\"dataframe\">\n",
       "  <thead>\n",
       "    <tr style=\"text-align: right;\">\n",
       "      <th></th>\n",
       "      <th>resultId</th>\n",
       "      <th>raceId</th>\n",
       "      <th>driverId</th>\n",
       "      <th>constructorId</th>\n",
       "      <th>number</th>\n",
       "      <th>grid</th>\n",
       "      <th>position</th>\n",
       "      <th>positionText</th>\n",
       "      <th>positionOrder</th>\n",
       "      <th>points</th>\n",
       "      <th>laps</th>\n",
       "      <th>time</th>\n",
       "      <th>milliseconds</th>\n",
       "      <th>fastestLap</th>\n",
       "      <th>rank</th>\n",
       "      <th>fastestLapTime</th>\n",
       "      <th>fastestLapSpeed</th>\n",
       "      <th>statusId</th>\n",
       "    </tr>\n",
       "  </thead>\n",
       "  <tbody>\n",
       "    <tr>\n",
       "      <th>0</th>\n",
       "      <td>1</td>\n",
       "      <td>18</td>\n",
       "      <td>1</td>\n",
       "      <td>1</td>\n",
       "      <td>22</td>\n",
       "      <td>1</td>\n",
       "      <td>1</td>\n",
       "      <td>1</td>\n",
       "      <td>1</td>\n",
       "      <td>10.0</td>\n",
       "      <td>58</td>\n",
       "      <td>1:34:50.616</td>\n",
       "      <td>5690616</td>\n",
       "      <td>39</td>\n",
       "      <td>2</td>\n",
       "      <td>1:27.452</td>\n",
       "      <td>218.300</td>\n",
       "      <td>1</td>\n",
       "    </tr>\n",
       "    <tr>\n",
       "      <th>1</th>\n",
       "      <td>2</td>\n",
       "      <td>18</td>\n",
       "      <td>2</td>\n",
       "      <td>2</td>\n",
       "      <td>3</td>\n",
       "      <td>5</td>\n",
       "      <td>2</td>\n",
       "      <td>2</td>\n",
       "      <td>2</td>\n",
       "      <td>8.0</td>\n",
       "      <td>58</td>\n",
       "      <td>+5.478</td>\n",
       "      <td>5696094</td>\n",
       "      <td>41</td>\n",
       "      <td>3</td>\n",
       "      <td>1:27.739</td>\n",
       "      <td>217.586</td>\n",
       "      <td>1</td>\n",
       "    </tr>\n",
       "    <tr>\n",
       "      <th>2</th>\n",
       "      <td>3</td>\n",
       "      <td>18</td>\n",
       "      <td>3</td>\n",
       "      <td>3</td>\n",
       "      <td>7</td>\n",
       "      <td>7</td>\n",
       "      <td>3</td>\n",
       "      <td>3</td>\n",
       "      <td>3</td>\n",
       "      <td>6.0</td>\n",
       "      <td>58</td>\n",
       "      <td>+8.163</td>\n",
       "      <td>5698779</td>\n",
       "      <td>41</td>\n",
       "      <td>5</td>\n",
       "      <td>1:28.090</td>\n",
       "      <td>216.719</td>\n",
       "      <td>1</td>\n",
       "    </tr>\n",
       "    <tr>\n",
       "      <th>3</th>\n",
       "      <td>4</td>\n",
       "      <td>18</td>\n",
       "      <td>4</td>\n",
       "      <td>4</td>\n",
       "      <td>5</td>\n",
       "      <td>11</td>\n",
       "      <td>4</td>\n",
       "      <td>4</td>\n",
       "      <td>4</td>\n",
       "      <td>5.0</td>\n",
       "      <td>58</td>\n",
       "      <td>+17.181</td>\n",
       "      <td>5707797</td>\n",
       "      <td>58</td>\n",
       "      <td>7</td>\n",
       "      <td>1:28.603</td>\n",
       "      <td>215.464</td>\n",
       "      <td>1</td>\n",
       "    </tr>\n",
       "    <tr>\n",
       "      <th>4</th>\n",
       "      <td>5</td>\n",
       "      <td>18</td>\n",
       "      <td>5</td>\n",
       "      <td>1</td>\n",
       "      <td>23</td>\n",
       "      <td>3</td>\n",
       "      <td>5</td>\n",
       "      <td>5</td>\n",
       "      <td>5</td>\n",
       "      <td>4.0</td>\n",
       "      <td>58</td>\n",
       "      <td>+18.014</td>\n",
       "      <td>5708630</td>\n",
       "      <td>43</td>\n",
       "      <td>1</td>\n",
       "      <td>1:27.418</td>\n",
       "      <td>218.385</td>\n",
       "      <td>1</td>\n",
       "    </tr>\n",
       "  </tbody>\n",
       "</table>\n",
       "</div>"
      ],
      "text/plain": [
       "   resultId  raceId  driverId  constructorId number  grid position  \\\n",
       "0         1      18         1              1     22     1        1   \n",
       "1         2      18         2              2      3     5        2   \n",
       "2         3      18         3              3      7     7        3   \n",
       "3         4      18         4              4      5    11        4   \n",
       "4         5      18         5              1     23     3        5   \n",
       "\n",
       "  positionText  positionOrder  points  laps         time milliseconds  \\\n",
       "0            1              1    10.0    58  1:34:50.616      5690616   \n",
       "1            2              2     8.0    58       +5.478      5696094   \n",
       "2            3              3     6.0    58       +8.163      5698779   \n",
       "3            4              4     5.0    58      +17.181      5707797   \n",
       "4            5              5     4.0    58      +18.014      5708630   \n",
       "\n",
       "  fastestLap rank fastestLapTime fastestLapSpeed  statusId  \n",
       "0         39    2       1:27.452         218.300         1  \n",
       "1         41    3       1:27.739         217.586         1  \n",
       "2         41    5       1:28.090         216.719         1  \n",
       "3         58    7       1:28.603         215.464         1  \n",
       "4         43    1       1:27.418         218.385         1  "
      ]
     },
     "execution_count": 96,
     "metadata": {},
     "output_type": "execute_result"
    }
   ],
   "source": [
    "df11.head()"
   ]
  },
  {
   "cell_type": "code",
   "execution_count": 97,
   "id": "d4a19a04",
   "metadata": {},
   "outputs": [],
   "source": [
    "#Dropping position and positionText because positionOrder has all Integers\n",
    "#Dropping time, because handling milliseconds would be easier\n",
    "df11.drop(columns={'position', 'positionText', 'time', 'number'}, inplace=True)"
   ]
  },
  {
   "cell_type": "code",
   "execution_count": 98,
   "id": "c634ee78",
   "metadata": {},
   "outputs": [
    {
     "data": {
      "text/html": [
       "<div>\n",
       "<style scoped>\n",
       "    .dataframe tbody tr th:only-of-type {\n",
       "        vertical-align: middle;\n",
       "    }\n",
       "\n",
       "    .dataframe tbody tr th {\n",
       "        vertical-align: top;\n",
       "    }\n",
       "\n",
       "    .dataframe thead th {\n",
       "        text-align: right;\n",
       "    }\n",
       "</style>\n",
       "<table border=\"1\" class=\"dataframe\">\n",
       "  <thead>\n",
       "    <tr style=\"text-align: right;\">\n",
       "      <th></th>\n",
       "      <th>resultId</th>\n",
       "      <th>raceId</th>\n",
       "      <th>driverId</th>\n",
       "      <th>constructorId</th>\n",
       "      <th>grid</th>\n",
       "      <th>positionOrder</th>\n",
       "      <th>points</th>\n",
       "      <th>laps</th>\n",
       "      <th>milliseconds</th>\n",
       "      <th>fastestLap</th>\n",
       "      <th>rank</th>\n",
       "      <th>fastestLapTime</th>\n",
       "      <th>fastestLapSpeed</th>\n",
       "      <th>statusId</th>\n",
       "    </tr>\n",
       "  </thead>\n",
       "  <tbody>\n",
       "    <tr>\n",
       "      <th>0</th>\n",
       "      <td>1</td>\n",
       "      <td>18</td>\n",
       "      <td>1</td>\n",
       "      <td>1</td>\n",
       "      <td>1</td>\n",
       "      <td>1</td>\n",
       "      <td>10.0</td>\n",
       "      <td>58</td>\n",
       "      <td>5690616</td>\n",
       "      <td>39</td>\n",
       "      <td>2</td>\n",
       "      <td>1:27.452</td>\n",
       "      <td>218.300</td>\n",
       "      <td>1</td>\n",
       "    </tr>\n",
       "    <tr>\n",
       "      <th>1</th>\n",
       "      <td>2</td>\n",
       "      <td>18</td>\n",
       "      <td>2</td>\n",
       "      <td>2</td>\n",
       "      <td>5</td>\n",
       "      <td>2</td>\n",
       "      <td>8.0</td>\n",
       "      <td>58</td>\n",
       "      <td>5696094</td>\n",
       "      <td>41</td>\n",
       "      <td>3</td>\n",
       "      <td>1:27.739</td>\n",
       "      <td>217.586</td>\n",
       "      <td>1</td>\n",
       "    </tr>\n",
       "  </tbody>\n",
       "</table>\n",
       "</div>"
      ],
      "text/plain": [
       "   resultId  raceId  driverId  constructorId  grid  positionOrder  points  \\\n",
       "0         1      18         1              1     1              1    10.0   \n",
       "1         2      18         2              2     5              2     8.0   \n",
       "\n",
       "   laps milliseconds fastestLap rank fastestLapTime fastestLapSpeed  statusId  \n",
       "0    58      5690616         39    2       1:27.452         218.300         1  \n",
       "1    58      5696094         41    3       1:27.739         217.586         1  "
      ]
     },
     "execution_count": 98,
     "metadata": {},
     "output_type": "execute_result"
    }
   ],
   "source": [
    "df11.head(2)"
   ]
  },
  {
   "cell_type": "code",
   "execution_count": 99,
   "id": "04a86266",
   "metadata": {},
   "outputs": [],
   "source": [
    "#Handling Missing Values \n",
    "# Replace '\\N' with '0' in columns milliseconds, fastestLap, rank & fastestLapSpeed\n",
    "df11[['milliseconds', 'fastestLap', 'rank', 'fastestLapSpeed']] = df11[['milliseconds', 'fastestLap', 'rank', 'fastestLapSpeed']].replace('\\\\N', '0')"
   ]
  },
  {
   "cell_type": "code",
   "execution_count": 100,
   "id": "d0045ea5",
   "metadata": {},
   "outputs": [],
   "source": [
    " # Replace '\\N' with '0:00.000' in column fastestLapTime\n",
    "df11[['fastestLapTime']] = df11[['fastestLapTime']].replace('\\\\N', '0:0.000')    "
   ]
  },
  {
   "cell_type": "code",
   "execution_count": 101,
   "id": "cd2afbcc",
   "metadata": {},
   "outputs": [],
   "source": [
    "#Converting column milliseconds, fastestLap, rank from string to int format\n",
    "df11[['milliseconds', 'fastestLap', 'rank']] = df11[['milliseconds', 'fastestLap', 'rank']].astype(int)"
   ]
  },
  {
   "cell_type": "code",
   "execution_count": 102,
   "id": "278d1287",
   "metadata": {},
   "outputs": [],
   "source": [
    "#Converting column fastestLapSpeed string to float format\n",
    "df11['fastestLapSpeed'] = df11['fastestLapSpeed'].astype(float)"
   ]
  },
  {
   "cell_type": "code",
   "execution_count": 103,
   "id": "0e450f11",
   "metadata": {},
   "outputs": [],
   "source": [
    "#Converting column fastestLapTime from string to time format\n",
    "df11['fastestLapTime'] = pd.to_datetime(df11['fastestLapTime'], format='%M:%S.%f')"
   ]
  },
  {
   "cell_type": "code",
   "execution_count": 104,
   "id": "86d9e934",
   "metadata": {},
   "outputs": [],
   "source": [
    "df11.rename(columns={'rank':'fastestLapRank'}, inplace=True)"
   ]
  },
  {
   "cell_type": "code",
   "execution_count": 105,
   "id": "b525fe20",
   "metadata": {},
   "outputs": [
    {
     "data": {
      "text/html": [
       "<div>\n",
       "<style scoped>\n",
       "    .dataframe tbody tr th:only-of-type {\n",
       "        vertical-align: middle;\n",
       "    }\n",
       "\n",
       "    .dataframe tbody tr th {\n",
       "        vertical-align: top;\n",
       "    }\n",
       "\n",
       "    .dataframe thead th {\n",
       "        text-align: right;\n",
       "    }\n",
       "</style>\n",
       "<table border=\"1\" class=\"dataframe\">\n",
       "  <thead>\n",
       "    <tr style=\"text-align: right;\">\n",
       "      <th></th>\n",
       "      <th>resultId</th>\n",
       "      <th>raceId</th>\n",
       "      <th>driverId</th>\n",
       "      <th>constructorId</th>\n",
       "      <th>grid</th>\n",
       "      <th>positionOrder</th>\n",
       "      <th>points</th>\n",
       "      <th>laps</th>\n",
       "      <th>milliseconds</th>\n",
       "      <th>fastestLap</th>\n",
       "      <th>fastestLapRank</th>\n",
       "      <th>fastestLapTime</th>\n",
       "      <th>fastestLapSpeed</th>\n",
       "      <th>statusId</th>\n",
       "    </tr>\n",
       "  </thead>\n",
       "  <tbody>\n",
       "    <tr>\n",
       "      <th>0</th>\n",
       "      <td>1</td>\n",
       "      <td>18</td>\n",
       "      <td>1</td>\n",
       "      <td>1</td>\n",
       "      <td>1</td>\n",
       "      <td>1</td>\n",
       "      <td>10.0</td>\n",
       "      <td>58</td>\n",
       "      <td>5690616</td>\n",
       "      <td>39</td>\n",
       "      <td>2</td>\n",
       "      <td>1900-01-01 00:01:27.452</td>\n",
       "      <td>218.300</td>\n",
       "      <td>1</td>\n",
       "    </tr>\n",
       "    <tr>\n",
       "      <th>1</th>\n",
       "      <td>2</td>\n",
       "      <td>18</td>\n",
       "      <td>2</td>\n",
       "      <td>2</td>\n",
       "      <td>5</td>\n",
       "      <td>2</td>\n",
       "      <td>8.0</td>\n",
       "      <td>58</td>\n",
       "      <td>5696094</td>\n",
       "      <td>41</td>\n",
       "      <td>3</td>\n",
       "      <td>1900-01-01 00:01:27.739</td>\n",
       "      <td>217.586</td>\n",
       "      <td>1</td>\n",
       "    </tr>\n",
       "  </tbody>\n",
       "</table>\n",
       "</div>"
      ],
      "text/plain": [
       "   resultId  raceId  driverId  constructorId  grid  positionOrder  points  \\\n",
       "0         1      18         1              1     1              1    10.0   \n",
       "1         2      18         2              2     5              2     8.0   \n",
       "\n",
       "   laps  milliseconds  fastestLap  fastestLapRank          fastestLapTime  \\\n",
       "0    58       5690616          39               2 1900-01-01 00:01:27.452   \n",
       "1    58       5696094          41               3 1900-01-01 00:01:27.739   \n",
       "\n",
       "   fastestLapSpeed  statusId  \n",
       "0          218.300         1  \n",
       "1          217.586         1  "
      ]
     },
     "execution_count": 105,
     "metadata": {},
     "output_type": "execute_result"
    }
   ],
   "source": [
    "df11.head(2)"
   ]
  },
  {
   "cell_type": "code",
   "execution_count": 106,
   "id": "61a2d151",
   "metadata": {},
   "outputs": [],
   "source": [
    "# Extract minute, seconds, and milliseconds\n",
    "df11['fastestLapTime'] = df11['fastestLapTime'].dt.strftime('%M:%S.%f').str.slice(0, -3)"
   ]
  },
  {
   "cell_type": "code",
   "execution_count": 107,
   "id": "bcfdcf84",
   "metadata": {},
   "outputs": [
    {
     "data": {
      "text/html": [
       "<div>\n",
       "<style scoped>\n",
       "    .dataframe tbody tr th:only-of-type {\n",
       "        vertical-align: middle;\n",
       "    }\n",
       "\n",
       "    .dataframe tbody tr th {\n",
       "        vertical-align: top;\n",
       "    }\n",
       "\n",
       "    .dataframe thead th {\n",
       "        text-align: right;\n",
       "    }\n",
       "</style>\n",
       "<table border=\"1\" class=\"dataframe\">\n",
       "  <thead>\n",
       "    <tr style=\"text-align: right;\">\n",
       "      <th></th>\n",
       "      <th>resultId</th>\n",
       "      <th>raceId</th>\n",
       "      <th>driverId</th>\n",
       "      <th>constructorId</th>\n",
       "      <th>grid</th>\n",
       "      <th>positionOrder</th>\n",
       "      <th>points</th>\n",
       "      <th>laps</th>\n",
       "      <th>milliseconds</th>\n",
       "      <th>fastestLap</th>\n",
       "      <th>fastestLapRank</th>\n",
       "      <th>fastestLapTime</th>\n",
       "      <th>fastestLapSpeed</th>\n",
       "      <th>statusId</th>\n",
       "    </tr>\n",
       "  </thead>\n",
       "  <tbody>\n",
       "    <tr>\n",
       "      <th>0</th>\n",
       "      <td>1</td>\n",
       "      <td>18</td>\n",
       "      <td>1</td>\n",
       "      <td>1</td>\n",
       "      <td>1</td>\n",
       "      <td>1</td>\n",
       "      <td>10.0</td>\n",
       "      <td>58</td>\n",
       "      <td>5690616</td>\n",
       "      <td>39</td>\n",
       "      <td>2</td>\n",
       "      <td>01:27.452</td>\n",
       "      <td>218.300</td>\n",
       "      <td>1</td>\n",
       "    </tr>\n",
       "    <tr>\n",
       "      <th>1</th>\n",
       "      <td>2</td>\n",
       "      <td>18</td>\n",
       "      <td>2</td>\n",
       "      <td>2</td>\n",
       "      <td>5</td>\n",
       "      <td>2</td>\n",
       "      <td>8.0</td>\n",
       "      <td>58</td>\n",
       "      <td>5696094</td>\n",
       "      <td>41</td>\n",
       "      <td>3</td>\n",
       "      <td>01:27.739</td>\n",
       "      <td>217.586</td>\n",
       "      <td>1</td>\n",
       "    </tr>\n",
       "  </tbody>\n",
       "</table>\n",
       "</div>"
      ],
      "text/plain": [
       "   resultId  raceId  driverId  constructorId  grid  positionOrder  points  \\\n",
       "0         1      18         1              1     1              1    10.0   \n",
       "1         2      18         2              2     5              2     8.0   \n",
       "\n",
       "   laps  milliseconds  fastestLap  fastestLapRank fastestLapTime  \\\n",
       "0    58       5690616          39               2      01:27.452   \n",
       "1    58       5696094          41               3      01:27.739   \n",
       "\n",
       "   fastestLapSpeed  statusId  \n",
       "0          218.300         1  \n",
       "1          217.586         1  "
      ]
     },
     "execution_count": 107,
     "metadata": {},
     "output_type": "execute_result"
    }
   ],
   "source": [
    "df11.head(2)"
   ]
  },
  {
   "cell_type": "code",
   "execution_count": 108,
   "id": "3909e894",
   "metadata": {},
   "outputs": [],
   "source": [
    "#File 12) seasons.csv\n",
    "df12=pd.read_csv(r\"C:\\Users\\sulet\\Desktop\\F1_History\\seasons.csv\")"
   ]
  },
  {
   "cell_type": "code",
   "execution_count": 109,
   "id": "f09f31ef",
   "metadata": {},
   "outputs": [
    {
     "name": "stdout",
     "output_type": "stream",
     "text": [
      "<class 'pandas.core.frame.DataFrame'>\n",
      "RangeIndex: 74 entries, 0 to 73\n",
      "Data columns (total 2 columns):\n",
      " #   Column  Non-Null Count  Dtype \n",
      "---  ------  --------------  ----- \n",
      " 0   year    74 non-null     int64 \n",
      " 1   url     74 non-null     object\n",
      "dtypes: int64(1), object(1)\n",
      "memory usage: 1.3+ KB\n"
     ]
    }
   ],
   "source": [
    "df12.info()"
   ]
  },
  {
   "cell_type": "code",
   "execution_count": 110,
   "id": "c265536e",
   "metadata": {},
   "outputs": [
    {
     "data": {
      "text/html": [
       "<div>\n",
       "<style scoped>\n",
       "    .dataframe tbody tr th:only-of-type {\n",
       "        vertical-align: middle;\n",
       "    }\n",
       "\n",
       "    .dataframe tbody tr th {\n",
       "        vertical-align: top;\n",
       "    }\n",
       "\n",
       "    .dataframe thead th {\n",
       "        text-align: right;\n",
       "    }\n",
       "</style>\n",
       "<table border=\"1\" class=\"dataframe\">\n",
       "  <thead>\n",
       "    <tr style=\"text-align: right;\">\n",
       "      <th></th>\n",
       "      <th>year</th>\n",
       "      <th>url</th>\n",
       "    </tr>\n",
       "  </thead>\n",
       "  <tbody>\n",
       "    <tr>\n",
       "      <th>0</th>\n",
       "      <td>2009</td>\n",
       "      <td>http://en.wikipedia.org/wiki/2009_Formula_One_...</td>\n",
       "    </tr>\n",
       "    <tr>\n",
       "      <th>1</th>\n",
       "      <td>2008</td>\n",
       "      <td>http://en.wikipedia.org/wiki/2008_Formula_One_...</td>\n",
       "    </tr>\n",
       "  </tbody>\n",
       "</table>\n",
       "</div>"
      ],
      "text/plain": [
       "   year                                                url\n",
       "0  2009  http://en.wikipedia.org/wiki/2009_Formula_One_...\n",
       "1  2008  http://en.wikipedia.org/wiki/2008_Formula_One_..."
      ]
     },
     "execution_count": 110,
     "metadata": {},
     "output_type": "execute_result"
    }
   ],
   "source": [
    "df12.head(2)"
   ]
  },
  {
   "cell_type": "code",
   "execution_count": 111,
   "id": "790df355",
   "metadata": {},
   "outputs": [],
   "source": [
    "#This file is not useful in any analysis, hence moving on"
   ]
  },
  {
   "cell_type": "code",
   "execution_count": 112,
   "id": "96898a7f",
   "metadata": {},
   "outputs": [],
   "source": [
    "#File 13) sprint_results.csv\n",
    "df13=pd.read_csv(r\"C:\\Users\\sulet\\Desktop\\F1_History\\sprint_results.csv\")"
   ]
  },
  {
   "cell_type": "code",
   "execution_count": 113,
   "id": "97b1e8f0",
   "metadata": {},
   "outputs": [
    {
     "name": "stdout",
     "output_type": "stream",
     "text": [
      "<class 'pandas.core.frame.DataFrame'>\n",
      "RangeIndex: 180 entries, 0 to 179\n",
      "Data columns (total 16 columns):\n",
      " #   Column          Non-Null Count  Dtype \n",
      "---  ------          --------------  ----- \n",
      " 0   resultId        180 non-null    int64 \n",
      " 1   raceId          180 non-null    int64 \n",
      " 2   driverId        180 non-null    int64 \n",
      " 3   constructorId   180 non-null    int64 \n",
      " 4   number          180 non-null    int64 \n",
      " 5   grid            180 non-null    int64 \n",
      " 6   position        180 non-null    object\n",
      " 7   positionText    180 non-null    object\n",
      " 8   positionOrder   180 non-null    int64 \n",
      " 9   points          180 non-null    int64 \n",
      " 10  laps            180 non-null    int64 \n",
      " 11  time            180 non-null    object\n",
      " 12  milliseconds    180 non-null    object\n",
      " 13  fastestLap      180 non-null    object\n",
      " 14  fastestLapTime  180 non-null    object\n",
      " 15  statusId        180 non-null    int64 \n",
      "dtypes: int64(10), object(6)\n",
      "memory usage: 22.6+ KB\n"
     ]
    }
   ],
   "source": [
    "df13.info()"
   ]
  },
  {
   "cell_type": "code",
   "execution_count": 114,
   "id": "f5f64d6f",
   "metadata": {},
   "outputs": [],
   "source": [
    "#Almost all preprocessing steps are same as those for File 11: results.csv\n",
    "#Dropping useless columns\n",
    "df13.drop(columns={'number', 'position', 'positionText', 'time'}, inplace=True)"
   ]
  },
  {
   "cell_type": "code",
   "execution_count": 115,
   "id": "0fc01439",
   "metadata": {},
   "outputs": [
    {
     "data": {
      "text/html": [
       "<div>\n",
       "<style scoped>\n",
       "    .dataframe tbody tr th:only-of-type {\n",
       "        vertical-align: middle;\n",
       "    }\n",
       "\n",
       "    .dataframe tbody tr th {\n",
       "        vertical-align: top;\n",
       "    }\n",
       "\n",
       "    .dataframe thead th {\n",
       "        text-align: right;\n",
       "    }\n",
       "</style>\n",
       "<table border=\"1\" class=\"dataframe\">\n",
       "  <thead>\n",
       "    <tr style=\"text-align: right;\">\n",
       "      <th></th>\n",
       "      <th>resultId</th>\n",
       "      <th>raceId</th>\n",
       "      <th>driverId</th>\n",
       "      <th>constructorId</th>\n",
       "      <th>grid</th>\n",
       "      <th>positionOrder</th>\n",
       "      <th>points</th>\n",
       "      <th>laps</th>\n",
       "      <th>milliseconds</th>\n",
       "      <th>fastestLap</th>\n",
       "      <th>fastestLapTime</th>\n",
       "      <th>statusId</th>\n",
       "    </tr>\n",
       "  </thead>\n",
       "  <tbody>\n",
       "    <tr>\n",
       "      <th>0</th>\n",
       "      <td>1</td>\n",
       "      <td>1061</td>\n",
       "      <td>830</td>\n",
       "      <td>9</td>\n",
       "      <td>2</td>\n",
       "      <td>1</td>\n",
       "      <td>3</td>\n",
       "      <td>17</td>\n",
       "      <td>1538426</td>\n",
       "      <td>14</td>\n",
       "      <td>1:30.013</td>\n",
       "      <td>1</td>\n",
       "    </tr>\n",
       "    <tr>\n",
       "      <th>1</th>\n",
       "      <td>2</td>\n",
       "      <td>1061</td>\n",
       "      <td>1</td>\n",
       "      <td>131</td>\n",
       "      <td>1</td>\n",
       "      <td>2</td>\n",
       "      <td>2</td>\n",
       "      <td>17</td>\n",
       "      <td>1539856</td>\n",
       "      <td>17</td>\n",
       "      <td>1:29.937</td>\n",
       "      <td>1</td>\n",
       "    </tr>\n",
       "    <tr>\n",
       "      <th>2</th>\n",
       "      <td>3</td>\n",
       "      <td>1061</td>\n",
       "      <td>822</td>\n",
       "      <td>131</td>\n",
       "      <td>3</td>\n",
       "      <td>3</td>\n",
       "      <td>1</td>\n",
       "      <td>17</td>\n",
       "      <td>1545928</td>\n",
       "      <td>17</td>\n",
       "      <td>1:29.958</td>\n",
       "      <td>1</td>\n",
       "    </tr>\n",
       "    <tr>\n",
       "      <th>3</th>\n",
       "      <td>4</td>\n",
       "      <td>1061</td>\n",
       "      <td>844</td>\n",
       "      <td>6</td>\n",
       "      <td>4</td>\n",
       "      <td>4</td>\n",
       "      <td>0</td>\n",
       "      <td>17</td>\n",
       "      <td>1549704</td>\n",
       "      <td>16</td>\n",
       "      <td>1:30.163</td>\n",
       "      <td>1</td>\n",
       "    </tr>\n",
       "    <tr>\n",
       "      <th>4</th>\n",
       "      <td>5</td>\n",
       "      <td>1061</td>\n",
       "      <td>846</td>\n",
       "      <td>1</td>\n",
       "      <td>6</td>\n",
       "      <td>5</td>\n",
       "      <td>0</td>\n",
       "      <td>17</td>\n",
       "      <td>1562537</td>\n",
       "      <td>16</td>\n",
       "      <td>1:30.566</td>\n",
       "      <td>1</td>\n",
       "    </tr>\n",
       "  </tbody>\n",
       "</table>\n",
       "</div>"
      ],
      "text/plain": [
       "   resultId  raceId  driverId  constructorId  grid  positionOrder  points  \\\n",
       "0         1    1061       830              9     2              1       3   \n",
       "1         2    1061         1            131     1              2       2   \n",
       "2         3    1061       822            131     3              3       1   \n",
       "3         4    1061       844              6     4              4       0   \n",
       "4         5    1061       846              1     6              5       0   \n",
       "\n",
       "   laps milliseconds fastestLap fastestLapTime  statusId  \n",
       "0    17      1538426         14       1:30.013         1  \n",
       "1    17      1539856         17       1:29.937         1  \n",
       "2    17      1545928         17       1:29.958         1  \n",
       "3    17      1549704         16       1:30.163         1  \n",
       "4    17      1562537         16       1:30.566         1  "
      ]
     },
     "execution_count": 115,
     "metadata": {},
     "output_type": "execute_result"
    }
   ],
   "source": [
    "df13.head()"
   ]
  },
  {
   "cell_type": "code",
   "execution_count": 116,
   "id": "f0b28bad",
   "metadata": {},
   "outputs": [],
   "source": [
    "#Handling Missing Values and Formatting the respective columns\n",
    "# Replace '\\N' with '0' in columns milliseconds & fastestLap\n",
    "df13[['milliseconds', 'fastestLap']] = df13[['milliseconds', 'fastestLap']].replace('\\\\N', '0')\n",
    " # Replace '\\N' with '0:00.000' in column fastestLapTime\n",
    "df13[['fastestLapTime']] = df13[['fastestLapTime']].replace('\\\\N', '0:0.000')   \n",
    "\n",
    "#Converting column milliseconds, fastestLap, rank from string to int format\n",
    "df13[['milliseconds', 'fastestLap']] = df13[['milliseconds', 'fastestLap']].astype(int)\n",
    "#Converting column fastestLapTime from string to time format\n",
    "df13['fastestLapTime'] = pd.to_datetime(df13['fastestLapTime'], format='%M:%S.%f')"
   ]
  },
  {
   "cell_type": "code",
   "execution_count": 117,
   "id": "9fcec5af",
   "metadata": {},
   "outputs": [
    {
     "data": {
      "text/plain": [
       "resultId                   int64\n",
       "raceId                     int64\n",
       "driverId                   int64\n",
       "constructorId              int64\n",
       "grid                       int64\n",
       "positionOrder              int64\n",
       "points                     int64\n",
       "laps                       int64\n",
       "milliseconds               int32\n",
       "fastestLap                 int32\n",
       "fastestLapTime    datetime64[ns]\n",
       "statusId                   int64\n",
       "dtype: object"
      ]
     },
     "execution_count": 117,
     "metadata": {},
     "output_type": "execute_result"
    }
   ],
   "source": [
    "df13.dtypes"
   ]
  },
  {
   "cell_type": "code",
   "execution_count": 118,
   "id": "052bb858",
   "metadata": {},
   "outputs": [
    {
     "data": {
      "text/plain": [
       "array([1061, 1065, 1071, 1077, 1084, 1095, 1101, 1107, 1110], dtype=int64)"
      ]
     },
     "execution_count": 118,
     "metadata": {},
     "output_type": "execute_result"
    }
   ],
   "source": [
    "df13['raceId'].unique()"
   ]
  },
  {
   "cell_type": "code",
   "execution_count": 119,
   "id": "0c0e7498",
   "metadata": {},
   "outputs": [],
   "source": [
    "#Feature Engineering: Creating the 'fastestLapRank' column\n",
    "df13['fastestLapRank'] = df13.groupby('raceId')['fastestLapTime'].rank().astype(int)"
   ]
  },
  {
   "cell_type": "code",
   "execution_count": 213,
   "id": "aba18a2b",
   "metadata": {},
   "outputs": [
    {
     "data": {
      "text/html": [
       "<div>\n",
       "<style scoped>\n",
       "    .dataframe tbody tr th:only-of-type {\n",
       "        vertical-align: middle;\n",
       "    }\n",
       "\n",
       "    .dataframe tbody tr th {\n",
       "        vertical-align: top;\n",
       "    }\n",
       "\n",
       "    .dataframe thead th {\n",
       "        text-align: right;\n",
       "    }\n",
       "</style>\n",
       "<table border=\"1\" class=\"dataframe\">\n",
       "  <thead>\n",
       "    <tr style=\"text-align: right;\">\n",
       "      <th></th>\n",
       "      <th>resultId</th>\n",
       "      <th>raceId</th>\n",
       "      <th>driverId</th>\n",
       "      <th>constructorId</th>\n",
       "      <th>grid</th>\n",
       "      <th>positionOrder</th>\n",
       "      <th>points</th>\n",
       "      <th>laps</th>\n",
       "      <th>milliseconds</th>\n",
       "      <th>fastestLap</th>\n",
       "      <th>fastestLapTime</th>\n",
       "      <th>statusId</th>\n",
       "      <th>fastestLapRank</th>\n",
       "    </tr>\n",
       "  </thead>\n",
       "  <tbody>\n",
       "    <tr>\n",
       "      <th>0</th>\n",
       "      <td>1</td>\n",
       "      <td>1061</td>\n",
       "      <td>830</td>\n",
       "      <td>9</td>\n",
       "      <td>2</td>\n",
       "      <td>1</td>\n",
       "      <td>3</td>\n",
       "      <td>17</td>\n",
       "      <td>1538426</td>\n",
       "      <td>14</td>\n",
       "      <td>01:30.013</td>\n",
       "      <td>1</td>\n",
       "      <td>3</td>\n",
       "    </tr>\n",
       "    <tr>\n",
       "      <th>1</th>\n",
       "      <td>2</td>\n",
       "      <td>1061</td>\n",
       "      <td>1</td>\n",
       "      <td>131</td>\n",
       "      <td>1</td>\n",
       "      <td>2</td>\n",
       "      <td>2</td>\n",
       "      <td>17</td>\n",
       "      <td>1539856</td>\n",
       "      <td>17</td>\n",
       "      <td>01:29.937</td>\n",
       "      <td>1</td>\n",
       "      <td>1</td>\n",
       "    </tr>\n",
       "  </tbody>\n",
       "</table>\n",
       "</div>"
      ],
      "text/plain": [
       "   resultId  raceId  driverId  constructorId  grid  positionOrder  points  \\\n",
       "0         1    1061       830              9     2              1       3   \n",
       "1         2    1061         1            131     1              2       2   \n",
       "\n",
       "   laps  milliseconds  fastestLap fastestLapTime  statusId  fastestLapRank  \n",
       "0    17       1538426          14      01:30.013         1               3  \n",
       "1    17       1539856          17      01:29.937         1               1  "
      ]
     },
     "execution_count": 213,
     "metadata": {},
     "output_type": "execute_result"
    }
   ],
   "source": [
    "df13.head(2)"
   ]
  },
  {
   "cell_type": "code",
   "execution_count": 121,
   "id": "43dd15a3",
   "metadata": {},
   "outputs": [],
   "source": [
    "# Extract minute, seconds, and milliseconds\n",
    "df13['fastestLapTime'] = df13['fastestLapTime'].dt.strftime('%M:%S.%f').str.slice(0, -3)"
   ]
  },
  {
   "cell_type": "code",
   "execution_count": 122,
   "id": "28579889",
   "metadata": {},
   "outputs": [
    {
     "data": {
      "text/html": [
       "<div>\n",
       "<style scoped>\n",
       "    .dataframe tbody tr th:only-of-type {\n",
       "        vertical-align: middle;\n",
       "    }\n",
       "\n",
       "    .dataframe tbody tr th {\n",
       "        vertical-align: top;\n",
       "    }\n",
       "\n",
       "    .dataframe thead th {\n",
       "        text-align: right;\n",
       "    }\n",
       "</style>\n",
       "<table border=\"1\" class=\"dataframe\">\n",
       "  <thead>\n",
       "    <tr style=\"text-align: right;\">\n",
       "      <th></th>\n",
       "      <th>resultId</th>\n",
       "      <th>raceId</th>\n",
       "      <th>driverId</th>\n",
       "      <th>constructorId</th>\n",
       "      <th>grid</th>\n",
       "      <th>positionOrder</th>\n",
       "      <th>points</th>\n",
       "      <th>laps</th>\n",
       "      <th>milliseconds</th>\n",
       "      <th>fastestLap</th>\n",
       "      <th>fastestLapTime</th>\n",
       "      <th>statusId</th>\n",
       "      <th>fastestLapRank</th>\n",
       "    </tr>\n",
       "  </thead>\n",
       "  <tbody>\n",
       "    <tr>\n",
       "      <th>0</th>\n",
       "      <td>1</td>\n",
       "      <td>1061</td>\n",
       "      <td>830</td>\n",
       "      <td>9</td>\n",
       "      <td>2</td>\n",
       "      <td>1</td>\n",
       "      <td>3</td>\n",
       "      <td>17</td>\n",
       "      <td>1538426</td>\n",
       "      <td>14</td>\n",
       "      <td>01:30.013</td>\n",
       "      <td>1</td>\n",
       "      <td>3</td>\n",
       "    </tr>\n",
       "    <tr>\n",
       "      <th>1</th>\n",
       "      <td>2</td>\n",
       "      <td>1061</td>\n",
       "      <td>1</td>\n",
       "      <td>131</td>\n",
       "      <td>1</td>\n",
       "      <td>2</td>\n",
       "      <td>2</td>\n",
       "      <td>17</td>\n",
       "      <td>1539856</td>\n",
       "      <td>17</td>\n",
       "      <td>01:29.937</td>\n",
       "      <td>1</td>\n",
       "      <td>1</td>\n",
       "    </tr>\n",
       "  </tbody>\n",
       "</table>\n",
       "</div>"
      ],
      "text/plain": [
       "   resultId  raceId  driverId  constructorId  grid  positionOrder  points  \\\n",
       "0         1    1061       830              9     2              1       3   \n",
       "1         2    1061         1            131     1              2       2   \n",
       "\n",
       "   laps  milliseconds  fastestLap fastestLapTime  statusId  fastestLapRank  \n",
       "0    17       1538426          14      01:30.013         1               3  \n",
       "1    17       1539856          17      01:29.937         1               1  "
      ]
     },
     "execution_count": 122,
     "metadata": {},
     "output_type": "execute_result"
    }
   ],
   "source": [
    "df13.head(2)"
   ]
  },
  {
   "cell_type": "code",
   "execution_count": 123,
   "id": "b71e974f",
   "metadata": {},
   "outputs": [],
   "source": [
    "#File 14) status.csv\n",
    "df14=pd.read_csv(r\"C:\\Users\\sulet\\Desktop\\F1_History\\status.csv\")"
   ]
  },
  {
   "cell_type": "code",
   "execution_count": 124,
   "id": "239338de",
   "metadata": {},
   "outputs": [
    {
     "data": {
      "text/html": [
       "<div>\n",
       "<style scoped>\n",
       "    .dataframe tbody tr th:only-of-type {\n",
       "        vertical-align: middle;\n",
       "    }\n",
       "\n",
       "    .dataframe tbody tr th {\n",
       "        vertical-align: top;\n",
       "    }\n",
       "\n",
       "    .dataframe thead th {\n",
       "        text-align: right;\n",
       "    }\n",
       "</style>\n",
       "<table border=\"1\" class=\"dataframe\">\n",
       "  <thead>\n",
       "    <tr style=\"text-align: right;\">\n",
       "      <th></th>\n",
       "      <th>statusId</th>\n",
       "      <th>status</th>\n",
       "    </tr>\n",
       "  </thead>\n",
       "  <tbody>\n",
       "    <tr>\n",
       "      <th>0</th>\n",
       "      <td>1</td>\n",
       "      <td>Finished</td>\n",
       "    </tr>\n",
       "    <tr>\n",
       "      <th>1</th>\n",
       "      <td>2</td>\n",
       "      <td>Disqualified</td>\n",
       "    </tr>\n",
       "    <tr>\n",
       "      <th>2</th>\n",
       "      <td>3</td>\n",
       "      <td>Accident</td>\n",
       "    </tr>\n",
       "    <tr>\n",
       "      <th>3</th>\n",
       "      <td>4</td>\n",
       "      <td>Collision</td>\n",
       "    </tr>\n",
       "    <tr>\n",
       "      <th>4</th>\n",
       "      <td>5</td>\n",
       "      <td>Engine</td>\n",
       "    </tr>\n",
       "  </tbody>\n",
       "</table>\n",
       "</div>"
      ],
      "text/plain": [
       "   statusId        status\n",
       "0         1      Finished\n",
       "1         2  Disqualified\n",
       "2         3      Accident\n",
       "3         4     Collision\n",
       "4         5        Engine"
      ]
     },
     "execution_count": 124,
     "metadata": {},
     "output_type": "execute_result"
    }
   ],
   "source": [
    "df14.head()"
   ]
  },
  {
   "cell_type": "code",
   "execution_count": 125,
   "id": "b9525016",
   "metadata": {},
   "outputs": [],
   "source": [
    "#This file has all the possible results for each car on the track\n",
    "#This is best left untouched"
   ]
  },
  {
   "cell_type": "code",
   "execution_count": 127,
   "id": "70caead3",
   "metadata": {},
   "outputs": [],
   "source": [
    "#Saving all the preprocessed files in local machine\n",
    "\n",
    "df1.to_csv(r\"C:\\Users\\sulet\\Desktop\\F1_History_Cleaned\\cleaned_circuits.csv\", index=False)\n",
    "df2.to_csv(r\"C:\\Users\\sulet\\Desktop\\F1_History_Cleaned\\cleaned_constructor_results.csv\", index=False)\n",
    "df3.to_csv(r\"C:\\Users\\sulet\\Desktop\\F1_History_Cleaned\\cleaned_constructor_standings.csv\", index=False)\n",
    "df4.to_csv(r\"C:\\Users\\sulet\\Desktop\\F1_History_Cleaned\\cleaned_constructors.csv\", index=False)\n",
    "df5.to_csv(r\"C:\\Users\\sulet\\Desktop\\F1_History_Cleaned\\cleaned_driver_standings.csv\", index=False)\n",
    "df6.to_csv(r\"C:\\Users\\sulet\\Desktop\\F1_History_Cleaned\\cleaned_drivers.csv\", index=False)\n",
    "df7.to_csv(r\"C:\\Users\\sulet\\Desktop\\F1_History_Cleaned\\cleaned_lap_times.csv\", index=False)\n",
    "df8.to_csv(r\"C:\\Users\\sulet\\Desktop\\F1_History_Cleaned\\cleaned_pit_stops.csv\", index=False)\n",
    "df9.to_csv(r\"C:\\Users\\sulet\\Desktop\\F1_History_Cleaned\\cleaned_qualifying.csv\", index=False)\n",
    "df10.to_csv(r\"C:\\Users\\sulet\\Desktop\\F1_History_Cleaned\\cleaned_races.csv\", index=False)\n",
    "df11.to_csv(r\"C:\\Users\\sulet\\Desktop\\F1_History_Cleaned\\cleaned_results.csv\", index=False)\n",
    "df12.to_csv(r\"C:\\Users\\sulet\\Desktop\\F1_History_Cleaned\\cleaned_seasons.csv\", index=False)\n",
    "df13.to_csv(r\"C:\\Users\\sulet\\Desktop\\F1_History_Cleaned\\cleaned_sprint_results.csv\", index=False)\n",
    "df14.to_csv(r\"C:\\Users\\sulet\\Desktop\\F1_History_Cleaned\\cleaned_status.csv\", index=False)"
   ]
  },
  {
   "cell_type": "markdown",
   "id": "7320df0b",
   "metadata": {},
   "source": [
    "# Data Cleaning - Part 2"
   ]
  },
  {
   "cell_type": "code",
   "execution_count": 128,
   "id": "e490fcc6",
   "metadata": {},
   "outputs": [
    {
     "data": {
      "text/html": [
       "<div>\n",
       "<style scoped>\n",
       "    .dataframe tbody tr th:only-of-type {\n",
       "        vertical-align: middle;\n",
       "    }\n",
       "\n",
       "    .dataframe tbody tr th {\n",
       "        vertical-align: top;\n",
       "    }\n",
       "\n",
       "    .dataframe thead th {\n",
       "        text-align: right;\n",
       "    }\n",
       "</style>\n",
       "<table border=\"1\" class=\"dataframe\">\n",
       "  <thead>\n",
       "    <tr style=\"text-align: right;\">\n",
       "      <th></th>\n",
       "      <th>circuitId</th>\n",
       "      <th>name</th>\n",
       "      <th>location</th>\n",
       "      <th>country</th>\n",
       "    </tr>\n",
       "  </thead>\n",
       "  <tbody>\n",
       "    <tr>\n",
       "      <th>0</th>\n",
       "      <td>1</td>\n",
       "      <td>Albert Park Grand Prix Circuit</td>\n",
       "      <td>Melbourne</td>\n",
       "      <td>Australia</td>\n",
       "    </tr>\n",
       "    <tr>\n",
       "      <th>1</th>\n",
       "      <td>2</td>\n",
       "      <td>Sepang International Circuit</td>\n",
       "      <td>Kuala Lumpur</td>\n",
       "      <td>Malaysia</td>\n",
       "    </tr>\n",
       "    <tr>\n",
       "      <th>2</th>\n",
       "      <td>3</td>\n",
       "      <td>Bahrain International Circuit</td>\n",
       "      <td>Sakhir</td>\n",
       "      <td>Bahrain</td>\n",
       "    </tr>\n",
       "    <tr>\n",
       "      <th>3</th>\n",
       "      <td>4</td>\n",
       "      <td>Circuit de Barcelona-Catalunya</td>\n",
       "      <td>Montmeló</td>\n",
       "      <td>Spain</td>\n",
       "    </tr>\n",
       "    <tr>\n",
       "      <th>4</th>\n",
       "      <td>5</td>\n",
       "      <td>Istanbul Park</td>\n",
       "      <td>Istanbul</td>\n",
       "      <td>Turkey</td>\n",
       "    </tr>\n",
       "  </tbody>\n",
       "</table>\n",
       "</div>"
      ],
      "text/plain": [
       "   circuitId                            name      location    country\n",
       "0          1  Albert Park Grand Prix Circuit     Melbourne  Australia\n",
       "1          2    Sepang International Circuit  Kuala Lumpur   Malaysia\n",
       "2          3   Bahrain International Circuit        Sakhir    Bahrain\n",
       "3          4  Circuit de Barcelona-Catalunya      Montmeló      Spain\n",
       "4          5                   Istanbul Park      Istanbul     Turkey"
      ]
     },
     "execution_count": 128,
     "metadata": {},
     "output_type": "execute_result"
    }
   ],
   "source": [
    "df1.head()"
   ]
  },
  {
   "cell_type": "code",
   "execution_count": 131,
   "id": "4c17d264",
   "metadata": {},
   "outputs": [],
   "source": [
    "df1.rename(columns={'name':'circuit_name', 'location':'circuit_location', 'country':'circuit_country'}, inplace=True)"
   ]
  },
  {
   "cell_type": "code",
   "execution_count": 132,
   "id": "5efac705",
   "metadata": {},
   "outputs": [
    {
     "data": {
      "text/html": [
       "<div>\n",
       "<style scoped>\n",
       "    .dataframe tbody tr th:only-of-type {\n",
       "        vertical-align: middle;\n",
       "    }\n",
       "\n",
       "    .dataframe tbody tr th {\n",
       "        vertical-align: top;\n",
       "    }\n",
       "\n",
       "    .dataframe thead th {\n",
       "        text-align: right;\n",
       "    }\n",
       "</style>\n",
       "<table border=\"1\" class=\"dataframe\">\n",
       "  <thead>\n",
       "    <tr style=\"text-align: right;\">\n",
       "      <th></th>\n",
       "      <th>circuitId</th>\n",
       "      <th>circuit_name</th>\n",
       "      <th>circuit_location</th>\n",
       "      <th>circuit_country</th>\n",
       "    </tr>\n",
       "  </thead>\n",
       "  <tbody>\n",
       "    <tr>\n",
       "      <th>0</th>\n",
       "      <td>1</td>\n",
       "      <td>Albert Park Grand Prix Circuit</td>\n",
       "      <td>Melbourne</td>\n",
       "      <td>Australia</td>\n",
       "    </tr>\n",
       "    <tr>\n",
       "      <th>1</th>\n",
       "      <td>2</td>\n",
       "      <td>Sepang International Circuit</td>\n",
       "      <td>Kuala Lumpur</td>\n",
       "      <td>Malaysia</td>\n",
       "    </tr>\n",
       "  </tbody>\n",
       "</table>\n",
       "</div>"
      ],
      "text/plain": [
       "   circuitId                    circuit_name circuit_location circuit_country\n",
       "0          1  Albert Park Grand Prix Circuit        Melbourne       Australia\n",
       "1          2    Sepang International Circuit     Kuala Lumpur        Malaysia"
      ]
     },
     "execution_count": 132,
     "metadata": {},
     "output_type": "execute_result"
    }
   ],
   "source": [
    "df1.head(2)"
   ]
  },
  {
   "cell_type": "code",
   "execution_count": 140,
   "id": "3dc1e96b",
   "metadata": {},
   "outputs": [
    {
     "data": {
      "text/html": [
       "<div>\n",
       "<style scoped>\n",
       "    .dataframe tbody tr th:only-of-type {\n",
       "        vertical-align: middle;\n",
       "    }\n",
       "\n",
       "    .dataframe tbody tr th {\n",
       "        vertical-align: top;\n",
       "    }\n",
       "\n",
       "    .dataframe thead th {\n",
       "        text-align: right;\n",
       "    }\n",
       "</style>\n",
       "<table border=\"1\" class=\"dataframe\">\n",
       "  <thead>\n",
       "    <tr style=\"text-align: right;\">\n",
       "      <th></th>\n",
       "      <th>constructorResultsId</th>\n",
       "      <th>raceId</th>\n",
       "      <th>constructorId</th>\n",
       "      <th>points</th>\n",
       "    </tr>\n",
       "  </thead>\n",
       "  <tbody>\n",
       "    <tr>\n",
       "      <th>0</th>\n",
       "      <td>1</td>\n",
       "      <td>18</td>\n",
       "      <td>1</td>\n",
       "      <td>14.0</td>\n",
       "    </tr>\n",
       "    <tr>\n",
       "      <th>1</th>\n",
       "      <td>2</td>\n",
       "      <td>18</td>\n",
       "      <td>2</td>\n",
       "      <td>8.0</td>\n",
       "    </tr>\n",
       "    <tr>\n",
       "      <th>2</th>\n",
       "      <td>3</td>\n",
       "      <td>18</td>\n",
       "      <td>3</td>\n",
       "      <td>9.0</td>\n",
       "    </tr>\n",
       "    <tr>\n",
       "      <th>3</th>\n",
       "      <td>4</td>\n",
       "      <td>18</td>\n",
       "      <td>4</td>\n",
       "      <td>5.0</td>\n",
       "    </tr>\n",
       "    <tr>\n",
       "      <th>4</th>\n",
       "      <td>5</td>\n",
       "      <td>18</td>\n",
       "      <td>5</td>\n",
       "      <td>2.0</td>\n",
       "    </tr>\n",
       "  </tbody>\n",
       "</table>\n",
       "</div>"
      ],
      "text/plain": [
       "   constructorResultsId  raceId  constructorId  points\n",
       "0                     1      18              1    14.0\n",
       "1                     2      18              2     8.0\n",
       "2                     3      18              3     9.0\n",
       "3                     4      18              4     5.0\n",
       "4                     5      18              5     2.0"
      ]
     },
     "execution_count": 140,
     "metadata": {},
     "output_type": "execute_result"
    }
   ],
   "source": [
    "df2.head()"
   ]
  },
  {
   "cell_type": "code",
   "execution_count": 135,
   "id": "ed2faca4",
   "metadata": {},
   "outputs": [
    {
     "data": {
      "text/plain": [
       "status\n",
       "\\N    12273\n",
       "D        17\n",
       "Name: count, dtype: int64"
      ]
     },
     "execution_count": 135,
     "metadata": {},
     "output_type": "execute_result"
    }
   ],
   "source": [
    "df2['status'].value_counts()"
   ]
  },
  {
   "cell_type": "code",
   "execution_count": 137,
   "id": "859319d5",
   "metadata": {},
   "outputs": [],
   "source": [
    "df2.drop(columns={'status'}, inplace=True)"
   ]
  },
  {
   "cell_type": "code",
   "execution_count": 144,
   "id": "12fe02f9",
   "metadata": {},
   "outputs": [
    {
     "data": {
      "text/html": [
       "<div>\n",
       "<style scoped>\n",
       "    .dataframe tbody tr th:only-of-type {\n",
       "        vertical-align: middle;\n",
       "    }\n",
       "\n",
       "    .dataframe tbody tr th {\n",
       "        vertical-align: top;\n",
       "    }\n",
       "\n",
       "    .dataframe thead th {\n",
       "        text-align: right;\n",
       "    }\n",
       "</style>\n",
       "<table border=\"1\" class=\"dataframe\">\n",
       "  <thead>\n",
       "    <tr style=\"text-align: right;\">\n",
       "      <th></th>\n",
       "      <th>constructorStandingsId</th>\n",
       "      <th>raceId</th>\n",
       "      <th>constructorId</th>\n",
       "      <th>points</th>\n",
       "      <th>position</th>\n",
       "      <th>wins</th>\n",
       "    </tr>\n",
       "  </thead>\n",
       "  <tbody>\n",
       "    <tr>\n",
       "      <th>0</th>\n",
       "      <td>1</td>\n",
       "      <td>18</td>\n",
       "      <td>1</td>\n",
       "      <td>14.0</td>\n",
       "      <td>1</td>\n",
       "      <td>1</td>\n",
       "    </tr>\n",
       "    <tr>\n",
       "      <th>1</th>\n",
       "      <td>2</td>\n",
       "      <td>18</td>\n",
       "      <td>2</td>\n",
       "      <td>8.0</td>\n",
       "      <td>3</td>\n",
       "      <td>0</td>\n",
       "    </tr>\n",
       "    <tr>\n",
       "      <th>2</th>\n",
       "      <td>3</td>\n",
       "      <td>18</td>\n",
       "      <td>3</td>\n",
       "      <td>9.0</td>\n",
       "      <td>2</td>\n",
       "      <td>0</td>\n",
       "    </tr>\n",
       "  </tbody>\n",
       "</table>\n",
       "</div>"
      ],
      "text/plain": [
       "   constructorStandingsId  raceId  constructorId  points  position  wins\n",
       "0                       1      18              1    14.0         1     1\n",
       "1                       2      18              2     8.0         3     0\n",
       "2                       3      18              3     9.0         2     0"
      ]
     },
     "execution_count": 144,
     "metadata": {},
     "output_type": "execute_result"
    }
   ],
   "source": [
    "df3.head(3)"
   ]
  },
  {
   "cell_type": "code",
   "execution_count": 155,
   "id": "57f9c936",
   "metadata": {},
   "outputs": [
    {
     "data": {
      "text/html": [
       "<div>\n",
       "<style scoped>\n",
       "    .dataframe tbody tr th:only-of-type {\n",
       "        vertical-align: middle;\n",
       "    }\n",
       "\n",
       "    .dataframe tbody tr th {\n",
       "        vertical-align: top;\n",
       "    }\n",
       "\n",
       "    .dataframe thead th {\n",
       "        text-align: right;\n",
       "    }\n",
       "</style>\n",
       "<table border=\"1\" class=\"dataframe\">\n",
       "  <thead>\n",
       "    <tr style=\"text-align: right;\">\n",
       "      <th></th>\n",
       "      <th>driverStandingsId</th>\n",
       "      <th>raceId</th>\n",
       "      <th>driverId</th>\n",
       "      <th>points</th>\n",
       "      <th>position</th>\n",
       "      <th>wins</th>\n",
       "    </tr>\n",
       "  </thead>\n",
       "  <tbody>\n",
       "    <tr>\n",
       "      <th>0</th>\n",
       "      <td>1</td>\n",
       "      <td>18</td>\n",
       "      <td>1</td>\n",
       "      <td>10.0</td>\n",
       "      <td>1</td>\n",
       "      <td>1</td>\n",
       "    </tr>\n",
       "    <tr>\n",
       "      <th>1</th>\n",
       "      <td>2</td>\n",
       "      <td>18</td>\n",
       "      <td>2</td>\n",
       "      <td>8.0</td>\n",
       "      <td>2</td>\n",
       "      <td>0</td>\n",
       "    </tr>\n",
       "    <tr>\n",
       "      <th>2</th>\n",
       "      <td>3</td>\n",
       "      <td>18</td>\n",
       "      <td>3</td>\n",
       "      <td>6.0</td>\n",
       "      <td>3</td>\n",
       "      <td>0</td>\n",
       "    </tr>\n",
       "    <tr>\n",
       "      <th>3</th>\n",
       "      <td>4</td>\n",
       "      <td>18</td>\n",
       "      <td>4</td>\n",
       "      <td>5.0</td>\n",
       "      <td>4</td>\n",
       "      <td>0</td>\n",
       "    </tr>\n",
       "    <tr>\n",
       "      <th>4</th>\n",
       "      <td>5</td>\n",
       "      <td>18</td>\n",
       "      <td>5</td>\n",
       "      <td>4.0</td>\n",
       "      <td>5</td>\n",
       "      <td>0</td>\n",
       "    </tr>\n",
       "  </tbody>\n",
       "</table>\n",
       "</div>"
      ],
      "text/plain": [
       "   driverStandingsId  raceId  driverId  points  position  wins\n",
       "0                  1      18         1    10.0         1     1\n",
       "1                  2      18         2     8.0         2     0\n",
       "2                  3      18         3     6.0         3     0\n",
       "3                  4      18         4     5.0         4     0\n",
       "4                  5      18         5     4.0         5     0"
      ]
     },
     "execution_count": 155,
     "metadata": {},
     "output_type": "execute_result"
    }
   ],
   "source": [
    "df5.head()"
   ]
  },
  {
   "cell_type": "code",
   "execution_count": 160,
   "id": "c7365f88",
   "metadata": {},
   "outputs": [],
   "source": [
    "#Driver and Constructor nationalities are given as British for UK etc\n",
    "#So, for better analysis, I'll introduce a featues: driver_home and constructor_home"
   ]
  },
  {
   "cell_type": "code",
   "execution_count": 145,
   "id": "f908a48e",
   "metadata": {},
   "outputs": [
    {
     "data": {
      "text/html": [
       "<div>\n",
       "<style scoped>\n",
       "    .dataframe tbody tr th:only-of-type {\n",
       "        vertical-align: middle;\n",
       "    }\n",
       "\n",
       "    .dataframe tbody tr th {\n",
       "        vertical-align: top;\n",
       "    }\n",
       "\n",
       "    .dataframe thead th {\n",
       "        text-align: right;\n",
       "    }\n",
       "</style>\n",
       "<table border=\"1\" class=\"dataframe\">\n",
       "  <thead>\n",
       "    <tr style=\"text-align: right;\">\n",
       "      <th></th>\n",
       "      <th>constructorId</th>\n",
       "      <th>name</th>\n",
       "      <th>nationality</th>\n",
       "    </tr>\n",
       "  </thead>\n",
       "  <tbody>\n",
       "    <tr>\n",
       "      <th>0</th>\n",
       "      <td>1</td>\n",
       "      <td>McLaren</td>\n",
       "      <td>British</td>\n",
       "    </tr>\n",
       "    <tr>\n",
       "      <th>1</th>\n",
       "      <td>2</td>\n",
       "      <td>BMW Sauber</td>\n",
       "      <td>German</td>\n",
       "    </tr>\n",
       "  </tbody>\n",
       "</table>\n",
       "</div>"
      ],
      "text/plain": [
       "   constructorId        name nationality\n",
       "0              1     McLaren     British\n",
       "1              2  BMW Sauber      German"
      ]
     },
     "execution_count": 145,
     "metadata": {},
     "output_type": "execute_result"
    }
   ],
   "source": [
    "df4.head(2)"
   ]
  },
  {
   "cell_type": "code",
   "execution_count": 171,
   "id": "8cc6276f",
   "metadata": {},
   "outputs": [],
   "source": [
    "df4.rename(columns={'name':'constructor_name', 'nationality':'constructor_nationality'}, inplace=True)"
   ]
  },
  {
   "cell_type": "code",
   "execution_count": 172,
   "id": "c0bf3493",
   "metadata": {},
   "outputs": [
    {
     "data": {
      "text/plain": [
       "array(['British', 'German', 'French', 'Italian', 'Japanese', 'Austrian',\n",
       "       'Indian', 'Dutch', 'Russian', 'Swiss', 'Irish', 'Hong Kong',\n",
       "       'Brazilian', 'Canadian', 'Mexican', 'American', 'Australian',\n",
       "       'New Zealander', 'South African', 'Rhodesian', 'Belgian',\n",
       "       'East German', 'Spanish', 'Malaysian'], dtype=object)"
      ]
     },
     "execution_count": 172,
     "metadata": {},
     "output_type": "execute_result"
    }
   ],
   "source": [
    "df4['constructor_nationality'].unique()"
   ]
  },
  {
   "cell_type": "code",
   "execution_count": 179,
   "id": "27c915ff",
   "metadata": {},
   "outputs": [],
   "source": [
    "#To make things easier, 'East German' : 'German' in constructor_nationality\n",
    "df4['constructor_nationality'] = df4['constructor_nationality'].replace('East German', 'German')"
   ]
  },
  {
   "cell_type": "code",
   "execution_count": 180,
   "id": "06a71036",
   "metadata": {},
   "outputs": [
    {
     "data": {
      "text/plain": [
       "array(['British', 'German', 'French', 'Italian', 'Japanese', 'Austrian',\n",
       "       'Indian', 'Dutch', 'Russian', 'Swiss', 'Irish', 'Hong Kong',\n",
       "       'Brazilian', 'Canadian', 'Mexican', 'American', 'Australian',\n",
       "       'New Zealander', 'South African', 'Rhodesian', 'Belgian',\n",
       "       'Spanish', 'Malaysian'], dtype=object)"
      ]
     },
     "execution_count": 180,
     "metadata": {},
     "output_type": "execute_result"
    }
   ],
   "source": [
    "df4['constructor_nationality'].unique()"
   ]
  },
  {
   "cell_type": "code",
   "execution_count": 181,
   "id": "471541a0",
   "metadata": {},
   "outputs": [
    {
     "data": {
      "text/html": [
       "<div>\n",
       "<style scoped>\n",
       "    .dataframe tbody tr th:only-of-type {\n",
       "        vertical-align: middle;\n",
       "    }\n",
       "\n",
       "    .dataframe tbody tr th {\n",
       "        vertical-align: top;\n",
       "    }\n",
       "\n",
       "    .dataframe thead th {\n",
       "        text-align: right;\n",
       "    }\n",
       "</style>\n",
       "<table border=\"1\" class=\"dataframe\">\n",
       "  <thead>\n",
       "    <tr style=\"text-align: right;\">\n",
       "      <th></th>\n",
       "      <th>driverId</th>\n",
       "      <th>driver_code</th>\n",
       "      <th>driver_forename</th>\n",
       "      <th>driver_surname</th>\n",
       "      <th>driver_dob</th>\n",
       "      <th>driver_nationality</th>\n",
       "    </tr>\n",
       "  </thead>\n",
       "  <tbody>\n",
       "    <tr>\n",
       "      <th>0</th>\n",
       "      <td>1</td>\n",
       "      <td>HAM</td>\n",
       "      <td>Lewis</td>\n",
       "      <td>Hamilton</td>\n",
       "      <td>1985-01-07</td>\n",
       "      <td>British</td>\n",
       "    </tr>\n",
       "    <tr>\n",
       "      <th>1</th>\n",
       "      <td>2</td>\n",
       "      <td>HEI</td>\n",
       "      <td>Nick</td>\n",
       "      <td>Heidfeld</td>\n",
       "      <td>1977-05-10</td>\n",
       "      <td>German</td>\n",
       "    </tr>\n",
       "  </tbody>\n",
       "</table>\n",
       "</div>"
      ],
      "text/plain": [
       "   driverId driver_code driver_forename driver_surname driver_dob  \\\n",
       "0         1         HAM           Lewis       Hamilton 1985-01-07   \n",
       "1         2         HEI            Nick       Heidfeld 1977-05-10   \n",
       "\n",
       "  driver_nationality  \n",
       "0            British  \n",
       "1             German  "
      ]
     },
     "execution_count": 181,
     "metadata": {},
     "output_type": "execute_result"
    }
   ],
   "source": [
    "df6.head(2)"
   ]
  },
  {
   "cell_type": "code",
   "execution_count": 174,
   "id": "02cbd487",
   "metadata": {},
   "outputs": [],
   "source": [
    "df6.rename(columns={'code':'driver_code', 'forename':'driver_forename', 'surname':'driver_surname', 'dob':'driver_dob', 'nationality':'driver_nationality'}, inplace=True)"
   ]
  },
  {
   "cell_type": "code",
   "execution_count": 175,
   "id": "c63ff925",
   "metadata": {},
   "outputs": [
    {
     "data": {
      "text/plain": [
       "array(['British', 'German', 'Spanish', 'Finnish', 'Japanese', 'French',\n",
       "       'Polish', 'Brazilian', 'Italian', 'Australian', 'Austrian',\n",
       "       'American', 'Dutch', 'Colombian', 'Portuguese', 'Canadian',\n",
       "       'Indian', 'Hungarian', 'Irish', 'Danish', 'Argentine', 'Czech',\n",
       "       'Malaysian', 'Swiss', 'Belgian', 'Monegasque', 'Swedish',\n",
       "       'Venezuelan', 'New Zealander', 'Chilean', 'Mexican',\n",
       "       'South African', 'Liechtensteiner', 'Rhodesian',\n",
       "       'American-Italian', 'Uruguayan', 'Argentine-Italian', 'Thai',\n",
       "       'East German', 'Russian', 'Indonesian', 'Chinese'], dtype=object)"
      ]
     },
     "execution_count": 175,
     "metadata": {},
     "output_type": "execute_result"
    }
   ],
   "source": [
    "df6['driver_nationality'].unique()"
   ]
  },
  {
   "cell_type": "code",
   "execution_count": 184,
   "id": "b7045d36",
   "metadata": {},
   "outputs": [],
   "source": [
    "#'American-Italian': 'USA', 'Argentine-Italian': 'Argentina' in driver nationality \n",
    "df6['driver_nationality'] = df6['driver_nationality'].replace('East German', 'German')\n",
    "df6['driver_nationality'] = df6['driver_nationality'].replace('American-Italian', 'USA')\n",
    "df6['driver_nationality'] = df6['driver_nationality'].replace('Argentine-Italian', 'Argentina')"
   ]
  },
  {
   "cell_type": "code",
   "execution_count": 185,
   "id": "43a0be4a",
   "metadata": {},
   "outputs": [
    {
     "data": {
      "text/plain": [
       "array(['British', 'German', 'Spanish', 'Finnish', 'Japanese', 'French',\n",
       "       'Polish', 'Brazilian', 'Italian', 'Australian', 'Austrian',\n",
       "       'American', 'Dutch', 'Colombian', 'Portuguese', 'Canadian',\n",
       "       'Indian', 'Hungarian', 'Irish', 'Danish', 'Argentine', 'Czech',\n",
       "       'Malaysian', 'Swiss', 'Belgian', 'Monegasque', 'Swedish',\n",
       "       'Venezuelan', 'New Zealander', 'Chilean', 'Mexican',\n",
       "       'South African', 'Liechtensteiner', 'Rhodesian', 'USA',\n",
       "       'Uruguayan', 'Argentina', 'Thai', 'Russian', 'Indonesian',\n",
       "       'Chinese'], dtype=object)"
      ]
     },
     "execution_count": 185,
     "metadata": {},
     "output_type": "execute_result"
    }
   ],
   "source": [
    "df6['driver_nationality'].unique()"
   ]
  },
  {
   "cell_type": "code",
   "execution_count": 259,
   "id": "c9a476d4",
   "metadata": {},
   "outputs": [],
   "source": [
    "# Dictionary mapping countries to nationalities\n",
    "nationality_to_country = {\n",
    "    'British': 'UK',\n",
    "    'German': 'Germany',\n",
    "    'French': 'France',\n",
    "    'Italian': 'Italy',\n",
    "    'Japanese': 'Japan',\n",
    "    'Austrian': 'Austria',\n",
    "    'Indian': 'India',\n",
    "    'Dutch': 'Netherlands',\n",
    "    'Russian': 'Russia',\n",
    "    'Swiss': 'Switzerland',\n",
    "    'Irish': 'Ireland',\n",
    "    'Hong Kong': 'Hong Kong',\n",
    "    'Brazilian': 'Brazil',\n",
    "    'Canadian': 'Canada',\n",
    "    'Mexican': 'Mexico',\n",
    "    'American': 'USA',\n",
    "    'Australian': 'Australia',\n",
    "    'New Zealander': 'New Zealand',\n",
    "    'South African': 'South Africa',\n",
    "    'Rhodesian': 'Rhodesia',\n",
    "    'Belgian': 'Belgium',\n",
    "    'East German': 'East Germany',\n",
    "    'Spanish': 'Spain',\n",
    "    'Malaysian': 'Malaysia',\n",
    "    'Finnish': 'Finland',\n",
    "    'Polish': 'Poland',\n",
    "    'Colombian': 'Colombia',\n",
    "    'Portuguese': 'Portugal',\n",
    "    'Hungarian': 'Hungary',\n",
    "    'Danish': 'Denmark',\n",
    "    'Argentine': 'Argentina',\n",
    "    'Czech': 'Czech Republic',\n",
    "    'Monegasque': 'Monaco',\n",
    "    'Swedish': 'Sweden',\n",
    "    'Venezuelan': 'Venezuela',\n",
    "    'Chilean': 'Chile',\n",
    "    'Liechtensteiner': 'Liechtenstein',\n",
    "    'American-Italian': 'USA',\n",
    "    'Uruguayan': 'Uruguay',\n",
    "    'Argentine-Italian': 'Argentina',\n",
    "    'Thai': 'Thailand',\n",
    "    'Indonesian': 'Indonesia',\n",
    "    'Chinese': 'China'\n",
    "}"
   ]
  },
  {
   "cell_type": "code",
   "execution_count": 273,
   "id": "2f79dd78",
   "metadata": {},
   "outputs": [],
   "source": [
    "# Create the new 'constructor_home' column\n",
    "df4['constructor_home'] = df4['constructor_nationality'].map(nationality_to_country)"
   ]
  },
  {
   "cell_type": "code",
   "execution_count": 260,
   "id": "e8e7743d",
   "metadata": {},
   "outputs": [],
   "source": [
    "# Create the new 'constructor_home' column\n",
    "df4['constructor_home'] = df4['constructor_nationality'].map(nationality_to_country)"
   ]
  },
  {
   "cell_type": "code",
   "execution_count": 191,
   "id": "6f1e698c",
   "metadata": {},
   "outputs": [
    {
     "data": {
      "text/html": [
       "<div>\n",
       "<style scoped>\n",
       "    .dataframe tbody tr th:only-of-type {\n",
       "        vertical-align: middle;\n",
       "    }\n",
       "\n",
       "    .dataframe tbody tr th {\n",
       "        vertical-align: top;\n",
       "    }\n",
       "\n",
       "    .dataframe thead th {\n",
       "        text-align: right;\n",
       "    }\n",
       "</style>\n",
       "<table border=\"1\" class=\"dataframe\">\n",
       "  <thead>\n",
       "    <tr style=\"text-align: right;\">\n",
       "      <th></th>\n",
       "      <th>constructorId</th>\n",
       "      <th>constructor_name</th>\n",
       "      <th>constructor_nationality</th>\n",
       "      <th>constructor_home</th>\n",
       "    </tr>\n",
       "  </thead>\n",
       "  <tbody>\n",
       "    <tr>\n",
       "      <th>0</th>\n",
       "      <td>1</td>\n",
       "      <td>McLaren</td>\n",
       "      <td>British</td>\n",
       "      <td>UK</td>\n",
       "    </tr>\n",
       "    <tr>\n",
       "      <th>1</th>\n",
       "      <td>2</td>\n",
       "      <td>BMW Sauber</td>\n",
       "      <td>German</td>\n",
       "      <td>Germany</td>\n",
       "    </tr>\n",
       "  </tbody>\n",
       "</table>\n",
       "</div>"
      ],
      "text/plain": [
       "   constructorId constructor_name constructor_nationality constructor_home\n",
       "0              1          McLaren                 British               UK\n",
       "1              2       BMW Sauber                  German          Germany"
      ]
     },
     "execution_count": 191,
     "metadata": {},
     "output_type": "execute_result"
    }
   ],
   "source": [
    "df4.head(2)"
   ]
  },
  {
   "cell_type": "code",
   "execution_count": 261,
   "id": "51e7e49c",
   "metadata": {},
   "outputs": [],
   "source": [
    "# Create the new 'driver_home' column\n",
    "df6['driver_home'] = df6['driver_nationality'].map(nationality_to_country)"
   ]
  },
  {
   "cell_type": "code",
   "execution_count": 194,
   "id": "c58760c2",
   "metadata": {},
   "outputs": [
    {
     "data": {
      "text/html": [
       "<div>\n",
       "<style scoped>\n",
       "    .dataframe tbody tr th:only-of-type {\n",
       "        vertical-align: middle;\n",
       "    }\n",
       "\n",
       "    .dataframe tbody tr th {\n",
       "        vertical-align: top;\n",
       "    }\n",
       "\n",
       "    .dataframe thead th {\n",
       "        text-align: right;\n",
       "    }\n",
       "</style>\n",
       "<table border=\"1\" class=\"dataframe\">\n",
       "  <thead>\n",
       "    <tr style=\"text-align: right;\">\n",
       "      <th></th>\n",
       "      <th>driverId</th>\n",
       "      <th>driver_code</th>\n",
       "      <th>driver_forename</th>\n",
       "      <th>driver_surname</th>\n",
       "      <th>driver_dob</th>\n",
       "      <th>driver_nationality</th>\n",
       "      <th>driver_home</th>\n",
       "    </tr>\n",
       "  </thead>\n",
       "  <tbody>\n",
       "    <tr>\n",
       "      <th>0</th>\n",
       "      <td>1</td>\n",
       "      <td>HAM</td>\n",
       "      <td>Lewis</td>\n",
       "      <td>Hamilton</td>\n",
       "      <td>1985-01-07</td>\n",
       "      <td>British</td>\n",
       "      <td>UK</td>\n",
       "    </tr>\n",
       "    <tr>\n",
       "      <th>1</th>\n",
       "      <td>2</td>\n",
       "      <td>HEI</td>\n",
       "      <td>Nick</td>\n",
       "      <td>Heidfeld</td>\n",
       "      <td>1977-05-10</td>\n",
       "      <td>German</td>\n",
       "      <td>Germany</td>\n",
       "    </tr>\n",
       "  </tbody>\n",
       "</table>\n",
       "</div>"
      ],
      "text/plain": [
       "   driverId driver_code driver_forename driver_surname driver_dob  \\\n",
       "0         1         HAM           Lewis       Hamilton 1985-01-07   \n",
       "1         2         HEI            Nick       Heidfeld 1977-05-10   \n",
       "\n",
       "  driver_nationality driver_home  \n",
       "0            British          UK  \n",
       "1             German     Germany  "
      ]
     },
     "execution_count": 194,
     "metadata": {},
     "output_type": "execute_result"
    }
   ],
   "source": [
    "df6.head(2)"
   ]
  },
  {
   "cell_type": "code",
   "execution_count": 197,
   "id": "d4498e76",
   "metadata": {},
   "outputs": [
    {
     "data": {
      "text/html": [
       "<div>\n",
       "<style scoped>\n",
       "    .dataframe tbody tr th:only-of-type {\n",
       "        vertical-align: middle;\n",
       "    }\n",
       "\n",
       "    .dataframe tbody tr th {\n",
       "        vertical-align: top;\n",
       "    }\n",
       "\n",
       "    .dataframe thead th {\n",
       "        text-align: right;\n",
       "    }\n",
       "</style>\n",
       "<table border=\"1\" class=\"dataframe\">\n",
       "  <thead>\n",
       "    <tr style=\"text-align: right;\">\n",
       "      <th></th>\n",
       "      <th>circuitId</th>\n",
       "      <th>circuit_name</th>\n",
       "      <th>circuit_location</th>\n",
       "      <th>circuit_country</th>\n",
       "    </tr>\n",
       "  </thead>\n",
       "  <tbody>\n",
       "    <tr>\n",
       "      <th>0</th>\n",
       "      <td>1</td>\n",
       "      <td>Albert Park Grand Prix Circuit</td>\n",
       "      <td>Melbourne</td>\n",
       "      <td>Australia</td>\n",
       "    </tr>\n",
       "    <tr>\n",
       "      <th>1</th>\n",
       "      <td>2</td>\n",
       "      <td>Sepang International Circuit</td>\n",
       "      <td>Kuala Lumpur</td>\n",
       "      <td>Malaysia</td>\n",
       "    </tr>\n",
       "  </tbody>\n",
       "</table>\n",
       "</div>"
      ],
      "text/plain": [
       "   circuitId                    circuit_name circuit_location circuit_country\n",
       "0          1  Albert Park Grand Prix Circuit        Melbourne       Australia\n",
       "1          2    Sepang International Circuit     Kuala Lumpur        Malaysia"
      ]
     },
     "execution_count": 197,
     "metadata": {},
     "output_type": "execute_result"
    }
   ],
   "source": [
    "df1.head(2)"
   ]
  },
  {
   "cell_type": "code",
   "execution_count": null,
   "id": "e70bddb5",
   "metadata": {},
   "outputs": [],
   "source": [
    "#To make things easier, 'United States' : 'USA' in the'circuit_country' column\n",
    "df1['circuit_country'] = df1['circuit_country'].replace('United States', 'USA')"
   ]
  },
  {
   "cell_type": "code",
   "execution_count": 198,
   "id": "7bcbe7f1",
   "metadata": {},
   "outputs": [
    {
     "data": {
      "text/plain": [
       "array(['Australia', 'Malaysia', 'Bahrain', 'Spain', 'Turkey', 'Monaco',\n",
       "       'Canada', 'France', 'UK', 'Germany', 'Hungary', 'Belgium', 'Italy',\n",
       "       'Singapore', 'Japan', 'China', 'Brazil', 'USA', 'UAE', 'Argentina',\n",
       "       'Portugal', 'South Africa', 'Mexico', 'Korea', 'Netherlands',\n",
       "       'Sweden', 'Austria', 'Morocco', 'Switzerland', 'India', 'Russia',\n",
       "       'Azerbaijan', 'Saudi Arabia', 'Qatar'], dtype=object)"
      ]
     },
     "execution_count": 198,
     "metadata": {},
     "output_type": "execute_result"
    }
   ],
   "source": [
    "df1['circuit_country'].unique()"
   ]
  },
  {
   "cell_type": "code",
   "execution_count": 199,
   "id": "84ce0c0b",
   "metadata": {},
   "outputs": [],
   "source": [
    "#Introducing circuit_nationality\n",
    "# Dictionary mapping countries to nationalities\n",
    "country_to_nationality = {\n",
    "    'Australia': 'Australian',\n",
    "    'Malaysia': 'Malaysian',\n",
    "    'Bahrain': 'Bahraini',\n",
    "    'Spain': 'Spanish',\n",
    "    'Turkey': 'Turkish',\n",
    "    'Monaco': 'Monegasque',\n",
    "    'Canada': 'Canadian',\n",
    "    'France': 'French',\n",
    "    'UK': 'British',\n",
    "    'Germany': 'German',\n",
    "    'Hungary': 'Hungarian',\n",
    "    'Belgium': 'Belgian',\n",
    "    'Italy': 'Italian',\n",
    "    'Singapore': 'Singaporean',\n",
    "    'Japan': 'Japanese',\n",
    "    'China': 'Chinese',\n",
    "    'Brazil': 'Brazilian',\n",
    "    'USA': 'American',\n",
    "    'UAE': 'Emirati',\n",
    "    'Argentina': 'Argentine',\n",
    "    'Portugal': 'Portuguese',\n",
    "    'South Africa': 'South African',\n",
    "    'Mexico': 'Mexican',\n",
    "    'Korea': 'South Korean',\n",
    "    'Netherlands': 'Dutch',\n",
    "    'Sweden': 'Swedish',\n",
    "    'Austria': 'Austrian',\n",
    "    'Morocco': 'Moroccan',\n",
    "    'Switzerland': 'Swiss',\n",
    "    'India': 'Indian',\n",
    "    'Russia': 'Russian',\n",
    "    'Azerbaijan': 'Azerbaijani',\n",
    "    'Saudi Arabia': 'Saudi Arabian',\n",
    "    'Qatar': 'Qatari'\n",
    "}"
   ]
  },
  {
   "cell_type": "code",
   "execution_count": 200,
   "id": "c369bc23",
   "metadata": {},
   "outputs": [],
   "source": [
    "# Create the new 'circuit_nationality' column\n",
    "df1['circuit_nationality'] = df1['circuit_country'].map(country_to_nationality)"
   ]
  },
  {
   "cell_type": "code",
   "execution_count": 203,
   "id": "3bd2acb9",
   "metadata": {},
   "outputs": [
    {
     "data": {
      "text/html": [
       "<div>\n",
       "<style scoped>\n",
       "    .dataframe tbody tr th:only-of-type {\n",
       "        vertical-align: middle;\n",
       "    }\n",
       "\n",
       "    .dataframe tbody tr th {\n",
       "        vertical-align: top;\n",
       "    }\n",
       "\n",
       "    .dataframe thead th {\n",
       "        text-align: right;\n",
       "    }\n",
       "</style>\n",
       "<table border=\"1\" class=\"dataframe\">\n",
       "  <thead>\n",
       "    <tr style=\"text-align: right;\">\n",
       "      <th></th>\n",
       "      <th>circuitId</th>\n",
       "      <th>circuit_name</th>\n",
       "      <th>circuit_location</th>\n",
       "      <th>circuit_country</th>\n",
       "      <th>circuit_nationality</th>\n",
       "    </tr>\n",
       "  </thead>\n",
       "  <tbody>\n",
       "    <tr>\n",
       "      <th>0</th>\n",
       "      <td>1</td>\n",
       "      <td>Albert Park Grand Prix Circuit</td>\n",
       "      <td>Melbourne</td>\n",
       "      <td>Australia</td>\n",
       "      <td>Australian</td>\n",
       "    </tr>\n",
       "    <tr>\n",
       "      <th>1</th>\n",
       "      <td>2</td>\n",
       "      <td>Sepang International Circuit</td>\n",
       "      <td>Kuala Lumpur</td>\n",
       "      <td>Malaysia</td>\n",
       "      <td>Malaysian</td>\n",
       "    </tr>\n",
       "  </tbody>\n",
       "</table>\n",
       "</div>"
      ],
      "text/plain": [
       "   circuitId                    circuit_name circuit_location circuit_country  \\\n",
       "0          1  Albert Park Grand Prix Circuit        Melbourne       Australia   \n",
       "1          2    Sepang International Circuit     Kuala Lumpur        Malaysia   \n",
       "\n",
       "  circuit_nationality  \n",
       "0          Australian  \n",
       "1           Malaysian  "
      ]
     },
     "execution_count": 203,
     "metadata": {},
     "output_type": "execute_result"
    }
   ],
   "source": [
    "df1.head(2)"
   ]
  },
  {
   "cell_type": "code",
   "execution_count": 206,
   "id": "e9353741",
   "metadata": {},
   "outputs": [
    {
     "data": {
      "text/html": [
       "<div>\n",
       "<style scoped>\n",
       "    .dataframe tbody tr th:only-of-type {\n",
       "        vertical-align: middle;\n",
       "    }\n",
       "\n",
       "    .dataframe tbody tr th {\n",
       "        vertical-align: top;\n",
       "    }\n",
       "\n",
       "    .dataframe thead th {\n",
       "        text-align: right;\n",
       "    }\n",
       "</style>\n",
       "<table border=\"1\" class=\"dataframe\">\n",
       "  <thead>\n",
       "    <tr style=\"text-align: right;\">\n",
       "      <th></th>\n",
       "      <th>raceId</th>\n",
       "      <th>driverId</th>\n",
       "      <th>lap</th>\n",
       "      <th>position</th>\n",
       "      <th>milliseconds</th>\n",
       "      <th>time</th>\n",
       "    </tr>\n",
       "  </thead>\n",
       "  <tbody>\n",
       "    <tr>\n",
       "      <th>0</th>\n",
       "      <td>841</td>\n",
       "      <td>20</td>\n",
       "      <td>1</td>\n",
       "      <td>1</td>\n",
       "      <td>98109</td>\n",
       "      <td>0 days 00:01:38.109000</td>\n",
       "    </tr>\n",
       "    <tr>\n",
       "      <th>1</th>\n",
       "      <td>841</td>\n",
       "      <td>20</td>\n",
       "      <td>2</td>\n",
       "      <td>1</td>\n",
       "      <td>93006</td>\n",
       "      <td>0 days 00:01:33.006000</td>\n",
       "    </tr>\n",
       "  </tbody>\n",
       "</table>\n",
       "</div>"
      ],
      "text/plain": [
       "   raceId  driverId  lap  position  milliseconds                   time\n",
       "0     841        20    1         1         98109 0 days 00:01:38.109000\n",
       "1     841        20    2         1         93006 0 days 00:01:33.006000"
      ]
     },
     "execution_count": 206,
     "metadata": {},
     "output_type": "execute_result"
    }
   ],
   "source": [
    "df7.head(2)"
   ]
  },
  {
   "cell_type": "code",
   "execution_count": 209,
   "id": "f4724272",
   "metadata": {},
   "outputs": [],
   "source": [
    "df7.drop(columns='milliseconds', inplace=True)"
   ]
  },
  {
   "cell_type": "code",
   "execution_count": 211,
   "id": "c6f00d7e",
   "metadata": {},
   "outputs": [],
   "source": [
    "df7.rename(columns={'time':'lap_time'}, inplace=True)"
   ]
  },
  {
   "cell_type": "code",
   "execution_count": 217,
   "id": "666d7ddd",
   "metadata": {},
   "outputs": [
    {
     "data": {
      "text/html": [
       "<div>\n",
       "<style scoped>\n",
       "    .dataframe tbody tr th:only-of-type {\n",
       "        vertical-align: middle;\n",
       "    }\n",
       "\n",
       "    .dataframe tbody tr th {\n",
       "        vertical-align: top;\n",
       "    }\n",
       "\n",
       "    .dataframe thead th {\n",
       "        text-align: right;\n",
       "    }\n",
       "</style>\n",
       "<table border=\"1\" class=\"dataframe\">\n",
       "  <thead>\n",
       "    <tr style=\"text-align: right;\">\n",
       "      <th></th>\n",
       "      <th>raceId</th>\n",
       "      <th>driverId</th>\n",
       "      <th>lap</th>\n",
       "      <th>position</th>\n",
       "      <th>lap_time</th>\n",
       "    </tr>\n",
       "  </thead>\n",
       "  <tbody>\n",
       "    <tr>\n",
       "      <th>0</th>\n",
       "      <td>841</td>\n",
       "      <td>20</td>\n",
       "      <td>1</td>\n",
       "      <td>1</td>\n",
       "      <td>0 days 00:01:38.109000</td>\n",
       "    </tr>\n",
       "    <tr>\n",
       "      <th>1</th>\n",
       "      <td>841</td>\n",
       "      <td>20</td>\n",
       "      <td>2</td>\n",
       "      <td>1</td>\n",
       "      <td>0 days 00:01:33.006000</td>\n",
       "    </tr>\n",
       "  </tbody>\n",
       "</table>\n",
       "</div>"
      ],
      "text/plain": [
       "   raceId  driverId  lap  position               lap_time\n",
       "0     841        20    1         1 0 days 00:01:38.109000\n",
       "1     841        20    2         1 0 days 00:01:33.006000"
      ]
     },
     "execution_count": 217,
     "metadata": {},
     "output_type": "execute_result"
    }
   ],
   "source": [
    "df7.head(2)"
   ]
  },
  {
   "cell_type": "code",
   "execution_count": 219,
   "id": "2f5a9016",
   "metadata": {},
   "outputs": [
    {
     "data": {
      "text/html": [
       "<div>\n",
       "<style scoped>\n",
       "    .dataframe tbody tr th:only-of-type {\n",
       "        vertical-align: middle;\n",
       "    }\n",
       "\n",
       "    .dataframe tbody tr th {\n",
       "        vertical-align: top;\n",
       "    }\n",
       "\n",
       "    .dataframe thead th {\n",
       "        text-align: right;\n",
       "    }\n",
       "</style>\n",
       "<table border=\"1\" class=\"dataframe\">\n",
       "  <thead>\n",
       "    <tr style=\"text-align: right;\">\n",
       "      <th></th>\n",
       "      <th>raceId</th>\n",
       "      <th>driverId</th>\n",
       "      <th>stop</th>\n",
       "      <th>lap</th>\n",
       "      <th>milliseconds</th>\n",
       "    </tr>\n",
       "  </thead>\n",
       "  <tbody>\n",
       "    <tr>\n",
       "      <th>0</th>\n",
       "      <td>841</td>\n",
       "      <td>153</td>\n",
       "      <td>1</td>\n",
       "      <td>1</td>\n",
       "      <td>26898</td>\n",
       "    </tr>\n",
       "    <tr>\n",
       "      <th>1</th>\n",
       "      <td>841</td>\n",
       "      <td>30</td>\n",
       "      <td>1</td>\n",
       "      <td>1</td>\n",
       "      <td>25021</td>\n",
       "    </tr>\n",
       "  </tbody>\n",
       "</table>\n",
       "</div>"
      ],
      "text/plain": [
       "   raceId  driverId  stop  lap  milliseconds\n",
       "0     841       153     1    1         26898\n",
       "1     841        30     1    1         25021"
      ]
     },
     "execution_count": 219,
     "metadata": {},
     "output_type": "execute_result"
    }
   ],
   "source": [
    "df8.head(2)"
   ]
  },
  {
   "cell_type": "code",
   "execution_count": 220,
   "id": "acc6ce48",
   "metadata": {},
   "outputs": [
    {
     "data": {
      "text/html": [
       "<div>\n",
       "<style scoped>\n",
       "    .dataframe tbody tr th:only-of-type {\n",
       "        vertical-align: middle;\n",
       "    }\n",
       "\n",
       "    .dataframe tbody tr th {\n",
       "        vertical-align: top;\n",
       "    }\n",
       "\n",
       "    .dataframe thead th {\n",
       "        text-align: right;\n",
       "    }\n",
       "</style>\n",
       "<table border=\"1\" class=\"dataframe\">\n",
       "  <thead>\n",
       "    <tr style=\"text-align: right;\">\n",
       "      <th></th>\n",
       "      <th>qualifyId</th>\n",
       "      <th>raceId</th>\n",
       "      <th>driverId</th>\n",
       "      <th>constructorId</th>\n",
       "      <th>number</th>\n",
       "      <th>position</th>\n",
       "      <th>q1</th>\n",
       "      <th>q2</th>\n",
       "      <th>q3</th>\n",
       "    </tr>\n",
       "  </thead>\n",
       "  <tbody>\n",
       "    <tr>\n",
       "      <th>0</th>\n",
       "      <td>1</td>\n",
       "      <td>18</td>\n",
       "      <td>1</td>\n",
       "      <td>1</td>\n",
       "      <td>22</td>\n",
       "      <td>1</td>\n",
       "      <td>1900-01-01 00:01:26.572</td>\n",
       "      <td>1900-01-01 00:01:25.187</td>\n",
       "      <td>1900-01-01 00:01:26.714</td>\n",
       "    </tr>\n",
       "    <tr>\n",
       "      <th>1</th>\n",
       "      <td>2</td>\n",
       "      <td>18</td>\n",
       "      <td>9</td>\n",
       "      <td>2</td>\n",
       "      <td>4</td>\n",
       "      <td>2</td>\n",
       "      <td>1900-01-01 00:01:26.103</td>\n",
       "      <td>1900-01-01 00:01:25.315</td>\n",
       "      <td>1900-01-01 00:01:26.869</td>\n",
       "    </tr>\n",
       "  </tbody>\n",
       "</table>\n",
       "</div>"
      ],
      "text/plain": [
       "   qualifyId  raceId  driverId  constructorId  number  position  \\\n",
       "0          1      18         1              1      22         1   \n",
       "1          2      18         9              2       4         2   \n",
       "\n",
       "                       q1                      q2                      q3  \n",
       "0 1900-01-01 00:01:26.572 1900-01-01 00:01:25.187 1900-01-01 00:01:26.714  \n",
       "1 1900-01-01 00:01:26.103 1900-01-01 00:01:25.315 1900-01-01 00:01:26.869  "
      ]
     },
     "execution_count": 220,
     "metadata": {},
     "output_type": "execute_result"
    }
   ],
   "source": [
    "df9.head(2)"
   ]
  },
  {
   "cell_type": "code",
   "execution_count": 228,
   "id": "8eb179bf",
   "metadata": {
    "scrolled": true
   },
   "outputs": [],
   "source": [
    "# Remove days from the 'q1', 'q2', 'q3' columns\n",
    "df9['q1'] = df9['q1'] - df9['q1'].dt.floor('D')\n",
    "df9['q2'] = df9['q2'] - df9['q2'].dt.floor('D')\n",
    "df9['q3'] = df9['q3'] - df9['q3'].dt.floor('D')"
   ]
  },
  {
   "cell_type": "code",
   "execution_count": 229,
   "id": "7d95fd07",
   "metadata": {},
   "outputs": [
    {
     "data": {
      "text/html": [
       "<div>\n",
       "<style scoped>\n",
       "    .dataframe tbody tr th:only-of-type {\n",
       "        vertical-align: middle;\n",
       "    }\n",
       "\n",
       "    .dataframe tbody tr th {\n",
       "        vertical-align: top;\n",
       "    }\n",
       "\n",
       "    .dataframe thead th {\n",
       "        text-align: right;\n",
       "    }\n",
       "</style>\n",
       "<table border=\"1\" class=\"dataframe\">\n",
       "  <thead>\n",
       "    <tr style=\"text-align: right;\">\n",
       "      <th></th>\n",
       "      <th>qualifyId</th>\n",
       "      <th>raceId</th>\n",
       "      <th>driverId</th>\n",
       "      <th>constructorId</th>\n",
       "      <th>number</th>\n",
       "      <th>position</th>\n",
       "      <th>q1</th>\n",
       "      <th>q2</th>\n",
       "      <th>q3</th>\n",
       "    </tr>\n",
       "  </thead>\n",
       "  <tbody>\n",
       "    <tr>\n",
       "      <th>0</th>\n",
       "      <td>1</td>\n",
       "      <td>18</td>\n",
       "      <td>1</td>\n",
       "      <td>1</td>\n",
       "      <td>22</td>\n",
       "      <td>1</td>\n",
       "      <td>0 days 00:01:26.572000</td>\n",
       "      <td>0 days 00:01:25.187000</td>\n",
       "      <td>0 days 00:01:26.714000</td>\n",
       "    </tr>\n",
       "    <tr>\n",
       "      <th>1</th>\n",
       "      <td>2</td>\n",
       "      <td>18</td>\n",
       "      <td>9</td>\n",
       "      <td>2</td>\n",
       "      <td>4</td>\n",
       "      <td>2</td>\n",
       "      <td>0 days 00:01:26.103000</td>\n",
       "      <td>0 days 00:01:25.315000</td>\n",
       "      <td>0 days 00:01:26.869000</td>\n",
       "    </tr>\n",
       "  </tbody>\n",
       "</table>\n",
       "</div>"
      ],
      "text/plain": [
       "   qualifyId  raceId  driverId  constructorId  number  position  \\\n",
       "0          1      18         1              1      22         1   \n",
       "1          2      18         9              2       4         2   \n",
       "\n",
       "                      q1                     q2                     q3  \n",
       "0 0 days 00:01:26.572000 0 days 00:01:25.187000 0 days 00:01:26.714000  \n",
       "1 0 days 00:01:26.103000 0 days 00:01:25.315000 0 days 00:01:26.869000  "
      ]
     },
     "execution_count": 229,
     "metadata": {},
     "output_type": "execute_result"
    }
   ],
   "source": [
    "df9.head(2)"
   ]
  },
  {
   "cell_type": "code",
   "execution_count": 234,
   "id": "63186d3f",
   "metadata": {},
   "outputs": [
    {
     "data": {
      "text/html": [
       "<div>\n",
       "<style scoped>\n",
       "    .dataframe tbody tr th:only-of-type {\n",
       "        vertical-align: middle;\n",
       "    }\n",
       "\n",
       "    .dataframe tbody tr th {\n",
       "        vertical-align: top;\n",
       "    }\n",
       "\n",
       "    .dataframe thead th {\n",
       "        text-align: right;\n",
       "    }\n",
       "</style>\n",
       "<table border=\"1\" class=\"dataframe\">\n",
       "  <thead>\n",
       "    <tr style=\"text-align: right;\">\n",
       "      <th></th>\n",
       "      <th>raceId</th>\n",
       "      <th>year</th>\n",
       "      <th>round</th>\n",
       "      <th>circuitId</th>\n",
       "    </tr>\n",
       "  </thead>\n",
       "  <tbody>\n",
       "    <tr>\n",
       "      <th>0</th>\n",
       "      <td>1</td>\n",
       "      <td>2009</td>\n",
       "      <td>1</td>\n",
       "      <td>1</td>\n",
       "    </tr>\n",
       "    <tr>\n",
       "      <th>1</th>\n",
       "      <td>2</td>\n",
       "      <td>2009</td>\n",
       "      <td>2</td>\n",
       "      <td>2</td>\n",
       "    </tr>\n",
       "  </tbody>\n",
       "</table>\n",
       "</div>"
      ],
      "text/plain": [
       "   raceId  year  round  circuitId\n",
       "0       1  2009      1          1\n",
       "1       2  2009      2          2"
      ]
     },
     "execution_count": 234,
     "metadata": {},
     "output_type": "execute_result"
    }
   ],
   "source": [
    "df10.head(2)"
   ]
  },
  {
   "cell_type": "code",
   "execution_count": 236,
   "id": "6d112670",
   "metadata": {},
   "outputs": [
    {
     "data": {
      "text/html": [
       "<div>\n",
       "<style scoped>\n",
       "    .dataframe tbody tr th:only-of-type {\n",
       "        vertical-align: middle;\n",
       "    }\n",
       "\n",
       "    .dataframe tbody tr th {\n",
       "        vertical-align: top;\n",
       "    }\n",
       "\n",
       "    .dataframe thead th {\n",
       "        text-align: right;\n",
       "    }\n",
       "</style>\n",
       "<table border=\"1\" class=\"dataframe\">\n",
       "  <thead>\n",
       "    <tr style=\"text-align: right;\">\n",
       "      <th></th>\n",
       "      <th>resultId</th>\n",
       "      <th>raceId</th>\n",
       "      <th>driverId</th>\n",
       "      <th>constructorId</th>\n",
       "      <th>grid</th>\n",
       "      <th>positionOrder</th>\n",
       "      <th>points</th>\n",
       "      <th>laps</th>\n",
       "      <th>milliseconds</th>\n",
       "      <th>fastestLap</th>\n",
       "      <th>fastestLapRank</th>\n",
       "      <th>fastestLapTime</th>\n",
       "      <th>fastestLapSpeed</th>\n",
       "      <th>statusId</th>\n",
       "    </tr>\n",
       "  </thead>\n",
       "  <tbody>\n",
       "    <tr>\n",
       "      <th>0</th>\n",
       "      <td>1</td>\n",
       "      <td>18</td>\n",
       "      <td>1</td>\n",
       "      <td>1</td>\n",
       "      <td>1</td>\n",
       "      <td>1</td>\n",
       "      <td>10.0</td>\n",
       "      <td>58</td>\n",
       "      <td>5690616</td>\n",
       "      <td>39</td>\n",
       "      <td>2</td>\n",
       "      <td>01:27.452</td>\n",
       "      <td>218.300</td>\n",
       "      <td>1</td>\n",
       "    </tr>\n",
       "    <tr>\n",
       "      <th>1</th>\n",
       "      <td>2</td>\n",
       "      <td>18</td>\n",
       "      <td>2</td>\n",
       "      <td>2</td>\n",
       "      <td>5</td>\n",
       "      <td>2</td>\n",
       "      <td>8.0</td>\n",
       "      <td>58</td>\n",
       "      <td>5696094</td>\n",
       "      <td>41</td>\n",
       "      <td>3</td>\n",
       "      <td>01:27.739</td>\n",
       "      <td>217.586</td>\n",
       "      <td>1</td>\n",
       "    </tr>\n",
       "  </tbody>\n",
       "</table>\n",
       "</div>"
      ],
      "text/plain": [
       "   resultId  raceId  driverId  constructorId  grid  positionOrder  points  \\\n",
       "0         1      18         1              1     1              1    10.0   \n",
       "1         2      18         2              2     5              2     8.0   \n",
       "\n",
       "   laps  milliseconds  fastestLap  fastestLapRank fastestLapTime  \\\n",
       "0    58       5690616          39               2      01:27.452   \n",
       "1    58       5696094          41               3      01:27.739   \n",
       "\n",
       "   fastestLapSpeed  statusId  \n",
       "0          218.300         1  \n",
       "1          217.586         1  "
      ]
     },
     "execution_count": 236,
     "metadata": {},
     "output_type": "execute_result"
    }
   ],
   "source": [
    "df11.head(2)"
   ]
  },
  {
   "cell_type": "code",
   "execution_count": 239,
   "id": "d138a7c3",
   "metadata": {},
   "outputs": [
    {
     "name": "stdout",
     "output_type": "stream",
     "text": [
      "<class 'pandas.core.frame.DataFrame'>\n",
      "RangeIndex: 26080 entries, 0 to 26079\n",
      "Data columns (total 14 columns):\n",
      " #   Column           Non-Null Count  Dtype  \n",
      "---  ------           --------------  -----  \n",
      " 0   resultId         26080 non-null  int64  \n",
      " 1   raceId           26080 non-null  int64  \n",
      " 2   driverId         26080 non-null  int64  \n",
      " 3   constructorId    26080 non-null  int64  \n",
      " 4   grid             26080 non-null  int64  \n",
      " 5   positionOrder    26080 non-null  int64  \n",
      " 6   points           26080 non-null  float64\n",
      " 7   laps             26080 non-null  int64  \n",
      " 8   milliseconds     26080 non-null  int32  \n",
      " 9   fastestLap       26080 non-null  int32  \n",
      " 10  fastestLapRank   26080 non-null  int32  \n",
      " 11  fastestLapTime   26080 non-null  object \n",
      " 12  fastestLapSpeed  26080 non-null  float64\n",
      " 13  statusId         26080 non-null  int64  \n",
      "dtypes: float64(2), int32(3), int64(8), object(1)\n",
      "memory usage: 2.5+ MB\n"
     ]
    }
   ],
   "source": [
    "df11.info()"
   ]
  },
  {
   "cell_type": "code",
   "execution_count": 240,
   "id": "1fb76836",
   "metadata": {},
   "outputs": [],
   "source": [
    "# Convert 'fastestLapTime' column to timedelta\n",
    "df11['fastestLapTime'] = pd.to_timedelta('00:' + df11['fastestLapTime'])"
   ]
  },
  {
   "cell_type": "code",
   "execution_count": 242,
   "id": "7939ca2f",
   "metadata": {},
   "outputs": [],
   "source": [
    "#dropping milliseconds\n",
    "df11.drop(columns={'milliseconds'}, inplace=True)"
   ]
  },
  {
   "cell_type": "code",
   "execution_count": 244,
   "id": "a44e5848",
   "metadata": {},
   "outputs": [],
   "source": [
    "df11.rename(columns={'positionOrder':'position', 'grid':'grid_position'}, inplace=True)"
   ]
  },
  {
   "cell_type": "code",
   "execution_count": 245,
   "id": "3475073a",
   "metadata": {},
   "outputs": [
    {
     "data": {
      "text/html": [
       "<div>\n",
       "<style scoped>\n",
       "    .dataframe tbody tr th:only-of-type {\n",
       "        vertical-align: middle;\n",
       "    }\n",
       "\n",
       "    .dataframe tbody tr th {\n",
       "        vertical-align: top;\n",
       "    }\n",
       "\n",
       "    .dataframe thead th {\n",
       "        text-align: right;\n",
       "    }\n",
       "</style>\n",
       "<table border=\"1\" class=\"dataframe\">\n",
       "  <thead>\n",
       "    <tr style=\"text-align: right;\">\n",
       "      <th></th>\n",
       "      <th>resultId</th>\n",
       "      <th>raceId</th>\n",
       "      <th>driverId</th>\n",
       "      <th>constructorId</th>\n",
       "      <th>grid_position</th>\n",
       "      <th>position</th>\n",
       "      <th>points</th>\n",
       "      <th>laps</th>\n",
       "      <th>fastestLap</th>\n",
       "      <th>fastestLapRank</th>\n",
       "      <th>fastestLapTime</th>\n",
       "      <th>fastestLapSpeed</th>\n",
       "      <th>statusId</th>\n",
       "    </tr>\n",
       "  </thead>\n",
       "  <tbody>\n",
       "    <tr>\n",
       "      <th>0</th>\n",
       "      <td>1</td>\n",
       "      <td>18</td>\n",
       "      <td>1</td>\n",
       "      <td>1</td>\n",
       "      <td>1</td>\n",
       "      <td>1</td>\n",
       "      <td>10.0</td>\n",
       "      <td>58</td>\n",
       "      <td>39</td>\n",
       "      <td>2</td>\n",
       "      <td>0 days 00:01:27.452000</td>\n",
       "      <td>218.300</td>\n",
       "      <td>1</td>\n",
       "    </tr>\n",
       "    <tr>\n",
       "      <th>1</th>\n",
       "      <td>2</td>\n",
       "      <td>18</td>\n",
       "      <td>2</td>\n",
       "      <td>2</td>\n",
       "      <td>5</td>\n",
       "      <td>2</td>\n",
       "      <td>8.0</td>\n",
       "      <td>58</td>\n",
       "      <td>41</td>\n",
       "      <td>3</td>\n",
       "      <td>0 days 00:01:27.739000</td>\n",
       "      <td>217.586</td>\n",
       "      <td>1</td>\n",
       "    </tr>\n",
       "  </tbody>\n",
       "</table>\n",
       "</div>"
      ],
      "text/plain": [
       "   resultId  raceId  driverId  constructorId  grid_position  position  points  \\\n",
       "0         1      18         1              1              1         1    10.0   \n",
       "1         2      18         2              2              5         2     8.0   \n",
       "\n",
       "   laps  fastestLap  fastestLapRank         fastestLapTime  fastestLapSpeed  \\\n",
       "0    58          39               2 0 days 00:01:27.452000          218.300   \n",
       "1    58          41               3 0 days 00:01:27.739000          217.586   \n",
       "\n",
       "   statusId  \n",
       "0         1  \n",
       "1         1  "
      ]
     },
     "execution_count": 245,
     "metadata": {},
     "output_type": "execute_result"
    }
   ],
   "source": [
    "df11.head(2)"
   ]
  },
  {
   "cell_type": "code",
   "execution_count": 246,
   "id": "8da16a4e",
   "metadata": {},
   "outputs": [
    {
     "data": {
      "text/html": [
       "<div>\n",
       "<style scoped>\n",
       "    .dataframe tbody tr th:only-of-type {\n",
       "        vertical-align: middle;\n",
       "    }\n",
       "\n",
       "    .dataframe tbody tr th {\n",
       "        vertical-align: top;\n",
       "    }\n",
       "\n",
       "    .dataframe thead th {\n",
       "        text-align: right;\n",
       "    }\n",
       "</style>\n",
       "<table border=\"1\" class=\"dataframe\">\n",
       "  <thead>\n",
       "    <tr style=\"text-align: right;\">\n",
       "      <th></th>\n",
       "      <th>year</th>\n",
       "      <th>url</th>\n",
       "    </tr>\n",
       "  </thead>\n",
       "  <tbody>\n",
       "    <tr>\n",
       "      <th>0</th>\n",
       "      <td>2009</td>\n",
       "      <td>http://en.wikipedia.org/wiki/2009_Formula_One_...</td>\n",
       "    </tr>\n",
       "    <tr>\n",
       "      <th>1</th>\n",
       "      <td>2008</td>\n",
       "      <td>http://en.wikipedia.org/wiki/2008_Formula_One_...</td>\n",
       "    </tr>\n",
       "  </tbody>\n",
       "</table>\n",
       "</div>"
      ],
      "text/plain": [
       "   year                                                url\n",
       "0  2009  http://en.wikipedia.org/wiki/2009_Formula_One_...\n",
       "1  2008  http://en.wikipedia.org/wiki/2008_Formula_One_..."
      ]
     },
     "execution_count": 246,
     "metadata": {},
     "output_type": "execute_result"
    }
   ],
   "source": [
    "df12.head(2)"
   ]
  },
  {
   "cell_type": "code",
   "execution_count": 247,
   "id": "985bc2fa",
   "metadata": {},
   "outputs": [
    {
     "data": {
      "text/html": [
       "<div>\n",
       "<style scoped>\n",
       "    .dataframe tbody tr th:only-of-type {\n",
       "        vertical-align: middle;\n",
       "    }\n",
       "\n",
       "    .dataframe tbody tr th {\n",
       "        vertical-align: top;\n",
       "    }\n",
       "\n",
       "    .dataframe thead th {\n",
       "        text-align: right;\n",
       "    }\n",
       "</style>\n",
       "<table border=\"1\" class=\"dataframe\">\n",
       "  <thead>\n",
       "    <tr style=\"text-align: right;\">\n",
       "      <th></th>\n",
       "      <th>resultId</th>\n",
       "      <th>raceId</th>\n",
       "      <th>driverId</th>\n",
       "      <th>constructorId</th>\n",
       "      <th>grid</th>\n",
       "      <th>positionOrder</th>\n",
       "      <th>points</th>\n",
       "      <th>laps</th>\n",
       "      <th>milliseconds</th>\n",
       "      <th>fastestLap</th>\n",
       "      <th>fastestLapTime</th>\n",
       "      <th>statusId</th>\n",
       "      <th>fastestLapRank</th>\n",
       "    </tr>\n",
       "  </thead>\n",
       "  <tbody>\n",
       "    <tr>\n",
       "      <th>0</th>\n",
       "      <td>1</td>\n",
       "      <td>1061</td>\n",
       "      <td>830</td>\n",
       "      <td>9</td>\n",
       "      <td>2</td>\n",
       "      <td>1</td>\n",
       "      <td>3</td>\n",
       "      <td>17</td>\n",
       "      <td>1538426</td>\n",
       "      <td>14</td>\n",
       "      <td>01:30.013</td>\n",
       "      <td>1</td>\n",
       "      <td>3</td>\n",
       "    </tr>\n",
       "    <tr>\n",
       "      <th>1</th>\n",
       "      <td>2</td>\n",
       "      <td>1061</td>\n",
       "      <td>1</td>\n",
       "      <td>131</td>\n",
       "      <td>1</td>\n",
       "      <td>2</td>\n",
       "      <td>2</td>\n",
       "      <td>17</td>\n",
       "      <td>1539856</td>\n",
       "      <td>17</td>\n",
       "      <td>01:29.937</td>\n",
       "      <td>1</td>\n",
       "      <td>1</td>\n",
       "    </tr>\n",
       "  </tbody>\n",
       "</table>\n",
       "</div>"
      ],
      "text/plain": [
       "   resultId  raceId  driverId  constructorId  grid  positionOrder  points  \\\n",
       "0         1    1061       830              9     2              1       3   \n",
       "1         2    1061         1            131     1              2       2   \n",
       "\n",
       "   laps  milliseconds  fastestLap fastestLapTime  statusId  fastestLapRank  \n",
       "0    17       1538426          14      01:30.013         1               3  \n",
       "1    17       1539856          17      01:29.937         1               1  "
      ]
     },
     "execution_count": 247,
     "metadata": {},
     "output_type": "execute_result"
    }
   ],
   "source": [
    "df13.head(2)"
   ]
  },
  {
   "cell_type": "code",
   "execution_count": 249,
   "id": "81a6f20f",
   "metadata": {},
   "outputs": [
    {
     "name": "stdout",
     "output_type": "stream",
     "text": [
      "<class 'pandas.core.frame.DataFrame'>\n",
      "RangeIndex: 180 entries, 0 to 179\n",
      "Data columns (total 13 columns):\n",
      " #   Column          Non-Null Count  Dtype \n",
      "---  ------          --------------  ----- \n",
      " 0   resultId        180 non-null    int64 \n",
      " 1   raceId          180 non-null    int64 \n",
      " 2   driverId        180 non-null    int64 \n",
      " 3   constructorId   180 non-null    int64 \n",
      " 4   grid            180 non-null    int64 \n",
      " 5   positionOrder   180 non-null    int64 \n",
      " 6   points          180 non-null    int64 \n",
      " 7   laps            180 non-null    int64 \n",
      " 8   milliseconds    180 non-null    int32 \n",
      " 9   fastestLap      180 non-null    int32 \n",
      " 10  fastestLapTime  180 non-null    object\n",
      " 11  statusId        180 non-null    int64 \n",
      " 12  fastestLapRank  180 non-null    int32 \n",
      "dtypes: int32(3), int64(9), object(1)\n",
      "memory usage: 16.3+ KB\n"
     ]
    }
   ],
   "source": [
    "df13.info()"
   ]
  },
  {
   "cell_type": "code",
   "execution_count": 250,
   "id": "56b16d17",
   "metadata": {},
   "outputs": [],
   "source": [
    "# Convert 'fastestLapTime' column to timedelta\n",
    "df13['fastestLapTime'] = pd.to_timedelta('00:' + df13['fastestLapTime'])\n",
    "#dropping milliseconds\n",
    "df13.drop(columns={'milliseconds'}, inplace=True)\n",
    "df13.rename(columns={'positionOrder':'position', 'grid':'grid_position'}, inplace=True)"
   ]
  },
  {
   "cell_type": "code",
   "execution_count": 253,
   "id": "910ac0a3",
   "metadata": {},
   "outputs": [
    {
     "data": {
      "text/html": [
       "<div>\n",
       "<style scoped>\n",
       "    .dataframe tbody tr th:only-of-type {\n",
       "        vertical-align: middle;\n",
       "    }\n",
       "\n",
       "    .dataframe tbody tr th {\n",
       "        vertical-align: top;\n",
       "    }\n",
       "\n",
       "    .dataframe thead th {\n",
       "        text-align: right;\n",
       "    }\n",
       "</style>\n",
       "<table border=\"1\" class=\"dataframe\">\n",
       "  <thead>\n",
       "    <tr style=\"text-align: right;\">\n",
       "      <th></th>\n",
       "      <th>resultId</th>\n",
       "      <th>raceId</th>\n",
       "      <th>driverId</th>\n",
       "      <th>constructorId</th>\n",
       "      <th>grid_position</th>\n",
       "      <th>position</th>\n",
       "      <th>points</th>\n",
       "      <th>laps</th>\n",
       "      <th>fastestLap</th>\n",
       "      <th>fastestLapTime</th>\n",
       "      <th>statusId</th>\n",
       "      <th>fastestLapRank</th>\n",
       "    </tr>\n",
       "  </thead>\n",
       "  <tbody>\n",
       "    <tr>\n",
       "      <th>0</th>\n",
       "      <td>1</td>\n",
       "      <td>1061</td>\n",
       "      <td>830</td>\n",
       "      <td>9</td>\n",
       "      <td>2</td>\n",
       "      <td>1</td>\n",
       "      <td>3</td>\n",
       "      <td>17</td>\n",
       "      <td>14</td>\n",
       "      <td>0 days 00:01:30.013000</td>\n",
       "      <td>1</td>\n",
       "      <td>3</td>\n",
       "    </tr>\n",
       "    <tr>\n",
       "      <th>1</th>\n",
       "      <td>2</td>\n",
       "      <td>1061</td>\n",
       "      <td>1</td>\n",
       "      <td>131</td>\n",
       "      <td>1</td>\n",
       "      <td>2</td>\n",
       "      <td>2</td>\n",
       "      <td>17</td>\n",
       "      <td>17</td>\n",
       "      <td>0 days 00:01:29.937000</td>\n",
       "      <td>1</td>\n",
       "      <td>1</td>\n",
       "    </tr>\n",
       "  </tbody>\n",
       "</table>\n",
       "</div>"
      ],
      "text/plain": [
       "   resultId  raceId  driverId  constructorId  grid_position  position  points  \\\n",
       "0         1    1061       830              9              2         1       3   \n",
       "1         2    1061         1            131              1         2       2   \n",
       "\n",
       "   laps  fastestLap         fastestLapTime  statusId  fastestLapRank  \n",
       "0    17          14 0 days 00:01:30.013000         1               3  \n",
       "1    17          17 0 days 00:01:29.937000         1               1  "
      ]
     },
     "execution_count": 253,
     "metadata": {},
     "output_type": "execute_result"
    }
   ],
   "source": [
    "df13.head(2)"
   ]
  },
  {
   "cell_type": "code",
   "execution_count": 254,
   "id": "d75458b9",
   "metadata": {},
   "outputs": [
    {
     "data": {
      "text/html": [
       "<div>\n",
       "<style scoped>\n",
       "    .dataframe tbody tr th:only-of-type {\n",
       "        vertical-align: middle;\n",
       "    }\n",
       "\n",
       "    .dataframe tbody tr th {\n",
       "        vertical-align: top;\n",
       "    }\n",
       "\n",
       "    .dataframe thead th {\n",
       "        text-align: right;\n",
       "    }\n",
       "</style>\n",
       "<table border=\"1\" class=\"dataframe\">\n",
       "  <thead>\n",
       "    <tr style=\"text-align: right;\">\n",
       "      <th></th>\n",
       "      <th>statusId</th>\n",
       "      <th>status</th>\n",
       "    </tr>\n",
       "  </thead>\n",
       "  <tbody>\n",
       "    <tr>\n",
       "      <th>0</th>\n",
       "      <td>1</td>\n",
       "      <td>Finished</td>\n",
       "    </tr>\n",
       "    <tr>\n",
       "      <th>1</th>\n",
       "      <td>2</td>\n",
       "      <td>Disqualified</td>\n",
       "    </tr>\n",
       "    <tr>\n",
       "      <th>2</th>\n",
       "      <td>3</td>\n",
       "      <td>Accident</td>\n",
       "    </tr>\n",
       "    <tr>\n",
       "      <th>3</th>\n",
       "      <td>4</td>\n",
       "      <td>Collision</td>\n",
       "    </tr>\n",
       "    <tr>\n",
       "      <th>4</th>\n",
       "      <td>5</td>\n",
       "      <td>Engine</td>\n",
       "    </tr>\n",
       "  </tbody>\n",
       "</table>\n",
       "</div>"
      ],
      "text/plain": [
       "   statusId        status\n",
       "0         1      Finished\n",
       "1         2  Disqualified\n",
       "2         3      Accident\n",
       "3         4     Collision\n",
       "4         5        Engine"
      ]
     },
     "execution_count": 254,
     "metadata": {},
     "output_type": "execute_result"
    }
   ],
   "source": [
    "df14.head()"
   ]
  },
  {
   "cell_type": "code",
   "execution_count": 255,
   "id": "5a20627b",
   "metadata": {},
   "outputs": [],
   "source": [
    "#Dataset is Cleaned!!!"
   ]
  },
  {
   "cell_type": "code",
   "execution_count": 1,
   "id": "1608e756",
   "metadata": {},
   "outputs": [],
   "source": [
    "import pandas as pd\n",
    "import numpy as np\n",
    "import matplotlib.pyplot as plt\n",
    "%matplotlib inline"
   ]
  },
  {
   "cell_type": "code",
   "execution_count": 2,
   "id": "047e85e5",
   "metadata": {},
   "outputs": [],
   "source": [
    "df1 = pd.read_csv(r\"C:\\Users\\sulet\\Desktop\\F1_History_Cleaned\\cleaned_circuits.csv\")\n",
    "df2 = pd.read_csv(r\"C:\\Users\\sulet\\Desktop\\F1_History_Cleaned\\cleaned_constructor_results.csv\")\n",
    "df3 = pd.read_csv(r\"C:\\Users\\sulet\\Desktop\\F1_History_Cleaned\\cleaned_constructor_standings.csv\")\n",
    "df4 = pd.read_csv(r\"C:\\Users\\sulet\\Desktop\\F1_History_Cleaned\\cleaned_constructors.csv\")\n",
    "df5 = pd.read_csv(r\"C:\\Users\\sulet\\Desktop\\F1_History_Cleaned\\cleaned_driver_standings.csv\")\n",
    "df6 = pd.read_csv(r\"C:\\Users\\sulet\\Desktop\\F1_History_Cleaned\\cleaned_drivers.csv\")\n",
    "df7 = pd.read_csv(r\"C:\\Users\\sulet\\Desktop\\F1_History_Cleaned\\cleaned_lap_times.csv\")\n",
    "df8 = pd.read_csv(r\"C:\\Users\\sulet\\Desktop\\F1_History_Cleaned\\cleaned_pit_stops.csv\")\n",
    "df9 = pd.read_csv(r\"C:\\Users\\sulet\\Desktop\\F1_History_Cleaned\\cleaned_qualifying.csv\")\n",
    "df10 = pd.read_csv(r\"C:\\Users\\sulet\\Desktop\\F1_History_Cleaned\\cleaned_races.csv\")\n",
    "df11 = pd.read_csv(r\"C:\\Users\\sulet\\Desktop\\F1_History_Cleaned\\cleaned_results.csv\")\n",
    "df12 = pd.read_csv(r\"C:\\Users\\sulet\\Desktop\\F1_History_Cleaned\\cleaned_seasons.csv\")\n",
    "df13 = pd.read_csv(r\"C:\\Users\\sulet\\Desktop\\F1_History_Cleaned\\cleaned_sprint_results.csv\")\n",
    "df14 = pd.read_csv(r\"C:\\Users\\sulet\\Desktop\\F1_History_Cleaned\\cleaned_status.csv\")\n"
   ]
  },
  {
   "cell_type": "code",
   "execution_count": 18,
   "id": "b31d9d45",
   "metadata": {},
   "outputs": [
    {
     "data": {
      "text/plain": [
       "Index(['circuitId', 'circuit_name', 'circuit_location', 'circuit_country',\n",
       "       'circuit_nationality'],\n",
       "      dtype='object')"
      ]
     },
     "execution_count": 18,
     "metadata": {},
     "output_type": "execute_result"
    }
   ],
   "source": [
    "df1.columns"
   ]
  },
  {
   "cell_type": "code",
   "execution_count": 19,
   "id": "cfbd0bdd",
   "metadata": {},
   "outputs": [
    {
     "data": {
      "text/plain": [
       "Index(['constructorResultsId', 'raceId', 'constructorId', 'points'], dtype='object')"
      ]
     },
     "execution_count": 19,
     "metadata": {},
     "output_type": "execute_result"
    }
   ],
   "source": [
    "df2.columns"
   ]
  },
  {
   "cell_type": "code",
   "execution_count": 20,
   "id": "09d0d257",
   "metadata": {},
   "outputs": [
    {
     "data": {
      "text/plain": [
       "Index(['constructorStandingsId', 'raceId', 'constructorId', 'points',\n",
       "       'position', 'wins'],\n",
       "      dtype='object')"
      ]
     },
     "execution_count": 20,
     "metadata": {},
     "output_type": "execute_result"
    }
   ],
   "source": [
    "df3.columns"
   ]
  },
  {
   "cell_type": "code",
   "execution_count": 21,
   "id": "8e16ddcd",
   "metadata": {},
   "outputs": [
    {
     "data": {
      "text/plain": [
       "Index(['constructorId', 'constructor_name', 'constructor_nationality',\n",
       "       'constructor_home'],\n",
       "      dtype='object')"
      ]
     },
     "execution_count": 21,
     "metadata": {},
     "output_type": "execute_result"
    }
   ],
   "source": [
    "df4.columns"
   ]
  },
  {
   "cell_type": "code",
   "execution_count": 22,
   "id": "b606a1bd",
   "metadata": {},
   "outputs": [
    {
     "data": {
      "text/plain": [
       "Index(['driverStandingsId', 'raceId', 'driverId', 'points', 'position',\n",
       "       'wins'],\n",
       "      dtype='object')"
      ]
     },
     "execution_count": 22,
     "metadata": {},
     "output_type": "execute_result"
    }
   ],
   "source": [
    "df5.columns"
   ]
  },
  {
   "cell_type": "code",
   "execution_count": 23,
   "id": "3c10e5e9",
   "metadata": {},
   "outputs": [
    {
     "data": {
      "text/plain": [
       "Index(['driverId', 'driver_code', 'driver_forename', 'driver_surname',\n",
       "       'driver_dob', 'driver_nationality', 'driver_home'],\n",
       "      dtype='object')"
      ]
     },
     "execution_count": 23,
     "metadata": {},
     "output_type": "execute_result"
    }
   ],
   "source": [
    "df6.columns"
   ]
  },
  {
   "cell_type": "code",
   "execution_count": 24,
   "id": "c7245259",
   "metadata": {},
   "outputs": [
    {
     "data": {
      "text/plain": [
       "Index(['raceId', 'driverId', 'lap', 'position', 'lap_time'], dtype='object')"
      ]
     },
     "execution_count": 24,
     "metadata": {},
     "output_type": "execute_result"
    }
   ],
   "source": [
    "df7.columns"
   ]
  },
  {
   "cell_type": "code",
   "execution_count": 25,
   "id": "882648fd",
   "metadata": {},
   "outputs": [
    {
     "data": {
      "text/plain": [
       "Index(['raceId', 'driverId', 'stop', 'lap', 'milliseconds'], dtype='object')"
      ]
     },
     "execution_count": 25,
     "metadata": {},
     "output_type": "execute_result"
    }
   ],
   "source": [
    "df8.columns"
   ]
  },
  {
   "cell_type": "code",
   "execution_count": 27,
   "id": "6ab263b5",
   "metadata": {},
   "outputs": [
    {
     "data": {
      "text/plain": [
       "Index(['qualifyId', 'raceId', 'driverId', 'constructorId', 'number',\n",
       "       'position', 'q1', 'q2', 'q3'],\n",
       "      dtype='object')"
      ]
     },
     "execution_count": 27,
     "metadata": {},
     "output_type": "execute_result"
    }
   ],
   "source": [
    "df9.columns"
   ]
  },
  {
   "cell_type": "code",
   "execution_count": 28,
   "id": "ebb5f061",
   "metadata": {},
   "outputs": [
    {
     "data": {
      "text/plain": [
       "Index(['raceId', 'year', 'round', 'circuitId'], dtype='object')"
      ]
     },
     "execution_count": 28,
     "metadata": {},
     "output_type": "execute_result"
    }
   ],
   "source": [
    "df10.columns"
   ]
  },
  {
   "cell_type": "code",
   "execution_count": 29,
   "id": "0987bab4",
   "metadata": {},
   "outputs": [
    {
     "data": {
      "text/plain": [
       "Index(['resultId', 'raceId', 'driverId', 'constructorId', 'grid_position',\n",
       "       'position', 'points', 'laps', 'fastestLap', 'fastestLapRank',\n",
       "       'fastestLapTime', 'fastestLapSpeed', 'statusId'],\n",
       "      dtype='object')"
      ]
     },
     "execution_count": 29,
     "metadata": {},
     "output_type": "execute_result"
    }
   ],
   "source": [
    "df11.columns"
   ]
  },
  {
   "cell_type": "code",
   "execution_count": 30,
   "id": "c89ec4fc",
   "metadata": {},
   "outputs": [
    {
     "data": {
      "text/plain": [
       "Index(['year', 'url'], dtype='object')"
      ]
     },
     "execution_count": 30,
     "metadata": {},
     "output_type": "execute_result"
    }
   ],
   "source": [
    "df12.columns"
   ]
  },
  {
   "cell_type": "code",
   "execution_count": 31,
   "id": "0a4c49f1",
   "metadata": {},
   "outputs": [
    {
     "data": {
      "text/plain": [
       "Index(['resultId', 'raceId', 'driverId', 'constructorId', 'grid_position',\n",
       "       'position', 'points', 'laps', 'fastestLap', 'fastestLapTime',\n",
       "       'statusId', 'fastestLapRank'],\n",
       "      dtype='object')"
      ]
     },
     "execution_count": 31,
     "metadata": {},
     "output_type": "execute_result"
    }
   ],
   "source": [
    "df13.columns"
   ]
  },
  {
   "cell_type": "code",
   "execution_count": 32,
   "id": "38a1b6c7",
   "metadata": {},
   "outputs": [
    {
     "data": {
      "text/plain": [
       "Index(['statusId', 'status'], dtype='object')"
      ]
     },
     "execution_count": 32,
     "metadata": {},
     "output_type": "execute_result"
    }
   ],
   "source": [
    "df14.columns"
   ]
  },
  {
   "cell_type": "code",
   "execution_count": null,
   "id": "e0f87707",
   "metadata": {},
   "outputs": [],
   "source": [
    "#Saving all the preprocessed files in local machine\n",
    "\n",
    "df1.to_csv(r\"C:\\Users\\sulet\\Desktop\\F1_History_Cleaned\\cleaned_circuits.csv\", index=False)\n",
    "df2.to_csv(r\"C:\\Users\\sulet\\Desktop\\F1_History_Cleaned\\cleaned_constructor_results.csv\", index=False)\n",
    "df3.to_csv(r\"C:\\Users\\sulet\\Desktop\\F1_History_Cleaned\\cleaned_constructor_standings.csv\", index=False)\n",
    "df4.to_csv(r\"C:\\Users\\sulet\\Desktop\\F1_History_Cleaned\\cleaned_constructors.csv\", index=False)\n",
    "df5.to_csv(r\"C:\\Users\\sulet\\Desktop\\F1_History_Cleaned\\cleaned_driver_standings.csv\", index=False)\n",
    "df6.to_csv(r\"C:\\Users\\sulet\\Desktop\\F1_History_Cleaned\\cleaned_drivers.csv\", index=False)\n",
    "df7.to_csv(r\"C:\\Users\\sulet\\Desktop\\F1_History_Cleaned\\cleaned_lap_times.csv\", index=False)\n",
    "df8.to_csv(r\"C:\\Users\\sulet\\Desktop\\F1_History_Cleaned\\cleaned_pit_stops.csv\", index=False)\n",
    "df9.to_csv(r\"C:\\Users\\sulet\\Desktop\\F1_History_Cleaned\\cleaned_qualifying.csv\", index=False)\n",
    "df10.to_csv(r\"C:\\Users\\sulet\\Desktop\\F1_History_Cleaned\\cleaned_races.csv\", index=False)\n",
    "df11.to_csv(r\"C:\\Users\\sulet\\Desktop\\F1_History_Cleaned\\cleaned_results.csv\", index=False)\n",
    "df12.to_csv(r\"C:\\Users\\sulet\\Desktop\\F1_History_Cleaned\\cleaned_seasons.csv\", index=False)\n",
    "df13.to_csv(r\"C:\\Users\\sulet\\Desktop\\F1_History_Cleaned\\cleaned_sprint_results.csv\", index=False)\n",
    "df14.to_csv(r\"C:\\Users\\sulet\\Desktop\\F1_History_Cleaned\\cleaned_status.csv\", index=False)"
   ]
  }
 ],
 "metadata": {
  "kernelspec": {
   "display_name": "Python 3 (ipykernel)",
   "language": "python",
   "name": "python3"
  },
  "language_info": {
   "codemirror_mode": {
    "name": "ipython",
    "version": 3
   },
   "file_extension": ".py",
   "mimetype": "text/x-python",
   "name": "python",
   "nbconvert_exporter": "python",
   "pygments_lexer": "ipython3",
   "version": "3.11.5"
  }
 },
 "nbformat": 4,
 "nbformat_minor": 5
}
